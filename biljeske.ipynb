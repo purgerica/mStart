{
 "cells": [
  {
   "cell_type": "code",
   "execution_count": null,
   "metadata": {},
   "outputs": [],
   "source": [
    "%load_ext autoreload\n",
    "%autoreload 2"
   ]
  },
  {
   "cell_type": "code",
   "execution_count": 1,
   "metadata": {},
   "outputs": [],
   "source": [
    "#from Transformers import dayName, DFFunctionTransformer, DummyTransformer, DFFeatureUnion, ColumnExtractor\n",
    "#from Transformers import DFImputer, DFStandardScaler, ZeroFillTransformer, MultiEncoder, DFRobustScaler\n",
    "#from sklearn.pipeline import Pipeline, FeatureUnion"
   ]
  },
  {
   "cell_type": "code",
   "execution_count": 2,
   "metadata": {},
   "outputs": [],
   "source": [
    "#X.to_parquet('X_prices_stores_amount.parquet')"
   ]
  },
  {
   "cell_type": "code",
   "execution_count": 3,
   "metadata": {},
   "outputs": [],
   "source": [
    "# X['day_of_week'] = X.index.get_level_values('date').day_name()"
   ]
  },
  {
   "cell_type": "code",
   "execution_count": 4,
   "metadata": {},
   "outputs": [],
   "source": [
    "# from sklearn.preprocessing import LabelEncoder\n",
    "# labelencoder = LabelEncoder()\n",
    "# X['day_of_week'] = labelencoder.fit_transform(X['day_of_week'])"
   ]
  },
  {
   "cell_type": "code",
   "execution_count": 5,
   "metadata": {},
   "outputs": [],
   "source": [
    "# skužiti zaš ne radi dobro!\n",
    "\n",
    "# from sklearn.preprocessing import OneHotEncoder\n",
    "# onehotencoder = OneHotEncoder(categorical_features = [4])\n",
    "# X= onehotencoder.fit_transform(X)"
   ]
  },
  {
   "cell_type": "code",
   "execution_count": 6,
   "metadata": {},
   "outputs": [
    {
     "data": {
      "text/plain": [
       "\"Pipeline ([('features', DFFeatureUnion( \\n[('categoricals',  Pipeline(steps = [('extract', ColumnExtractor(CAT_FEATS)), ('dummy', dummy_days())])),\\n  ('numerics', Pipeline(steps =[('extract', ColumnExtractor(NUM_FEATS)), ('zero_fill', ZeroFillTransformer()), \\n  ('log', Log1pTransformer())])) ])), ('scale', DFStandardScaler()) ])\\n\\npipeline.fit(df_train)\\n\\nX_train_2 = pipeline.transform(df_train)\\n\\nX_test_2 = pipeline.transform(df_test)\""
      ]
     },
     "execution_count": 6,
     "metadata": {},
     "output_type": "execute_result"
    }
   ],
   "source": [
    "\"\"\"Pipeline ([('features', DFFeatureUnion( \n",
    "[('categoricals',  Pipeline(steps = [('extract', ColumnExtractor(CAT_FEATS)), ('dummy', dummy_days())])),\n",
    "  ('numerics', Pipeline(steps =[('extract', ColumnExtractor(NUM_FEATS)), ('zero_fill', ZeroFillTransformer()), \n",
    "  ('log', Log1pTransformer())])) ])), ('scale', DFStandardScaler()) ])\n",
    "\n",
    "pipeline.fit(df_train)\n",
    "\n",
    "X_train_2 = pipeline.transform(df_train)\n",
    "\n",
    "X_test_2 = pipeline.transform(df_test)\"\"\""
   ]
  },
  {
   "cell_type": "code",
   "execution_count": 7,
   "metadata": {},
   "outputs": [
    {
     "data": {
      "text/plain": [
       "\"pipeline1 = Pipeline(steps =[('dani',dayName())])\\npipeline1.fit(X_train)\\nX_train = pipeline1.transform(X_train)\\nX_test = pipeline1.transform(X_test)\""
      ]
     },
     "execution_count": 7,
     "metadata": {},
     "output_type": "execute_result"
    }
   ],
   "source": [
    "\"\"\"pipeline1 = Pipeline(steps =[('dani',dayName())])\n",
    "pipeline1.fit(X_train)\n",
    "X_train = pipeline1.transform(X_train)\n",
    "X_test = pipeline1.transform(X_test)\"\"\""
   ]
  },
  {
   "cell_type": "code",
   "execution_count": 8,
   "metadata": {},
   "outputs": [
    {
     "data": {
      "text/plain": [
       "\"pipeline2 = Pipeline(steps =[('dummyD', dummy_days())])\\npipeline2.fit(X_train)\\nX_train = pipeline2.transform(X_train)\\nX_test = pipeline2.transform(X_test)\""
      ]
     },
     "execution_count": 8,
     "metadata": {},
     "output_type": "execute_result"
    }
   ],
   "source": [
    "\"\"\"pipeline2 = Pipeline(steps =[('dummyD', dummy_days())])\n",
    "pipeline2.fit(X_train)\n",
    "X_train = pipeline2.transform(X_train)\n",
    "X_test = pipeline2.transform(X_test)\"\"\""
   ]
  },
  {
   "cell_type": "code",
   "execution_count": 9,
   "metadata": {},
   "outputs": [
    {
     "data": {
      "text/plain": [
       "\"pipeline3 = Pipeline(steps =[('skaler', DFStandardScaler())])\\npipeline3.fit(X_train)\\nX_train = pipeline3.transform(X_train)\\nX_test = pipeline3.transform(X_test)\""
      ]
     },
     "execution_count": 9,
     "metadata": {},
     "output_type": "execute_result"
    }
   ],
   "source": [
    "\"\"\"pipeline3 = Pipeline(steps =[('skaler', DFStandardScaler())])\n",
    "pipeline3.fit(X_train)\n",
    "X_train = pipeline3.transform(X_train)\n",
    "X_test = pipeline3.transform(X_test)\"\"\""
   ]
  },
  {
   "cell_type": "code",
   "execution_count": 10,
   "metadata": {},
   "outputs": [],
   "source": [
    "#y_38_train, y_38_test = np.log(1+ y_38_train), np.log(1+ y_38_test)"
   ]
  },
  {
   "cell_type": "code",
   "execution_count": null,
   "metadata": {},
   "outputs": [],
   "source": [
    "# X_38 = X_38.drop('day_of_week', axis=1)"
   ]
  },
  {
   "cell_type": "markdown",
   "metadata": {},
   "source": [
    "* napomena: kad logaritmiramo, moramo na kraju procesa - prije računanja skoreva - moramo vratiti nazadpodatke antilogaritmiranjem i tek onda uspoređivati Y_test i Y_predicted"
   ]
  },
  {
   "cell_type": "code",
   "execution_count": 11,
   "metadata": {},
   "outputs": [],
   "source": [
    "#for column in X_38_train:                               \n",
    "#    scaling_columns_seperately(X_38_train,X_38_test,column)"
   ]
  },
  {
   "cell_type": "code",
   "execution_count": null,
   "metadata": {},
   "outputs": [],
   "source": [
    "y_trening = np.log(y_38_train)\n",
    "y_test = np.log(y_38_test)"
   ]
  }
 ],
 "metadata": {
  "kernelspec": {
   "display_name": "Python 3",
   "language": "python",
   "name": "python3"
  },
  "language_info": {
   "codemirror_mode": {
    "name": "ipython",
    "version": 3
   },
   "file_extension": ".py",
   "mimetype": "text/x-python",
   "name": "python",
   "nbconvert_exporter": "python",
   "pygments_lexer": "ipython3",
   "version": "3.7.3"
  }
 },
 "nbformat": 4,
 "nbformat_minor": 4
}
