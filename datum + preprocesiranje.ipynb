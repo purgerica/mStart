{
 "cells": [
  {
   "cell_type": "code",
   "execution_count": 1,
   "metadata": {},
   "outputs": [],
   "source": [
    "import numpy as np\n",
    "import pandas as pd\n",
    "import pyarrow.parquet as pq\n",
    "import seaborn as sns\n",
    "import matplotlib.pyplot as plt\n",
    "\n",
    "import sys\n",
    "\n",
    "from sklearn import datasets, linear_model\n",
    "from sklearn.model_selection import train_test_split\n",
    "from sklearn.preprocessing import StandardScaler\n",
    "\n",
    "import sklearn as sk"
   ]
  },
  {
   "cell_type": "code",
   "execution_count": 2,
   "metadata": {},
   "outputs": [],
   "source": [
    "#cijene = pd.read_parquet(\"C:/Users/vvrhovec/Veronika/mdevelop/data/parquet/cene.parquet\", columns=['art','datum','redna_cena','akcijska_cena'])\n",
    "#dostupnost = pd.read_parquet(\"C:/Users/vvrhovec/Veronika/mdevelop/data/parquet/availability.parquet\")\n",
    "#kolicina = pd.read_parquet(\"C:/Users/vvrhovec/Veronika/mdevelop/data/parquet/training/training.prodaja.parquet\", columns=['art','datum','kol'])\n",
    "#podaci_0 = pd.merge(cijene, dostupnost, on=['art','datum'], how='inner')\n",
    "#podaci_1 = pd.merge(podaci_0, kolicina, on=['art','datum'], how='inner')\n",
    "#podaci_1.describe()\n",
    "\n",
    "#brojac = 0\n",
    "\n",
    "#for art, new_df in podaci_1.groupby(level=0):\n",
    " #   if brojac == 5:\n",
    "  #      break\n",
    "   # if len(new_df.index) > 800:\n",
    "    #    brojac = brojac + 1\n",
    "     #   print(\"artikl:\", art, \"duljina:\", len(new_df.index))   \n",
    "        \n",
    "#podaci_2 = podaci_1.loc[[38,39,40,41,57]]\n",
    "#podaci_2.head(100)\n",
    "#finalna_tablica = podaci_2\n",
    "\n",
    "#podaci_2.sort_index(inplace=True)\n",
    "#dataParquet_s = podaci_2.to_parquet('dataParquet_s.parquet')"
   ]
  },
  {
   "cell_type": "code",
   "execution_count": 3,
   "metadata": {},
   "outputs": [],
   "source": [
    "#dataParquet_s = podaci.to_parquet('dataParquet.parquet')"
   ]
  },
  {
   "cell_type": "code",
   "execution_count": 4,
   "metadata": {},
   "outputs": [
    {
     "name": "stderr",
     "output_type": "stream",
     "text": [
      "C:\\Users\\vvrhovec\\AppData\\Local\\Continuum\\miniconda3\\envs\\okolina\\lib\\site-packages\\pyarrow\\pandas_compat.py:708: FutureWarning: .labels was deprecated in version 0.24.0. Use .codes instead.\n",
      "  labels = getattr(columns, 'labels', None) or [\n",
      "C:\\Users\\vvrhovec\\AppData\\Local\\Continuum\\miniconda3\\envs\\okolina\\lib\\site-packages\\pyarrow\\pandas_compat.py:735: FutureWarning: the 'labels' keyword is deprecated, use 'codes' instead\n",
      "  return pd.MultiIndex(levels=new_levels, labels=labels, names=columns.names)\n",
      "C:\\Users\\vvrhovec\\AppData\\Local\\Continuum\\miniconda3\\envs\\okolina\\lib\\site-packages\\pyarrow\\pandas_compat.py:752: FutureWarning: .labels was deprecated in version 0.24.0. Use .codes instead.\n",
      "  labels, = index.labels\n"
     ]
    }
   ],
   "source": [
    "podaci_s = pd.read_parquet(\"C:/Users/vvrhovec/Veronika/kodovi/dataParquet_s.parquet\")"
   ]
  },
  {
   "cell_type": "code",
   "execution_count": 5,
   "metadata": {},
   "outputs": [],
   "source": [
    "#print(podaci_s)"
   ]
  },
  {
   "cell_type": "markdown",
   "metadata": {},
   "source": [
    "## Odvajanje podataka u testni i trening set"
   ]
  },
  {
   "cell_type": "markdown",
   "metadata": {},
   "source": [
    "* Kako bi se izbjeglo da treniramo podatke na podacima koji su u budućnosti, ručno ćemo odvojiti podatke t.d u trening setu ostavimo podatke iz prvog četveromjesečja."
   ]
  },
  {
   "cell_type": "code",
   "execution_count": 6,
   "metadata": {},
   "outputs": [],
   "source": [
    "X_train = podaci_s.loc[podaci_s.index.get_level_values('datum') <= '2018-01-01']\n",
    "X_test = podaci_s.loc[podaci_s.index.get_level_values('datum') > '2018-01-01']\n",
    "y_train = X_train['kol']\n",
    "y_test = X_test['kol']"
   ]
  },
  {
   "cell_type": "code",
   "execution_count": 7,
   "metadata": {},
   "outputs": [
    {
     "name": "stdout",
     "output_type": "stream",
     "text": [
      "(3535, 4) (3535,)\n",
      "(686, 4) (686,)\n"
     ]
    }
   ],
   "source": [
    "print (X_train.shape, y_train.shape)\n",
    "print (X_test.shape, y_test.shape)"
   ]
  },
  {
   "cell_type": "markdown",
   "metadata": {},
   "source": [
    "### Preprocesiranje **TRAINING** podataka"
   ]
  },
  {
   "cell_type": "code",
   "execution_count": 8,
   "metadata": {},
   "outputs": [],
   "source": [
    "std_scaler = StandardScaler()"
   ]
  },
  {
   "cell_type": "code",
   "execution_count": 9,
   "metadata": {},
   "outputs": [
    {
     "data": {
      "text/plain": [
       "StandardScaler(copy=True, with_mean=True, with_std=True)"
      ]
     },
     "execution_count": 9,
     "metadata": {},
     "output_type": "execute_result"
    }
   ],
   "source": [
    "std_scaler.fit(X_train)"
   ]
  },
  {
   "cell_type": "code",
   "execution_count": 10,
   "metadata": {},
   "outputs": [],
   "source": [
    "X_train_scaled = std_scaler.transform(X_train)"
   ]
  },
  {
   "cell_type": "markdown",
   "metadata": {},
   "source": [
    "### Fittamo model na podacima trening seta"
   ]
  },
  {
   "cell_type": "code",
   "execution_count": 11,
   "metadata": {},
   "outputs": [],
   "source": [
    "lm = linear_model.LinearRegression()\n",
    "model = lm.fit(X_train_scaled, y_train)"
   ]
  },
  {
   "cell_type": "code",
   "execution_count": 12,
   "metadata": {},
   "outputs": [],
   "source": [
    "predictions = model.predict(X_train_scaled)"
   ]
  },
  {
   "cell_type": "code",
   "execution_count": 13,
   "metadata": {},
   "outputs": [
    {
     "name": "stdout",
     "output_type": "stream",
     "text": [
      "[[-0.73120284 -0.70742389  0.89606398 -0.47253749]\n",
      " [-0.7295619  -0.7057627   1.13654767  1.06735727]\n",
      " [ 0.36822831  0.4055762   0.22010983 -0.42280255]\n",
      " ...\n",
      " [ 1.78436124  1.83918674 -0.74182494 -0.50401531]\n",
      " [ 1.78272041  1.83752566 -1.09280114 -0.4926833 ]\n",
      " [ 1.78272041  1.83752566 -1.16429629 -0.47001927]]\n"
     ]
    }
   ],
   "source": [
    "print(X_train_scaled)"
   ]
  },
  {
   "cell_type": "code",
   "execution_count": 14,
   "metadata": {},
   "outputs": [
    {
     "data": {
      "text/plain": [
       "1.0"
      ]
     },
     "execution_count": 14,
     "metadata": {},
     "output_type": "execute_result"
    }
   ],
   "source": [
    "model.score(X_train_scaled, y_train)"
   ]
  },
  {
   "cell_type": "code",
   "execution_count": 15,
   "metadata": {},
   "outputs": [],
   "source": [
    "from sklearn.metrics import mean_absolute_error, mean_squared_error"
   ]
  },
  {
   "cell_type": "code",
   "execution_count": 16,
   "metadata": {},
   "outputs": [
    {
     "data": {
      "text/plain": [
       "3.9952802970739347e-13"
      ]
     },
     "execution_count": 16,
     "metadata": {},
     "output_type": "execute_result"
    }
   ],
   "source": [
    "mae = mean_absolute_error(y_train, predictions)  # mjera greške\n",
    "mae"
   ]
  },
  {
   "cell_type": "code",
   "execution_count": 17,
   "metadata": {},
   "outputs": [
    {
     "data": {
      "text/plain": [
       "2.1713856700367645e-25"
      ]
     },
     "execution_count": 17,
     "metadata": {},
     "output_type": "execute_result"
    }
   ],
   "source": [
    "mse = mean_squared_error(y_train, predictions)  # mjera greške\n",
    "mse"
   ]
  },
  {
   "cell_type": "markdown",
   "metadata": {},
   "source": [
    "### TEST "
   ]
  },
  {
   "cell_type": "code",
   "execution_count": 18,
   "metadata": {},
   "outputs": [],
   "source": [
    "X_test_scaled = std_scaler.transform(X_test)\n",
    "y_pred = model.predict(X_test_scaled)"
   ]
  },
  {
   "cell_type": "code",
   "execution_count": 19,
   "metadata": {},
   "outputs": [
    {
     "data": {
      "text/plain": [
       "3.424691693173754e-13"
      ]
     },
     "execution_count": 19,
     "metadata": {},
     "output_type": "execute_result"
    }
   ],
   "source": [
    "mae = mean_absolute_error(y_test, y_pred)\n",
    "mae"
   ]
  },
  {
   "cell_type": "code",
   "execution_count": 20,
   "metadata": {},
   "outputs": [
    {
     "data": {
      "text/plain": [
       "2.1713856700367645e-25"
      ]
     },
     "execution_count": 20,
     "metadata": {},
     "output_type": "execute_result"
    }
   ],
   "source": [
    "mse = mean_squared_error(y_train, predictions)\n",
    "mse"
   ]
  },
  {
   "cell_type": "code",
   "execution_count": 21,
   "metadata": {},
   "outputs": [
    {
     "name": "stdout",
     "output_type": "stream",
     "text": [
      "[ 9.60455234e-13 -1.30739863e-12 -4.97379915e-13  1.58842024e+03]\n",
      "808.588118811881\n",
      "<bound method BaseEstimator.get_params of LinearRegression(copy_X=True, fit_intercept=True, n_jobs=None, normalize=False)>\n"
     ]
    }
   ],
   "source": [
    "koeficijenti = model.coef_\n",
    "print(koeficijenti)\n",
    "\n",
    "odsjecak = model.intercept_\n",
    "print(odsjecak)\n",
    "\n",
    "paramtetri = model.get_params\n",
    "print(paramtetri)"
   ]
  },
  {
   "cell_type": "code",
   "execution_count": 22,
   "metadata": {},
   "outputs": [
    {
     "data": {
      "text/plain": [
       "array([  58., 2504.,  137.,   36., 3883.])"
      ]
     },
     "execution_count": 22,
     "metadata": {},
     "output_type": "execute_result"
    }
   ],
   "source": [
    "predictions[0:5] # prvih pet predviđenih vrijednosti"
   ]
  },
  {
   "cell_type": "code",
   "execution_count": 23,
   "metadata": {},
   "outputs": [
    {
     "data": {
      "text/plain": [
       "Text(0, 0.5, 'predviđene količine')"
      ]
     },
     "execution_count": 23,
     "metadata": {},
     "output_type": "execute_result"
    },
    {
     "data": {
      "image/png": "[encoded data removed]",
      "text/plain": [
       "<Figure size 432x288 with 1 Axes>"
      ]
     },
     "metadata": {
      "needs_background": "light"
     },
     "output_type": "display_data"
    }
   ],
   "source": [
    "plt.plot(y_test, y_pred)\n",
    "\n",
    "plt.xlabel(\"stvarne količine\")\n",
    "plt.ylabel(\"predviđene količine\")"
   ]
  },
  {
   "cell_type": "code",
   "execution_count": 26,
   "metadata": {},
   "outputs": [
    {
     "data": {
      "text/plain": [
       "(4221, 4)"
      ]
     },
     "execution_count": 26,
     "metadata": {},
     "output_type": "execute_result"
    }
   ],
   "source": [
    "podaci_s.shape"
   ]
  },
  {
   "cell_type": "code",
   "execution_count": 27,
   "metadata": {},
   "outputs": [
    {
     "name": "stdout",
     "output_type": "stream",
     "text": [
      "4221\n"
     ]
    }
   ],
   "source": [
    "n = podaci_s.shape[0]\n",
    "print(n)"
   ]
  },
  {
   "cell_type": "code",
   "execution_count": 28,
   "metadata": {},
   "outputs": [],
   "source": [
    "nule = [0] * n"
   ]
  },
  {
   "cell_type": "markdown",
   "metadata": {},
   "source": [
    "Tablici **podaci_s** dodajem stupce  _Monday_, _Tuesday_, _Wednesday_, _Thursday_, _Friday_, _Saturday_, _Sunday_ koji će za početak imati sve vrijednosti nula.\n",
    "Zatim ću za svaki datum provjeriti o kojem se danu radi te u tu kolonu unijeti 1."
   ]
  },
  {
   "cell_type": "code",
   "execution_count": 29,
   "metadata": {},
   "outputs": [],
   "source": [
    "podaci_s['Monday'] = nule\n",
    "podaci_s['Tuesday'] = nule\n",
    "podaci_s['Wednesday'] = nule\n",
    "podaci_s['Thursday'] = nule\n",
    "podaci_s['Friday'] = nule\n",
    "podaci_s['Saturday'] = nule\n",
    "podaci_s['Sunday'] = nule"
   ]
  },
  {
   "cell_type": "code",
   "execution_count": 30,
   "metadata": {},
   "outputs": [],
   "source": [
    "#podaci_s.sort_index(inplace=True)\n",
    "#podaci = podaci_s\n",
    "#print(podaci)"
   ]
  },
  {
   "cell_type": "code",
   "execution_count": 31,
   "metadata": {},
   "outputs": [],
   "source": [
    "import datetime\n",
    "\n",
    "podaci_s['day_of_week'] = podaci_s.index.get_level_values('datum').day_name()"
   ]
  },
  {
   "cell_type": "code",
   "execution_count": 32,
   "metadata": {},
   "outputs": [],
   "source": [
    "for art, new_df in podaci_s.groupby(level=0):\n",
    "   for index, row in new_df.iterrows():\n",
    "       dan=row['day_of_week']\n",
    "       #print(row.name[0],row.name[1].date())\n",
    "       podaci_s.loc[(row.name[0],row.name[1].date()),dan] = 1"
   ]
  },
  {
   "cell_type": "code",
   "execution_count": 33,
   "metadata": {},
   "outputs": [],
   "source": [
    "podaci_s['Vikend'] = np.where(podaci_s['day_of_week'] == \"Saturday\",1,np.where(podaci_s['day_of_week'] == \"Sunday\",1,0))"
   ]
  },
  {
   "cell_type": "code",
   "execution_count": 80,
   "metadata": {},
   "outputs": [],
   "source": [
    "#print(podaci_s)"
   ]
  },
  {
   "cell_type": "code",
   "execution_count": 35,
   "metadata": {},
   "outputs": [],
   "source": [
    "#podaci_days = podaci_s.to_parquet('podaci_days.parquet')"
   ]
  },
  {
   "cell_type": "code",
   "execution_count": 36,
   "metadata": {},
   "outputs": [
    {
     "name": "stderr",
     "output_type": "stream",
     "text": [
      "C:\\Users\\vvrhovec\\AppData\\Local\\Continuum\\miniconda3\\envs\\okolina\\lib\\site-packages\\pyarrow\\pandas_compat.py:708: FutureWarning: .labels was deprecated in version 0.24.0. Use .codes instead.\n",
      "  labels = getattr(columns, 'labels', None) or [\n",
      "C:\\Users\\vvrhovec\\AppData\\Local\\Continuum\\miniconda3\\envs\\okolina\\lib\\site-packages\\pyarrow\\pandas_compat.py:735: FutureWarning: the 'labels' keyword is deprecated, use 'codes' instead\n",
      "  return pd.MultiIndex(levels=new_levels, labels=labels, names=columns.names)\n",
      "C:\\Users\\vvrhovec\\AppData\\Local\\Continuum\\miniconda3\\envs\\okolina\\lib\\site-packages\\pyarrow\\pandas_compat.py:752: FutureWarning: .labels was deprecated in version 0.24.0. Use .codes instead.\n",
      "  labels, = index.labels\n"
     ]
    }
   ],
   "source": [
    "podaci_d = pd.read_parquet(\"C:/Users/vvrhovec/Veronika/kodovi/podaci_days.parquet\")"
   ]
  },
  {
   "cell_type": "code",
   "execution_count": 68,
   "metadata": {},
   "outputs": [],
   "source": [
    "#podaci_d2 = podaci_d.rename(columns={'Vikend':'Weekend'})\n",
    "#podaci_d2 = podaci_d2.drop('day_of_week', axis=1)"
   ]
  },
  {
   "cell_type": "code",
   "execution_count": 75,
   "metadata": {},
   "outputs": [
    {
     "name": "stdout",
     "output_type": "stream",
     "text": [
      "                redna_cena  akcijska_cena  n_trgovin    kol  Monday  Tuesday  \\\n",
      "art datum                                                                      \n",
      "38  2016-01-02       0.100          0.100        439  769.0       0        0   \n",
      "    2016-01-03       0.100          0.100        436  100.0       0        0   \n",
      "    2016-01-04       0.100          0.100        441  305.0       1        0   \n",
      "    2016-01-05       0.100          0.100        441   79.0       0        1   \n",
      "    2016-01-06       0.100          0.100        444  344.0       0        0   \n",
      "    2016-01-07       0.100          0.100        441   97.0       0        0   \n",
      "    2016-01-08       0.100          0.100        442  311.0       0        0   \n",
      "    2016-01-09       0.100          0.100        443  541.0       0        0   \n",
      "    2016-01-10       0.100          0.100        441   94.0       0        0   \n",
      "    2016-01-11       0.100          0.100        444  233.0       1        0   \n",
      "    2016-01-13       0.100          0.100        441  347.0       0        0   \n",
      "    2016-01-14       0.100          0.100        440  292.0       0        0   \n",
      "    2016-01-15       0.100          0.100        441  275.0       0        0   \n",
      "    2016-01-16       0.100          0.100        441  422.0       0        0   \n",
      "    2016-01-17       0.100          0.100        438  133.0       0        0   \n",
      "    2016-01-18       0.100          0.100        437  116.0       1        0   \n",
      "    2016-01-19       0.100          0.100        433  294.0       0        1   \n",
      "    2016-01-21       0.100          0.100        439  337.0       0        0   \n",
      "    2016-01-22       0.100          0.100        437  141.0       0        0   \n",
      "    2016-01-23       0.100          0.100        436  264.0       0        0   \n",
      "    2016-01-24       0.100          0.100        434  200.0       0        0   \n",
      "    2016-01-25       0.100          0.100        435  206.0       1        0   \n",
      "    2016-01-26       0.100          0.100        436  276.0       0        1   \n",
      "    2016-01-27       0.100          0.100        437  529.0       0        0   \n",
      "    2016-01-28       0.099          0.099        436   30.0       0        0   \n",
      "    2016-01-29       0.100          0.100        438  273.0       0        0   \n",
      "    2016-01-30       0.100          0.100        436  329.0       0        0   \n",
      "    2016-01-31       0.100          0.100        434  394.0       0        0   \n",
      "    2016-02-01       0.100          0.100        436  279.0       1        0   \n",
      "    2016-02-02       0.100          0.100        434  163.0       0        1   \n",
      "...                    ...            ...        ...    ...     ...      ...   \n",
      "57  2018-04-26       0.080          0.080         76  142.0       0        0   \n",
      "    2018-04-27       0.080          0.080         76   35.0       0        0   \n",
      "    2018-04-28       0.081          0.081         76   73.0       0        0   \n",
      "    2018-04-29       0.080          0.080         74   36.0       0        0   \n",
      "    2018-05-02       0.080          0.080         75   34.0       0        0   \n",
      "    2018-05-03       0.080          0.080         76  126.0       0        0   \n",
      "    2018-05-04       0.080          0.080         77   88.0       0        0   \n",
      "    2018-05-05       0.080          0.080         75   24.0       0        0   \n",
      "    2018-05-06       0.080          0.080         76   24.0       0        0   \n",
      "    2018-05-07       0.081          0.081         78   36.0       1        0   \n",
      "    2018-05-08       0.080          0.080         76   79.0       0        1   \n",
      "    2018-05-09       0.080          0.080         74   79.0       0        0   \n",
      "    2018-05-10       0.080          0.080         75   53.0       0        0   \n",
      "    2018-05-11       0.080          0.080         76   71.0       0        0   \n",
      "    2018-05-13       0.081          0.081         72   27.0       0        0   \n",
      "    2018-05-14       0.081          0.081         72   69.0       1        0   \n",
      "    2018-05-15       0.080          0.080         73  287.0       0        1   \n",
      "    2018-05-17       0.080          0.080         75  118.0       0        0   \n",
      "    2018-05-18       0.080          0.080         75   84.0       0        0   \n",
      "    2018-05-19       0.081          0.081         74   32.0       0        0   \n",
      "    2018-05-21       0.080          0.080         75  166.0       1        0   \n",
      "    2018-05-22       0.082          0.082         74   26.0       0        1   \n",
      "    2018-05-23       0.080          0.080         74  216.0       0        0   \n",
      "    2018-05-24       0.080          0.080         73  130.0       0        0   \n",
      "    2018-05-25       0.081          0.081         74   22.0       0        0   \n",
      "    2018-05-26       0.080          0.080         75   63.0       0        0   \n",
      "    2018-05-27       0.080          0.080         72   22.0       0        0   \n",
      "    2018-05-28       0.081          0.081         74   78.0       1        0   \n",
      "    2018-05-30       0.080          0.080         71   79.0       0        0   \n",
      "    2018-05-31       0.080          0.080         73   94.0       0        0   \n",
      "\n",
      "                Wednesday  Thursday  Friday  Saturday  Sunday  Weekend  \n",
      "art datum                                                               \n",
      "38  2016-01-02          0         0       0         1       0        1  \n",
      "    2016-01-03          0         0       0         0       1        1  \n",
      "    2016-01-04          0         0       0         0       0        0  \n",
      "    2016-01-05          0         0       0         0       0        0  \n",
      "    2016-01-06          1         0       0         0       0        0  \n",
      "    2016-01-07          0         1       0         0       0        0  \n",
      "    2016-01-08          0         0       1         0       0        0  \n",
      "    2016-01-09          0         0       0         1       0        1  \n",
      "    2016-01-10          0         0       0         0       1        1  \n",
      "    2016-01-11          0         0       0         0       0        0  \n",
      "    2016-01-13          1         0       0         0       0        0  \n",
      "    2016-01-14          0         1       0         0       0        0  \n",
      "    2016-01-15          0         0       1         0       0        0  \n",
      "    2016-01-16          0         0       0         1       0        1  \n",
      "    2016-01-17          0         0       0         0       1        1  \n",
      "    2016-01-18          0         0       0         0       0        0  \n",
      "    2016-01-19          0         0       0         0       0        0  \n",
      "    2016-01-21          0         1       0         0       0        0  \n",
      "    2016-01-22          0         0       1         0       0        0  \n",
      "    2016-01-23          0         0       0         1       0        1  \n",
      "    2016-01-24          0         0       0         0       1        1  \n",
      "    2016-01-25          0         0       0         0       0        0  \n",
      "    2016-01-26          0         0       0         0       0        0  \n",
      "    2016-01-27          1         0       0         0       0        0  \n",
      "    2016-01-28          0         1       0         0       0        0  \n",
      "    2016-01-29          0         0       1         0       0        0  \n",
      "    2016-01-30          0         0       0         1       0        1  \n",
      "    2016-01-31          0         0       0         0       1        1  \n",
      "    2016-02-01          0         0       0         0       0        0  \n",
      "    2016-02-02          0         0       0         0       0        0  \n",
      "...                   ...       ...     ...       ...     ...      ...  \n",
      "57  2018-04-26          0         1       0         0       0        0  \n",
      "    2018-04-27          0         0       1         0       0        0  \n",
      "    2018-04-28          0         0       0         1       0        1  \n",
      "    2018-04-29          0         0       0         0       1        1  \n",
      "    2018-05-02          1         0       0         0       0        0  \n",
      "    2018-05-03          0         1       0         0       0        0  \n",
      "    2018-05-04          0         0       1         0       0        0  \n",
      "    2018-05-05          0         0       0         1       0        1  \n",
      "    2018-05-06          0         0       0         0       1        1  \n",
      "    2018-05-07          0         0       0         0       0        0  \n",
      "    2018-05-08          0         0       0         0       0        0  \n",
      "    2018-05-09          1         0       0         0       0        0  \n",
      "    2018-05-10          0         1       0         0       0        0  \n",
      "    2018-05-11          0         0       1         0       0        0  \n",
      "    2018-05-13          0         0       0         0       1        1  \n",
      "    2018-05-14          0         0       0         0       0        0  \n",
      "    2018-05-15          0         0       0         0       0        0  \n",
      "    2018-05-17          0         1       0         0       0        0  \n",
      "    2018-05-18          0         0       1         0       0        0  \n",
      "    2018-05-19          0         0       0         1       0        1  \n",
      "    2018-05-21          0         0       0         0       0        0  \n",
      "    2018-05-22          0         0       0         0       0        0  \n",
      "    2018-05-23          1         0       0         0       0        0  \n",
      "    2018-05-24          0         1       0         0       0        0  \n",
      "    2018-05-25          0         0       1         0       0        0  \n",
      "    2018-05-26          0         0       0         1       0        1  \n",
      "    2018-05-27          0         0       0         0       1        1  \n",
      "    2018-05-28          0         0       0         0       0        0  \n",
      "    2018-05-30          1         0       0         0       0        0  \n",
      "    2018-05-31          0         1       0         0       0        0  \n",
      "\n",
      "[4221 rows x 12 columns]\n"
     ]
    }
   ],
   "source": [
    "print(podaci_d2)"
   ]
  },
  {
   "cell_type": "code",
   "execution_count": 38,
   "metadata": {},
   "outputs": [
    {
     "data": {
      "text/plain": [
       "OneHotEncoder(categorical_features=None, categories=None, drop=None,\n",
       "              dtype=<class 'numpy.float64'>, handle_unknown='error',\n",
       "              n_values=None, sparse=True)"
      ]
     },
     "execution_count": 38,
     "metadata": {},
     "output_type": "execute_result"
    }
   ],
   "source": [
    "#from sklearn.preprocessing import OneHotEncoder\n",
    "#enc = OneHotEncoder(handle_unknown='error')\n",
    "#enc.fit(podaci_d)"
   ]
  },
  {
   "cell_type": "code",
   "execution_count": 39,
   "metadata": {},
   "outputs": [],
   "source": [
    "podaci_s.sort_index(inplace=True)"
   ]
  },
  {
   "cell_type": "code",
   "execution_count": 41,
   "metadata": {},
   "outputs": [],
   "source": [
    "#for art, new_df in podaci_s.groupby(level=0):\n",
    "    #for index, row in new_df.iterrows():\n",
    "       #print(row.name[0],row.name[1])\n",
    "       #podaci_s.loc[(row.name[0],row.name[1].date()),dan] = 1"
   ]
  },
  {
   "cell_type": "code",
   "execution_count": 76,
   "metadata": {},
   "outputs": [],
   "source": [
    "artikl38 = podaci_d2.loc[podaci_d2.index.get_level_values('art') == 38]\n",
    "artikl39 = podaci_d2.loc[podaci_d2.index.get_level_values('art') == 39]\n",
    "artikl40 = podaci_d2.loc[podaci_d2.index.get_level_values('art') == 40]\n",
    "artikl41 = podaci_d2.loc[podaci_d2.index.get_level_values('art') == 41]\n",
    "artikl57 = podaci_d2.loc[podaci_d2.index.get_level_values('art') == 57]"
   ]
  },
  {
   "cell_type": "code",
   "execution_count": 77,
   "metadata": {},
   "outputs": [
    {
     "name": "stdout",
     "output_type": "stream",
     "text": [
      "(815, 12) (869, 12) (869, 12) (867, 12) (801, 12)\n"
     ]
    }
   ],
   "source": [
    "print(artikl38.shape,artikl39.shape,artikl40.shape,artikl41.shape,artikl57.shape)"
   ]
  },
  {
   "cell_type": "code",
   "execution_count": 78,
   "metadata": {},
   "outputs": [
    {
     "name": "stderr",
     "output_type": "stream",
     "text": [
      "C:\\Users\\vvrhovec\\AppData\\Local\\Continuum\\miniconda3\\envs\\okolina\\lib\\site-packages\\pyarrow\\pandas_compat.py:114: FutureWarning: A future version of pandas will default to `skipna=True`. To silence this warning, pass `skipna=True|False` explicitly.\n",
      "  result = infer_dtype(pandas_collection)\n"
     ]
    }
   ],
   "source": [
    "podaci_art38 = artikl38.to_parquet('podaci_art38.parquet')\n",
    "podaci_art39 = artikl39.to_parquet('podaci_art39.parquet')\n",
    "podaci_art40 = artikl40.to_parquet('podaci_art40.parquet')\n",
    "podaci_art41 = artikl41.to_parquet('podaci_art41.parquet')\n",
    "podaci_art57 = artikl57.to_parquet('podaci_art57.parquet')"
   ]
  },
  {
   "cell_type": "code",
   "execution_count": 79,
   "metadata": {},
   "outputs": [
    {
     "name": "stderr",
     "output_type": "stream",
     "text": [
      "C:\\Users\\vvrhovec\\AppData\\Local\\Continuum\\miniconda3\\envs\\okolina\\lib\\site-packages\\pyarrow\\pandas_compat.py:708: FutureWarning: .labels was deprecated in version 0.24.0. Use .codes instead.\n",
      "  labels = getattr(columns, 'labels', None) or [\n",
      "C:\\Users\\vvrhovec\\AppData\\Local\\Continuum\\miniconda3\\envs\\okolina\\lib\\site-packages\\pyarrow\\pandas_compat.py:735: FutureWarning: the 'labels' keyword is deprecated, use 'codes' instead\n",
      "  return pd.MultiIndex(levels=new_levels, labels=labels, names=columns.names)\n",
      "C:\\Users\\vvrhovec\\AppData\\Local\\Continuum\\miniconda3\\envs\\okolina\\lib\\site-packages\\pyarrow\\pandas_compat.py:752: FutureWarning: .labels was deprecated in version 0.24.0. Use .codes instead.\n",
      "  labels, = index.labels\n"
     ]
    }
   ],
   "source": [
    "podaci_38 = pd.read_parquet(\"C:/Users/vvrhovec/Veronika/kodovi/podaci_art38.parquet\")\n",
    "podaci_39 = pd.read_parquet(\"C:/Users/vvrhovec/Veronika/kodovi/podaci_art39.parquet\")\n",
    "podaci_40 = pd.read_parquet(\"C:/Users/vvrhovec/Veronika/kodovi/podaci_art40.parquet\")\n",
    "podaci_41 = pd.read_parquet(\"C:/Users/vvrhovec/Veronika/kodovi/podaci_art41.parquet\")\n",
    "podaci_57 = pd.read_parquet(\"C:/Users/vvrhovec/Veronika/kodovi/podaci_art57.parquet\")"
   ]
  },
  {
   "cell_type": "code",
   "execution_count": null,
   "metadata": {},
   "outputs": [],
   "source": []
  }
 ],
 "metadata": {
  "kernelspec": {
   "display_name": "Python 3",
   "language": "python",
   "name": "python3"
  },
  "language_info": {
   "codemirror_mode": {
    "name": "ipython",
    "version": 3
   },
   "file_extension": ".py",
   "mimetype": "text/x-python",
   "name": "python",
   "nbconvert_exporter": "python",
   "pygments_lexer": "ipython3",
   "version": "3.7.3"
  }
 },
 "nbformat": 4,
 "nbformat_minor": 4
}
