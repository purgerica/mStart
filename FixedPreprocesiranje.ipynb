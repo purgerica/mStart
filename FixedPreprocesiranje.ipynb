{
 "cells": [
  {
   "cell_type": "code",
   "execution_count": 1,
   "metadata": {},
   "outputs": [],
   "source": [
    "import numpy as np\n",
    "import pandas as pd\n",
    "import pyarrow.parquet as pq\n",
    "import seaborn as sns\n",
    "import matplotlib.pyplot as plt\n",
    "\n",
    "import sys\n",
    "\n",
    "from sklearn import datasets, linear_model\n",
    "from sklearn.model_selection import train_test_split\n",
    "from sklearn.preprocessing import StandardScaler\n",
    "\n",
    "import sklearn as sk"
   ]
  },
  {
   "cell_type": "code",
   "execution_count": 2,
   "metadata": {},
   "outputs": [
    {
     "name": "stderr",
     "output_type": "stream",
     "text": [
      "C:\\Users\\vvrhovec\\AppData\\Local\\Continuum\\miniconda3\\envs\\okolina\\lib\\site-packages\\pyarrow\\pandas_compat.py:708: FutureWarning: .labels was deprecated in version 0.24.0. Use .codes instead.\n",
      "  labels = getattr(columns, 'labels', None) or [\n",
      "C:\\Users\\vvrhovec\\AppData\\Local\\Continuum\\miniconda3\\envs\\okolina\\lib\\site-packages\\pyarrow\\pandas_compat.py:735: FutureWarning: the 'labels' keyword is deprecated, use 'codes' instead\n",
      "  return pd.MultiIndex(levels=new_levels, labels=labels, names=columns.names)\n",
      "C:\\Users\\vvrhovec\\AppData\\Local\\Continuum\\miniconda3\\envs\\okolina\\lib\\site-packages\\pyarrow\\pandas_compat.py:752: FutureWarning: .labels was deprecated in version 0.24.0. Use .codes instead.\n",
      "  labels, = index.labels\n"
     ]
    }
   ],
   "source": [
    "cijene = pd.read_parquet(\"C:/Users/vvrhovec/Veronika/mdevelop/data/parquet/cene.parquet\", columns=['art','datum','redna_cena','akcijska_cena'])"
   ]
  },
  {
   "cell_type": "code",
   "execution_count": 3,
   "metadata": {},
   "outputs": [],
   "source": [
    "dostupnost = pd.read_parquet(\"C:/Users/vvrhovec/Veronika/mdevelop/data/parquet/availability.parquet\")"
   ]
  },
  {
   "cell_type": "code",
   "execution_count": 4,
   "metadata": {},
   "outputs": [],
   "source": [
    "kolicina = pd.read_parquet(\"C:/Users/vvrhovec/Veronika/mdevelop/data/parquet/training/training.prodaja.parquet\", columns=['art','datum','kol'])"
   ]
  },
  {
   "cell_type": "code",
   "execution_count": 5,
   "metadata": {},
   "outputs": [],
   "source": [
    "podaci_0 = pd.merge(cijene, dostupnost, on=['art','datum'], how='inner')"
   ]
  },
  {
   "cell_type": "code",
   "execution_count": 6,
   "metadata": {},
   "outputs": [],
   "source": [
    "podaci_1 = pd.merge(podaci_0, kolicina, on=['art','datum'], how='inner')"
   ]
  },
  {
   "cell_type": "code",
   "execution_count": 7,
   "metadata": {},
   "outputs": [],
   "source": [
    "#podaci_1.describe()"
   ]
  },
  {
   "cell_type": "code",
   "execution_count": 8,
   "metadata": {},
   "outputs": [
    {
     "name": "stdout",
     "output_type": "stream",
     "text": [
      "artikl: 38 duljina: 815\n",
      "artikl: 39 duljina: 869\n",
      "artikl: 40 duljina: 869\n",
      "artikl: 41 duljina: 867\n",
      "artikl: 57 duljina: 801\n"
     ]
    }
   ],
   "source": [
    "brojac = 0\n",
    "\n",
    "for art, new_df in podaci_1.groupby(level=0):\n",
    "    if brojac == 5:\n",
    "        break\n",
    "    if len(new_df.index) > 800:\n",
    "        brojac = brojac + 1\n",
    "        print(\"artikl:\", art, \"duljina:\", len(new_df.index))        "
   ]
  },
  {
   "cell_type": "code",
   "execution_count": 9,
   "metadata": {},
   "outputs": [],
   "source": [
    "podaci_2 = podaci_1.loc[[38,39,40,41,57]]"
   ]
  },
  {
   "cell_type": "code",
   "execution_count": 10,
   "metadata": {},
   "outputs": [
    {
     "data": {
      "text/html": [
       "<div>\n",
       "<style scoped>\n",
       "    .dataframe tbody tr th:only-of-type {\n",
       "        vertical-align: middle;\n",
       "    }\n",
       "\n",
       "    .dataframe tbody tr th {\n",
       "        vertical-align: top;\n",
       "    }\n",
       "\n",
       "    .dataframe thead th {\n",
       "        text-align: right;\n",
       "    }\n",
       "</style>\n",
       "<table border=\"1\" class=\"dataframe\">\n",
       "  <thead>\n",
       "    <tr style=\"text-align: right;\">\n",
       "      <th></th>\n",
       "      <th></th>\n",
       "      <th>redna_cena</th>\n",
       "      <th>akcijska_cena</th>\n",
       "      <th>n_trgovin</th>\n",
       "      <th>kol</th>\n",
       "    </tr>\n",
       "    <tr>\n",
       "      <th>art</th>\n",
       "      <th>datum</th>\n",
       "      <th></th>\n",
       "      <th></th>\n",
       "      <th></th>\n",
       "      <th></th>\n",
       "    </tr>\n",
       "  </thead>\n",
       "  <tbody>\n",
       "    <tr>\n",
       "      <th rowspan=\"2\" valign=\"top\">38</th>\n",
       "      <th>2017-01-16</th>\n",
       "      <td>0.099</td>\n",
       "      <td>0.099</td>\n",
       "      <td>425</td>\n",
       "      <td>58.0</td>\n",
       "    </tr>\n",
       "    <tr>\n",
       "      <th>2018-04-08</th>\n",
       "      <td>0.100</td>\n",
       "      <td>0.100</td>\n",
       "      <td>380</td>\n",
       "      <td>403.0</td>\n",
       "    </tr>\n",
       "    <tr>\n",
       "      <th>39</th>\n",
       "      <th>2016-11-28</th>\n",
       "      <td>0.100</td>\n",
       "      <td>0.100</td>\n",
       "      <td>462</td>\n",
       "      <td>2504.0</td>\n",
       "    </tr>\n",
       "    <tr>\n",
       "      <th>40</th>\n",
       "      <th>2017-01-14</th>\n",
       "      <td>0.769</td>\n",
       "      <td>0.769</td>\n",
       "      <td>321</td>\n",
       "      <td>137.0</td>\n",
       "    </tr>\n",
       "    <tr>\n",
       "      <th>41</th>\n",
       "      <th>2016-01-08</th>\n",
       "      <td>1.631</td>\n",
       "      <td>1.586</td>\n",
       "      <td>176</td>\n",
       "      <td>36.0</td>\n",
       "    </tr>\n",
       "    <tr>\n",
       "      <th>38</th>\n",
       "      <th>2018-01-17</th>\n",
       "      <td>0.099</td>\n",
       "      <td>0.099</td>\n",
       "      <td>397</td>\n",
       "      <td>18.0</td>\n",
       "    </tr>\n",
       "    <tr>\n",
       "      <th rowspan=\"2\" valign=\"top\">39</th>\n",
       "      <th>2017-01-19</th>\n",
       "      <td>0.100</td>\n",
       "      <td>0.100</td>\n",
       "      <td>458</td>\n",
       "      <td>3883.0</td>\n",
       "    </tr>\n",
       "    <tr>\n",
       "      <th>2018-01-19</th>\n",
       "      <td>0.100</td>\n",
       "      <td>0.100</td>\n",
       "      <td>449</td>\n",
       "      <td>4024.0</td>\n",
       "    </tr>\n",
       "    <tr>\n",
       "      <th>40</th>\n",
       "      <th>2018-04-15</th>\n",
       "      <td>0.769</td>\n",
       "      <td>0.769</td>\n",
       "      <td>258</td>\n",
       "      <td>33.0</td>\n",
       "    </tr>\n",
       "    <tr>\n",
       "      <th>39</th>\n",
       "      <th>2017-05-11</th>\n",
       "      <td>0.100</td>\n",
       "      <td>0.100</td>\n",
       "      <td>462</td>\n",
       "      <td>5080.0</td>\n",
       "    </tr>\n",
       "    <tr>\n",
       "      <th>40</th>\n",
       "      <th>2017-04-19</th>\n",
       "      <td>0.768</td>\n",
       "      <td>0.768</td>\n",
       "      <td>294</td>\n",
       "      <td>44.0</td>\n",
       "    </tr>\n",
       "    <tr>\n",
       "      <th>41</th>\n",
       "      <th>2016-07-16</th>\n",
       "      <td>1.631</td>\n",
       "      <td>1.631</td>\n",
       "      <td>157</td>\n",
       "      <td>38.0</td>\n",
       "    </tr>\n",
       "    <tr>\n",
       "      <th>40</th>\n",
       "      <th>2017-07-15</th>\n",
       "      <td>0.769</td>\n",
       "      <td>0.769</td>\n",
       "      <td>233</td>\n",
       "      <td>90.0</td>\n",
       "    </tr>\n",
       "    <tr>\n",
       "      <th>38</th>\n",
       "      <th>2017-07-27</th>\n",
       "      <td>0.100</td>\n",
       "      <td>0.100</td>\n",
       "      <td>417</td>\n",
       "      <td>572.0</td>\n",
       "    </tr>\n",
       "    <tr>\n",
       "      <th>39</th>\n",
       "      <th>2017-05-09</th>\n",
       "      <td>0.100</td>\n",
       "      <td>0.100</td>\n",
       "      <td>464</td>\n",
       "      <td>3647.0</td>\n",
       "    </tr>\n",
       "    <tr>\n",
       "      <th rowspan=\"2\" valign=\"top\">40</th>\n",
       "      <th>2016-12-23</th>\n",
       "      <td>0.540</td>\n",
       "      <td>0.540</td>\n",
       "      <td>323</td>\n",
       "      <td>665.0</td>\n",
       "    </tr>\n",
       "    <tr>\n",
       "      <th>2017-06-16</th>\n",
       "      <td>0.770</td>\n",
       "      <td>0.431</td>\n",
       "      <td>263</td>\n",
       "      <td>172.0</td>\n",
       "    </tr>\n",
       "    <tr>\n",
       "      <th>39</th>\n",
       "      <th>2018-02-25</th>\n",
       "      <td>0.100</td>\n",
       "      <td>0.100</td>\n",
       "      <td>423</td>\n",
       "      <td>1783.0</td>\n",
       "    </tr>\n",
       "    <tr>\n",
       "      <th rowspan=\"2\" valign=\"top\">57</th>\n",
       "      <th>2016-08-28</th>\n",
       "      <td>0.080</td>\n",
       "      <td>0.080</td>\n",
       "      <td>94</td>\n",
       "      <td>23.0</td>\n",
       "    </tr>\n",
       "    <tr>\n",
       "      <th>2017-02-08</th>\n",
       "      <td>0.080</td>\n",
       "      <td>0.080</td>\n",
       "      <td>87</td>\n",
       "      <td>13.0</td>\n",
       "    </tr>\n",
       "    <tr>\n",
       "      <th>38</th>\n",
       "      <th>2017-12-24</th>\n",
       "      <td>0.100</td>\n",
       "      <td>0.100</td>\n",
       "      <td>399</td>\n",
       "      <td>353.0</td>\n",
       "    </tr>\n",
       "    <tr>\n",
       "      <th>39</th>\n",
       "      <th>2017-09-10</th>\n",
       "      <td>0.100</td>\n",
       "      <td>0.100</td>\n",
       "      <td>440</td>\n",
       "      <td>2348.0</td>\n",
       "    </tr>\n",
       "    <tr>\n",
       "      <th>40</th>\n",
       "      <th>2017-11-30</th>\n",
       "      <td>0.769</td>\n",
       "      <td>0.769</td>\n",
       "      <td>301</td>\n",
       "      <td>198.0</td>\n",
       "    </tr>\n",
       "    <tr>\n",
       "      <th>41</th>\n",
       "      <th>2017-04-06</th>\n",
       "      <td>1.631</td>\n",
       "      <td>1.631</td>\n",
       "      <td>113</td>\n",
       "      <td>40.0</td>\n",
       "    </tr>\n",
       "    <tr>\n",
       "      <th>57</th>\n",
       "      <th>2017-07-21</th>\n",
       "      <td>0.080</td>\n",
       "      <td>0.080</td>\n",
       "      <td>81</td>\n",
       "      <td>59.0</td>\n",
       "    </tr>\n",
       "    <tr>\n",
       "      <th>38</th>\n",
       "      <th>2016-03-15</th>\n",
       "      <td>0.100</td>\n",
       "      <td>0.100</td>\n",
       "      <td>443</td>\n",
       "      <td>220.0</td>\n",
       "    </tr>\n",
       "    <tr>\n",
       "      <th>40</th>\n",
       "      <th>2016-08-31</th>\n",
       "      <td>0.770</td>\n",
       "      <td>0.513</td>\n",
       "      <td>326</td>\n",
       "      <td>449.0</td>\n",
       "    </tr>\n",
       "    <tr>\n",
       "      <th rowspan=\"2\" valign=\"top\">39</th>\n",
       "      <th>2016-10-27</th>\n",
       "      <td>0.100</td>\n",
       "      <td>0.100</td>\n",
       "      <td>461</td>\n",
       "      <td>3432.0</td>\n",
       "    </tr>\n",
       "    <tr>\n",
       "      <th>2017-05-23</th>\n",
       "      <td>0.100</td>\n",
       "      <td>0.100</td>\n",
       "      <td>462</td>\n",
       "      <td>3766.0</td>\n",
       "    </tr>\n",
       "    <tr>\n",
       "      <th>38</th>\n",
       "      <th>2017-02-17</th>\n",
       "      <td>0.100</td>\n",
       "      <td>0.100</td>\n",
       "      <td>422</td>\n",
       "      <td>262.0</td>\n",
       "    </tr>\n",
       "    <tr>\n",
       "      <th>...</th>\n",
       "      <th>...</th>\n",
       "      <td>...</td>\n",
       "      <td>...</td>\n",
       "      <td>...</td>\n",
       "      <td>...</td>\n",
       "    </tr>\n",
       "    <tr>\n",
       "      <th>39</th>\n",
       "      <th>2016-10-28</th>\n",
       "      <td>0.100</td>\n",
       "      <td>0.100</td>\n",
       "      <td>461</td>\n",
       "      <td>4428.0</td>\n",
       "    </tr>\n",
       "    <tr>\n",
       "      <th>40</th>\n",
       "      <th>2017-11-06</th>\n",
       "      <td>0.770</td>\n",
       "      <td>0.770</td>\n",
       "      <td>292</td>\n",
       "      <td>74.0</td>\n",
       "    </tr>\n",
       "    <tr>\n",
       "      <th rowspan=\"2\" valign=\"top\">38</th>\n",
       "      <th>2016-04-30</th>\n",
       "      <td>0.100</td>\n",
       "      <td>0.100</td>\n",
       "      <td>443</td>\n",
       "      <td>735.0</td>\n",
       "    </tr>\n",
       "    <tr>\n",
       "      <th>2017-03-14</th>\n",
       "      <td>0.100</td>\n",
       "      <td>0.100</td>\n",
       "      <td>412</td>\n",
       "      <td>171.0</td>\n",
       "    </tr>\n",
       "    <tr>\n",
       "      <th>40</th>\n",
       "      <th>2017-04-05</th>\n",
       "      <td>0.770</td>\n",
       "      <td>0.770</td>\n",
       "      <td>293</td>\n",
       "      <td>98.0</td>\n",
       "    </tr>\n",
       "    <tr>\n",
       "      <th>38</th>\n",
       "      <th>2016-09-16</th>\n",
       "      <td>0.100</td>\n",
       "      <td>0.100</td>\n",
       "      <td>447</td>\n",
       "      <td>270.0</td>\n",
       "    </tr>\n",
       "    <tr>\n",
       "      <th rowspan=\"2\" valign=\"top\">39</th>\n",
       "      <th>2016-07-03</th>\n",
       "      <td>0.100</td>\n",
       "      <td>0.100</td>\n",
       "      <td>460</td>\n",
       "      <td>1453.0</td>\n",
       "    </tr>\n",
       "    <tr>\n",
       "      <th>2017-06-03</th>\n",
       "      <td>0.100</td>\n",
       "      <td>0.100</td>\n",
       "      <td>462</td>\n",
       "      <td>9528.0</td>\n",
       "    </tr>\n",
       "    <tr>\n",
       "      <th rowspan=\"2\" valign=\"top\">40</th>\n",
       "      <th>2016-01-19</th>\n",
       "      <td>0.770</td>\n",
       "      <td>0.642</td>\n",
       "      <td>449</td>\n",
       "      <td>212.0</td>\n",
       "    </tr>\n",
       "    <tr>\n",
       "      <th>2016-06-02</th>\n",
       "      <td>0.769</td>\n",
       "      <td>0.769</td>\n",
       "      <td>346</td>\n",
       "      <td>145.0</td>\n",
       "    </tr>\n",
       "    <tr>\n",
       "      <th>57</th>\n",
       "      <th>2017-12-17</th>\n",
       "      <td>0.080</td>\n",
       "      <td>0.080</td>\n",
       "      <td>80</td>\n",
       "      <td>30.0</td>\n",
       "    </tr>\n",
       "    <tr>\n",
       "      <th>40</th>\n",
       "      <th>2016-02-03</th>\n",
       "      <td>0.770</td>\n",
       "      <td>0.625</td>\n",
       "      <td>449</td>\n",
       "      <td>234.0</td>\n",
       "    </tr>\n",
       "    <tr>\n",
       "      <th rowspan=\"2\" valign=\"top\">57</th>\n",
       "      <th>2017-05-24</th>\n",
       "      <td>0.080</td>\n",
       "      <td>0.080</td>\n",
       "      <td>83</td>\n",
       "      <td>86.0</td>\n",
       "    </tr>\n",
       "    <tr>\n",
       "      <th>2017-11-20</th>\n",
       "      <td>0.081</td>\n",
       "      <td>0.081</td>\n",
       "      <td>79</td>\n",
       "      <td>20.0</td>\n",
       "    </tr>\n",
       "    <tr>\n",
       "      <th>38</th>\n",
       "      <th>2016-07-05</th>\n",
       "      <td>0.100</td>\n",
       "      <td>0.100</td>\n",
       "      <td>443</td>\n",
       "      <td>394.0</td>\n",
       "    </tr>\n",
       "    <tr>\n",
       "      <th rowspan=\"2\" valign=\"top\">39</th>\n",
       "      <th>2017-09-21</th>\n",
       "      <td>0.100</td>\n",
       "      <td>0.100</td>\n",
       "      <td>457</td>\n",
       "      <td>5472.0</td>\n",
       "    </tr>\n",
       "    <tr>\n",
       "      <th>2018-01-26</th>\n",
       "      <td>0.100</td>\n",
       "      <td>0.100</td>\n",
       "      <td>456</td>\n",
       "      <td>3854.0</td>\n",
       "    </tr>\n",
       "    <tr>\n",
       "      <th>40</th>\n",
       "      <th>2018-04-30</th>\n",
       "      <td>0.769</td>\n",
       "      <td>0.769</td>\n",
       "      <td>258</td>\n",
       "      <td>146.0</td>\n",
       "    </tr>\n",
       "    <tr>\n",
       "      <th rowspan=\"2\" valign=\"top\">41</th>\n",
       "      <th>2016-06-16</th>\n",
       "      <td>1.631</td>\n",
       "      <td>1.631</td>\n",
       "      <td>165</td>\n",
       "      <td>57.0</td>\n",
       "    </tr>\n",
       "    <tr>\n",
       "      <th>2017-12-04</th>\n",
       "      <td>1.631</td>\n",
       "      <td>1.631</td>\n",
       "      <td>98</td>\n",
       "      <td>41.0</td>\n",
       "    </tr>\n",
       "    <tr>\n",
       "      <th rowspan=\"3\" valign=\"top\">40</th>\n",
       "      <th>2016-01-15</th>\n",
       "      <td>0.770</td>\n",
       "      <td>0.597</td>\n",
       "      <td>450</td>\n",
       "      <td>271.0</td>\n",
       "    </tr>\n",
       "    <tr>\n",
       "      <th>2017-06-01</th>\n",
       "      <td>0.769</td>\n",
       "      <td>0.769</td>\n",
       "      <td>265</td>\n",
       "      <td>127.0</td>\n",
       "    </tr>\n",
       "    <tr>\n",
       "      <th>2017-07-30</th>\n",
       "      <td>0.770</td>\n",
       "      <td>0.359</td>\n",
       "      <td>238</td>\n",
       "      <td>73.0</td>\n",
       "    </tr>\n",
       "    <tr>\n",
       "      <th>57</th>\n",
       "      <th>2017-08-17</th>\n",
       "      <td>0.080</td>\n",
       "      <td>0.080</td>\n",
       "      <td>81</td>\n",
       "      <td>60.0</td>\n",
       "    </tr>\n",
       "    <tr>\n",
       "      <th>38</th>\n",
       "      <th>2017-03-11</th>\n",
       "      <td>0.100</td>\n",
       "      <td>0.100</td>\n",
       "      <td>415</td>\n",
       "      <td>375.0</td>\n",
       "    </tr>\n",
       "    <tr>\n",
       "      <th>39</th>\n",
       "      <th>2017-09-02</th>\n",
       "      <td>0.100</td>\n",
       "      <td>0.100</td>\n",
       "      <td>455</td>\n",
       "      <td>6630.0</td>\n",
       "    </tr>\n",
       "    <tr>\n",
       "      <th>57</th>\n",
       "      <th>2016-12-12</th>\n",
       "      <td>0.081</td>\n",
       "      <td>0.081</td>\n",
       "      <td>91</td>\n",
       "      <td>36.0</td>\n",
       "    </tr>\n",
       "    <tr>\n",
       "      <th>39</th>\n",
       "      <th>2016-12-22</th>\n",
       "      <td>0.100</td>\n",
       "      <td>0.100</td>\n",
       "      <td>463</td>\n",
       "      <td>4726.0</td>\n",
       "    </tr>\n",
       "    <tr>\n",
       "      <th>41</th>\n",
       "      <th>2017-07-06</th>\n",
       "      <td>1.632</td>\n",
       "      <td>1.632</td>\n",
       "      <td>101</td>\n",
       "      <td>37.0</td>\n",
       "    </tr>\n",
       "    <tr>\n",
       "      <th>38</th>\n",
       "      <th>2016-10-28</th>\n",
       "      <td>0.100</td>\n",
       "      <td>0.100</td>\n",
       "      <td>438</td>\n",
       "      <td>225.0</td>\n",
       "    </tr>\n",
       "  </tbody>\n",
       "</table>\n",
       "<p>100 rows × 4 columns</p>\n",
       "</div>"
      ],
      "text/plain": [
       "                redna_cena  akcijska_cena  n_trgovin     kol\n",
       "art datum                                                   \n",
       "38  2017-01-16       0.099          0.099        425    58.0\n",
       "    2018-04-08       0.100          0.100        380   403.0\n",
       "39  2016-11-28       0.100          0.100        462  2504.0\n",
       "40  2017-01-14       0.769          0.769        321   137.0\n",
       "41  2016-01-08       1.631          1.586        176    36.0\n",
       "38  2018-01-17       0.099          0.099        397    18.0\n",
       "39  2017-01-19       0.100          0.100        458  3883.0\n",
       "    2018-01-19       0.100          0.100        449  4024.0\n",
       "40  2018-04-15       0.769          0.769        258    33.0\n",
       "39  2017-05-11       0.100          0.100        462  5080.0\n",
       "40  2017-04-19       0.768          0.768        294    44.0\n",
       "41  2016-07-16       1.631          1.631        157    38.0\n",
       "40  2017-07-15       0.769          0.769        233    90.0\n",
       "38  2017-07-27       0.100          0.100        417   572.0\n",
       "39  2017-05-09       0.100          0.100        464  3647.0\n",
       "40  2016-12-23       0.540          0.540        323   665.0\n",
       "    2017-06-16       0.770          0.431        263   172.0\n",
       "39  2018-02-25       0.100          0.100        423  1783.0\n",
       "57  2016-08-28       0.080          0.080         94    23.0\n",
       "    2017-02-08       0.080          0.080         87    13.0\n",
       "38  2017-12-24       0.100          0.100        399   353.0\n",
       "39  2017-09-10       0.100          0.100        440  2348.0\n",
       "40  2017-11-30       0.769          0.769        301   198.0\n",
       "41  2017-04-06       1.631          1.631        113    40.0\n",
       "57  2017-07-21       0.080          0.080         81    59.0\n",
       "38  2016-03-15       0.100          0.100        443   220.0\n",
       "40  2016-08-31       0.770          0.513        326   449.0\n",
       "39  2016-10-27       0.100          0.100        461  3432.0\n",
       "    2017-05-23       0.100          0.100        462  3766.0\n",
       "38  2017-02-17       0.100          0.100        422   262.0\n",
       "...                    ...            ...        ...     ...\n",
       "39  2016-10-28       0.100          0.100        461  4428.0\n",
       "40  2017-11-06       0.770          0.770        292    74.0\n",
       "38  2016-04-30       0.100          0.100        443   735.0\n",
       "    2017-03-14       0.100          0.100        412   171.0\n",
       "40  2017-04-05       0.770          0.770        293    98.0\n",
       "38  2016-09-16       0.100          0.100        447   270.0\n",
       "39  2016-07-03       0.100          0.100        460  1453.0\n",
       "    2017-06-03       0.100          0.100        462  9528.0\n",
       "40  2016-01-19       0.770          0.642        449   212.0\n",
       "    2016-06-02       0.769          0.769        346   145.0\n",
       "57  2017-12-17       0.080          0.080         80    30.0\n",
       "40  2016-02-03       0.770          0.625        449   234.0\n",
       "57  2017-05-24       0.080          0.080         83    86.0\n",
       "    2017-11-20       0.081          0.081         79    20.0\n",
       "38  2016-07-05       0.100          0.100        443   394.0\n",
       "39  2017-09-21       0.100          0.100        457  5472.0\n",
       "    2018-01-26       0.100          0.100        456  3854.0\n",
       "40  2018-04-30       0.769          0.769        258   146.0\n",
       "41  2016-06-16       1.631          1.631        165    57.0\n",
       "    2017-12-04       1.631          1.631         98    41.0\n",
       "40  2016-01-15       0.770          0.597        450   271.0\n",
       "    2017-06-01       0.769          0.769        265   127.0\n",
       "    2017-07-30       0.770          0.359        238    73.0\n",
       "57  2017-08-17       0.080          0.080         81    60.0\n",
       "38  2017-03-11       0.100          0.100        415   375.0\n",
       "39  2017-09-02       0.100          0.100        455  6630.0\n",
       "57  2016-12-12       0.081          0.081         91    36.0\n",
       "39  2016-12-22       0.100          0.100        463  4726.0\n",
       "41  2017-07-06       1.632          1.632        101    37.0\n",
       "38  2016-10-28       0.100          0.100        438   225.0\n",
       "\n",
       "[100 rows x 4 columns]"
      ]
     },
     "execution_count": 10,
     "metadata": {},
     "output_type": "execute_result"
    }
   ],
   "source": [
    "podaci_2.head(100)"
   ]
  },
  {
   "cell_type": "markdown",
   "metadata": {},
   "source": [
    "## Odvajanje podataka u testni i trening set"
   ]
  },
  {
   "cell_type": "code",
   "execution_count": 11,
   "metadata": {},
   "outputs": [],
   "source": [
    "finalna_tablica = podaci_2"
   ]
  },
  {
   "cell_type": "code",
   "execution_count": 34,
   "metadata": {},
   "outputs": [],
   "source": [
    "dataParquet = podaci_2.to_parquet('dataParquet.parquet')"
   ]
  },
  {
   "cell_type": "code",
   "execution_count": 35,
   "metadata": {},
   "outputs": [
    {
     "name": "stderr",
     "output_type": "stream",
     "text": [
      "C:\\Users\\vvrhovec\\AppData\\Local\\Continuum\\miniconda3\\envs\\okolina\\lib\\site-packages\\pyarrow\\pandas_compat.py:708: FutureWarning: .labels was deprecated in version 0.24.0. Use .codes instead.\n",
      "  labels = getattr(columns, 'labels', None) or [\n",
      "C:\\Users\\vvrhovec\\AppData\\Local\\Continuum\\miniconda3\\envs\\okolina\\lib\\site-packages\\pyarrow\\pandas_compat.py:735: FutureWarning: the 'labels' keyword is deprecated, use 'codes' instead\n",
      "  return pd.MultiIndex(levels=new_levels, labels=labels, names=columns.names)\n",
      "C:\\Users\\vvrhovec\\AppData\\Local\\Continuum\\miniconda3\\envs\\okolina\\lib\\site-packages\\pyarrow\\pandas_compat.py:752: FutureWarning: .labels was deprecated in version 0.24.0. Use .codes instead.\n",
      "  labels, = index.labels\n"
     ]
    }
   ],
   "source": [
    "podaci = pd.read_parquet(\"C:/Users/vvrhovec/Veronika/kodovi/dataParquet.parquet\")"
   ]
  },
  {
   "cell_type": "markdown",
   "metadata": {},
   "source": [
    "* Kako bi se izbjeglo da treniramo podatke na podacima koji su u budućnosti, ručno ćemo odvojiti podatke t.d u trening setu ostavimo podatke iz prvog četveromjesečja."
   ]
  },
  {
   "cell_type": "code",
   "execution_count": 12,
   "metadata": {},
   "outputs": [],
   "source": [
    "X_train = finalna_tablica.loc[finalna_tablica.index.get_level_values('datum') <= '2018-01-01']\n",
    "X_test = finalna_tablica.loc[finalna_tablica.index.get_level_values('datum') > '2018-01-01']\n",
    "y_train = X_train['kol']\n",
    "y_test = X_test['kol']"
   ]
  },
  {
   "cell_type": "code",
   "execution_count": 13,
   "metadata": {},
   "outputs": [
    {
     "name": "stdout",
     "output_type": "stream",
     "text": [
      "(3535, 4) (3535,)\n",
      "(686, 4) (686,)\n"
     ]
    }
   ],
   "source": [
    "print (X_train.shape, y_train.shape)\n",
    "print (X_test.shape, y_test.shape)"
   ]
  },
  {
   "cell_type": "markdown",
   "metadata": {},
   "source": [
    "### Preprocesiranje **TRAINING** podataka"
   ]
  },
  {
   "cell_type": "code",
   "execution_count": 14,
   "metadata": {},
   "outputs": [],
   "source": [
    "std_scaler = StandardScaler()"
   ]
  },
  {
   "cell_type": "code",
   "execution_count": 15,
   "metadata": {},
   "outputs": [
    {
     "data": {
      "text/plain": [
       "StandardScaler(copy=True, with_mean=True, with_std=True)"
      ]
     },
     "execution_count": 15,
     "metadata": {},
     "output_type": "execute_result"
    }
   ],
   "source": [
    "std_scaler.fit(X_train)"
   ]
  },
  {
   "cell_type": "code",
   "execution_count": 16,
   "metadata": {},
   "outputs": [],
   "source": [
    "X_train_scaled = std_scaler.transform(X_train)"
   ]
  },
  {
   "cell_type": "markdown",
   "metadata": {},
   "source": [
    "### Fittamo model na podacima trening seta"
   ]
  },
  {
   "cell_type": "code",
   "execution_count": 17,
   "metadata": {},
   "outputs": [],
   "source": [
    "lm = linear_model.LinearRegression()\n",
    "model = lm.fit(X_train_scaled, y_train)"
   ]
  },
  {
   "cell_type": "code",
   "execution_count": 18,
   "metadata": {},
   "outputs": [],
   "source": [
    "predictions = model.predict(X_train_scaled)"
   ]
  },
  {
   "cell_type": "code",
   "execution_count": 19,
   "metadata": {},
   "outputs": [
    {
     "name": "stdout",
     "output_type": "stream",
     "text": [
      "[[-0.73120284 -0.70742389  0.89606398 -0.47253749]\n",
      " [-0.7295619  -0.7057627   1.13654767  1.06735727]\n",
      " [ 0.36822831  0.4055762   0.22010983 -0.42280255]\n",
      " ...\n",
      " [ 1.78436124  1.83918674 -0.74182494 -0.50401531]\n",
      " [ 1.78272041  1.83752566 -1.09280114 -0.4926833 ]\n",
      " [ 1.78272041  1.83752566 -1.16429629 -0.47001927]]\n"
     ]
    }
   ],
   "source": [
    "print(X_train_scaled)"
   ]
  },
  {
   "cell_type": "code",
   "execution_count": 20,
   "metadata": {},
   "outputs": [
    {
     "data": {
      "text/plain": [
       "1.0"
      ]
     },
     "execution_count": 20,
     "metadata": {},
     "output_type": "execute_result"
    }
   ],
   "source": [
    "model.score(X_train_scaled, y_train)"
   ]
  },
  {
   "cell_type": "code",
   "execution_count": 21,
   "metadata": {},
   "outputs": [],
   "source": [
    "from sklearn.metrics import mean_absolute_error, mean_squared_error"
   ]
  },
  {
   "cell_type": "code",
   "execution_count": 22,
   "metadata": {},
   "outputs": [
    {
     "data": {
      "text/plain": [
       "3.9952802970739347e-13"
      ]
     },
     "execution_count": 22,
     "metadata": {},
     "output_type": "execute_result"
    }
   ],
   "source": [
    "mae = mean_absolute_error(y_train, predictions)\n",
    "mae"
   ]
  },
  {
   "cell_type": "code",
   "execution_count": 23,
   "metadata": {},
   "outputs": [
    {
     "data": {
      "text/plain": [
       "2.1713856700367645e-25"
      ]
     },
     "execution_count": 23,
     "metadata": {},
     "output_type": "execute_result"
    }
   ],
   "source": [
    "mse = mean_squared_error(y_train, predictions)\n",
    "mse"
   ]
  },
  {
   "cell_type": "markdown",
   "metadata": {},
   "source": [
    "### TEST "
   ]
  },
  {
   "cell_type": "code",
   "execution_count": 24,
   "metadata": {},
   "outputs": [],
   "source": [
    "X_test_scaled = std_scaler.transform(X_test)\n",
    "y_pred = model.predict(X_test_scaled)"
   ]
  },
  {
   "cell_type": "code",
   "execution_count": 25,
   "metadata": {},
   "outputs": [
    {
     "data": {
      "text/plain": [
       "3.424691693173754e-13"
      ]
     },
     "execution_count": 25,
     "metadata": {},
     "output_type": "execute_result"
    }
   ],
   "source": [
    "mae = mean_absolute_error(y_test, y_pred)\n",
    "mae"
   ]
  },
  {
   "cell_type": "code",
   "execution_count": 26,
   "metadata": {},
   "outputs": [
    {
     "data": {
      "text/plain": [
       "2.1713856700367645e-25"
      ]
     },
     "execution_count": 26,
     "metadata": {},
     "output_type": "execute_result"
    }
   ],
   "source": [
    "mse = mean_squared_error(y_train, predictions)\n",
    "mse"
   ]
  },
  {
   "cell_type": "code",
   "execution_count": 27,
   "metadata": {},
   "outputs": [
    {
     "name": "stdout",
     "output_type": "stream",
     "text": [
      "[ 9.60455234e-13 -1.30739863e-12 -4.97379915e-13  1.58842024e+03]\n"
     ]
    }
   ],
   "source": [
    "koeficijenti = model.coef_\n",
    "print(koeficijenti)"
   ]
  },
  {
   "cell_type": "code",
   "execution_count": 28,
   "metadata": {},
   "outputs": [
    {
     "name": "stdout",
     "output_type": "stream",
     "text": [
      "[ 9.60455234e-13 -1.30739863e-12 -4.97379915e-13  1.58842024e+03]\n"
     ]
    }
   ],
   "source": [
    "koeficijenti = model.coef_\n",
    "print(koeficijenti)"
   ]
  },
  {
   "cell_type": "code",
   "execution_count": 29,
   "metadata": {},
   "outputs": [
    {
     "name": "stdout",
     "output_type": "stream",
     "text": [
      "808.588118811881\n"
     ]
    }
   ],
   "source": [
    "odsjecak = model.intercept_\n",
    "print(odsjecak)"
   ]
  },
  {
   "cell_type": "code",
   "execution_count": 30,
   "metadata": {},
   "outputs": [
    {
     "name": "stdout",
     "output_type": "stream",
     "text": [
      "<bound method BaseEstimator.get_params of LinearRegression(copy_X=True, fit_intercept=True, n_jobs=None, normalize=False)>\n"
     ]
    }
   ],
   "source": [
    "paramtetri = model.get_params\n",
    "print(paramtetri)"
   ]
  },
  {
   "cell_type": "markdown",
   "metadata": {},
   "source": [
    "> prvih pet predviđenih vrijednosti:"
   ]
  },
  {
   "cell_type": "code",
   "execution_count": 31,
   "metadata": {},
   "outputs": [
    {
     "data": {
      "text/plain": [
       "array([  58., 2504.,  137.,   36., 3883.])"
      ]
     },
     "execution_count": 31,
     "metadata": {},
     "output_type": "execute_result"
    }
   ],
   "source": [
    "predictions[0:5]"
   ]
  },
  {
   "cell_type": "code",
   "execution_count": 32,
   "metadata": {},
   "outputs": [
    {
     "data": {
      "text/plain": [
       "Text(0, 0.5, 'predviđene količine')"
      ]
     },
     "execution_count": 32,
     "metadata": {},
     "output_type": "execute_result"
    },
    {
     "data": {
      "image/png": "[encoded data removed]",
      "text/plain": [
       "<Figure size 432x288 with 1 Axes>"
      ]
     },
     "metadata": {
      "needs_background": "light"
     },
     "output_type": "display_data"
    }
   ],
   "source": [
    "plt.plot(y_test, y_pred)\n",
    "\n",
    "plt.xlabel(\"stvarne količine\")\n",
    "plt.ylabel(\"predviđene količine\")"
   ]
  },
  {
   "cell_type": "code",
   "execution_count": null,
   "metadata": {},
   "outputs": [],
   "source": []
  }
 ],
 "metadata": {
  "kernelspec": {
   "display_name": "Python 3",
   "language": "python",
   "name": "python3"
  },
  "language_info": {
   "codemirror_mode": {
    "name": "ipython",
    "version": 3
   },
   "file_extension": ".py",
   "mimetype": "text/x-python",
   "name": "python",
   "nbconvert_exporter": "python",
   "pygments_lexer": "ipython3",
   "version": "3.7.3"
  }
 },
 "nbformat": 4,
 "nbformat_minor": 4
}
