{
 "cells": [
  {
   "cell_type": "markdown",
   "metadata": {},
   "source": [
    "<hr>"
   ]
  },
  {
   "cell_type": "markdown",
   "metadata": {},
   "source": [
    "# <center>**PROMO TOOL** - prototype code</center>"
   ]
  },
  {
   "cell_type": "markdown",
   "metadata": {},
   "source": [
    "<hr>"
   ]
  },
  {
   "cell_type": "markdown",
   "metadata": {},
   "source": [
    "Loading needed libraries"
   ]
  },
  {
   "cell_type": "code",
   "execution_count": 1,
   "metadata": {},
   "outputs": [],
   "source": [
    "import warnings\n",
    "warnings.simplefilter(action='ignore', category=FutureWarning)\n",
    "\n",
    "import numpy as np\n",
    "import pandas as pd\n",
    "import pyarrow.parquet as pq\n",
    "import matplotlib.pyplot as plt\n",
    "\n",
    "from sklearn.model_selection import train_test_split"
   ]
  },
  {
   "cell_type": "code",
   "execution_count": 2,
   "metadata": {},
   "outputs": [],
   "source": [
    "from sklearn.metrics import mean_squared_error"
   ]
  },
  {
   "cell_type": "markdown",
   "metadata": {},
   "source": [
    "## Baseline Model"
   ]
  },
  {
   "cell_type": "markdown",
   "metadata": {},
   "source": [
    "Loading data for item 38"
   ]
  },
  {
   "cell_type": "code",
   "execution_count": 3,
   "metadata": {},
   "outputs": [],
   "source": [
    "X38 = pd.read_parquet(\"C:/Users/vvrhovec/Veronika/kodovi/zajednicki/parquet/item_X38.parquet\")\n",
    "X39 = pd.read_parquet(\"C:/Users/vvrhovec/Veronika/kodovi/zajednicki/parquet/item_X39.parquet\")\n",
    "X40 = pd.read_parquet(\"C:/Users/vvrhovec/Veronika/kodovi/zajednicki/parquet/item_X40.parquet\")\n",
    "X41 = pd.read_parquet(\"C:/Users/vvrhovec/Veronika/kodovi/zajednicki/parquet/item_X41.parquet\")\n",
    "X57 = pd.read_parquet(\"C:/Users/vvrhovec/Veronika/kodovi/zajednicki/parquet/item_X57.parquet\")"
   ]
  },
  {
   "cell_type": "code",
   "execution_count": 4,
   "metadata": {},
   "outputs": [],
   "source": [
    "X38 = X38.rename(columns={\"redna_cena\":\"regular_price\", \"akcijska_cena\":\"discounted_price\",\"n_trgovin\":\"no_stores\",\"kol\":\"amount\"})\n",
    "X38 = X38.rename_axis(['item','date'])\n",
    "\n",
    "X39 = X39.rename(columns={\"redna_cena\":\"regular_price\", \"akcijska_cena\":\"discounted_price\",\"n_trgovin\":\"no_stores\",\"kol\":\"amount\"})\n",
    "X39 = X39.rename_axis(['item','date'])\n",
    "\n",
    "X40 = X40.rename(columns={\"redna_cena\":\"regular_price\", \"akcijska_cena\":\"discounted_price\",\"n_trgovin\":\"no_stores\",\"kol\":\"amount\"})\n",
    "X40 = X40.rename_axis(['item','date'])\n",
    "\n",
    "X41 = X41.rename(columns={\"redna_cena\":\"regular_price\", \"akcijska_cena\":\"discounted_price\",\"n_trgovin\":\"no_stores\",\"kol\":\"amount\"})\n",
    "X41 = X41.rename_axis(['item','date'])\n",
    "\n",
    "X57 = X57.rename(columns={\"redna_cena\":\"regular_price\", \"akcijska_cena\":\"discounted_price\",\"n_trgovin\":\"no_stores\",\"kol\":\"amount\"})\n",
    "X57 = X57.rename_axis(['item','date'])"
   ]
  },
  {
   "cell_type": "code",
   "execution_count": 5,
   "metadata": {},
   "outputs": [
    {
     "data": {
      "text/html": [
       "<div>\n",
       "<style scoped>\n",
       "    .dataframe tbody tr th:only-of-type {\n",
       "        vertical-align: middle;\n",
       "    }\n",
       "\n",
       "    .dataframe tbody tr th {\n",
       "        vertical-align: top;\n",
       "    }\n",
       "\n",
       "    .dataframe thead th {\n",
       "        text-align: right;\n",
       "    }\n",
       "</style>\n",
       "<table border=\"1\" class=\"dataframe\">\n",
       "  <thead>\n",
       "    <tr style=\"text-align: right;\">\n",
       "      <th></th>\n",
       "      <th></th>\n",
       "      <th>regular_price</th>\n",
       "      <th>discounted_price</th>\n",
       "      <th>no_stores</th>\n",
       "      <th>amount</th>\n",
       "    </tr>\n",
       "    <tr>\n",
       "      <th>item</th>\n",
       "      <th>date</th>\n",
       "      <th></th>\n",
       "      <th></th>\n",
       "      <th></th>\n",
       "      <th></th>\n",
       "    </tr>\n",
       "  </thead>\n",
       "  <tbody>\n",
       "    <tr>\n",
       "      <th rowspan=\"5\" valign=\"top\">57</th>\n",
       "      <th>2016-01-02</th>\n",
       "      <td>0.081</td>\n",
       "      <td>0.081</td>\n",
       "      <td>103</td>\n",
       "      <td>73.0</td>\n",
       "    </tr>\n",
       "    <tr>\n",
       "      <th>2016-01-03</th>\n",
       "      <td>0.082</td>\n",
       "      <td>0.082</td>\n",
       "      <td>101</td>\n",
       "      <td>4.0</td>\n",
       "    </tr>\n",
       "    <tr>\n",
       "      <th>2016-01-04</th>\n",
       "      <td>0.080</td>\n",
       "      <td>0.080</td>\n",
       "      <td>102</td>\n",
       "      <td>34.0</td>\n",
       "    </tr>\n",
       "    <tr>\n",
       "      <th>2016-01-05</th>\n",
       "      <td>0.082</td>\n",
       "      <td>0.082</td>\n",
       "      <td>101</td>\n",
       "      <td>27.0</td>\n",
       "    </tr>\n",
       "    <tr>\n",
       "      <th>2016-01-06</th>\n",
       "      <td>0.080</td>\n",
       "      <td>0.080</td>\n",
       "      <td>101</td>\n",
       "      <td>61.0</td>\n",
       "    </tr>\n",
       "  </tbody>\n",
       "</table>\n",
       "</div>"
      ],
      "text/plain": [
       "                 regular_price  discounted_price  no_stores  amount\n",
       "item date                                                          \n",
       "57   2016-01-02          0.081             0.081        103    73.0\n",
       "     2016-01-03          0.082             0.082        101     4.0\n",
       "     2016-01-04          0.080             0.080        102    34.0\n",
       "     2016-01-05          0.082             0.082        101    27.0\n",
       "     2016-01-06          0.080             0.080        101    61.0"
      ]
     },
     "execution_count": 5,
     "metadata": {},
     "output_type": "execute_result"
    }
   ],
   "source": [
    "X57.head()"
   ]
  },
  {
   "cell_type": "code",
   "execution_count": 6,
   "metadata": {},
   "outputs": [],
   "source": [
    "train_df = pd.DataFrame()\n",
    "test_df = pd.DataFrame()"
   ]
  },
  {
   "cell_type": "code",
   "execution_count": 7,
   "metadata": {},
   "outputs": [],
   "source": [
    "train_df = pd.DataFrame(index =[38,39,40,41,57], columns =['baseline']) \n",
    "test_df = pd.DataFrame(index =[38,39,40,41,57], columns =['baseline']) "
   ]
  },
  {
   "cell_type": "code",
   "execution_count": 8,
   "metadata": {},
   "outputs": [],
   "source": [
    "def baseline (df):\n",
    "    X_train, X_test = train_test_split(df, shuffle = False, test_size = 0.2)\n",
    "\n",
    "    X_train_mean = X_train['amount'].mean()\n",
    "    \n",
    "    predictions_train = [X_train_mean] * X_train.shape[0] \n",
    "    predictions_test = [X_train_mean] * X_test.shape[0] \n",
    "    \n",
    "    train_df.loc[(df.index[0][0]),'baseline'] = np.sqrt(mean_squared_error(X_train['amount'], predictions_train))\n",
    "    test_df.loc[(df.index[0][0]),'baseline'] = np.sqrt(mean_squared_error(X_test['amount'], predictions_test)) \n",
    "    \n",
    "    fig1, ax1 = plt.subplots()\n",
    "    string='X'+str(df.index[0][0])\n",
    "    ax1.set_title(string)\n",
    "    string +='.png'\n",
    "    #ax1.get_yaxis().get_major_formatter().set_scientific(False)\n",
    "    ax1.scatter(X_test['amount'], predictions_test)\n",
    "    fig1.savefig(string)"
   ]
  },
  {
   "cell_type": "code",
   "execution_count": 9,
   "metadata": {},
   "outputs": [
    {
     "data": {
      "image/png": "[encoded data removed]",
      "text/plain": [
       "<Figure size 432x288 with 1 Axes>"
      ]
     },
     "metadata": {
      "needs_background": "light"
     },
     "output_type": "display_data"
    },
    {
     "data": {
      "image/png": "[encoded data removed]",
      "text/plain": [
       "<Figure size 432x288 with 1 Axes>"
      ]
     },
     "metadata": {
      "needs_background": "light"
     },
     "output_type": "display_data"
    },
    {
     "data": {
      "image/png": "[encoded data removed]",
      "text/plain": [
       "<Figure size 432x288 with 1 Axes>"
      ]
     },
     "metadata": {
      "needs_background": "light"
     },
     "output_type": "display_data"
    },
    {
     "data": {
      "image/png": "[encoded data removed]",
      "text/plain": [
       "<Figure size 432x288 with 1 Axes>"
      ]
     },
     "metadata": {
      "needs_background": "light"
     },
     "output_type": "display_data"
    },
    {
     "data": {
      "image/png": "[encoded data removed]",
      "text/plain": [
       "<Figure size 432x288 with 1 Axes>"
      ]
     },
     "metadata": {
      "needs_background": "light"
     },
     "output_type": "display_data"
    }
   ],
   "source": [
    "baseline(X38)\n",
    "baseline(X39)\n",
    "baseline(X40)\n",
    "baseline(X41)\n",
    "baseline(X57)"
   ]
  },
  {
   "cell_type": "code",
   "execution_count": 10,
   "metadata": {},
   "outputs": [
    {
     "data": {
      "text/html": [
       "<div>\n",
       "<style scoped>\n",
       "    .dataframe tbody tr th:only-of-type {\n",
       "        vertical-align: middle;\n",
       "    }\n",
       "\n",
       "    .dataframe tbody tr th {\n",
       "        vertical-align: top;\n",
       "    }\n",
       "\n",
       "    .dataframe thead th {\n",
       "        text-align: right;\n",
       "    }\n",
       "</style>\n",
       "<table border=\"1\" class=\"dataframe\">\n",
       "  <thead>\n",
       "    <tr style=\"text-align: right;\">\n",
       "      <th></th>\n",
       "      <th>baseline</th>\n",
       "    </tr>\n",
       "  </thead>\n",
       "  <tbody>\n",
       "    <tr>\n",
       "      <th>38</th>\n",
       "      <td>153.446</td>\n",
       "    </tr>\n",
       "    <tr>\n",
       "      <th>39</th>\n",
       "      <td>1834.3</td>\n",
       "    </tr>\n",
       "    <tr>\n",
       "      <th>40</th>\n",
       "      <td>122.175</td>\n",
       "    </tr>\n",
       "    <tr>\n",
       "      <th>41</th>\n",
       "      <td>15.7706</td>\n",
       "    </tr>\n",
       "    <tr>\n",
       "      <th>57</th>\n",
       "      <td>37.0379</td>\n",
       "    </tr>\n",
       "  </tbody>\n",
       "</table>\n",
       "</div>"
      ],
      "text/plain": [
       "   baseline\n",
       "38  153.446\n",
       "39   1834.3\n",
       "40  122.175\n",
       "41  15.7706\n",
       "57  37.0379"
      ]
     },
     "execution_count": 10,
     "metadata": {},
     "output_type": "execute_result"
    }
   ],
   "source": [
    "train_df"
   ]
  },
  {
   "cell_type": "code",
   "execution_count": 11,
   "metadata": {},
   "outputs": [
    {
     "data": {
      "text/html": [
       "<div>\n",
       "<style scoped>\n",
       "    .dataframe tbody tr th:only-of-type {\n",
       "        vertical-align: middle;\n",
       "    }\n",
       "\n",
       "    .dataframe tbody tr th {\n",
       "        vertical-align: top;\n",
       "    }\n",
       "\n",
       "    .dataframe thead th {\n",
       "        text-align: right;\n",
       "    }\n",
       "</style>\n",
       "<table border=\"1\" class=\"dataframe\">\n",
       "  <thead>\n",
       "    <tr style=\"text-align: right;\">\n",
       "      <th></th>\n",
       "      <th>baseline</th>\n",
       "    </tr>\n",
       "  </thead>\n",
       "  <tbody>\n",
       "    <tr>\n",
       "      <th>38</th>\n",
       "      <td>170.329</td>\n",
       "    </tr>\n",
       "    <tr>\n",
       "      <th>39</th>\n",
       "      <td>1719.16</td>\n",
       "    </tr>\n",
       "    <tr>\n",
       "      <th>40</th>\n",
       "      <td>87.5328</td>\n",
       "    </tr>\n",
       "    <tr>\n",
       "      <th>41</th>\n",
       "      <td>16.4768</td>\n",
       "    </tr>\n",
       "    <tr>\n",
       "      <th>57</th>\n",
       "      <td>65.3809</td>\n",
       "    </tr>\n",
       "  </tbody>\n",
       "</table>\n",
       "</div>"
      ],
      "text/plain": [
       "   baseline\n",
       "38  170.329\n",
       "39  1719.16\n",
       "40  87.5328\n",
       "41  16.4768\n",
       "57  65.3809"
      ]
     },
     "execution_count": 11,
     "metadata": {},
     "output_type": "execute_result"
    }
   ],
   "source": [
    "test_df"
   ]
  },
  {
   "cell_type": "code",
   "execution_count": 12,
   "metadata": {},
   "outputs": [
    {
     "data": {
      "text/plain": [
       "<matplotlib.collections.PathCollection at 0x1f5238574e0>"
      ]
     },
     "execution_count": 12,
     "metadata": {},
     "output_type": "execute_result"
    },
    {
     "data": {
      "image/png": "[encoded data removed]",
      "text/plain": [
       "<Figure size 432x288 with 1 Axes>"
      ]
     },
     "metadata": {
      "needs_background": "light"
     },
     "output_type": "display_data"
    }
   ],
   "source": [
    "plt.scatter(train_df.index.values, train_df['baseline'] ) "
   ]
  },
  {
   "cell_type": "code",
   "execution_count": 13,
   "metadata": {},
   "outputs": [
    {
     "name": "stderr",
     "output_type": "stream",
     "text": [
      "C:\\Users\\vvrhovec\\AppData\\Local\\Continuum\\miniconda3\\envs\\okolina\\lib\\site-packages\\sklearn\\externals\\joblib\\__init__.py:15: DeprecationWarning: sklearn.externals.joblib is deprecated in 0.21 and will be removed in 0.23. Please import this functionality directly from joblib, which can be installed with: pip install joblib. If this warning is raised when loading pickled models, you may need to re-serialize those models with scikit-learn 0.21+.\n",
      "  warnings.warn(msg, category=DeprecationWarning)\n"
     ]
    }
   ],
   "source": [
    "from funkcije import scale,ColumnExtractor,DummyTransformer,DFFeatureUnion, ZeroFillTransformer,DFStandardScaler,dayName,holiday\n",
    "from funkcije import log,log2,log10,kroz,korijen,IQ,devetBani,STD,nista\n",
    "\n",
    "from sklearn.externals import joblib"
   ]
  },
  {
   "cell_type": "code",
   "execution_count": 14,
   "metadata": {},
   "outputs": [],
   "source": [
    "ALFA = joblib.load('ALFA.sav')\n",
    "BETA = joblib.load('BETA.sav')\n",
    "GAMA = joblib.load('GAMA.sav')\n",
    "DELTA = joblib.load('DELTA.sav')"
   ]
  },
  {
   "cell_type": "code",
   "execution_count": 15,
   "metadata": {},
   "outputs": [],
   "source": [
    "skaliranje = [log, log2, log10, kroz, korijen, nista]\n",
    "outlieri = [IQ, devetBani, STD, nista]\n",
    "pipe = [ALFA, BETA, GAMA, DELTA]"
   ]
  },
  {
   "cell_type": "code",
   "execution_count": 16,
   "metadata": {},
   "outputs": [],
   "source": [
    "from math import e, sqrt\n",
    "nacin = []"
   ]
  },
  {
   "cell_type": "code",
   "execution_count": 29,
   "metadata": {},
   "outputs": [],
   "source": [
    "def SO(table):\n",
    "    MIN_J = 5000      #    postavimo neki veliki min\n",
    "    NACIN_J = ''      #    prazan string koji ce nam reci kako smo dosli do rezultata\n",
    "    MIN_D = 5000\n",
    "    NACIN_D = ''\n",
    "    DULJINA = len(table.index)\n",
    "    \n",
    "    a = 0\n",
    "    b = 0\n",
    "    c = 0\n",
    "    d = 0\n",
    "    f = 0\n",
    "    \n",
    "    \n",
    "    #print('----------------------------------------------------OVO JE POCETAK-----------------------------------------------------')\n",
    "    #print(table.head)\n",
    "    #tablica=table\n",
    "    for i in range(len(skaliranje)):                \n",
    "        for z in range (len(outlieri)):\n",
    "            tablica = table.copy()    # radimo na tablici,table cuvamo\n",
    "            tablica_train = tablica[:-1]\n",
    "            tablica_test  = tablica[tablica.shape[0]-1:]\n",
    "\n",
    "            \n",
    "            proces1 = skaliranje[i]()\n",
    "            proces2 = outlieri[z]()\n",
    "            \n",
    "            \n",
    "            tablica_train = proces1.fit_transform(tablica_train)\n",
    "            tablica_test = proces1.transform(tablica_test) \n",
    "            proces2.fit(tablica_train)\n",
    "            tablica_train = proces2.transform(tablica_train)\n",
    "            tablica_test = proces2.transform(tablica_test)           \n",
    "            X_test = tablica_test.drop('amount', axis=1)\n",
    "            y_test = tablica_test['amount']\n",
    "            X_train = tablica_train.drop('amount', axis=1)\n",
    "            y_train = tablica_train['amount']\n",
    "            \n",
    "            for j in range(len(pipe)):\n",
    "                #print('tu sam--->',i,'-----',j)#----------------------------AKO ZELIS PROVJERAVAT ZA JEDNOG\n",
    "                string = (str(skaliranje[i]))[17:-2] + '+' + (str(outlieri[z]))[17:-2] + '+' + str(j)   \n",
    "                pipe[j].fit(X_train,y_train)\n",
    "                predictions = pipe[j].predict(X_test)\n",
    "                \n",
    "                #print(predictions[:10])\n",
    "                \n",
    "                if i == 0:                                    # VRACANJE TESTA SUKLADNO SKALIRANJU     \n",
    "                    #print(\"............................................. \",predictions[:5])\n",
    "                    predictions = np.power(e,predictions)          # <-----------------------------e je jednak nula\n",
    "                    #print(e)\n",
    "                    #print(\"............................................. \",predictions[:5])\n",
    "                    \n",
    "                    if a == 0:  \n",
    "                        #print(\"............................................. \",y_test[:5])\n",
    "                        y_test = np.power(e,y_test)\n",
    "                        #print(\"............................................. \",y_test[:5])\n",
    "                        a += 1\n",
    "                    \n",
    "                    \n",
    "                if i == 1:\n",
    "                    predictions = np.power(2,predictions)\n",
    "                    #y_test = np.power(2,y_test)\n",
    "                    if b == 0:  \n",
    "                        #print(\"............................................. \",y_test[:5])\n",
    "                        y_test = np.power(2,y_test)\n",
    "                        #print(\"............................................. \",y_test[:5])\n",
    "                        b += 1\n",
    "                if i == 2:\n",
    "                    predictions = np.power(10,predictions)\n",
    "                    #y_test = np.power(10,y_test)\n",
    "                    if c == 0:  \n",
    "                        #print(\"............................................. \",y_test[:5])\n",
    "                        y_test = np.power(10,y_test)\n",
    "                        #print(\"............................................. \",y_test[:5])\n",
    "                        c += 1\n",
    "                if i == 3:\n",
    "                    predictions = np.power(predictions,-1)\n",
    "                    #y_test = np.power(y_test,-1)\n",
    "                    if d == 0:  \n",
    "                        #print(\"............................................. \",y_test[:5])\n",
    "                        y_test = np.power(y_test,-1)\n",
    "                        #print(\"............................................. \",y_test[:5])\n",
    "                        d += 1\n",
    "                if i == 4:\n",
    "                    predictions = np.power(predictions,2)\n",
    "                    #y_test = np.power(y_test,2)\n",
    "                    if f == 0:  \n",
    "                        #print(\"............................................. \",y_test[:5])\n",
    "                        y_test = np.power(y_test,2)\n",
    "                        #print(\"............................................. \",y_test[:5])\n",
    "                        f += 1\n",
    "                #print('tu sam--->',i,'---',z,'--',j,'posto podataka:',len(tablica.index)/DULJINA)    #DA VIDIS KOLIKO IMA PODATAKA\n",
    "                rms = sqrt(mean_squared_error(y_test, predictions))\n",
    "    \n",
    "                #test_df[string] = 0\n",
    "                #print(table.index[0][0],string)    ### PROMJENI STRING IMA 4 NACINA\n",
    "                \n",
    "                test_df.loc[(table.index[0][0]),string] = rms\n",
    "                #test_df.loc[(df.index[0][0]),string] = rms\n",
    "    \n",
    "                \n",
    "    \n",
    "                #print ('tu sam',i,z,j,'---------->',rms)#----------------------------AKO ZELIS PROVJERAVAT ZA KOLIKO JE RMS\n",
    "                if (DULJINA - len(tablica.index)) / DULJINA < 0.1:\n",
    "                    if rms < MIN_J:\n",
    "                        MIN_J = rms\n",
    "                        NACIN_J = str(i) + '+' + str(z) + '+' + str(j)\n",
    "                if (DULJINA - len(tablica.index)) / DULJINA < 0.2:\n",
    "                    if rms < MIN_D:\n",
    "                        MIN_D = rms\n",
    "                        NACIN_D = str(i) + '+' + str(z) + '+' + str(j)\n",
    "        #print('----------------------------------------------KRAJ LOOPA-----------------------------------------------')\n",
    "    PATH = (str(skaliranje[int(NACIN_J[0])]))[17:-2] + '+' + (str(outlieri[int(NACIN_J[2])]))[17:-2] + '+' + str(NACIN_J[4])   \n",
    "    nacin.append(str(table.index[0][0])+': '+PATH)\n",
    "    test_df.loc[(table.index[0][0]),'put'] = NACIN_J\n",
    "    print ('Najmanju greska koju dobijemo, a da sacuvamo barem 90% podataka je :',MIN_J,',a dobijemo ju na ovaj nacin:',NACIN_J)\n",
    "    print ('Najmanju greska koju dobijemo, a da sacuvamo barem 80% podataka je :',MIN_D,', a dobijemo ju na ovaj nacin:',NACIN_D,'\\n')    "
   ]
  },
  {
   "cell_type": "code",
   "execution_count": 30,
   "metadata": {},
   "outputs": [
    {
     "name": "stdout",
     "output_type": "stream",
     "text": [
      "Najmanju greska koju dobijemo, a da sacuvamo barem 90% podataka je : 65.8168008857777 ,a dobijemo ju na ovaj nacin: 3+0+1\n",
      "Najmanju greska koju dobijemo, a da sacuvamo barem 80% podataka je : 65.8168008857777 , a dobijemo ju na ovaj nacin: 3+0+1 \n",
      "\n"
     ]
    },
    {
     "ename": "ValueError",
     "evalue": "Found array with 0 sample(s) (shape=(0, 4)) while a minimum of 1 is required by StandardScaler.",
     "output_type": "error",
     "traceback": [
      "\u001b[1;31m---------------------------------------------------------------------------\u001b[0m",
      "\u001b[1;31mValueError\u001b[0m                                Traceback (most recent call last)",
      "\u001b[1;32m<ipython-input-30-2fe5f803f758>\u001b[0m in \u001b[0;36m<module>\u001b[1;34m\u001b[0m\n\u001b[0;32m      1\u001b[0m \u001b[0mpd\u001b[0m\u001b[1;33m.\u001b[0m\u001b[0moptions\u001b[0m\u001b[1;33m.\u001b[0m\u001b[0mmode\u001b[0m\u001b[1;33m.\u001b[0m\u001b[0mchained_assignment\u001b[0m \u001b[1;33m=\u001b[0m \u001b[1;32mNone\u001b[0m  \u001b[1;31m# default='warn'\u001b[0m\u001b[1;33m\u001b[0m\u001b[1;33m\u001b[0m\u001b[0m\n\u001b[0;32m      2\u001b[0m \u001b[0mSO\u001b[0m\u001b[1;33m(\u001b[0m\u001b[0mX38\u001b[0m\u001b[1;33m)\u001b[0m\u001b[1;33m\u001b[0m\u001b[1;33m\u001b[0m\u001b[0m\n\u001b[1;32m----> 3\u001b[1;33m \u001b[0mSO\u001b[0m\u001b[1;33m(\u001b[0m\u001b[0mX39\u001b[0m\u001b[1;33m)\u001b[0m\u001b[1;33m\u001b[0m\u001b[1;33m\u001b[0m\u001b[0m\n\u001b[0m\u001b[0;32m      4\u001b[0m \u001b[0mSO\u001b[0m\u001b[1;33m(\u001b[0m\u001b[0mX40\u001b[0m\u001b[1;33m)\u001b[0m\u001b[1;33m\u001b[0m\u001b[1;33m\u001b[0m\u001b[0m\n\u001b[0;32m      5\u001b[0m \u001b[0mSO\u001b[0m\u001b[1;33m(\u001b[0m\u001b[0mX41\u001b[0m\u001b[1;33m)\u001b[0m\u001b[1;33m\u001b[0m\u001b[1;33m\u001b[0m\u001b[0m\n",
      "\u001b[1;32m<ipython-input-29-35a040deba8f>\u001b[0m in \u001b[0;36mSO\u001b[1;34m(table)\u001b[0m\n\u001b[0;32m     41\u001b[0m                 \u001b[0mstring\u001b[0m \u001b[1;33m=\u001b[0m \u001b[1;33m(\u001b[0m\u001b[0mstr\u001b[0m\u001b[1;33m(\u001b[0m\u001b[0mskaliranje\u001b[0m\u001b[1;33m[\u001b[0m\u001b[0mi\u001b[0m\u001b[1;33m]\u001b[0m\u001b[1;33m)\u001b[0m\u001b[1;33m)\u001b[0m\u001b[1;33m[\u001b[0m\u001b[1;36m17\u001b[0m\u001b[1;33m:\u001b[0m\u001b[1;33m-\u001b[0m\u001b[1;36m2\u001b[0m\u001b[1;33m]\u001b[0m \u001b[1;33m+\u001b[0m \u001b[1;34m'+'\u001b[0m \u001b[1;33m+\u001b[0m \u001b[1;33m(\u001b[0m\u001b[0mstr\u001b[0m\u001b[1;33m(\u001b[0m\u001b[0moutlieri\u001b[0m\u001b[1;33m[\u001b[0m\u001b[0mz\u001b[0m\u001b[1;33m]\u001b[0m\u001b[1;33m)\u001b[0m\u001b[1;33m)\u001b[0m\u001b[1;33m[\u001b[0m\u001b[1;36m17\u001b[0m\u001b[1;33m:\u001b[0m\u001b[1;33m-\u001b[0m\u001b[1;36m2\u001b[0m\u001b[1;33m]\u001b[0m \u001b[1;33m+\u001b[0m \u001b[1;34m'+'\u001b[0m \u001b[1;33m+\u001b[0m \u001b[0mstr\u001b[0m\u001b[1;33m(\u001b[0m\u001b[0mj\u001b[0m\u001b[1;33m)\u001b[0m\u001b[1;33m\u001b[0m\u001b[1;33m\u001b[0m\u001b[0m\n\u001b[0;32m     42\u001b[0m                 \u001b[0mpipe\u001b[0m\u001b[1;33m[\u001b[0m\u001b[0mj\u001b[0m\u001b[1;33m]\u001b[0m\u001b[1;33m.\u001b[0m\u001b[0mfit\u001b[0m\u001b[1;33m(\u001b[0m\u001b[0mX_train\u001b[0m\u001b[1;33m,\u001b[0m\u001b[0my_train\u001b[0m\u001b[1;33m)\u001b[0m\u001b[1;33m\u001b[0m\u001b[1;33m\u001b[0m\u001b[0m\n\u001b[1;32m---> 43\u001b[1;33m                 \u001b[0mpredictions\u001b[0m \u001b[1;33m=\u001b[0m \u001b[0mpipe\u001b[0m\u001b[1;33m[\u001b[0m\u001b[0mj\u001b[0m\u001b[1;33m]\u001b[0m\u001b[1;33m.\u001b[0m\u001b[0mpredict\u001b[0m\u001b[1;33m(\u001b[0m\u001b[0mX_test\u001b[0m\u001b[1;33m)\u001b[0m\u001b[1;33m\u001b[0m\u001b[1;33m\u001b[0m\u001b[0m\n\u001b[0m\u001b[0;32m     44\u001b[0m \u001b[1;33m\u001b[0m\u001b[0m\n\u001b[0;32m     45\u001b[0m                 \u001b[1;31m#print(predictions[:10])\u001b[0m\u001b[1;33m\u001b[0m\u001b[1;33m\u001b[0m\u001b[1;33m\u001b[0m\u001b[0m\n",
      "\u001b[1;32m~\\AppData\\Local\\Continuum\\miniconda3\\envs\\okolina\\lib\\site-packages\\sklearn\\utils\\metaestimators.py\u001b[0m in \u001b[0;36m<lambda>\u001b[1;34m(*args, **kwargs)\u001b[0m\n\u001b[0;32m    114\u001b[0m \u001b[1;33m\u001b[0m\u001b[0m\n\u001b[0;32m    115\u001b[0m         \u001b[1;31m# lambda, but not partial, allows help() to work with update_wrapper\u001b[0m\u001b[1;33m\u001b[0m\u001b[1;33m\u001b[0m\u001b[1;33m\u001b[0m\u001b[0m\n\u001b[1;32m--> 116\u001b[1;33m         \u001b[0mout\u001b[0m \u001b[1;33m=\u001b[0m \u001b[1;32mlambda\u001b[0m \u001b[1;33m*\u001b[0m\u001b[0margs\u001b[0m\u001b[1;33m,\u001b[0m \u001b[1;33m**\u001b[0m\u001b[0mkwargs\u001b[0m\u001b[1;33m:\u001b[0m \u001b[0mself\u001b[0m\u001b[1;33m.\u001b[0m\u001b[0mfn\u001b[0m\u001b[1;33m(\u001b[0m\u001b[0mobj\u001b[0m\u001b[1;33m,\u001b[0m \u001b[1;33m*\u001b[0m\u001b[0margs\u001b[0m\u001b[1;33m,\u001b[0m \u001b[1;33m**\u001b[0m\u001b[0mkwargs\u001b[0m\u001b[1;33m)\u001b[0m\u001b[1;33m\u001b[0m\u001b[1;33m\u001b[0m\u001b[0m\n\u001b[0m\u001b[0;32m    117\u001b[0m         \u001b[1;31m# update the docstring of the returned function\u001b[0m\u001b[1;33m\u001b[0m\u001b[1;33m\u001b[0m\u001b[1;33m\u001b[0m\u001b[0m\n\u001b[0;32m    118\u001b[0m         \u001b[0mupdate_wrapper\u001b[0m\u001b[1;33m(\u001b[0m\u001b[0mout\u001b[0m\u001b[1;33m,\u001b[0m \u001b[0mself\u001b[0m\u001b[1;33m.\u001b[0m\u001b[0mfn\u001b[0m\u001b[1;33m)\u001b[0m\u001b[1;33m\u001b[0m\u001b[1;33m\u001b[0m\u001b[0m\n",
      "\u001b[1;32m~\\AppData\\Local\\Continuum\\miniconda3\\envs\\okolina\\lib\\site-packages\\sklearn\\pipeline.py\u001b[0m in \u001b[0;36mpredict\u001b[1;34m(self, X, **predict_params)\u001b[0m\n\u001b[0;32m    419\u001b[0m         \u001b[0mXt\u001b[0m \u001b[1;33m=\u001b[0m \u001b[0mX\u001b[0m\u001b[1;33m\u001b[0m\u001b[1;33m\u001b[0m\u001b[0m\n\u001b[0;32m    420\u001b[0m         \u001b[1;32mfor\u001b[0m \u001b[0m_\u001b[0m\u001b[1;33m,\u001b[0m \u001b[0mname\u001b[0m\u001b[1;33m,\u001b[0m \u001b[0mtransform\u001b[0m \u001b[1;32min\u001b[0m \u001b[0mself\u001b[0m\u001b[1;33m.\u001b[0m\u001b[0m_iter\u001b[0m\u001b[1;33m(\u001b[0m\u001b[0mwith_final\u001b[0m\u001b[1;33m=\u001b[0m\u001b[1;32mFalse\u001b[0m\u001b[1;33m)\u001b[0m\u001b[1;33m:\u001b[0m\u001b[1;33m\u001b[0m\u001b[1;33m\u001b[0m\u001b[0m\n\u001b[1;32m--> 421\u001b[1;33m             \u001b[0mXt\u001b[0m \u001b[1;33m=\u001b[0m \u001b[0mtransform\u001b[0m\u001b[1;33m.\u001b[0m\u001b[0mtransform\u001b[0m\u001b[1;33m(\u001b[0m\u001b[0mXt\u001b[0m\u001b[1;33m)\u001b[0m\u001b[1;33m\u001b[0m\u001b[1;33m\u001b[0m\u001b[0m\n\u001b[0m\u001b[0;32m    422\u001b[0m         \u001b[1;32mreturn\u001b[0m \u001b[0mself\u001b[0m\u001b[1;33m.\u001b[0m\u001b[0msteps\u001b[0m\u001b[1;33m[\u001b[0m\u001b[1;33m-\u001b[0m\u001b[1;36m1\u001b[0m\u001b[1;33m]\u001b[0m\u001b[1;33m[\u001b[0m\u001b[1;33m-\u001b[0m\u001b[1;36m1\u001b[0m\u001b[1;33m]\u001b[0m\u001b[1;33m.\u001b[0m\u001b[0mpredict\u001b[0m\u001b[1;33m(\u001b[0m\u001b[0mXt\u001b[0m\u001b[1;33m,\u001b[0m \u001b[1;33m**\u001b[0m\u001b[0mpredict_params\u001b[0m\u001b[1;33m)\u001b[0m\u001b[1;33m\u001b[0m\u001b[1;33m\u001b[0m\u001b[0m\n\u001b[0;32m    423\u001b[0m \u001b[1;33m\u001b[0m\u001b[0m\n",
      "\u001b[1;32m~\\Veronika\\kodovi\\zajednicki\\funkcije.py\u001b[0m in \u001b[0;36mtransform\u001b[1;34m(self, X)\u001b[0m\n\u001b[0;32m    208\u001b[0m     \u001b[1;32mdef\u001b[0m \u001b[0mtransform\u001b[0m\u001b[1;33m(\u001b[0m\u001b[0mself\u001b[0m\u001b[1;33m,\u001b[0m \u001b[0mX\u001b[0m\u001b[1;33m)\u001b[0m\u001b[1;33m:\u001b[0m\u001b[1;33m\u001b[0m\u001b[1;33m\u001b[0m\u001b[0m\n\u001b[0;32m    209\u001b[0m         \u001b[1;31m# assumes X is a DataFrame\u001b[0m\u001b[1;33m\u001b[0m\u001b[1;33m\u001b[0m\u001b[1;33m\u001b[0m\u001b[0m\n\u001b[1;32m--> 210\u001b[1;33m         \u001b[0mXts\u001b[0m \u001b[1;33m=\u001b[0m \u001b[1;33m[\u001b[0m\u001b[0mt\u001b[0m\u001b[1;33m.\u001b[0m\u001b[0mtransform\u001b[0m\u001b[1;33m(\u001b[0m\u001b[0mX\u001b[0m\u001b[1;33m)\u001b[0m \u001b[1;32mfor\u001b[0m \u001b[0m_\u001b[0m\u001b[1;33m,\u001b[0m \u001b[0mt\u001b[0m \u001b[1;32min\u001b[0m \u001b[0mself\u001b[0m\u001b[1;33m.\u001b[0m\u001b[0mtransformer_list\u001b[0m\u001b[1;33m]\u001b[0m\u001b[1;33m\u001b[0m\u001b[1;33m\u001b[0m\u001b[0m\n\u001b[0m\u001b[0;32m    211\u001b[0m         \u001b[0mXunion\u001b[0m \u001b[1;33m=\u001b[0m \u001b[0mreduce\u001b[0m\u001b[1;33m(\u001b[0m\u001b[1;32mlambda\u001b[0m \u001b[0mX1\u001b[0m\u001b[1;33m,\u001b[0m \u001b[0mX2\u001b[0m\u001b[1;33m:\u001b[0m \u001b[0mpd\u001b[0m\u001b[1;33m.\u001b[0m\u001b[0mmerge\u001b[0m\u001b[1;33m(\u001b[0m\u001b[0mX1\u001b[0m\u001b[1;33m,\u001b[0m \u001b[0mX2\u001b[0m\u001b[1;33m,\u001b[0m \u001b[0mleft_index\u001b[0m\u001b[1;33m=\u001b[0m\u001b[1;32mTrue\u001b[0m\u001b[1;33m,\u001b[0m \u001b[0mright_index\u001b[0m\u001b[1;33m=\u001b[0m\u001b[1;32mTrue\u001b[0m\u001b[1;33m)\u001b[0m\u001b[1;33m,\u001b[0m \u001b[0mXts\u001b[0m\u001b[1;33m)\u001b[0m\u001b[1;33m\u001b[0m\u001b[1;33m\u001b[0m\u001b[0m\n\u001b[0;32m    212\u001b[0m         \u001b[1;32mreturn\u001b[0m \u001b[0mXunion\u001b[0m\u001b[1;33m\u001b[0m\u001b[1;33m\u001b[0m\u001b[0m\n",
      "\u001b[1;32m~\\Veronika\\kodovi\\zajednicki\\funkcije.py\u001b[0m in \u001b[0;36m<listcomp>\u001b[1;34m(.0)\u001b[0m\n\u001b[0;32m    208\u001b[0m     \u001b[1;32mdef\u001b[0m \u001b[0mtransform\u001b[0m\u001b[1;33m(\u001b[0m\u001b[0mself\u001b[0m\u001b[1;33m,\u001b[0m \u001b[0mX\u001b[0m\u001b[1;33m)\u001b[0m\u001b[1;33m:\u001b[0m\u001b[1;33m\u001b[0m\u001b[1;33m\u001b[0m\u001b[0m\n\u001b[0;32m    209\u001b[0m         \u001b[1;31m# assumes X is a DataFrame\u001b[0m\u001b[1;33m\u001b[0m\u001b[1;33m\u001b[0m\u001b[1;33m\u001b[0m\u001b[0m\n\u001b[1;32m--> 210\u001b[1;33m         \u001b[0mXts\u001b[0m \u001b[1;33m=\u001b[0m \u001b[1;33m[\u001b[0m\u001b[0mt\u001b[0m\u001b[1;33m.\u001b[0m\u001b[0mtransform\u001b[0m\u001b[1;33m(\u001b[0m\u001b[0mX\u001b[0m\u001b[1;33m)\u001b[0m \u001b[1;32mfor\u001b[0m \u001b[0m_\u001b[0m\u001b[1;33m,\u001b[0m \u001b[0mt\u001b[0m \u001b[1;32min\u001b[0m \u001b[0mself\u001b[0m\u001b[1;33m.\u001b[0m\u001b[0mtransformer_list\u001b[0m\u001b[1;33m]\u001b[0m\u001b[1;33m\u001b[0m\u001b[1;33m\u001b[0m\u001b[0m\n\u001b[0m\u001b[0;32m    211\u001b[0m         \u001b[0mXunion\u001b[0m \u001b[1;33m=\u001b[0m \u001b[0mreduce\u001b[0m\u001b[1;33m(\u001b[0m\u001b[1;32mlambda\u001b[0m \u001b[0mX1\u001b[0m\u001b[1;33m,\u001b[0m \u001b[0mX2\u001b[0m\u001b[1;33m:\u001b[0m \u001b[0mpd\u001b[0m\u001b[1;33m.\u001b[0m\u001b[0mmerge\u001b[0m\u001b[1;33m(\u001b[0m\u001b[0mX1\u001b[0m\u001b[1;33m,\u001b[0m \u001b[0mX2\u001b[0m\u001b[1;33m,\u001b[0m \u001b[0mleft_index\u001b[0m\u001b[1;33m=\u001b[0m\u001b[1;32mTrue\u001b[0m\u001b[1;33m,\u001b[0m \u001b[0mright_index\u001b[0m\u001b[1;33m=\u001b[0m\u001b[1;32mTrue\u001b[0m\u001b[1;33m)\u001b[0m\u001b[1;33m,\u001b[0m \u001b[0mXts\u001b[0m\u001b[1;33m)\u001b[0m\u001b[1;33m\u001b[0m\u001b[1;33m\u001b[0m\u001b[0m\n\u001b[0;32m    212\u001b[0m         \u001b[1;32mreturn\u001b[0m \u001b[0mXunion\u001b[0m\u001b[1;33m\u001b[0m\u001b[1;33m\u001b[0m\u001b[0m\n",
      "\u001b[1;32m~\\AppData\\Local\\Continuum\\miniconda3\\envs\\okolina\\lib\\site-packages\\sklearn\\pipeline.py\u001b[0m in \u001b[0;36m_transform\u001b[1;34m(self, X)\u001b[0m\n\u001b[0;32m    538\u001b[0m         \u001b[0mXt\u001b[0m \u001b[1;33m=\u001b[0m \u001b[0mX\u001b[0m\u001b[1;33m\u001b[0m\u001b[1;33m\u001b[0m\u001b[0m\n\u001b[0;32m    539\u001b[0m         \u001b[1;32mfor\u001b[0m \u001b[0m_\u001b[0m\u001b[1;33m,\u001b[0m \u001b[0m_\u001b[0m\u001b[1;33m,\u001b[0m \u001b[0mtransform\u001b[0m \u001b[1;32min\u001b[0m \u001b[0mself\u001b[0m\u001b[1;33m.\u001b[0m\u001b[0m_iter\u001b[0m\u001b[1;33m(\u001b[0m\u001b[1;33m)\u001b[0m\u001b[1;33m:\u001b[0m\u001b[1;33m\u001b[0m\u001b[1;33m\u001b[0m\u001b[0m\n\u001b[1;32m--> 540\u001b[1;33m             \u001b[0mXt\u001b[0m \u001b[1;33m=\u001b[0m \u001b[0mtransform\u001b[0m\u001b[1;33m.\u001b[0m\u001b[0mtransform\u001b[0m\u001b[1;33m(\u001b[0m\u001b[0mXt\u001b[0m\u001b[1;33m)\u001b[0m\u001b[1;33m\u001b[0m\u001b[1;33m\u001b[0m\u001b[0m\n\u001b[0m\u001b[0;32m    541\u001b[0m         \u001b[1;32mreturn\u001b[0m \u001b[0mXt\u001b[0m\u001b[1;33m\u001b[0m\u001b[1;33m\u001b[0m\u001b[0m\n\u001b[0;32m    542\u001b[0m \u001b[1;33m\u001b[0m\u001b[0m\n",
      "\u001b[1;32m~\\Veronika\\kodovi\\zajednicki\\funkcije.py\u001b[0m in \u001b[0;36mtransform\u001b[1;34m(self, X)\u001b[0m\n\u001b[0;32m    240\u001b[0m     \u001b[1;32mdef\u001b[0m \u001b[0mtransform\u001b[0m\u001b[1;33m(\u001b[0m\u001b[0mself\u001b[0m\u001b[1;33m,\u001b[0m \u001b[0mX\u001b[0m\u001b[1;33m)\u001b[0m\u001b[1;33m:\u001b[0m\u001b[1;33m\u001b[0m\u001b[1;33m\u001b[0m\u001b[0m\n\u001b[0;32m    241\u001b[0m         \u001b[1;31m# assumes X is a DataFrame\u001b[0m\u001b[1;33m\u001b[0m\u001b[1;33m\u001b[0m\u001b[1;33m\u001b[0m\u001b[0m\n\u001b[1;32m--> 242\u001b[1;33m         \u001b[0mXss\u001b[0m \u001b[1;33m=\u001b[0m \u001b[0mself\u001b[0m\u001b[1;33m.\u001b[0m\u001b[0mss\u001b[0m\u001b[1;33m.\u001b[0m\u001b[0mtransform\u001b[0m\u001b[1;33m(\u001b[0m\u001b[0mX\u001b[0m\u001b[1;33m)\u001b[0m\u001b[1;33m\u001b[0m\u001b[1;33m\u001b[0m\u001b[0m\n\u001b[0m\u001b[0;32m    243\u001b[0m         \u001b[0mXscaled\u001b[0m \u001b[1;33m=\u001b[0m \u001b[0mpd\u001b[0m\u001b[1;33m.\u001b[0m\u001b[0mDataFrame\u001b[0m\u001b[1;33m(\u001b[0m\u001b[0mXss\u001b[0m\u001b[1;33m,\u001b[0m \u001b[0mindex\u001b[0m\u001b[1;33m=\u001b[0m\u001b[0mX\u001b[0m\u001b[1;33m.\u001b[0m\u001b[0mindex\u001b[0m\u001b[1;33m,\u001b[0m \u001b[0mcolumns\u001b[0m\u001b[1;33m=\u001b[0m\u001b[0mX\u001b[0m\u001b[1;33m.\u001b[0m\u001b[0mcolumns\u001b[0m\u001b[1;33m)\u001b[0m\u001b[1;33m\u001b[0m\u001b[1;33m\u001b[0m\u001b[0m\n\u001b[0;32m    244\u001b[0m         \u001b[1;32mreturn\u001b[0m \u001b[0mXscaled\u001b[0m\u001b[1;33m\u001b[0m\u001b[1;33m\u001b[0m\u001b[0m\n",
      "\u001b[1;32m~\\AppData\\Local\\Continuum\\miniconda3\\envs\\okolina\\lib\\site-packages\\sklearn\\preprocessing\\data.py\u001b[0m in \u001b[0;36mtransform\u001b[1;34m(self, X, copy)\u001b[0m\n\u001b[0;32m    756\u001b[0m         X = check_array(X, accept_sparse='csr', copy=copy,\n\u001b[0;32m    757\u001b[0m                         \u001b[0mestimator\u001b[0m\u001b[1;33m=\u001b[0m\u001b[0mself\u001b[0m\u001b[1;33m,\u001b[0m \u001b[0mdtype\u001b[0m\u001b[1;33m=\u001b[0m\u001b[0mFLOAT_DTYPES\u001b[0m\u001b[1;33m,\u001b[0m\u001b[1;33m\u001b[0m\u001b[1;33m\u001b[0m\u001b[0m\n\u001b[1;32m--> 758\u001b[1;33m                         force_all_finite='allow-nan')\n\u001b[0m\u001b[0;32m    759\u001b[0m \u001b[1;33m\u001b[0m\u001b[0m\n\u001b[0;32m    760\u001b[0m         \u001b[1;32mif\u001b[0m \u001b[0msparse\u001b[0m\u001b[1;33m.\u001b[0m\u001b[0missparse\u001b[0m\u001b[1;33m(\u001b[0m\u001b[0mX\u001b[0m\u001b[1;33m)\u001b[0m\u001b[1;33m:\u001b[0m\u001b[1;33m\u001b[0m\u001b[1;33m\u001b[0m\u001b[0m\n",
      "\u001b[1;32m~\\AppData\\Local\\Continuum\\miniconda3\\envs\\okolina\\lib\\site-packages\\sklearn\\utils\\validation.py\u001b[0m in \u001b[0;36mcheck_array\u001b[1;34m(array, accept_sparse, accept_large_sparse, dtype, order, copy, force_all_finite, ensure_2d, allow_nd, ensure_min_samples, ensure_min_features, warn_on_dtype, estimator)\u001b[0m\n\u001b[0;32m    548\u001b[0m                              \u001b[1;34m\" minimum of %d is required%s.\"\u001b[0m\u001b[1;33m\u001b[0m\u001b[1;33m\u001b[0m\u001b[0m\n\u001b[0;32m    549\u001b[0m                              % (n_samples, array.shape, ensure_min_samples,\n\u001b[1;32m--> 550\u001b[1;33m                                 context))\n\u001b[0m\u001b[0;32m    551\u001b[0m \u001b[1;33m\u001b[0m\u001b[0m\n\u001b[0;32m    552\u001b[0m     \u001b[1;32mif\u001b[0m \u001b[0mensure_min_features\u001b[0m \u001b[1;33m>\u001b[0m \u001b[1;36m0\u001b[0m \u001b[1;32mand\u001b[0m \u001b[0marray\u001b[0m\u001b[1;33m.\u001b[0m\u001b[0mndim\u001b[0m \u001b[1;33m==\u001b[0m \u001b[1;36m2\u001b[0m\u001b[1;33m:\u001b[0m\u001b[1;33m\u001b[0m\u001b[1;33m\u001b[0m\u001b[0m\n",
      "\u001b[1;31mValueError\u001b[0m: Found array with 0 sample(s) (shape=(0, 4)) while a minimum of 1 is required by StandardScaler."
     ]
    }
   ],
   "source": [
    "pd.options.mode.chained_assignment = None  # default='warn'\n",
    "SO(X38)\n",
    "SO(X39)\n",
    "SO(X40)\n",
    "SO(X41)\n",
    "SO(X57)"
   ]
  },
  {
   "cell_type": "code",
   "execution_count": 31,
   "metadata": {},
   "outputs": [
    {
     "data": {
      "text/html": [
       "<div>\n",
       "<style scoped>\n",
       "    .dataframe tbody tr th:only-of-type {\n",
       "        vertical-align: middle;\n",
       "    }\n",
       "\n",
       "    .dataframe tbody tr th {\n",
       "        vertical-align: top;\n",
       "    }\n",
       "\n",
       "    .dataframe thead th {\n",
       "        text-align: right;\n",
       "    }\n",
       "</style>\n",
       "<table border=\"1\" class=\"dataframe\">\n",
       "  <thead>\n",
       "    <tr style=\"text-align: right;\">\n",
       "      <th></th>\n",
       "      <th>baseline</th>\n",
       "      <th>log+IQ+0</th>\n",
       "      <th>log+IQ+1</th>\n",
       "      <th>log+IQ+2</th>\n",
       "      <th>log+IQ+3</th>\n",
       "      <th>log+devetBani+0</th>\n",
       "      <th>log+devetBani+1</th>\n",
       "      <th>log+devetBani+2</th>\n",
       "      <th>log+devetBani+3</th>\n",
       "      <th>log+STD+0</th>\n",
       "      <th>...</th>\n",
       "      <th>nista+devetBani+3</th>\n",
       "      <th>nista+STD+0</th>\n",
       "      <th>nista+STD+1</th>\n",
       "      <th>nista+STD+2</th>\n",
       "      <th>nista+STD+3</th>\n",
       "      <th>nista+nista+0</th>\n",
       "      <th>nista+nista+1</th>\n",
       "      <th>nista+nista+2</th>\n",
       "      <th>nista+nista+3</th>\n",
       "      <th>put</th>\n",
       "    </tr>\n",
       "  </thead>\n",
       "  <tbody>\n",
       "    <tr>\n",
       "      <th>38</th>\n",
       "      <td>170.329</td>\n",
       "      <td>82.377910</td>\n",
       "      <td>85.252785</td>\n",
       "      <td>82.377910</td>\n",
       "      <td>82.377910</td>\n",
       "      <td>216.464739</td>\n",
       "      <td>214.675142</td>\n",
       "      <td>216.464739</td>\n",
       "      <td>216.464739</td>\n",
       "      <td>233.169774</td>\n",
       "      <td>...</td>\n",
       "      <td>109.304800</td>\n",
       "      <td>98.305255</td>\n",
       "      <td>100.107679</td>\n",
       "      <td>101.257715</td>\n",
       "      <td>101.257715</td>\n",
       "      <td>106.862874</td>\n",
       "      <td>124.824772</td>\n",
       "      <td>111.544451</td>\n",
       "      <td>111.544451</td>\n",
       "      <td>3+0+1</td>\n",
       "    </tr>\n",
       "    <tr>\n",
       "      <th>39</th>\n",
       "      <td>1719.16</td>\n",
       "      <td>2772.542488</td>\n",
       "      <td>2790.098973</td>\n",
       "      <td>2774.445914</td>\n",
       "      <td>2802.622084</td>\n",
       "      <td>4058.290645</td>\n",
       "      <td>4068.420767</td>\n",
       "      <td>4065.743915</td>\n",
       "      <td>4065.743915</td>\n",
       "      <td>3129.004827</td>\n",
       "      <td>...</td>\n",
       "      <td>1110.364831</td>\n",
       "      <td>1029.015398</td>\n",
       "      <td>1015.453238</td>\n",
       "      <td>1018.625277</td>\n",
       "      <td>1018.625277</td>\n",
       "      <td>1350.215235</td>\n",
       "      <td>1292.199658</td>\n",
       "      <td>1312.905774</td>\n",
       "      <td>1312.905774</td>\n",
       "      <td>5+2+1</td>\n",
       "    </tr>\n",
       "    <tr>\n",
       "      <th>40</th>\n",
       "      <td>87.5328</td>\n",
       "      <td>75.859991</td>\n",
       "      <td>74.621654</td>\n",
       "      <td>74.991458</td>\n",
       "      <td>74.991458</td>\n",
       "      <td>117.784643</td>\n",
       "      <td>118.103967</td>\n",
       "      <td>117.696091</td>\n",
       "      <td>117.696091</td>\n",
       "      <td>117.320809</td>\n",
       "      <td>...</td>\n",
       "      <td>71.869587</td>\n",
       "      <td>55.574163</td>\n",
       "      <td>55.578382</td>\n",
       "      <td>55.617609</td>\n",
       "      <td>55.617609</td>\n",
       "      <td>75.358951</td>\n",
       "      <td>74.828015</td>\n",
       "      <td>74.828015</td>\n",
       "      <td>74.828015</td>\n",
       "      <td>5+2+0</td>\n",
       "    </tr>\n",
       "    <tr>\n",
       "      <th>41</th>\n",
       "      <td>16.4768</td>\n",
       "      <td>12.241893</td>\n",
       "      <td>12.223434</td>\n",
       "      <td>12.236925</td>\n",
       "      <td>12.236925</td>\n",
       "      <td>25.862531</td>\n",
       "      <td>25.862987</td>\n",
       "      <td>25.861053</td>\n",
       "      <td>25.861053</td>\n",
       "      <td>27.101361</td>\n",
       "      <td>...</td>\n",
       "      <td>10.454604</td>\n",
       "      <td>9.976718</td>\n",
       "      <td>9.996274</td>\n",
       "      <td>9.994670</td>\n",
       "      <td>9.994670</td>\n",
       "      <td>12.021180</td>\n",
       "      <td>11.957510</td>\n",
       "      <td>11.959053</td>\n",
       "      <td>11.959053</td>\n",
       "      <td>5+2+0</td>\n",
       "    </tr>\n",
       "    <tr>\n",
       "      <th>57</th>\n",
       "      <td>65.3809</td>\n",
       "      <td>40.867141</td>\n",
       "      <td>40.704627</td>\n",
       "      <td>40.839241</td>\n",
       "      <td>40.839241</td>\n",
       "      <td>48.115638</td>\n",
       "      <td>48.386759</td>\n",
       "      <td>47.437805</td>\n",
       "      <td>47.437805</td>\n",
       "      <td>49.702924</td>\n",
       "      <td>...</td>\n",
       "      <td>22.427235</td>\n",
       "      <td>24.984873</td>\n",
       "      <td>24.179162</td>\n",
       "      <td>24.179162</td>\n",
       "      <td>24.179162</td>\n",
       "      <td>58.822680</td>\n",
       "      <td>58.772555</td>\n",
       "      <td>58.822680</td>\n",
       "      <td>58.822680</td>\n",
       "      <td>5+1+3</td>\n",
       "    </tr>\n",
       "  </tbody>\n",
       "</table>\n",
       "<p>5 rows × 98 columns</p>\n",
       "</div>"
      ],
      "text/plain": [
       "   baseline     log+IQ+0     log+IQ+1     log+IQ+2     log+IQ+3  \\\n",
       "38  170.329    82.377910    85.252785    82.377910    82.377910   \n",
       "39  1719.16  2772.542488  2790.098973  2774.445914  2802.622084   \n",
       "40  87.5328    75.859991    74.621654    74.991458    74.991458   \n",
       "41  16.4768    12.241893    12.223434    12.236925    12.236925   \n",
       "57  65.3809    40.867141    40.704627    40.839241    40.839241   \n",
       "\n",
       "    log+devetBani+0  log+devetBani+1  log+devetBani+2  log+devetBani+3  \\\n",
       "38       216.464739       214.675142       216.464739       216.464739   \n",
       "39      4058.290645      4068.420767      4065.743915      4065.743915   \n",
       "40       117.784643       118.103967       117.696091       117.696091   \n",
       "41        25.862531        25.862987        25.861053        25.861053   \n",
       "57        48.115638        48.386759        47.437805        47.437805   \n",
       "\n",
       "      log+STD+0  ...  nista+devetBani+3  nista+STD+0  nista+STD+1  \\\n",
       "38   233.169774  ...         109.304800    98.305255   100.107679   \n",
       "39  3129.004827  ...        1110.364831  1029.015398  1015.453238   \n",
       "40   117.320809  ...          71.869587    55.574163    55.578382   \n",
       "41    27.101361  ...          10.454604     9.976718     9.996274   \n",
       "57    49.702924  ...          22.427235    24.984873    24.179162   \n",
       "\n",
       "    nista+STD+2  nista+STD+3  nista+nista+0  nista+nista+1  nista+nista+2  \\\n",
       "38   101.257715   101.257715     106.862874     124.824772     111.544451   \n",
       "39  1018.625277  1018.625277    1350.215235    1292.199658    1312.905774   \n",
       "40    55.617609    55.617609      75.358951      74.828015      74.828015   \n",
       "41     9.994670     9.994670      12.021180      11.957510      11.959053   \n",
       "57    24.179162    24.179162      58.822680      58.772555      58.822680   \n",
       "\n",
       "    nista+nista+3    put  \n",
       "38     111.544451  3+0+1  \n",
       "39    1312.905774  5+2+1  \n",
       "40      74.828015  5+2+0  \n",
       "41      11.959053  5+2+0  \n",
       "57      58.822680  5+1+3  \n",
       "\n",
       "[5 rows x 98 columns]"
      ]
     },
     "execution_count": 31,
     "metadata": {},
     "output_type": "execute_result"
    }
   ],
   "source": [
    "test_df"
   ]
  },
  {
   "cell_type": "code",
   "execution_count": 32,
   "metadata": {},
   "outputs": [
    {
     "data": {
      "text/plain": [
       "38      65.816801\n",
       "39    1015.453238\n",
       "40      55.574163\n",
       "41       9.976718\n",
       "57      22.427235\n",
       "dtype: float64"
      ]
     },
     "execution_count": 32,
     "metadata": {},
     "output_type": "execute_result"
    }
   ],
   "source": [
    "test_df.min(axis=1)"
   ]
  },
  {
   "cell_type": "code",
   "execution_count": 21,
   "metadata": {},
   "outputs": [
    {
     "data": {
      "text/plain": [
       "['38: nista+STD+0',\n",
       " '39: nista+STD+1',\n",
       " '40: nista+STD+0',\n",
       " '41: nista+STD+0',\n",
       " '57: nista+devetBani+3']"
      ]
     },
     "execution_count": 21,
     "metadata": {},
     "output_type": "execute_result"
    }
   ],
   "source": [
    "nacin"
   ]
  },
  {
   "cell_type": "code",
   "execution_count": null,
   "metadata": {},
   "outputs": [],
   "source": []
  },
  {
   "cell_type": "code",
   "execution_count": 22,
   "metadata": {},
   "outputs": [],
   "source": [
    "#from sklearn.pipeline import Pipeline"
   ]
  },
  {
   "cell_type": "code",
   "execution_count": 23,
   "metadata": {},
   "outputs": [
    {
     "data": {
      "text/plain": [
       "\"pipeline_38 = Pipeline([('days',dayName()),('praznici',holiday()),('features', DFFeatureUnion([('numerics', Pipeline([\\n            ('extract', ColumnExtractor(NUM_FEATS)),\\n            ('zero_fill', ZeroFillTransformer())\\n            ])),('categoricals', Pipeline([('extract', ColumnExtractor(CAT_FEATS)),\\n                                           ('dummy', DummyTransformer())]))])),('classifier', LinearRegression())])\\n                        \\n\""
      ]
     },
     "execution_count": 23,
     "metadata": {},
     "output_type": "execute_result"
    }
   ],
   "source": [
    "\"\"\"pipeline_38 = Pipeline([('days',dayName()),('praznici',holiday()),('features', DFFeatureUnion([('numerics', Pipeline([\n",
    "            ('extract', ColumnExtractor(NUM_FEATS)),\n",
    "            ('zero_fill', ZeroFillTransformer())\n",
    "            ])),('categoricals', Pipeline([('extract', ColumnExtractor(CAT_FEATS)),\n",
    "                                           ('dummy', DummyTransformer())]))])),('classifier', LinearRegression())])\n",
    "                        \n",
    "\"\"\"                "
   ]
  },
  {
   "cell_type": "code",
   "execution_count": 24,
   "metadata": {},
   "outputs": [],
   "source": [
    "#tablica = pd.read_parquet(\"C:/Users/vvrhovec/Veronika/kodovi/zajednicki/parquet/item_X38.parquet\")"
   ]
  },
  {
   "cell_type": "code",
   "execution_count": 25,
   "metadata": {},
   "outputs": [],
   "source": [
    "#tablica = pipeline_38.fit_transform(tablica)"
   ]
  },
  {
   "cell_type": "code",
   "execution_count": null,
   "metadata": {},
   "outputs": [],
   "source": []
  },
  {
   "cell_type": "code",
   "execution_count": null,
   "metadata": {},
   "outputs": [],
   "source": [
    "c"
   ]
  }
 ],
 "metadata": {
  "kernelspec": {
   "display_name": "Python 3",
   "language": "python",
   "name": "python3"
  },
  "language_info": {
   "codemirror_mode": {
    "name": "ipython",
    "version": 3
   },
   "file_extension": ".py",
   "mimetype": "text/x-python",
   "name": "python",
   "nbconvert_exporter": "python",
   "pygments_lexer": "ipython3",
   "version": "3.7.3"
  }
 },
 "nbformat": 4,
 "nbformat_minor": 4
}
