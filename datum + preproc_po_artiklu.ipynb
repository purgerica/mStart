{
 "cells": [
  {
   "cell_type": "code",
   "execution_count": 1,
   "metadata": {},
   "outputs": [],
   "source": [
    "import numpy as np\n",
    "import pandas as pd\n",
    "import pyarrow.parquet as pq\n",
    "import seaborn as sns\n",
    "import matplotlib.pyplot as plt\n",
    "\n",
    "import sys\n",
    "\n",
    "from sklearn import datasets, linear_model\n",
    "from sklearn.model_selection import train_test_split\n",
    "from sklearn.preprocessing import StandardScaler\n",
    "\n",
    "import sklearn as sk\n",
    "from sklearn.metrics import mean_absolute_error, mean_squared_error, r2_score\n",
    "import statsmodels.api as sm"
   ]
  },
  {
   "cell_type": "code",
   "execution_count": 2,
   "metadata": {},
   "outputs": [],
   "source": [
    "#cijene = pd.read_parquet(\"C:/Users/vvrhovec/Veronika/mdevelop/data/parquet/cene.parquet\", columns=['art','datum','redna_cena','akcijska_cena'])\n",
    "#dostupnost = pd.read_parquet(\"C:/Users/vvrhovec/Veronika/mdevelop/data/parquet/availability.parquet\")\n",
    "#kolicina = pd.read_parquet(\"C:/Users/vvrhovec/Veronika/mdevelop/data/parquet/training/training.prodaja.parquet\", columns=['art','datum','kol'])\n",
    "#podaci_0 = pd.merge(cijene, dostupnost, on=['art','datum'], how='inner')\n",
    "#podaci_1 = pd.merge(podaci_0, kolicina, on=['art','datum'], how='inner')\n",
    "#podaci_1.describe()\n",
    "\n",
    "#brojac = 0\n",
    "\n",
    "#for art, new_df in podaci_1.groupby(level=0):\n",
    " #   if brojac == 5:\n",
    "  #      break\n",
    "   # if len(new_df.index) > 800:\n",
    "    #    brojac = brojac + 1\n",
    "     #   print(\"artikl:\", art, \"duljina:\", len(new_df.index))   \n",
    "        \n",
    "#podaci_2 = podaci_1.loc[[38,39,40,41,57]]\n",
    "#podaci_2.head(100)\n",
    "#finalna_tablica = podaci_2\n",
    "\n",
    "#podaci_2.sort_index(inplace=True)\n",
    "#dataParquet_s = podaci_2.to_parquet('dataParquet_s.parquet')\n",
    "\n",
    "#dataParquet_s = podaci.to_parquet('dataParquet.parquet')"
   ]
  },
  {
   "cell_type": "markdown",
   "metadata": {},
   "source": [
    "* provodimo isti algoritam kao u prvom kodu, ali ga provodimo na svakom artiklu zasebno."
   ]
  },
  {
   "cell_type": "code",
   "execution_count": 2,
   "metadata": {},
   "outputs": [
    {
     "name": "stderr",
     "output_type": "stream",
     "text": [
      "C:\\Users\\vvrhovec\\AppData\\Local\\Continuum\\miniconda3\\envs\\okolina\\lib\\site-packages\\pyarrow\\pandas_compat.py:708: FutureWarning: .labels was deprecated in version 0.24.0. Use .codes instead.\n",
      "  labels = getattr(columns, 'labels', None) or [\n",
      "C:\\Users\\vvrhovec\\AppData\\Local\\Continuum\\miniconda3\\envs\\okolina\\lib\\site-packages\\pyarrow\\pandas_compat.py:735: FutureWarning: the 'labels' keyword is deprecated, use 'codes' instead\n",
      "  return pd.MultiIndex(levels=new_levels, labels=labels, names=columns.names)\n",
      "C:\\Users\\vvrhovec\\AppData\\Local\\Continuum\\miniconda3\\envs\\okolina\\lib\\site-packages\\pyarrow\\pandas_compat.py:752: FutureWarning: .labels was deprecated in version 0.24.0. Use .codes instead.\n",
      "  labels, = index.labels\n"
     ]
    }
   ],
   "source": [
    "podaci_38 = pd.read_parquet(\"C:/Users/vvrhovec/Veronika/kodovi/podaci_art38.parquet\")\n",
    "podaci_39 = pd.read_parquet(\"C:/Users/vvrhovec/Veronika/kodovi/podaci_art39.parquet\")\n",
    "podaci_40 = pd.read_parquet(\"C:/Users/vvrhovec/Veronika/kodovi/podaci_art40.parquet\")\n",
    "podaci_41 = pd.read_parquet(\"C:/Users/vvrhovec/Veronika/kodovi/podaci_art41.parquet\")\n",
    "podaci_57 = pd.read_parquet(\"C:/Users/vvrhovec/Veronika/kodovi/podaci_art57.parquet\")"
   ]
  },
  {
   "cell_type": "code",
   "execution_count": 5,
   "metadata": {},
   "outputs": [],
   "source": [
    "#print(podaci_38)"
   ]
  },
  {
   "cell_type": "code",
   "execution_count": 6,
   "metadata": {},
   "outputs": [],
   "source": [
    "std_scaler = StandardScaler()"
   ]
  },
  {
   "cell_type": "markdown",
   "metadata": {},
   "source": [
    "## **artikl 38**"
   ]
  },
  {
   "cell_type": "markdown",
   "metadata": {},
   "source": [
    "### Odvajanje podataka u testni i trening set"
   ]
  },
  {
   "cell_type": "code",
   "execution_count": 7,
   "metadata": {},
   "outputs": [],
   "source": [
    "X_train_38 = podaci_38.loc[podaci_38.index.get_level_values('datum') <= '2018-01-01']\n",
    "X_test_38 = podaci_38.loc[podaci_38.index.get_level_values('datum') > '2018-01-01']\n",
    "y_train_38 = X_train_38['kol']\n",
    "y_test_38 = X_test_38['kol']"
   ]
  },
  {
   "cell_type": "code",
   "execution_count": 8,
   "metadata": {},
   "outputs": [
    {
     "name": "stdout",
     "output_type": "stream",
     "text": [
      "(685, 12) (685,)\n",
      "(130, 12) (130,)\n"
     ]
    }
   ],
   "source": [
    "print (X_train_38.shape, y_train_38.shape)\n",
    "print (X_test_38.shape, y_test_38.shape)"
   ]
  },
  {
   "cell_type": "markdown",
   "metadata": {},
   "source": [
    "### Preprocesiranje **TRAINING** podataka"
   ]
  },
  {
   "cell_type": "code",
   "execution_count": 9,
   "metadata": {},
   "outputs": [
    {
     "data": {
      "text/plain": [
       "StandardScaler(copy=True, with_mean=True, with_std=True)"
      ]
     },
     "execution_count": 9,
     "metadata": {},
     "output_type": "execute_result"
    }
   ],
   "source": [
    "std_scaler.fit(X_train_38)"
   ]
  },
  {
   "cell_type": "code",
   "execution_count": 10,
   "metadata": {},
   "outputs": [],
   "source": [
    "X_train_38_scaled = std_scaler.transform(X_train_38)"
   ]
  },
  {
   "cell_type": "markdown",
   "metadata": {},
   "source": [
    "### Fittamo model na podacima trening seta"
   ]
  },
  {
   "cell_type": "code",
   "execution_count": 11,
   "metadata": {},
   "outputs": [],
   "source": [
    "lm = linear_model.LinearRegression()\n",
    "model_38 = lm.fit(X_train_38_scaled, y_train_38)"
   ]
  },
  {
   "cell_type": "code",
   "execution_count": 12,
   "metadata": {},
   "outputs": [],
   "source": [
    "predictions_38 = model_38.predict(X_train_38_scaled)"
   ]
  },
  {
   "cell_type": "code",
   "execution_count": 13,
   "metadata": {},
   "outputs": [
    {
     "name": "stdout",
     "output_type": "stream",
     "text": [
      "[[ 0.16833315  0.16833315  0.69406834 ...  2.36358593 -0.40859588\n",
      "   1.54631469]\n",
      " [ 0.16833315  0.16833315  0.52084628 ... -0.42308595  2.44740596\n",
      "   1.54631469]\n",
      " [ 0.16833315  0.16833315  0.80954972 ... -0.42308595 -0.40859588\n",
      "  -0.6466989 ]\n",
      " ...\n",
      " [ 0.16833315  0.16833315 -1.3268557  ... -0.42308595 -0.40859588\n",
      "  -0.6466989 ]\n",
      " [ 0.16833315  0.16833315 -1.67329982 ...  2.36358593 -0.40859588\n",
      "   1.54631469]\n",
      " [ 0.16833315  0.16833315 -1.55781845 ... -0.42308595  2.44740596\n",
      "   1.54631469]]\n"
     ]
    }
   ],
   "source": [
    "print(X_train_38_scaled)"
   ]
  },
  {
   "cell_type": "code",
   "execution_count": 14,
   "metadata": {},
   "outputs": [
    {
     "data": {
      "text/plain": [
       "1.0"
      ]
     },
     "execution_count": 14,
     "metadata": {},
     "output_type": "execute_result"
    }
   ],
   "source": [
    "model_38.score(X_train_38_scaled, y_train_38)"
   ]
  },
  {
   "cell_type": "code",
   "execution_count": 15,
   "metadata": {},
   "outputs": [
    {
     "data": {
      "text/plain": [
       "7.167664677521595e-14"
      ]
     },
     "execution_count": 15,
     "metadata": {},
     "output_type": "execute_result"
    }
   ],
   "source": [
    "mae_train_38 = mean_absolute_error(y_train_38, predictions_38)  # mjera greške\n",
    "mae_train_38"
   ]
  },
  {
   "cell_type": "code",
   "execution_count": 16,
   "metadata": {},
   "outputs": [
    {
     "data": {
      "text/plain": [
       "9.799951079876823e-27"
      ]
     },
     "execution_count": 16,
     "metadata": {},
     "output_type": "execute_result"
    }
   ],
   "source": [
    "mse_train_38 = mean_squared_error(y_train_38, predictions_38)  # mjera greške\n",
    "mse_train_38"
   ]
  },
  {
   "cell_type": "markdown",
   "metadata": {},
   "source": [
    "### TEST "
   ]
  },
  {
   "cell_type": "code",
   "execution_count": 17,
   "metadata": {},
   "outputs": [],
   "source": [
    "X_test_38_scaled = std_scaler.transform(X_test_38)\n",
    "y_pred_38 = model_38.predict(X_test_38_scaled)"
   ]
  },
  {
   "cell_type": "code",
   "execution_count": 153,
   "metadata": {},
   "outputs": [
    {
     "data": {
      "text/plain": [
       "806.6825259826941"
      ]
     },
     "execution_count": 153,
     "metadata": {},
     "output_type": "execute_result"
    }
   ],
   "source": [
    "mae_test_38 = mean_absolute_error(y_test_38, y_pred_38)\n",
    "mae_test_38"
   ]
  },
  {
   "cell_type": "code",
   "execution_count": 154,
   "metadata": {},
   "outputs": [
    {
     "data": {
      "text/plain": [
       "9.799951079876823e-27"
      ]
     },
     "execution_count": 154,
     "metadata": {},
     "output_type": "execute_result"
    }
   ],
   "source": [
    "mse_test_38 = mean_squared_error(y_train_38, predictions_38)\n",
    "mse_test_38"
   ]
  },
  {
   "cell_type": "code",
   "execution_count": 155,
   "metadata": {},
   "outputs": [
    {
     "name": "stdout",
     "output_type": "stream",
     "text": [
      "nagib je:  [ 2.86473752e-01 -2.86473752e-01 -2.09832152e-14  1.55609936e+02\n",
      "  2.98660362e+00  2.92178211e+00  2.93496662e+00  3.01178129e+00\n",
      "  2.98660362e+00  1.05140659e+01  1.02588350e+01 -9.47076047e+00]\n",
      "odsječak je:  253.83211678832117\n",
      "<bound method BaseEstimator.get_params of LinearRegression(copy_X=True, fit_intercept=True, n_jobs=None, normalize=False)>\n"
     ]
    }
   ],
   "source": [
    "koeficijenti_38 = model_38.coef_\n",
    "print(\"nagib je: \",koeficijenti_38)\n",
    "\n",
    "odsjecak_38 = model_38.intercept_\n",
    "print(\"odsječak je: \",odsjecak_38)\n",
    "\n",
    "paramtetri_38 = model_38.get_params\n",
    "print(paramtetri_38)"
   ]
  },
  {
   "cell_type": "code",
   "execution_count": 156,
   "metadata": {},
   "outputs": [
    {
     "data": {
      "text/plain": [
       "array([769., 100., 305.,  79., 344.])"
      ]
     },
     "execution_count": 156,
     "metadata": {},
     "output_type": "execute_result"
    }
   ],
   "source": [
    "predictions_38[0:5] # prvih pet predviđenih vrijednosti"
   ]
  },
  {
   "cell_type": "code",
   "execution_count": 157,
   "metadata": {},
   "outputs": [
    {
     "data": {
      "text/plain": [
       "12"
      ]
     },
     "execution_count": 157,
     "metadata": {},
     "output_type": "execute_result"
    }
   ],
   "source": [
    "koeficijenti_38.size "
   ]
  },
  {
   "cell_type": "markdown",
   "metadata": {},
   "source": [
    "12 feature-a: <br> \n",
    "f((x1,...,x12)) = a1x1 +...+ a12x12 + b0"
   ]
  },
  {
   "cell_type": "code",
   "execution_count": 158,
   "metadata": {},
   "outputs": [
    {
     "data": {
      "text/plain": [
       "Text(0, 0.5, 'predviđene količine')"
      ]
     },
     "execution_count": 158,
     "metadata": {},
     "output_type": "execute_result"
    },
    {
     "data": {
      "image/png": "[encoded data removed]",
      "text/plain": [
       "<Figure size 432x288 with 1 Axes>"
      ]
     },
     "metadata": {
      "needs_background": "light"
     },
     "output_type": "display_data"
    }
   ],
   "source": [
    "plt.scatter(y_test_38, y_pred_38)\n",
    "plt.title(\"artikl 38\")\n",
    "plt.xlabel(\"stvarne količine\")\n",
    "plt.ylabel(\"predviđene količine\")"
   ]
  },
  {
   "cell_type": "code",
   "execution_count": 159,
   "metadata": {},
   "outputs": [
    {
     "name": "stdout",
     "output_type": "stream",
     "text": [
      "art  datum     \n",
      "38   2018-01-02    307.0\n",
      "     2018-01-03    118.0\n",
      "     2018-01-04    223.0\n",
      "     2018-01-06    429.0\n",
      "     2018-01-07     80.0\n",
      "     2018-01-08    134.0\n",
      "     2018-01-09     67.0\n",
      "     2018-01-10    260.0\n",
      "     2018-01-11    311.0\n",
      "     2018-01-12    273.0\n",
      "Name: kol, dtype: float64\n"
     ]
    }
   ],
   "source": [
    "print(X_test_38['kol'].head(10))"
   ]
  },
  {
   "cell_type": "code",
   "execution_count": 160,
   "metadata": {},
   "outputs": [
    {
     "name": "stdout",
     "output_type": "stream",
     "text": [
      "[1277.4775218   498.45098054  931.27168738 1780.79344032  341.82027054\n",
      "  564.53529349  288.42766087 1083.63881492 1293.92330306 1137.25265141]\n"
     ]
    }
   ],
   "source": [
    "print(y_pred_38[:10])"
   ]
  },
  {
   "cell_type": "code",
   "execution_count": 161,
   "metadata": {},
   "outputs": [
    {
     "name": "stdout",
     "output_type": "stream",
     "text": [
      "art  datum     \n",
      "38   2018-01-02    307.0\n",
      "     2018-01-03    118.0\n",
      "     2018-01-04    223.0\n",
      "     2018-01-06    429.0\n",
      "     2018-01-07     80.0\n",
      "     2018-01-08    134.0\n",
      "     2018-01-09     67.0\n",
      "     2018-01-10    260.0\n",
      "     2018-01-11    311.0\n",
      "     2018-01-12    273.0\n",
      "Name: kol, dtype: float64\n"
     ]
    }
   ],
   "source": [
    "print(y_test_38[:10])"
   ]
  },
  {
   "cell_type": "code",
   "execution_count": 162,
   "metadata": {},
   "outputs": [
    {
     "data": {
      "text/plain": [
       "-0.9999984732427507"
      ]
     },
     "execution_count": 162,
     "metadata": {},
     "output_type": "execute_result"
    }
   ],
   "source": [
    "r2_score(y_pred_38,y_test_38)"
   ]
  },
  {
   "cell_type": "code",
   "execution_count": null,
   "metadata": {},
   "outputs": [],
   "source": []
  },
  {
   "cell_type": "code",
   "execution_count": null,
   "metadata": {},
   "outputs": [],
   "source": []
  },
  {
   "cell_type": "code",
   "execution_count": null,
   "metadata": {},
   "outputs": [],
   "source": []
  },
  {
   "cell_type": "code",
   "execution_count": null,
   "metadata": {},
   "outputs": [],
   "source": []
  },
  {
   "cell_type": "markdown",
   "metadata": {},
   "source": [
    "## **artikl 39**"
   ]
  },
  {
   "cell_type": "markdown",
   "metadata": {},
   "source": [
    "### Odvajanje podataka u testni i trening set"
   ]
  },
  {
   "cell_type": "code",
   "execution_count": 45,
   "metadata": {},
   "outputs": [],
   "source": [
    "X_train_39 = podaci_39.loc[podaci_39.index.get_level_values('datum') <= '2018-01-01']\n",
    "X_test_39 = podaci_39.loc[podaci_39.index.get_level_values('datum') > '2018-01-01']\n",
    "y_train_39 = X_train_39['kol']\n",
    "y_test_39 = X_test_39['kol']"
   ]
  },
  {
   "cell_type": "code",
   "execution_count": 46,
   "metadata": {},
   "outputs": [
    {
     "name": "stdout",
     "output_type": "stream",
     "text": [
      "(724, 12) (724,)\n",
      "(145, 12) (145,)\n"
     ]
    }
   ],
   "source": [
    "print (X_train_39.shape, y_train_39.shape)\n",
    "print (X_test_39.shape, y_test_39.shape)"
   ]
  },
  {
   "cell_type": "markdown",
   "metadata": {},
   "source": [
    "### Preprocesiranje **TRAINING** podataka"
   ]
  },
  {
   "cell_type": "code",
   "execution_count": 47,
   "metadata": {},
   "outputs": [
    {
     "data": {
      "text/plain": [
       "StandardScaler(copy=True, with_mean=True, with_std=True)"
      ]
     },
     "execution_count": 47,
     "metadata": {},
     "output_type": "execute_result"
    }
   ],
   "source": [
    "std_scaler.fit(X_train_39)"
   ]
  },
  {
   "cell_type": "code",
   "execution_count": 48,
   "metadata": {},
   "outputs": [],
   "source": [
    "X_train_39_scaled = std_scaler.transform(X_train_39)"
   ]
  },
  {
   "cell_type": "markdown",
   "metadata": {},
   "source": [
    "### Fittamo model na podacima trening seta"
   ]
  },
  {
   "cell_type": "code",
   "execution_count": 49,
   "metadata": {},
   "outputs": [],
   "source": [
    "lm = linear_model.LinearRegression()\n",
    "model_39 = lm.fit(X_train_39_scaled, y_train_39)"
   ]
  },
  {
   "cell_type": "code",
   "execution_count": 50,
   "metadata": {},
   "outputs": [],
   "source": [
    "predictions_39 = model_39.predict(X_train_39_scaled)"
   ]
  },
  {
   "cell_type": "code",
   "execution_count": 51,
   "metadata": {},
   "outputs": [
    {
     "name": "stdout",
     "output_type": "stream",
     "text": [
      "[[ 0.0371904   0.0371904   1.04877196 ...  2.42801114 -0.40263976\n",
      "   1.5857374 ]\n",
      " [ 0.0371904   0.0371904  -0.38080746 ... -0.41185972  2.48360964\n",
      "   1.5857374 ]\n",
      " [ 0.0371904   0.0371904   0.43609507 ... -0.41185972 -0.40263976\n",
      "  -0.63062144]\n",
      " ...\n",
      " [ 0.0371904   0.0371904   0.43609507 ... -0.41185972 -0.40263976\n",
      "  -0.63062144]\n",
      " [ 0.0371904   0.0371904   0.0276438  ...  2.42801114 -0.40263976\n",
      "   1.5857374 ]\n",
      " [ 0.0371904   0.0371904  -1.81038689 ... -0.41185972  2.48360964\n",
      "   1.5857374 ]]\n"
     ]
    }
   ],
   "source": [
    "print(X_train_39_scaled)"
   ]
  },
  {
   "cell_type": "code",
   "execution_count": 52,
   "metadata": {},
   "outputs": [
    {
     "data": {
      "text/plain": [
       "1.0"
      ]
     },
     "execution_count": 52,
     "metadata": {},
     "output_type": "execute_result"
    }
   ],
   "source": [
    "model_39.score(X_train_39_scaled, y_train_39)"
   ]
  },
  {
   "cell_type": "code",
   "execution_count": 53,
   "metadata": {},
   "outputs": [
    {
     "data": {
      "text/plain": [
       "1.4276805643162056e-12"
      ]
     },
     "execution_count": 53,
     "metadata": {},
     "output_type": "execute_result"
    }
   ],
   "source": [
    "mae_39 = mean_absolute_error(y_train_39, predictions_39)  # mjera greške\n",
    "mae_39"
   ]
  },
  {
   "cell_type": "code",
   "execution_count": 54,
   "metadata": {},
   "outputs": [
    {
     "data": {
      "text/plain": [
       "3.445967023531078e-24"
      ]
     },
     "execution_count": 54,
     "metadata": {},
     "output_type": "execute_result"
    }
   ],
   "source": [
    "mse_39 = mean_squared_error(y_train_39, predictions_39)  # mjera greške\n",
    "mse_39"
   ]
  },
  {
   "cell_type": "markdown",
   "metadata": {},
   "source": [
    "### TEST "
   ]
  },
  {
   "cell_type": "code",
   "execution_count": 55,
   "metadata": {},
   "outputs": [],
   "source": [
    "X_test_39_scaled = std_scaler.transform(X_test_39)\n",
    "y_pred_39 = model_39.predict(X_test_39_scaled)"
   ]
  },
  {
   "cell_type": "code",
   "execution_count": 56,
   "metadata": {},
   "outputs": [
    {
     "data": {
      "text/plain": [
       "1.4081486934346373e-12"
      ]
     },
     "execution_count": 56,
     "metadata": {},
     "output_type": "execute_result"
    }
   ],
   "source": [
    "mae_39 = mean_absolute_error(y_test_39, y_pred_39)\n",
    "mae_39"
   ]
  },
  {
   "cell_type": "code",
   "execution_count": 57,
   "metadata": {},
   "outputs": [
    {
     "data": {
      "text/plain": [
       "3.445967023531078e-24"
      ]
     },
     "execution_count": 57,
     "metadata": {},
     "output_type": "execute_result"
    }
   ],
   "source": [
    "mse_39 = mean_squared_error(y_train_39, predictions_39)\n",
    "mse_39"
   ]
  },
  {
   "cell_type": "code",
   "execution_count": 58,
   "metadata": {},
   "outputs": [
    {
     "name": "stdout",
     "output_type": "stream",
     "text": [
      "[-1.34104274e+02  1.34104274e+02 -4.08562073e-14  1.85174137e+03\n",
      " -3.69970125e+02 -3.71462313e+02 -3.69970125e+02 -3.71462313e+02\n",
      " -3.71462313e+02  4.59226248e+02  4.51847037e+02 -1.06627707e+03]\n",
      "3457.011049723757\n",
      "<bound method BaseEstimator.get_params of LinearRegression(copy_X=True, fit_intercept=True, n_jobs=None, normalize=False)>\n"
     ]
    }
   ],
   "source": [
    "koeficijenti_39 = model_39.coef_\n",
    "print(koeficijenti_39)\n",
    "\n",
    "odsjecak_39 = model_39.intercept_\n",
    "print(odsjecak_39)\n",
    "\n",
    "paramtetri_39 = model_39.get_params\n",
    "print(paramtetri_39)"
   ]
  },
  {
   "cell_type": "code",
   "execution_count": 59,
   "metadata": {},
   "outputs": [
    {
     "data": {
      "text/plain": [
       "array([2149., 1155., 1190.,  902., 3220.])"
      ]
     },
     "execution_count": 59,
     "metadata": {},
     "output_type": "execute_result"
    }
   ],
   "source": [
    "predictions_39[0:5] # prvih pet predviđenih vrijednosti"
   ]
  },
  {
   "cell_type": "code",
   "execution_count": 60,
   "metadata": {},
   "outputs": [
    {
     "data": {
      "text/plain": [
       "Text(0, 0.5, 'predviđene količine')"
      ]
     },
     "execution_count": 60,
     "metadata": {},
     "output_type": "execute_result"
    },
    {
     "data": {
      "image/png": "[encoded data removed]",
      "text/plain": [
       "<Figure size 432x288 with 1 Axes>"
      ]
     },
     "metadata": {
      "needs_background": "light"
     },
     "output_type": "display_data"
    }
   ],
   "source": [
    "plt.plot(y_test_39, y_pred_39)\n",
    "plt.title(\"artikl 39\")\n",
    "plt.xlabel(\"stvarne količine\")\n",
    "plt.ylabel(\"predviđene količine\")"
   ]
  },
  {
   "cell_type": "code",
   "execution_count": 61,
   "metadata": {},
   "outputs": [],
   "source": [
    "#print(X_test_39['kol'].head(10))"
   ]
  },
  {
   "cell_type": "code",
   "execution_count": 62,
   "metadata": {},
   "outputs": [
    {
     "name": "stdout",
     "output_type": "stream",
     "text": [
      "[2033. 2777. 3817. 2417. 3414. 1653. 1729. 1254. 5149. 4036.]\n"
     ]
    }
   ],
   "source": [
    "print(y_pred_39[:10])"
   ]
  },
  {
   "cell_type": "code",
   "execution_count": 63,
   "metadata": {},
   "outputs": [
    {
     "name": "stdout",
     "output_type": "stream",
     "text": [
      "art  datum     \n",
      "39   2018-01-02    2033.0\n",
      "     2018-01-03    2777.0\n",
      "     2018-01-04    3817.0\n",
      "     2018-01-05    2417.0\n",
      "     2018-01-06    3414.0\n",
      "     2018-01-07    1653.0\n",
      "     2018-01-08    1729.0\n",
      "     2018-01-09    1254.0\n",
      "     2018-01-10    5149.0\n",
      "     2018-01-11    4036.0\n",
      "Name: kol, dtype: float64\n"
     ]
    }
   ],
   "source": [
    "print(y_test_39[:10])"
   ]
  },
  {
   "cell_type": "code",
   "execution_count": null,
   "metadata": {},
   "outputs": [],
   "source": []
  },
  {
   "cell_type": "markdown",
   "metadata": {},
   "source": [
    "## **artikl 40**"
   ]
  },
  {
   "cell_type": "markdown",
   "metadata": {},
   "source": [
    "### Odvajanje podataka u testni i trening set"
   ]
  },
  {
   "cell_type": "code",
   "execution_count": 65,
   "metadata": {},
   "outputs": [],
   "source": [
    "X_train_40 = podaci_40.loc[podaci_40.index.get_level_values('datum') <= '2018-01-01']\n",
    "X_test_40 = podaci_40.loc[podaci_40.index.get_level_values('datum') > '2018-01-01']\n",
    "y_train_40 = X_train_40['kol']\n",
    "y_test_40 = X_test_40['kol']"
   ]
  },
  {
   "cell_type": "code",
   "execution_count": 66,
   "metadata": {},
   "outputs": [
    {
     "name": "stdout",
     "output_type": "stream",
     "text": [
      "(724, 12) (724,)\n",
      "(145, 12) (145,)\n"
     ]
    }
   ],
   "source": [
    "print (X_train_40.shape, y_train_40.shape)\n",
    "print (X_test_40.shape, y_test_40.shape)"
   ]
  },
  {
   "cell_type": "markdown",
   "metadata": {},
   "source": [
    "### Preprocesiranje **TRAINING** podataka"
   ]
  },
  {
   "cell_type": "code",
   "execution_count": 67,
   "metadata": {},
   "outputs": [
    {
     "data": {
      "text/plain": [
       "StandardScaler(copy=True, with_mean=True, with_std=True)"
      ]
     },
     "execution_count": 67,
     "metadata": {},
     "output_type": "execute_result"
    }
   ],
   "source": [
    "std_scaler.fit(X_train_40)"
   ]
  },
  {
   "cell_type": "code",
   "execution_count": 68,
   "metadata": {},
   "outputs": [],
   "source": [
    "X_train_40_scaled = std_scaler.transform(X_train_40)"
   ]
  },
  {
   "cell_type": "markdown",
   "metadata": {},
   "source": [
    "### Fittamo model na podacima trening seta"
   ]
  },
  {
   "cell_type": "code",
   "execution_count": 69,
   "metadata": {},
   "outputs": [],
   "source": [
    "lm = linear_model.LinearRegression()\n",
    "model_40 = lm.fit(X_train_40_scaled, y_train_40)"
   ]
  },
  {
   "cell_type": "code",
   "execution_count": 70,
   "metadata": {},
   "outputs": [],
   "source": [
    "predictions_40 = model_40.predict(X_train_40_scaled)"
   ]
  },
  {
   "cell_type": "code",
   "execution_count": 71,
   "metadata": {},
   "outputs": [
    {
     "name": "stdout",
     "output_type": "stream",
     "text": [
      "[[ 0.1740977   0.59146837  2.02475236 ...  2.42801114 -0.40263976\n",
      "   1.5857374 ]\n",
      " [ 0.1740977   0.75135982  2.02475236 ... -0.41185972  2.48360964\n",
      "   1.5857374 ]\n",
      " [ 0.1740977   0.61671458  2.00821519 ... -0.41185972 -0.40263976\n",
      "  -0.63062144]\n",
      " ...\n",
      " [ 0.1740977   0.75135982 -0.50543432 ... -0.41185972 -0.40263976\n",
      "  -0.63062144]\n",
      " [ 0.19894885  0.75977505 -0.52197149 ...  2.42801114 -0.40263976\n",
      "   1.5857374 ]\n",
      " [ 0.1740977   0.75135982 -0.53850866 ... -0.41185972  2.48360964\n",
      "   1.5857374 ]]\n"
     ]
    }
   ],
   "source": [
    "print(X_train_40_scaled)"
   ]
  },
  {
   "cell_type": "code",
   "execution_count": 72,
   "metadata": {},
   "outputs": [
    {
     "data": {
      "text/plain": [
       "1.0"
      ]
     },
     "execution_count": 72,
     "metadata": {},
     "output_type": "execute_result"
    }
   ],
   "source": [
    "model_40.score(X_train_40_scaled, y_train_40)"
   ]
  },
  {
   "cell_type": "code",
   "execution_count": 73,
   "metadata": {},
   "outputs": [
    {
     "data": {
      "text/plain": [
       "6.759970115905484e-14"
      ]
     },
     "execution_count": 73,
     "metadata": {},
     "output_type": "execute_result"
    }
   ],
   "source": [
    "mae_40 = mean_absolute_error(y_train_40, predictions_40)  # mjera greške\n",
    "mae_40"
   ]
  },
  {
   "cell_type": "code",
   "execution_count": 74,
   "metadata": {},
   "outputs": [
    {
     "data": {
      "text/plain": [
       "7.189809040610581e-27"
      ]
     },
     "execution_count": 74,
     "metadata": {},
     "output_type": "execute_result"
    }
   ],
   "source": [
    "mse_40 = mean_squared_error(y_train_40, predictions_40)  # mjera greške\n",
    "mse_40"
   ]
  },
  {
   "cell_type": "markdown",
   "metadata": {},
   "source": [
    "### TEST "
   ]
  },
  {
   "cell_type": "code",
   "execution_count": 75,
   "metadata": {},
   "outputs": [],
   "source": [
    "X_test_40_scaled = std_scaler.transform(X_test_40)\n",
    "y_pred_40 = model_40.predict(X_test_40_scaled)"
   ]
  },
  {
   "cell_type": "code",
   "execution_count": 76,
   "metadata": {},
   "outputs": [
    {
     "data": {
      "text/plain": [
       "6.536993168992921e-14"
      ]
     },
     "execution_count": 76,
     "metadata": {},
     "output_type": "execute_result"
    }
   ],
   "source": [
    "mae_40 = mean_absolute_error(y_test_40, y_pred_40)\n",
    "mae_40"
   ]
  },
  {
   "cell_type": "code",
   "execution_count": 77,
   "metadata": {},
   "outputs": [
    {
     "data": {
      "text/plain": [
       "7.189809040610581e-27"
      ]
     },
     "execution_count": 77,
     "metadata": {},
     "output_type": "execute_result"
    }
   ],
   "source": [
    "mse_40 = mean_squared_error(y_train_40, predictions_40)\n",
    "mse_40"
   ]
  },
  {
   "cell_type": "code",
   "execution_count": 78,
   "metadata": {},
   "outputs": [
    {
     "name": "stdout",
     "output_type": "stream",
     "text": [
      "[-2.50733807e-14  5.68434189e-14  3.24185123e-14  1.21439049e+02\n",
      "  1.23988825e+00  1.24488905e+00  1.23988825e+00  1.24488905e+00\n",
      "  1.24488905e+00 -4.28277087e-01 -4.21395193e-01  2.15022309e+00]\n",
      "165.02624309392266\n",
      "<bound method BaseEstimator.get_params of LinearRegression(copy_X=True, fit_intercept=True, n_jobs=None, normalize=False)>\n"
     ]
    }
   ],
   "source": [
    "koeficijenti_40 = model_40.coef_\n",
    "print(koeficijenti_40)\n",
    "\n",
    "odsjecak_40 = model_40.intercept_\n",
    "print(odsjecak_40)\n",
    "\n",
    "paramtetri_40 = model_40.get_params\n",
    "print(paramtetri_40)"
   ]
  },
  {
   "cell_type": "code",
   "execution_count": 79,
   "metadata": {},
   "outputs": [
    {
     "data": {
      "text/plain": [
       "array([ 83.,  37., 137., 167., 187.])"
      ]
     },
     "execution_count": 79,
     "metadata": {},
     "output_type": "execute_result"
    }
   ],
   "source": [
    "predictions_40[0:5] # prvih pet predviđenih vrijednosti"
   ]
  },
  {
   "cell_type": "code",
   "execution_count": 80,
   "metadata": {},
   "outputs": [
    {
     "data": {
      "text/plain": [
       "Text(0, 0.5, 'predviđene količine')"
      ]
     },
     "execution_count": 80,
     "metadata": {},
     "output_type": "execute_result"
    },
    {
     "data": {
      "image/png": "[encoded data removed]",
      "text/plain": [
       "<Figure size 432x288 with 1 Axes>"
      ]
     },
     "metadata": {
      "needs_background": "light"
     },
     "output_type": "display_data"
    }
   ],
   "source": [
    "plt.plot(y_test_40, y_pred_40)\n",
    "plt.title(\"artikl 40\")\n",
    "plt.xlabel(\"stvarne količine\")\n",
    "plt.ylabel(\"predviđene količine\")"
   ]
  },
  {
   "cell_type": "code",
   "execution_count": 81,
   "metadata": {},
   "outputs": [],
   "source": [
    "#print(X_test_40['kol'].head(10))"
   ]
  },
  {
   "cell_type": "code",
   "execution_count": 82,
   "metadata": {},
   "outputs": [
    {
     "name": "stdout",
     "output_type": "stream",
     "text": [
      "[ 30.  76. 103. 138. 120.  41.  87.  54.  86.  85.]\n"
     ]
    }
   ],
   "source": [
    "print(y_pred_40[:10])"
   ]
  },
  {
   "cell_type": "code",
   "execution_count": 83,
   "metadata": {},
   "outputs": [
    {
     "name": "stdout",
     "output_type": "stream",
     "text": [
      "art  datum     \n",
      "40   2018-01-02     30.0\n",
      "     2018-01-03     76.0\n",
      "     2018-01-04    103.0\n",
      "     2018-01-05    138.0\n",
      "     2018-01-06    120.0\n",
      "     2018-01-07     41.0\n",
      "     2018-01-08     87.0\n",
      "     2018-01-09     54.0\n",
      "     2018-01-10     86.0\n",
      "     2018-01-11     85.0\n",
      "Name: kol, dtype: float64\n"
     ]
    }
   ],
   "source": [
    "print(y_test_40[:10])"
   ]
  },
  {
   "cell_type": "code",
   "execution_count": null,
   "metadata": {},
   "outputs": [],
   "source": []
  },
  {
   "cell_type": "markdown",
   "metadata": {},
   "source": [
    "## **artikl 41**"
   ]
  },
  {
   "cell_type": "markdown",
   "metadata": {},
   "source": [
    "### Odvajanje podataka u testni i trening set"
   ]
  },
  {
   "cell_type": "code",
   "execution_count": 84,
   "metadata": {},
   "outputs": [],
   "source": [
    "X_train_41 = podaci_41.loc[podaci_41.index.get_level_values('datum') <= '2018-01-01']\n",
    "X_test_41 = podaci_41.loc[podaci_41.index.get_level_values('datum') > '2018-01-01']\n",
    "y_train_41 = X_train_41['kol']\n",
    "y_test_41 = X_test_41['kol']"
   ]
  },
  {
   "cell_type": "code",
   "execution_count": 85,
   "metadata": {},
   "outputs": [
    {
     "name": "stdout",
     "output_type": "stream",
     "text": [
      "(722, 12) (722,)\n",
      "(145, 12) (145,)\n"
     ]
    }
   ],
   "source": [
    "print (X_train_41.shape, y_train_41.shape)\n",
    "print (X_test_41.shape, y_test_41.shape)"
   ]
  },
  {
   "cell_type": "markdown",
   "metadata": {},
   "source": [
    "### Preprocesiranje **TRAINING** podataka"
   ]
  },
  {
   "cell_type": "code",
   "execution_count": 86,
   "metadata": {},
   "outputs": [
    {
     "data": {
      "text/plain": [
       "StandardScaler(copy=True, with_mean=True, with_std=True)"
      ]
     },
     "execution_count": 86,
     "metadata": {},
     "output_type": "execute_result"
    }
   ],
   "source": [
    "std_scaler.fit(X_train_41)"
   ]
  },
  {
   "cell_type": "code",
   "execution_count": 87,
   "metadata": {},
   "outputs": [],
   "source": [
    "X_train_41_scaled = std_scaler.transform(X_train_41)"
   ]
  },
  {
   "cell_type": "markdown",
   "metadata": {},
   "source": [
    "### Fittamo model na podacima trening seta"
   ]
  },
  {
   "cell_type": "code",
   "execution_count": 88,
   "metadata": {},
   "outputs": [],
   "source": [
    "lm = linear_model.LinearRegression()\n",
    "model_41 = lm.fit(X_train_41_scaled, y_train_41)"
   ]
  },
  {
   "cell_type": "code",
   "execution_count": 89,
   "metadata": {},
   "outputs": [],
   "source": [
    "predictions_41 = model_41.predict(X_train_41_scaled)"
   ]
  },
  {
   "cell_type": "code",
   "execution_count": 90,
   "metadata": {},
   "outputs": [
    {
     "name": "stdout",
     "output_type": "stream",
     "text": [
      "[[ 1.29931607  0.21128125  1.53900661 ...  2.42408549 -0.40096347\n",
      "   1.58806524]\n",
      " [-2.09977801  0.1829984   1.53900661 ... -0.4125267   2.49399278\n",
      "   1.58806524]\n",
      " [-0.40012967  0.19714067  1.4712755  ... -0.4125267  -0.40096347\n",
      "  -0.62969705]\n",
      " ...\n",
      " [ 1.29931607  0.21128125 -1.13637235 ... -0.4125267  -0.40096347\n",
      "  -0.62969705]\n",
      " [-0.40012967  0.19714067 -1.13637235 ...  2.42408549 -0.40096347\n",
      "   1.58806524]\n",
      " [-0.40012967  0.19714067 -1.13637235 ... -0.4125267   2.49399278\n",
      "   1.58806524]]\n"
     ]
    }
   ],
   "source": [
    "print(X_train_41_scaled)"
   ]
  },
  {
   "cell_type": "code",
   "execution_count": 91,
   "metadata": {},
   "outputs": [
    {
     "data": {
      "text/plain": [
       "1.0"
      ]
     },
     "execution_count": 91,
     "metadata": {},
     "output_type": "execute_result"
    }
   ],
   "source": [
    "model_41.score(X_train_41_scaled, y_train_41)"
   ]
  },
  {
   "cell_type": "code",
   "execution_count": 92,
   "metadata": {},
   "outputs": [
    {
     "data": {
      "text/plain": [
       "1.943905178407393e-14"
      ]
     },
     "execution_count": 92,
     "metadata": {},
     "output_type": "execute_result"
    }
   ],
   "source": [
    "mae_41 = mean_absolute_error(y_train_41, predictions_41)  # mjera greške\n",
    "mae_41"
   ]
  },
  {
   "cell_type": "code",
   "execution_count": 93,
   "metadata": {},
   "outputs": [
    {
     "data": {
      "text/plain": [
       "6.080434967350898e-28"
      ]
     },
     "execution_count": 93,
     "metadata": {},
     "output_type": "execute_result"
    }
   ],
   "source": [
    "mse_41 = mean_squared_error(y_train_41, predictions_41)  # mjera greške\n",
    "mse_41"
   ]
  },
  {
   "cell_type": "markdown",
   "metadata": {},
   "source": [
    "### TEST "
   ]
  },
  {
   "cell_type": "code",
   "execution_count": 94,
   "metadata": {},
   "outputs": [],
   "source": [
    "X_test_41_scaled = std_scaler.transform(X_test_41)\n",
    "y_pred_41 = model_41.predict(X_test_41_scaled)"
   ]
  },
  {
   "cell_type": "code",
   "execution_count": 95,
   "metadata": {},
   "outputs": [
    {
     "data": {
      "text/plain": [
       "1.5864704186367755e-14"
      ]
     },
     "execution_count": 95,
     "metadata": {},
     "output_type": "execute_result"
    }
   ],
   "source": [
    "mae_41 = mean_absolute_error(y_test_41, y_pred_41)\n",
    "mae_41"
   ]
  },
  {
   "cell_type": "code",
   "execution_count": 96,
   "metadata": {},
   "outputs": [
    {
     "data": {
      "text/plain": [
       "6.080434967350898e-28"
      ]
     },
     "execution_count": 96,
     "metadata": {},
     "output_type": "execute_result"
    }
   ],
   "source": [
    "mse_41 = mean_squared_error(y_train_41, predictions_41)\n",
    "mse_41"
   ]
  },
  {
   "cell_type": "code",
   "execution_count": 97,
   "metadata": {},
   "outputs": [
    {
     "name": "stdout",
     "output_type": "stream",
     "text": [
      "[-1.34104274e+02  1.34104274e+02 -4.08562073e-14  1.85174137e+03\n",
      " -3.69970125e+02 -3.71462313e+02 -3.69970125e+02 -3.71462313e+02\n",
      " -3.71462313e+02  4.59226248e+02  4.51847037e+02 -1.06627707e+03]\n",
      "3457.011049723757\n",
      "<bound method BaseEstimator.get_params of LinearRegression(copy_X=True, fit_intercept=True, n_jobs=None, normalize=False)>\n"
     ]
    }
   ],
   "source": [
    "koeficijenti_41 = model_41.coef_\n",
    "print(koeficijenti_39)\n",
    "\n",
    "odsjecak_41 = model_41.intercept_\n",
    "print(odsjecak_39)\n",
    "\n",
    "paramtetri_41 = model_41.get_params\n",
    "print(paramtetri_39)"
   ]
  },
  {
   "cell_type": "code",
   "execution_count": 98,
   "metadata": {},
   "outputs": [
    {
     "data": {
      "text/plain": [
       "array([18., 19., 25., 21., 20.])"
      ]
     },
     "execution_count": 98,
     "metadata": {},
     "output_type": "execute_result"
    }
   ],
   "source": [
    "predictions_41[0:5] # prvih pet predviđenih vrijednosti"
   ]
  },
  {
   "cell_type": "code",
   "execution_count": 99,
   "metadata": {},
   "outputs": [
    {
     "data": {
      "text/plain": [
       "Text(0, 0.5, 'predviđene količine')"
      ]
     },
     "execution_count": 99,
     "metadata": {},
     "output_type": "execute_result"
    },
    {
     "data": {
      "image/png": "[encoded data removed]",
      "text/plain": [
       "<Figure size 432x288 with 1 Axes>"
      ]
     },
     "metadata": {
      "needs_background": "light"
     },
     "output_type": "display_data"
    }
   ],
   "source": [
    "plt.plot(y_test_41, y_pred_41)\n",
    "plt.title(\"artikl 41\")\n",
    "plt.xlabel(\"stvarne količine\")\n",
    "plt.ylabel(\"predviđene količine\")"
   ]
  },
  {
   "cell_type": "code",
   "execution_count": 100,
   "metadata": {},
   "outputs": [],
   "source": [
    "#print(X_test_41['kol'].head(10))"
   ]
  },
  {
   "cell_type": "code",
   "execution_count": 101,
   "metadata": {},
   "outputs": [
    {
     "name": "stdout",
     "output_type": "stream",
     "text": [
      "[ 9. 30. 31. 22. 26.  6. 21. 15. 15. 37.]\n"
     ]
    }
   ],
   "source": [
    "print(y_pred_41[:10])"
   ]
  },
  {
   "cell_type": "code",
   "execution_count": 102,
   "metadata": {},
   "outputs": [
    {
     "name": "stdout",
     "output_type": "stream",
     "text": [
      "art  datum     \n",
      "41   2018-01-02     9.0\n",
      "     2018-01-03    30.0\n",
      "     2018-01-04    31.0\n",
      "     2018-01-05    22.0\n",
      "     2018-01-06    26.0\n",
      "     2018-01-07     6.0\n",
      "     2018-01-08    21.0\n",
      "     2018-01-09    15.0\n",
      "     2018-01-10    15.0\n",
      "     2018-01-11    37.0\n",
      "Name: kol, dtype: float64\n"
     ]
    }
   ],
   "source": [
    "print(y_test_41[:10])"
   ]
  },
  {
   "cell_type": "code",
   "execution_count": null,
   "metadata": {},
   "outputs": [],
   "source": []
  },
  {
   "cell_type": "markdown",
   "metadata": {},
   "source": [
    "## **artikl 57**"
   ]
  },
  {
   "cell_type": "markdown",
   "metadata": {},
   "source": [
    "### Odvajanje podataka u testni i trening set"
   ]
  },
  {
   "cell_type": "code",
   "execution_count": 103,
   "metadata": {},
   "outputs": [],
   "source": [
    "X_train_57 = podaci_57.loc[podaci_57.index.get_level_values('datum') <= '2018-01-01']\n",
    "X_test_57 = podaci_57.loc[podaci_57.index.get_level_values('datum') > '2018-01-01']\n",
    "y_train_57 = X_train_57['kol']\n",
    "y_test_57 = X_test_57['kol']"
   ]
  },
  {
   "cell_type": "code",
   "execution_count": 104,
   "metadata": {},
   "outputs": [
    {
     "name": "stdout",
     "output_type": "stream",
     "text": [
      "(680, 12) (680,)\n",
      "(121, 12) (121,)\n"
     ]
    }
   ],
   "source": [
    "print (X_train_57.shape, y_train_57.shape)\n",
    "print (X_test_57.shape, y_test_57.shape)"
   ]
  },
  {
   "cell_type": "markdown",
   "metadata": {},
   "source": [
    "### Preprocesiranje **TRAINING** podataka"
   ]
  },
  {
   "cell_type": "code",
   "execution_count": 105,
   "metadata": {},
   "outputs": [
    {
     "data": {
      "text/plain": [
       "StandardScaler(copy=True, with_mean=True, with_std=True)"
      ]
     },
     "execution_count": 105,
     "metadata": {},
     "output_type": "execute_result"
    }
   ],
   "source": [
    "std_scaler.fit(X_train_57)"
   ]
  },
  {
   "cell_type": "code",
   "execution_count": 106,
   "metadata": {},
   "outputs": [],
   "source": [
    "X_train_57_scaled = std_scaler.transform(X_train_57)"
   ]
  },
  {
   "cell_type": "markdown",
   "metadata": {},
   "source": [
    "### Fittamo model na podacima trening seta"
   ]
  },
  {
   "cell_type": "code",
   "execution_count": 107,
   "metadata": {},
   "outputs": [],
   "source": [
    "lm = linear_model.LinearRegression()\n",
    "model_57 = lm.fit(X_train_57_scaled, y_train_57)"
   ]
  },
  {
   "cell_type": "code",
   "execution_count": 108,
   "metadata": {},
   "outputs": [],
   "source": [
    "predictions_57 = model_57.predict(X_train_57_scaled)"
   ]
  },
  {
   "cell_type": "code",
   "execution_count": 109,
   "metadata": {},
   "outputs": [
    {
     "name": "stdout",
     "output_type": "stream",
     "text": [
      "[[ 0.11391021  0.11391021  1.60023899 ...  2.45159321 -0.40789801\n",
      "   1.58276803]\n",
      " [ 0.57224625  0.57224625  1.35742687 ... -0.40789801  2.45159321\n",
      "   1.58276803]\n",
      " [-0.34442584 -0.34442584  1.47883293 ... -0.40789801 -0.40789801\n",
      "  -0.63180452]\n",
      " ...\n",
      " [ 6.07226513  6.07226513 -1.19210038 ... -0.40789801 -0.40789801\n",
      "  -0.63180452]\n",
      " [-0.34442584 -0.34442584 -1.19210038 ...  2.45159321 -0.40789801\n",
      "   1.58276803]\n",
      " [-0.34442584 -0.34442584 -1.19210038 ... -0.40789801  2.45159321\n",
      "   1.58276803]]\n"
     ]
    }
   ],
   "source": [
    "print(X_train_57_scaled)"
   ]
  },
  {
   "cell_type": "code",
   "execution_count": 110,
   "metadata": {},
   "outputs": [
    {
     "data": {
      "text/plain": [
       "1.0"
      ]
     },
     "execution_count": 110,
     "metadata": {},
     "output_type": "execute_result"
    }
   ],
   "source": [
    "model_57.score(X_train_57_scaled, y_train_57)"
   ]
  },
  {
   "cell_type": "code",
   "execution_count": 111,
   "metadata": {},
   "outputs": [
    {
     "data": {
      "text/plain": [
       "1.9900421180222218e-14"
      ]
     },
     "execution_count": 111,
     "metadata": {},
     "output_type": "execute_result"
    }
   ],
   "source": [
    "mae_57 = mean_absolute_error(y_train_57, predictions_57)  # mjera greške\n",
    "mae_57"
   ]
  },
  {
   "cell_type": "code",
   "execution_count": 112,
   "metadata": {},
   "outputs": [
    {
     "data": {
      "text/plain": [
       "8.659094138697747e-28"
      ]
     },
     "execution_count": 112,
     "metadata": {},
     "output_type": "execute_result"
    }
   ],
   "source": [
    "mse_57 = mean_squared_error(y_train_57, predictions_57)  # mjera greške\n",
    "mse_57"
   ]
  },
  {
   "cell_type": "markdown",
   "metadata": {},
   "source": [
    "### TEST "
   ]
  },
  {
   "cell_type": "code",
   "execution_count": 113,
   "metadata": {},
   "outputs": [],
   "source": [
    "X_test_57_scaled = std_scaler.transform(X_test_57)\n",
    "y_pred_57 = model_57.predict(X_test_57_scaled)"
   ]
  },
  {
   "cell_type": "code",
   "execution_count": 114,
   "metadata": {},
   "outputs": [
    {
     "data": {
      "text/plain": [
       "3.36480155033502e-14"
      ]
     },
     "execution_count": 114,
     "metadata": {},
     "output_type": "execute_result"
    }
   ],
   "source": [
    "mae_57 = mean_absolute_error(y_test_57, y_pred_57)\n",
    "mae_57"
   ]
  },
  {
   "cell_type": "code",
   "execution_count": 115,
   "metadata": {},
   "outputs": [
    {
     "data": {
      "text/plain": [
       "8.659094138697747e-28"
      ]
     },
     "execution_count": 115,
     "metadata": {},
     "output_type": "execute_result"
    }
   ],
   "source": [
    "mse_57 = mean_squared_error(y_train_57, predictions_57)\n",
    "mse_57"
   ]
  },
  {
   "cell_type": "code",
   "execution_count": 116,
   "metadata": {},
   "outputs": [
    {
     "name": "stdout",
     "output_type": "stream",
     "text": [
      "[ 6.27282272e-03 -6.27282272e-03 -1.95676808e-14  3.77598603e+01\n",
      " -2.35045717e+00 -2.29887192e+00 -2.35045717e+00 -2.38037947e+00\n",
      " -2.38037947e+00  3.91227618e+00  3.91227618e+00 -8.08654070e+00]\n",
      "58.60294117647059\n",
      "<bound method BaseEstimator.get_params of LinearRegression(copy_X=True, fit_intercept=True, n_jobs=None, normalize=False)>\n"
     ]
    }
   ],
   "source": [
    "koeficijenti_57 = model_57.coef_\n",
    "print(koeficijenti_57)\n",
    "\n",
    "odsjecak_57 = model_57.intercept_\n",
    "print(odsjecak_57)\n",
    "\n",
    "paramtetri_57 = model_57.get_params\n",
    "print(paramtetri_57)"
   ]
  },
  {
   "cell_type": "code",
   "execution_count": 117,
   "metadata": {},
   "outputs": [
    {
     "data": {
      "text/plain": [
       "array([73.,  4., 34., 27., 61.])"
      ]
     },
     "execution_count": 117,
     "metadata": {},
     "output_type": "execute_result"
    }
   ],
   "source": [
    "predictions_57[0:5] # prvih pet predviđenih vrijednosti"
   ]
  },
  {
   "cell_type": "code",
   "execution_count": 118,
   "metadata": {},
   "outputs": [
    {
     "data": {
      "text/plain": [
       "Text(0, 0.5, 'predviđene količine')"
      ]
     },
     "execution_count": 118,
     "metadata": {},
     "output_type": "execute_result"
    },
    {
     "data": {
      "image/png": "[encoded data removed]",
      "text/plain": [
       "<Figure size 432x288 with 1 Axes>"
      ]
     },
     "metadata": {
      "needs_background": "light"
     },
     "output_type": "display_data"
    }
   ],
   "source": [
    "plt.plot(y_test_57, y_pred_57)\n",
    "plt.title(\"artikl 57\")\n",
    "plt.xlabel(\"stvarne količine\")\n",
    "plt.ylabel(\"predviđene količine\")"
   ]
  },
  {
   "cell_type": "code",
   "execution_count": 119,
   "metadata": {},
   "outputs": [],
   "source": [
    "#print(X_test_57['kol'].head(10))"
   ]
  },
  {
   "cell_type": "code",
   "execution_count": 120,
   "metadata": {},
   "outputs": [
    {
     "name": "stdout",
     "output_type": "stream",
     "text": [
      "[ 26.  24.  28. 212.  72.  12.  19.  49.  95. 142.]\n"
     ]
    }
   ],
   "source": [
    "print(y_pred_57[:10])"
   ]
  },
  {
   "cell_type": "code",
   "execution_count": 121,
   "metadata": {},
   "outputs": [
    {
     "name": "stdout",
     "output_type": "stream",
     "text": [
      "art  datum     \n",
      "57   2018-01-02     26.0\n",
      "     2018-01-03     24.0\n",
      "     2018-01-04     28.0\n",
      "     2018-01-05    212.0\n",
      "     2018-01-06     72.0\n",
      "     2018-01-07     12.0\n",
      "     2018-01-08     19.0\n",
      "     2018-01-10     49.0\n",
      "     2018-01-11     95.0\n",
      "     2018-01-12    142.0\n",
      "Name: kol, dtype: float64\n"
     ]
    }
   ],
   "source": [
    "print(y_test_57[:10])"
   ]
  },
  {
   "cell_type": "code",
   "execution_count": null,
   "metadata": {},
   "outputs": [],
   "source": []
  }
 ],
 "metadata": {
  "kernelspec": {
   "display_name": "Python 3",
   "language": "python",
   "name": "python3"
  },
  "language_info": {
   "codemirror_mode": {
    "name": "ipython",
    "version": 3
   },
   "file_extension": ".py",
   "mimetype": "text/x-python",
   "name": "python",
   "nbconvert_exporter": "python",
   "pygments_lexer": "ipython3",
   "version": "3.7.3"
  }
 },
 "nbformat": 4,
 "nbformat_minor": 4
}
