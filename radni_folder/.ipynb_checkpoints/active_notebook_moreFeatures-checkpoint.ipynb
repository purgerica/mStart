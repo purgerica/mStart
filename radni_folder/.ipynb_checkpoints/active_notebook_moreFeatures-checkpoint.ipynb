{
 "cells": [
  {
   "cell_type": "markdown",
   "metadata": {},
   "source": [
    "**<hr>**"
   ]
  },
  {
   "cell_type": "markdown",
   "metadata": {},
   "source": [
    "# <center>**PROMO TOOL**<br>prototype</center>"
   ]
  },
  {
   "cell_type": "markdown",
   "metadata": {},
   "source": [
    "**<hr>**"
   ]
  },
  {
   "cell_type": "code",
   "execution_count": 1,
   "metadata": {},
   "outputs": [],
   "source": [
    "import warnings\n",
    "warnings.simplefilter(action='ignore', category=FutureWarning)"
   ]
  },
  {
   "cell_type": "code",
   "execution_count": 2,
   "metadata": {},
   "outputs": [],
   "source": [
    "import numpy as np\n",
    "import pandas as pd\n",
    "import pyarrow.parquet as pq\n",
    "import seaborn as sns\n",
    "import matplotlib.pyplot as plt\n",
    "\n",
    "import sys\n",
    "\n",
    "from sklearn import datasets, linear_model\n",
    "from sklearn.model_selection import train_test_split\n",
    "from sklearn.preprocessing import StandardScaler\n",
    "\n",
    "from sklearn.metrics import mean_absolute_error, mean_squared_error, r2_score, mean_squared_error\n",
    "from sklearn.compose import ColumnTransformer\n",
    "import statsmodels.api as sm\n",
    "\n",
    "import datetime\n",
    "from dateutil.parser import *"
   ]
  },
  {
   "cell_type": "code",
   "execution_count": 3,
   "metadata": {},
   "outputs": [],
   "source": [
    "from sklearn.pipeline import Pipeline\n",
    "from svi_transformeri import dayName, dummy_days, DFStandardScaler, ZeroFillTransformer, DFFeatureUnion"
   ]
  },
  {
   "cell_type": "code",
   "execution_count": 102,
   "metadata": {},
   "outputs": [],
   "source": [
    "import pickle"
   ]
  },
  {
   "cell_type": "markdown",
   "metadata": {},
   "source": [
    "<hr>"
   ]
  },
  {
   "cell_type": "markdown",
   "metadata": {},
   "source": [
    "# 0. **PREPROCESSING**"
   ]
  },
  {
   "cell_type": "markdown",
   "metadata": {},
   "source": [
    "## 0.1. Auxiliary functions and lists"
   ]
  },
  {
   "cell_type": "markdown",
   "metadata": {},
   "source": [
    "### 0.1.1. One Hot Encoding"
   ]
  },
  {
   "cell_type": "markdown",
   "metadata": {},
   "source": [
    "The function _**ohe**_ takes dataframe and encodes column (actually index) _'date'_ into 7 columns _Day names_ with binary input."
   ]
  },
  {
   "cell_type": "code",
   "execution_count": 5,
   "metadata": {},
   "outputs": [],
   "source": [
    "def ohe(self):\n",
    "    self['day_of_week'] = self.index.get_level_values('date').day_name()\n",
    "    encoded_columns = pd.get_dummies(self['day_of_week'])\n",
    "    self = self.join(encoded_columns)\n",
    "    self = self.drop('day_of_week',axis=1)\n",
    "    return self"
   ]
  },
  {
   "cell_type": "code",
   "execution_count": null,
   "metadata": {},
   "outputs": [],
   "source": []
  },
  {
   "cell_type": "markdown",
   "metadata": {},
   "source": [
    "### 0.1.2. Scaling"
   ]
  },
  {
   "cell_type": "markdown",
   "metadata": {},
   "source": [
    "Before calling the following function we have to provide separate dataframes for train and test data _and_ state the name of the column we want to scale. The function differs test from training data and after the scaler is fitted to train data, it transformes both training and test data. <br> <br> **Later:** improve function so it could \n",
    "* take only one dataframe as an argument \n",
    "* separate data to test and train data\n",
    "* store that information \n",
    "* finally scale columns like it's described"
   ]
  },
  {
   "cell_type": "code",
   "execution_count": 6,
   "metadata": {},
   "outputs": [],
   "source": [
    "def scaling_columns_seperately(self_train,self_test,col):\n",
    "    aux_df = self_train[col]\n",
    "    std_scaler.fit(aux_df.values.reshape(-1,1))\n",
    "    aux_df = std_scaler.transform(self_train[col].values.reshape(-1,1))\n",
    "    self_train[col] = aux_df\n",
    "    \n",
    "    aux_df = self_test[col]\n",
    "    aux_df = std_scaler.transform(self_test[col].values.reshape(-1,1))\n",
    "    self_test[col] = aux_df"
   ]
  },
  {
   "cell_type": "markdown",
   "metadata": {},
   "source": [
    "<br>Scaling through each column for an _item_ in a for loop. <br> **Note:** self_train and self_test dataframes have same columns.<br> <br>**Later:** improve the loop (make function) so it could iterate over items (28, ..., 57) --> data is taken from df  **X**."
   ]
  },
  {
   "cell_type": "markdown",
   "metadata": {},
   "source": [
    "### 0.1.3. Handling outliers"
   ]
  },
  {
   "cell_type": "markdown",
   "metadata": {},
   "source": [
    "-- outliers could be removed or set to a specific value (capping, flooring)<br> -- firstly we will _**remove**_ them"
   ]
  },
  {
   "cell_type": "code",
   "execution_count": 4,
   "metadata": {},
   "outputs": [],
   "source": [
    "def removing_outliers(self):\n",
    "    upper_lim = self['amount'].quantile(.95)\n",
    "    lower_lim = self['amount'].quantile(.05)\n",
    "    self=self[(self['amount'] < upper_lim) & (self['amount'] > lower_lim)]\n",
    "    return self"
   ]
  },
  {
   "cell_type": "code",
   "execution_count": null,
   "metadata": {},
   "outputs": [],
   "source": []
  },
  {
   "cell_type": "markdown",
   "metadata": {},
   "source": [
    "### 0.1.4. Separating training and test data"
   ]
  },
  {
   "cell_type": "code",
   "execution_count": 5,
   "metadata": {},
   "outputs": [],
   "source": [
    "def X_train_test_separation(self):\n",
    "    aux = self.loc[self.index.get_level_values('date') <= '2018-01-01']\n",
    "    train = aux.drop('amount',axis=1)\n",
    "    \n",
    "    aux = self.loc[self.index.get_level_values('date') > '2018-01-01']\n",
    "    test = aux.drop('amount',axis=1)\n",
    "    \n",
    "    return train, test"
   ]
  },
  {
   "cell_type": "code",
   "execution_count": 6,
   "metadata": {},
   "outputs": [],
   "source": [
    "def y_train_test_separation(self):\n",
    "    aux = self.loc[self.index.get_level_values('date') <= '2018-01-01']\n",
    "    train = aux['amount']\n",
    "    \n",
    "    aux = self.loc[self.index.get_level_values('date') > '2018-01-01']\n",
    "    test = aux['amount']\n",
    "    \n",
    "    return train, test"
   ]
  },
  {
   "cell_type": "code",
   "execution_count": null,
   "metadata": {},
   "outputs": [],
   "source": []
  },
  {
   "cell_type": "markdown",
   "metadata": {},
   "source": [
    "### 0.1.5. Function and list initialization"
   ]
  },
  {
   "cell_type": "code",
   "execution_count": 47,
   "metadata": {},
   "outputs": [],
   "source": [
    "std_scaler = StandardScaler()\n",
    "lm = linear_model.LinearRegression()"
   ]
  },
  {
   "cell_type": "code",
   "execution_count": 11,
   "metadata": {},
   "outputs": [],
   "source": [
    "list_of_items = [38,39,40,41,57] "
   ]
  },
  {
   "cell_type": "code",
   "execution_count": 48,
   "metadata": {},
   "outputs": [],
   "source": [
    "rmse_tr = []\n",
    "rmse_te = []\n",
    "r2 = []"
   ]
  },
  {
   "cell_type": "code",
   "execution_count": 49,
   "metadata": {},
   "outputs": [],
   "source": [
    "categorical_features = ['day_of_week']\n",
    "numerical_features = ['regular_price', 'discounted_price','number_of_stores','holidays','paycheque_days']"
   ]
  },
  {
   "cell_type": "code",
   "execution_count": null,
   "metadata": {},
   "outputs": [],
   "source": []
  },
  {
   "cell_type": "markdown",
   "metadata": {},
   "source": [
    "## 0.2. Pipeline"
   ]
  },
  {
   "cell_type": "markdown",
   "metadata": {},
   "source": [
    "Process:\n",
    "   * separate dependent array _\"amount\"_ and _the rest of dataframe_ from the initial dataframe\n",
    "   * separate data into train and test set\n",
    "   * fit model on train set\n",
    "   * transform both train and test set"
   ]
  },
  {
   "cell_type": "markdown",
   "metadata": {},
   "source": [
    "Loading from pipeline_pickle:"
   ]
  },
  {
   "cell_type": "code",
   "execution_count": 103,
   "metadata": {},
   "outputs": [],
   "source": [
    "pipeline_pickle_path = 'pipeline_pickle.pkl'\n",
    "pipeline_unpickle = open(pipeline_pickle_path, 'rb')\n",
    "  \n",
    "pipeline_from_pickle = pickle.load(pipeline_unpickle)"
   ]
  },
  {
   "cell_type": "code",
   "execution_count": null,
   "metadata": {},
   "outputs": [],
   "source": []
  },
  {
   "cell_type": "markdown",
   "metadata": {},
   "source": [
    "## 0.3. Data loading"
   ]
  },
  {
   "cell_type": "code",
   "execution_count": 9,
   "metadata": {},
   "outputs": [],
   "source": [
    "X = pd.read_parquet(\"C:/Users/vvrhovec/Veronika/kodovi/radni_folder/parquet/X_prices_stores_amount.parquet\")"
   ]
  },
  {
   "cell_type": "markdown",
   "metadata": {},
   "source": [
    "Napomena: srediti parquet fajlove za učitavanje svakog od artikla"
   ]
  },
  {
   "cell_type": "code",
   "execution_count": 10,
   "metadata": {},
   "outputs": [],
   "source": [
    "X_38 = X.loc[38]\n",
    "X_39 = X.loc[39]\n",
    "X_40 = X.loc[40]\n",
    "X_41 = X.loc[41]\n",
    "X_57 = X.loc[57]"
   ]
  },
  {
   "cell_type": "markdown",
   "metadata": {},
   "source": [
    "**<hr>**"
   ]
  },
  {
   "cell_type": "markdown",
   "metadata": {},
   "source": [
    "# <center>**ITEMS**</center>"
   ]
  },
  {
   "cell_type": "markdown",
   "metadata": {},
   "source": [
    "**<hr>**"
   ]
  },
  {
   "cell_type": "markdown",
   "metadata": {},
   "source": [
    "# 1. ITEM 38"
   ]
  },
  {
   "cell_type": "code",
   "execution_count": 67,
   "metadata": {},
   "outputs": [],
   "source": [
    "tablica = X_38"
   ]
  },
  {
   "cell_type": "code",
   "execution_count": 68,
   "metadata": {},
   "outputs": [
    {
     "data": {
      "text/html": [
       "<div>\n",
       "<style scoped>\n",
       "    .dataframe tbody tr th:only-of-type {\n",
       "        vertical-align: middle;\n",
       "    }\n",
       "\n",
       "    .dataframe tbody tr th {\n",
       "        vertical-align: top;\n",
       "    }\n",
       "\n",
       "    .dataframe thead th {\n",
       "        text-align: right;\n",
       "    }\n",
       "</style>\n",
       "<table border=\"1\" class=\"dataframe\">\n",
       "  <thead>\n",
       "    <tr style=\"text-align: right;\">\n",
       "      <th></th>\n",
       "      <th>regular_price</th>\n",
       "      <th>discounted_price</th>\n",
       "      <th>number_of_stores</th>\n",
       "      <th>amount</th>\n",
       "      <th>holidays</th>\n",
       "      <th>paycheque_days</th>\n",
       "    </tr>\n",
       "    <tr>\n",
       "      <th>date</th>\n",
       "      <th></th>\n",
       "      <th></th>\n",
       "      <th></th>\n",
       "      <th></th>\n",
       "      <th></th>\n",
       "      <th></th>\n",
       "    </tr>\n",
       "  </thead>\n",
       "  <tbody>\n",
       "    <tr>\n",
       "      <th>2018-05-27</th>\n",
       "      <td>0.100</td>\n",
       "      <td>0.100</td>\n",
       "      <td>378</td>\n",
       "      <td>199.0</td>\n",
       "      <td>0</td>\n",
       "      <td>0</td>\n",
       "    </tr>\n",
       "    <tr>\n",
       "      <th>2018-05-28</th>\n",
       "      <td>0.099</td>\n",
       "      <td>0.099</td>\n",
       "      <td>377</td>\n",
       "      <td>132.0</td>\n",
       "      <td>0</td>\n",
       "      <td>0</td>\n",
       "    </tr>\n",
       "    <tr>\n",
       "      <th>2018-05-29</th>\n",
       "      <td>0.100</td>\n",
       "      <td>0.100</td>\n",
       "      <td>377</td>\n",
       "      <td>71.0</td>\n",
       "      <td>0</td>\n",
       "      <td>0</td>\n",
       "    </tr>\n",
       "    <tr>\n",
       "      <th>2018-05-30</th>\n",
       "      <td>0.100</td>\n",
       "      <td>0.100</td>\n",
       "      <td>377</td>\n",
       "      <td>154.0</td>\n",
       "      <td>0</td>\n",
       "      <td>0</td>\n",
       "    </tr>\n",
       "    <tr>\n",
       "      <th>2018-05-31</th>\n",
       "      <td>0.100</td>\n",
       "      <td>0.100</td>\n",
       "      <td>378</td>\n",
       "      <td>146.0</td>\n",
       "      <td>0</td>\n",
       "      <td>0</td>\n",
       "    </tr>\n",
       "  </tbody>\n",
       "</table>\n",
       "</div>"
      ],
      "text/plain": [
       "            regular_price  discounted_price  number_of_stores  amount  \\\n",
       "date                                                                    \n",
       "2018-05-27          0.100             0.100               378   199.0   \n",
       "2018-05-28          0.099             0.099               377   132.0   \n",
       "2018-05-29          0.100             0.100               377    71.0   \n",
       "2018-05-30          0.100             0.100               377   154.0   \n",
       "2018-05-31          0.100             0.100               378   146.0   \n",
       "\n",
       "            holidays  paycheque_days  \n",
       "date                                  \n",
       "2018-05-27         0               0  \n",
       "2018-05-28         0               0  \n",
       "2018-05-29         0               0  \n",
       "2018-05-30         0               0  \n",
       "2018-05-31         0               0  "
      ]
     },
     "execution_count": 68,
     "metadata": {},
     "output_type": "execute_result"
    }
   ],
   "source": [
    "tablica.tail()"
   ]
  },
  {
   "cell_type": "markdown",
   "metadata": {},
   "source": [
    "## 1.1. Data preprocessing"
   ]
  },
  {
   "cell_type": "markdown",
   "metadata": {},
   "source": [
    "## stupac 0/1 blagdani"
   ]
  },
  {
   "cell_type": "code",
   "execution_count": 69,
   "metadata": {},
   "outputs": [],
   "source": [
    "import workalendar.europe\n",
    "from datetime import date\n",
    "from workalendar.europe import Slovenia\n",
    "cal = Slovenia()"
   ]
  },
  {
   "cell_type": "code",
   "execution_count": 73,
   "metadata": {},
   "outputs": [],
   "source": [
    "lista =[]\n",
    "\n",
    "for i in range (0,len(cal.holidays(2016))-1):\n",
    "    lista.append(cal.holidays(2016)[i][0])\n",
    "\n",
    "for i in range (0,len(cal.holidays(2017))-1):\n",
    "    lista.append(cal.holidays(2017)[i][0])\n",
    "\n",
    "for i in range (0,len(cal.holidays(2018))-1):\n",
    "    lista.append(cal.holidays(2018)[i][0])"
   ]
  },
  {
   "cell_type": "code",
   "execution_count": 74,
   "metadata": {},
   "outputs": [
    {
     "data": {
      "text/plain": [
       "41"
      ]
     },
     "execution_count": 74,
     "metadata": {},
     "output_type": "execute_result"
    }
   ],
   "source": [
    "len(lista)"
   ]
  },
  {
   "cell_type": "code",
   "execution_count": 75,
   "metadata": {},
   "outputs": [
    {
     "data": {
      "text/plain": [
       "815"
      ]
     },
     "execution_count": 75,
     "metadata": {},
     "output_type": "execute_result"
    }
   ],
   "source": [
    "tablica.shape[0]"
   ]
  },
  {
   "cell_type": "code",
   "execution_count": 28,
   "metadata": {},
   "outputs": [
    {
     "data": {
      "text/plain": [
       "datetime.date(2016, 2, 8)"
      ]
     },
     "execution_count": 28,
     "metadata": {},
     "output_type": "execute_result"
    }
   ],
   "source": [
    "cal.holidays(2016)[1][0]"
   ]
  },
  {
   "cell_type": "code",
   "execution_count": 29,
   "metadata": {},
   "outputs": [
    {
     "data": {
      "text/plain": [
       "datetime.date(2016, 2, 8)"
      ]
     },
     "execution_count": 29,
     "metadata": {},
     "output_type": "execute_result"
    }
   ],
   "source": [
    "tablica.index.get_level_values('date')[35].date()"
   ]
  },
  {
   "cell_type": "markdown",
   "metadata": {},
   "source": [
    "* pretpostavka je da se više troši dva dana prije blagdana te da se više troši između 10. i 20. u mjesecu"
   ]
  },
  {
   "cell_type": "code",
   "execution_count": 77,
   "metadata": {},
   "outputs": [
    {
     "name": "stderr",
     "output_type": "stream",
     "text": [
      "C:\\Users\\vvrhovec\\AppData\\Local\\Continuum\\miniconda3\\envs\\okolina\\lib\\site-packages\\ipykernel_launcher.py:5: SettingWithCopyWarning: \n",
      "A value is trying to be set on a copy of a slice from a DataFrame\n",
      "\n",
      "See the caveats in the documentation: http://pandas.pydata.org/pandas-docs/stable/indexing.html#indexing-view-versus-copy\n",
      "  \"\"\"\n",
      "C:\\Users\\vvrhovec\\AppData\\Local\\Continuum\\miniconda3\\envs\\okolina\\lib\\site-packages\\IPython\\core\\interactiveshell.py:3325: SettingWithCopyWarning: \n",
      "A value is trying to be set on a copy of a slice from a DataFrame\n",
      "\n",
      "See the caveats in the documentation: http://pandas.pydata.org/pandas-docs/stable/indexing.html#indexing-view-versus-copy\n",
      "  exec(code_obj, self.user_global_ns, self.user_ns)\n",
      "C:\\Users\\vvrhovec\\AppData\\Local\\Continuum\\miniconda3\\envs\\okolina\\lib\\site-packages\\ipykernel_launcher.py:6: SettingWithCopyWarning: \n",
      "A value is trying to be set on a copy of a slice from a DataFrame\n",
      "\n",
      "See the caveats in the documentation: http://pandas.pydata.org/pandas-docs/stable/indexing.html#indexing-view-versus-copy\n",
      "  \n",
      "C:\\Users\\vvrhovec\\AppData\\Local\\Continuum\\miniconda3\\envs\\okolina\\lib\\site-packages\\ipykernel_launcher.py:7: SettingWithCopyWarning: \n",
      "A value is trying to be set on a copy of a slice from a DataFrame\n",
      "\n",
      "See the caveats in the documentation: http://pandas.pydata.org/pandas-docs/stable/indexing.html#indexing-view-versus-copy\n",
      "  import sys\n"
     ]
    },
    {
     "name": "stdout",
     "output_type": "stream",
     "text": [
      "1 2016-02-08\n",
      "2 2016-03-28\n",
      "3 2016-04-27\n",
      "4 2016-05-01\n",
      "5 2016-05-02\n",
      "6 2016-05-15\n",
      "7 2016-06-25\n",
      "8 2016-08-15\n",
      "9 2016-10-31\n",
      "10 2016-11-01\n",
      "11 2017-01-02\n",
      "12 2017-02-08\n",
      "13 2017-04-17\n",
      "14 2017-04-27\n",
      "15 2017-05-01\n",
      "16 2017-05-02\n",
      "17 2017-06-04\n",
      "18 2017-06-25\n",
      "19 2017-08-15\n",
      "20 2017-10-31\n",
      "21 2018-01-02\n",
      "22 2018-04-27\n",
      "23 2018-05-02\n"
     ]
    }
   ],
   "source": [
    "brojac = 0\n",
    "tablica ['holidays']  = 0\n",
    "\n",
    "for i in range (0,815):\n",
    "    for j in range (0, len(lista)):\n",
    "        if tablica.index.get_level_values('date')[i].date() == lista[j] :\n",
    "            tablica['holidays'][i] = 0\n",
    "            tablica['holidays'][i-1] = 1\n",
    "            tablica['holidays'][i-2] = 1\n",
    "            brojac += 1\n",
    "            print (brojac, tablica.index.get_level_values('date')[i].date())"
   ]
  },
  {
   "cell_type": "code",
   "execution_count": 78,
   "metadata": {},
   "outputs": [
    {
     "name": "stderr",
     "output_type": "stream",
     "text": [
      "C:\\Users\\vvrhovec\\AppData\\Local\\Continuum\\miniconda3\\envs\\okolina\\lib\\site-packages\\ipykernel_launcher.py:3: SettingWithCopyWarning: \n",
      "A value is trying to be set on a copy of a slice from a DataFrame\n",
      "\n",
      "See the caveats in the documentation: http://pandas.pydata.org/pandas-docs/stable/indexing.html#indexing-view-versus-copy\n",
      "  This is separate from the ipykernel package so we can avoid doing imports until\n"
     ]
    }
   ],
   "source": [
    "tablica ['paycheque_days']  = 0\n",
    "\n",
    "for i in range (0,815):\n",
    "    if ((tablica.index.get_level_values('date')[i].date().day>10) & (tablica.index.get_level_values('date')[i].date().day<20)):\n",
    "        tablica['paycheque_days'][i] = 1"
   ]
  },
  {
   "cell_type": "code",
   "execution_count": 100,
   "metadata": {},
   "outputs": [
    {
     "data": {
      "text/html": [
       "<div>\n",
       "<style scoped>\n",
       "    .dataframe tbody tr th:only-of-type {\n",
       "        vertical-align: middle;\n",
       "    }\n",
       "\n",
       "    .dataframe tbody tr th {\n",
       "        vertical-align: top;\n",
       "    }\n",
       "\n",
       "    .dataframe thead th {\n",
       "        text-align: right;\n",
       "    }\n",
       "</style>\n",
       "<table border=\"1\" class=\"dataframe\">\n",
       "  <thead>\n",
       "    <tr style=\"text-align: right;\">\n",
       "      <th></th>\n",
       "      <th>regular_price</th>\n",
       "      <th>discounted_price</th>\n",
       "      <th>number_of_stores</th>\n",
       "      <th>holidays</th>\n",
       "      <th>paycheque_days</th>\n",
       "      <th>Friday</th>\n",
       "      <th>Monday</th>\n",
       "      <th>Saturday</th>\n",
       "      <th>Sunday</th>\n",
       "      <th>Thursday</th>\n",
       "      <th>Tuesday</th>\n",
       "      <th>Wednesday</th>\n",
       "    </tr>\n",
       "    <tr>\n",
       "      <th>date</th>\n",
       "      <th></th>\n",
       "      <th></th>\n",
       "      <th></th>\n",
       "      <th></th>\n",
       "      <th></th>\n",
       "      <th></th>\n",
       "      <th></th>\n",
       "      <th></th>\n",
       "      <th></th>\n",
       "      <th></th>\n",
       "      <th></th>\n",
       "      <th></th>\n",
       "    </tr>\n",
       "  </thead>\n",
       "  <tbody>\n",
       "    <tr>\n",
       "      <th>2016-02-05</th>\n",
       "      <td>0.232658</td>\n",
       "      <td>0.232658</td>\n",
       "      <td>0.775177</td>\n",
       "      <td>-0.229416</td>\n",
       "      <td>-0.637099</td>\n",
       "      <td>2.350812</td>\n",
       "      <td>-0.417424</td>\n",
       "      <td>-0.395874</td>\n",
       "      <td>-0.425385</td>\n",
       "      <td>-0.409400</td>\n",
       "      <td>-0.393144</td>\n",
       "      <td>-0.390405</td>\n",
       "    </tr>\n",
       "    <tr>\n",
       "      <th>2016-02-06</th>\n",
       "      <td>0.232658</td>\n",
       "      <td>0.232658</td>\n",
       "      <td>0.717223</td>\n",
       "      <td>4.358899</td>\n",
       "      <td>-0.637099</td>\n",
       "      <td>-0.425385</td>\n",
       "      <td>-0.417424</td>\n",
       "      <td>2.526055</td>\n",
       "      <td>-0.425385</td>\n",
       "      <td>-0.409400</td>\n",
       "      <td>-0.393144</td>\n",
       "      <td>-0.390405</td>\n",
       "    </tr>\n",
       "    <tr>\n",
       "      <th>2016-02-07</th>\n",
       "      <td>0.232658</td>\n",
       "      <td>0.232658</td>\n",
       "      <td>0.311548</td>\n",
       "      <td>4.358899</td>\n",
       "      <td>-0.637099</td>\n",
       "      <td>-0.425385</td>\n",
       "      <td>-0.417424</td>\n",
       "      <td>-0.395874</td>\n",
       "      <td>2.350812</td>\n",
       "      <td>-0.409400</td>\n",
       "      <td>-0.393144</td>\n",
       "      <td>-0.390405</td>\n",
       "    </tr>\n",
       "    <tr>\n",
       "      <th>2016-02-08</th>\n",
       "      <td>0.232658</td>\n",
       "      <td>0.232658</td>\n",
       "      <td>0.485408</td>\n",
       "      <td>-0.229416</td>\n",
       "      <td>-0.637099</td>\n",
       "      <td>-0.425385</td>\n",
       "      <td>2.395648</td>\n",
       "      <td>-0.395874</td>\n",
       "      <td>-0.425385</td>\n",
       "      <td>-0.409400</td>\n",
       "      <td>-0.393144</td>\n",
       "      <td>-0.390405</td>\n",
       "    </tr>\n",
       "    <tr>\n",
       "      <th>2016-02-09</th>\n",
       "      <td>0.232658</td>\n",
       "      <td>0.232658</td>\n",
       "      <td>0.485408</td>\n",
       "      <td>-0.229416</td>\n",
       "      <td>-0.637099</td>\n",
       "      <td>-0.425385</td>\n",
       "      <td>-0.417424</td>\n",
       "      <td>-0.395874</td>\n",
       "      <td>-0.425385</td>\n",
       "      <td>-0.409400</td>\n",
       "      <td>2.543596</td>\n",
       "      <td>-0.390405</td>\n",
       "    </tr>\n",
       "    <tr>\n",
       "      <th>2016-02-11</th>\n",
       "      <td>0.232658</td>\n",
       "      <td>0.232658</td>\n",
       "      <td>0.543362</td>\n",
       "      <td>-0.229416</td>\n",
       "      <td>1.569614</td>\n",
       "      <td>-0.425385</td>\n",
       "      <td>-0.417424</td>\n",
       "      <td>-0.395874</td>\n",
       "      <td>-0.425385</td>\n",
       "      <td>2.442599</td>\n",
       "      <td>-0.393144</td>\n",
       "      <td>-0.390405</td>\n",
       "    </tr>\n",
       "    <tr>\n",
       "      <th>2016-02-12</th>\n",
       "      <td>0.232658</td>\n",
       "      <td>0.232658</td>\n",
       "      <td>0.775177</td>\n",
       "      <td>-0.229416</td>\n",
       "      <td>1.569614</td>\n",
       "      <td>2.350812</td>\n",
       "      <td>-0.417424</td>\n",
       "      <td>-0.395874</td>\n",
       "      <td>-0.425385</td>\n",
       "      <td>-0.409400</td>\n",
       "      <td>-0.393144</td>\n",
       "      <td>-0.390405</td>\n",
       "    </tr>\n",
       "    <tr>\n",
       "      <th>2016-02-13</th>\n",
       "      <td>0.232658</td>\n",
       "      <td>0.232658</td>\n",
       "      <td>0.659269</td>\n",
       "      <td>-0.229416</td>\n",
       "      <td>1.569614</td>\n",
       "      <td>-0.425385</td>\n",
       "      <td>-0.417424</td>\n",
       "      <td>2.526055</td>\n",
       "      <td>-0.425385</td>\n",
       "      <td>-0.409400</td>\n",
       "      <td>-0.393144</td>\n",
       "      <td>-0.390405</td>\n",
       "    </tr>\n",
       "    <tr>\n",
       "      <th>2016-02-14</th>\n",
       "      <td>0.232658</td>\n",
       "      <td>0.232658</td>\n",
       "      <td>0.485408</td>\n",
       "      <td>-0.229416</td>\n",
       "      <td>1.569614</td>\n",
       "      <td>-0.425385</td>\n",
       "      <td>-0.417424</td>\n",
       "      <td>-0.395874</td>\n",
       "      <td>2.350812</td>\n",
       "      <td>-0.409400</td>\n",
       "      <td>-0.393144</td>\n",
       "      <td>-0.390405</td>\n",
       "    </tr>\n",
       "    <tr>\n",
       "      <th>2016-02-16</th>\n",
       "      <td>0.232658</td>\n",
       "      <td>0.232658</td>\n",
       "      <td>0.659269</td>\n",
       "      <td>-0.229416</td>\n",
       "      <td>1.569614</td>\n",
       "      <td>-0.425385</td>\n",
       "      <td>-0.417424</td>\n",
       "      <td>-0.395874</td>\n",
       "      <td>-0.425385</td>\n",
       "      <td>-0.409400</td>\n",
       "      <td>2.543596</td>\n",
       "      <td>-0.390405</td>\n",
       "    </tr>\n",
       "    <tr>\n",
       "      <th>2016-02-17</th>\n",
       "      <td>0.232658</td>\n",
       "      <td>0.232658</td>\n",
       "      <td>0.717223</td>\n",
       "      <td>-0.229416</td>\n",
       "      <td>1.569614</td>\n",
       "      <td>-0.425385</td>\n",
       "      <td>-0.417424</td>\n",
       "      <td>-0.395874</td>\n",
       "      <td>-0.425385</td>\n",
       "      <td>-0.409400</td>\n",
       "      <td>-0.393144</td>\n",
       "      <td>2.561440</td>\n",
       "    </tr>\n",
       "    <tr>\n",
       "      <th>2016-02-19</th>\n",
       "      <td>0.232658</td>\n",
       "      <td>0.232658</td>\n",
       "      <td>0.833130</td>\n",
       "      <td>-0.229416</td>\n",
       "      <td>1.569614</td>\n",
       "      <td>2.350812</td>\n",
       "      <td>-0.417424</td>\n",
       "      <td>-0.395874</td>\n",
       "      <td>-0.425385</td>\n",
       "      <td>-0.409400</td>\n",
       "      <td>-0.393144</td>\n",
       "      <td>-0.390405</td>\n",
       "    </tr>\n",
       "    <tr>\n",
       "      <th>2016-02-20</th>\n",
       "      <td>0.232658</td>\n",
       "      <td>0.232658</td>\n",
       "      <td>0.891084</td>\n",
       "      <td>-0.229416</td>\n",
       "      <td>-0.637099</td>\n",
       "      <td>-0.425385</td>\n",
       "      <td>-0.417424</td>\n",
       "      <td>2.526055</td>\n",
       "      <td>-0.425385</td>\n",
       "      <td>-0.409400</td>\n",
       "      <td>-0.393144</td>\n",
       "      <td>-0.390405</td>\n",
       "    </tr>\n",
       "    <tr>\n",
       "      <th>2016-02-21</th>\n",
       "      <td>0.232658</td>\n",
       "      <td>0.232658</td>\n",
       "      <td>0.543362</td>\n",
       "      <td>-0.229416</td>\n",
       "      <td>-0.637099</td>\n",
       "      <td>-0.425385</td>\n",
       "      <td>-0.417424</td>\n",
       "      <td>-0.395874</td>\n",
       "      <td>2.350812</td>\n",
       "      <td>-0.409400</td>\n",
       "      <td>-0.393144</td>\n",
       "      <td>-0.390405</td>\n",
       "    </tr>\n",
       "    <tr>\n",
       "      <th>2016-02-22</th>\n",
       "      <td>0.232658</td>\n",
       "      <td>0.232658</td>\n",
       "      <td>0.775177</td>\n",
       "      <td>-0.229416</td>\n",
       "      <td>-0.637099</td>\n",
       "      <td>-0.425385</td>\n",
       "      <td>2.395648</td>\n",
       "      <td>-0.395874</td>\n",
       "      <td>-0.425385</td>\n",
       "      <td>-0.409400</td>\n",
       "      <td>-0.393144</td>\n",
       "      <td>-0.390405</td>\n",
       "    </tr>\n",
       "    <tr>\n",
       "      <th>2016-02-23</th>\n",
       "      <td>0.232658</td>\n",
       "      <td>0.232658</td>\n",
       "      <td>0.949037</td>\n",
       "      <td>-0.229416</td>\n",
       "      <td>-0.637099</td>\n",
       "      <td>-0.425385</td>\n",
       "      <td>-0.417424</td>\n",
       "      <td>-0.395874</td>\n",
       "      <td>-0.425385</td>\n",
       "      <td>-0.409400</td>\n",
       "      <td>2.543596</td>\n",
       "      <td>-0.390405</td>\n",
       "    </tr>\n",
       "    <tr>\n",
       "      <th>2016-02-24</th>\n",
       "      <td>0.232658</td>\n",
       "      <td>0.232658</td>\n",
       "      <td>0.775177</td>\n",
       "      <td>-0.229416</td>\n",
       "      <td>-0.637099</td>\n",
       "      <td>-0.425385</td>\n",
       "      <td>-0.417424</td>\n",
       "      <td>-0.395874</td>\n",
       "      <td>-0.425385</td>\n",
       "      <td>-0.409400</td>\n",
       "      <td>-0.393144</td>\n",
       "      <td>2.561440</td>\n",
       "    </tr>\n",
       "    <tr>\n",
       "      <th>2016-02-25</th>\n",
       "      <td>0.232658</td>\n",
       "      <td>0.232658</td>\n",
       "      <td>0.891084</td>\n",
       "      <td>-0.229416</td>\n",
       "      <td>-0.637099</td>\n",
       "      <td>-0.425385</td>\n",
       "      <td>-0.417424</td>\n",
       "      <td>-0.395874</td>\n",
       "      <td>-0.425385</td>\n",
       "      <td>2.442599</td>\n",
       "      <td>-0.393144</td>\n",
       "      <td>-0.390405</td>\n",
       "    </tr>\n",
       "    <tr>\n",
       "      <th>2016-02-26</th>\n",
       "      <td>-3.665942</td>\n",
       "      <td>-3.665942</td>\n",
       "      <td>0.717223</td>\n",
       "      <td>-0.229416</td>\n",
       "      <td>-0.637099</td>\n",
       "      <td>2.350812</td>\n",
       "      <td>-0.417424</td>\n",
       "      <td>-0.395874</td>\n",
       "      <td>-0.425385</td>\n",
       "      <td>-0.409400</td>\n",
       "      <td>-0.393144</td>\n",
       "      <td>-0.390405</td>\n",
       "    </tr>\n",
       "    <tr>\n",
       "      <th>2016-02-27</th>\n",
       "      <td>0.232658</td>\n",
       "      <td>0.232658</td>\n",
       "      <td>0.891084</td>\n",
       "      <td>-0.229416</td>\n",
       "      <td>-0.637099</td>\n",
       "      <td>-0.425385</td>\n",
       "      <td>-0.417424</td>\n",
       "      <td>2.526055</td>\n",
       "      <td>-0.425385</td>\n",
       "      <td>-0.409400</td>\n",
       "      <td>-0.393144</td>\n",
       "      <td>-0.390405</td>\n",
       "    </tr>\n",
       "    <tr>\n",
       "      <th>2016-02-28</th>\n",
       "      <td>0.232658</td>\n",
       "      <td>0.232658</td>\n",
       "      <td>0.543362</td>\n",
       "      <td>-0.229416</td>\n",
       "      <td>-0.637099</td>\n",
       "      <td>-0.425385</td>\n",
       "      <td>-0.417424</td>\n",
       "      <td>-0.395874</td>\n",
       "      <td>2.350812</td>\n",
       "      <td>-0.409400</td>\n",
       "      <td>-0.393144</td>\n",
       "      <td>-0.390405</td>\n",
       "    </tr>\n",
       "    <tr>\n",
       "      <th>2016-02-29</th>\n",
       "      <td>0.232658</td>\n",
       "      <td>0.232658</td>\n",
       "      <td>0.833130</td>\n",
       "      <td>-0.229416</td>\n",
       "      <td>-0.637099</td>\n",
       "      <td>-0.425385</td>\n",
       "      <td>2.395648</td>\n",
       "      <td>-0.395874</td>\n",
       "      <td>-0.425385</td>\n",
       "      <td>-0.409400</td>\n",
       "      <td>-0.393144</td>\n",
       "      <td>-0.390405</td>\n",
       "    </tr>\n",
       "    <tr>\n",
       "      <th>2016-03-01</th>\n",
       "      <td>0.232658</td>\n",
       "      <td>0.232658</td>\n",
       "      <td>0.775177</td>\n",
       "      <td>-0.229416</td>\n",
       "      <td>-0.637099</td>\n",
       "      <td>-0.425385</td>\n",
       "      <td>-0.417424</td>\n",
       "      <td>-0.395874</td>\n",
       "      <td>-0.425385</td>\n",
       "      <td>-0.409400</td>\n",
       "      <td>2.543596</td>\n",
       "      <td>-0.390405</td>\n",
       "    </tr>\n",
       "    <tr>\n",
       "      <th>2016-03-02</th>\n",
       "      <td>0.232658</td>\n",
       "      <td>0.232658</td>\n",
       "      <td>1.006991</td>\n",
       "      <td>-0.229416</td>\n",
       "      <td>-0.637099</td>\n",
       "      <td>-0.425385</td>\n",
       "      <td>-0.417424</td>\n",
       "      <td>-0.395874</td>\n",
       "      <td>-0.425385</td>\n",
       "      <td>-0.409400</td>\n",
       "      <td>-0.393144</td>\n",
       "      <td>2.561440</td>\n",
       "    </tr>\n",
       "    <tr>\n",
       "      <th>2016-03-04</th>\n",
       "      <td>0.232658</td>\n",
       "      <td>0.232658</td>\n",
       "      <td>0.717223</td>\n",
       "      <td>-0.229416</td>\n",
       "      <td>-0.637099</td>\n",
       "      <td>2.350812</td>\n",
       "      <td>-0.417424</td>\n",
       "      <td>-0.395874</td>\n",
       "      <td>-0.425385</td>\n",
       "      <td>-0.409400</td>\n",
       "      <td>-0.393144</td>\n",
       "      <td>-0.390405</td>\n",
       "    </tr>\n",
       "    <tr>\n",
       "      <th>2016-03-05</th>\n",
       "      <td>0.232658</td>\n",
       "      <td>0.232658</td>\n",
       "      <td>0.775177</td>\n",
       "      <td>-0.229416</td>\n",
       "      <td>-0.637099</td>\n",
       "      <td>-0.425385</td>\n",
       "      <td>-0.417424</td>\n",
       "      <td>2.526055</td>\n",
       "      <td>-0.425385</td>\n",
       "      <td>-0.409400</td>\n",
       "      <td>-0.393144</td>\n",
       "      <td>-0.390405</td>\n",
       "    </tr>\n",
       "    <tr>\n",
       "      <th>2016-03-06</th>\n",
       "      <td>0.232658</td>\n",
       "      <td>0.232658</td>\n",
       "      <td>0.659269</td>\n",
       "      <td>-0.229416</td>\n",
       "      <td>-0.637099</td>\n",
       "      <td>-0.425385</td>\n",
       "      <td>-0.417424</td>\n",
       "      <td>-0.395874</td>\n",
       "      <td>2.350812</td>\n",
       "      <td>-0.409400</td>\n",
       "      <td>-0.393144</td>\n",
       "      <td>-0.390405</td>\n",
       "    </tr>\n",
       "    <tr>\n",
       "      <th>2016-03-07</th>\n",
       "      <td>0.232658</td>\n",
       "      <td>0.232658</td>\n",
       "      <td>1.006991</td>\n",
       "      <td>-0.229416</td>\n",
       "      <td>-0.637099</td>\n",
       "      <td>-0.425385</td>\n",
       "      <td>2.395648</td>\n",
       "      <td>-0.395874</td>\n",
       "      <td>-0.425385</td>\n",
       "      <td>-0.409400</td>\n",
       "      <td>-0.393144</td>\n",
       "      <td>-0.390405</td>\n",
       "    </tr>\n",
       "    <tr>\n",
       "      <th>2016-03-08</th>\n",
       "      <td>0.232658</td>\n",
       "      <td>0.232658</td>\n",
       "      <td>1.006991</td>\n",
       "      <td>-0.229416</td>\n",
       "      <td>-0.637099</td>\n",
       "      <td>-0.425385</td>\n",
       "      <td>-0.417424</td>\n",
       "      <td>-0.395874</td>\n",
       "      <td>-0.425385</td>\n",
       "      <td>-0.409400</td>\n",
       "      <td>2.543596</td>\n",
       "      <td>-0.390405</td>\n",
       "    </tr>\n",
       "    <tr>\n",
       "      <th>2016-03-09</th>\n",
       "      <td>0.232658</td>\n",
       "      <td>0.232658</td>\n",
       "      <td>0.891084</td>\n",
       "      <td>-0.229416</td>\n",
       "      <td>-0.637099</td>\n",
       "      <td>-0.425385</td>\n",
       "      <td>-0.417424</td>\n",
       "      <td>-0.395874</td>\n",
       "      <td>-0.425385</td>\n",
       "      <td>-0.409400</td>\n",
       "      <td>-0.393144</td>\n",
       "      <td>2.561440</td>\n",
       "    </tr>\n",
       "  </tbody>\n",
       "</table>\n",
       "</div>"
      ],
      "text/plain": [
       "            regular_price  discounted_price  number_of_stores  holidays  \\\n",
       "date                                                                      \n",
       "2016-02-05       0.232658          0.232658          0.775177 -0.229416   \n",
       "2016-02-06       0.232658          0.232658          0.717223  4.358899   \n",
       "2016-02-07       0.232658          0.232658          0.311548  4.358899   \n",
       "2016-02-08       0.232658          0.232658          0.485408 -0.229416   \n",
       "2016-02-09       0.232658          0.232658          0.485408 -0.229416   \n",
       "2016-02-11       0.232658          0.232658          0.543362 -0.229416   \n",
       "2016-02-12       0.232658          0.232658          0.775177 -0.229416   \n",
       "2016-02-13       0.232658          0.232658          0.659269 -0.229416   \n",
       "2016-02-14       0.232658          0.232658          0.485408 -0.229416   \n",
       "2016-02-16       0.232658          0.232658          0.659269 -0.229416   \n",
       "2016-02-17       0.232658          0.232658          0.717223 -0.229416   \n",
       "2016-02-19       0.232658          0.232658          0.833130 -0.229416   \n",
       "2016-02-20       0.232658          0.232658          0.891084 -0.229416   \n",
       "2016-02-21       0.232658          0.232658          0.543362 -0.229416   \n",
       "2016-02-22       0.232658          0.232658          0.775177 -0.229416   \n",
       "2016-02-23       0.232658          0.232658          0.949037 -0.229416   \n",
       "2016-02-24       0.232658          0.232658          0.775177 -0.229416   \n",
       "2016-02-25       0.232658          0.232658          0.891084 -0.229416   \n",
       "2016-02-26      -3.665942         -3.665942          0.717223 -0.229416   \n",
       "2016-02-27       0.232658          0.232658          0.891084 -0.229416   \n",
       "2016-02-28       0.232658          0.232658          0.543362 -0.229416   \n",
       "2016-02-29       0.232658          0.232658          0.833130 -0.229416   \n",
       "2016-03-01       0.232658          0.232658          0.775177 -0.229416   \n",
       "2016-03-02       0.232658          0.232658          1.006991 -0.229416   \n",
       "2016-03-04       0.232658          0.232658          0.717223 -0.229416   \n",
       "2016-03-05       0.232658          0.232658          0.775177 -0.229416   \n",
       "2016-03-06       0.232658          0.232658          0.659269 -0.229416   \n",
       "2016-03-07       0.232658          0.232658          1.006991 -0.229416   \n",
       "2016-03-08       0.232658          0.232658          1.006991 -0.229416   \n",
       "2016-03-09       0.232658          0.232658          0.891084 -0.229416   \n",
       "\n",
       "            paycheque_days    Friday    Monday  Saturday    Sunday  Thursday  \\\n",
       "date                                                                           \n",
       "2016-02-05       -0.637099  2.350812 -0.417424 -0.395874 -0.425385 -0.409400   \n",
       "2016-02-06       -0.637099 -0.425385 -0.417424  2.526055 -0.425385 -0.409400   \n",
       "2016-02-07       -0.637099 -0.425385 -0.417424 -0.395874  2.350812 -0.409400   \n",
       "2016-02-08       -0.637099 -0.425385  2.395648 -0.395874 -0.425385 -0.409400   \n",
       "2016-02-09       -0.637099 -0.425385 -0.417424 -0.395874 -0.425385 -0.409400   \n",
       "2016-02-11        1.569614 -0.425385 -0.417424 -0.395874 -0.425385  2.442599   \n",
       "2016-02-12        1.569614  2.350812 -0.417424 -0.395874 -0.425385 -0.409400   \n",
       "2016-02-13        1.569614 -0.425385 -0.417424  2.526055 -0.425385 -0.409400   \n",
       "2016-02-14        1.569614 -0.425385 -0.417424 -0.395874  2.350812 -0.409400   \n",
       "2016-02-16        1.569614 -0.425385 -0.417424 -0.395874 -0.425385 -0.409400   \n",
       "2016-02-17        1.569614 -0.425385 -0.417424 -0.395874 -0.425385 -0.409400   \n",
       "2016-02-19        1.569614  2.350812 -0.417424 -0.395874 -0.425385 -0.409400   \n",
       "2016-02-20       -0.637099 -0.425385 -0.417424  2.526055 -0.425385 -0.409400   \n",
       "2016-02-21       -0.637099 -0.425385 -0.417424 -0.395874  2.350812 -0.409400   \n",
       "2016-02-22       -0.637099 -0.425385  2.395648 -0.395874 -0.425385 -0.409400   \n",
       "2016-02-23       -0.637099 -0.425385 -0.417424 -0.395874 -0.425385 -0.409400   \n",
       "2016-02-24       -0.637099 -0.425385 -0.417424 -0.395874 -0.425385 -0.409400   \n",
       "2016-02-25       -0.637099 -0.425385 -0.417424 -0.395874 -0.425385  2.442599   \n",
       "2016-02-26       -0.637099  2.350812 -0.417424 -0.395874 -0.425385 -0.409400   \n",
       "2016-02-27       -0.637099 -0.425385 -0.417424  2.526055 -0.425385 -0.409400   \n",
       "2016-02-28       -0.637099 -0.425385 -0.417424 -0.395874  2.350812 -0.409400   \n",
       "2016-02-29       -0.637099 -0.425385  2.395648 -0.395874 -0.425385 -0.409400   \n",
       "2016-03-01       -0.637099 -0.425385 -0.417424 -0.395874 -0.425385 -0.409400   \n",
       "2016-03-02       -0.637099 -0.425385 -0.417424 -0.395874 -0.425385 -0.409400   \n",
       "2016-03-04       -0.637099  2.350812 -0.417424 -0.395874 -0.425385 -0.409400   \n",
       "2016-03-05       -0.637099 -0.425385 -0.417424  2.526055 -0.425385 -0.409400   \n",
       "2016-03-06       -0.637099 -0.425385 -0.417424 -0.395874  2.350812 -0.409400   \n",
       "2016-03-07       -0.637099 -0.425385  2.395648 -0.395874 -0.425385 -0.409400   \n",
       "2016-03-08       -0.637099 -0.425385 -0.417424 -0.395874 -0.425385 -0.409400   \n",
       "2016-03-09       -0.637099 -0.425385 -0.417424 -0.395874 -0.425385 -0.409400   \n",
       "\n",
       "             Tuesday  Wednesday  \n",
       "date                             \n",
       "2016-02-05 -0.393144  -0.390405  \n",
       "2016-02-06 -0.393144  -0.390405  \n",
       "2016-02-07 -0.393144  -0.390405  \n",
       "2016-02-08 -0.393144  -0.390405  \n",
       "2016-02-09  2.543596  -0.390405  \n",
       "2016-02-11 -0.393144  -0.390405  \n",
       "2016-02-12 -0.393144  -0.390405  \n",
       "2016-02-13 -0.393144  -0.390405  \n",
       "2016-02-14 -0.393144  -0.390405  \n",
       "2016-02-16  2.543596  -0.390405  \n",
       "2016-02-17 -0.393144   2.561440  \n",
       "2016-02-19 -0.393144  -0.390405  \n",
       "2016-02-20 -0.393144  -0.390405  \n",
       "2016-02-21 -0.393144  -0.390405  \n",
       "2016-02-22 -0.393144  -0.390405  \n",
       "2016-02-23  2.543596  -0.390405  \n",
       "2016-02-24 -0.393144   2.561440  \n",
       "2016-02-25 -0.393144  -0.390405  \n",
       "2016-02-26 -0.393144  -0.390405  \n",
       "2016-02-27 -0.393144  -0.390405  \n",
       "2016-02-28 -0.393144  -0.390405  \n",
       "2016-02-29 -0.393144  -0.390405  \n",
       "2016-03-01  2.543596  -0.390405  \n",
       "2016-03-02 -0.393144   2.561440  \n",
       "2016-03-04 -0.393144  -0.390405  \n",
       "2016-03-05 -0.393144  -0.390405  \n",
       "2016-03-06 -0.393144  -0.390405  \n",
       "2016-03-07 -0.393144  -0.390405  \n",
       "2016-03-08  2.543596  -0.390405  \n",
       "2016-03-09 -0.393144   2.561440  "
      ]
     },
     "execution_count": 100,
     "metadata": {},
     "output_type": "execute_result"
    }
   ],
   "source": [
    "tablica_train[30:60]"
   ]
  },
  {
   "cell_type": "markdown",
   "metadata": {},
   "source": [
    "### 1.1.1. Removing outliers"
   ]
  },
  {
   "cell_type": "code",
   "execution_count": 81,
   "metadata": {},
   "outputs": [],
   "source": [
    "tablica = removing_outliers(tablica)"
   ]
  },
  {
   "cell_type": "markdown",
   "metadata": {},
   "source": [
    "### 1.1.2. Separating data into training and test set"
   ]
  },
  {
   "cell_type": "code",
   "execution_count": 82,
   "metadata": {},
   "outputs": [],
   "source": [
    "tablica_train, tablica_test =  X_train_test_separation(tablica)\n",
    "y_train, y_test =  y_train_test_separation(tablica)"
   ]
  },
  {
   "cell_type": "code",
   "execution_count": 83,
   "metadata": {},
   "outputs": [],
   "source": [
    "# X_38_train.to_parquet('X_38_train.parquet')\n",
    "# X_38_test.to_parquet('X_38_test.parquet')"
   ]
  },
  {
   "cell_type": "markdown",
   "metadata": {},
   "source": [
    "### 1.1.3. Pipeline"
   ]
  },
  {
   "cell_type": "code",
   "execution_count": 84,
   "metadata": {},
   "outputs": [],
   "source": [
    "tablica_train = pipeline.fit_transform(tablica_train)\n",
    "tablica_test = pipeline.transform(tablica_test)"
   ]
  },
  {
   "cell_type": "code",
   "execution_count": 85,
   "metadata": {},
   "outputs": [
    {
     "name": "stdout",
     "output_type": "stream",
     "text": [
      "(620, 12) (620,)\n",
      "(113, 12) (113,)\n"
     ]
    }
   ],
   "source": [
    "print (tablica_train.shape, y_train.shape)\n",
    "print (tablica_test.shape, y_test.shape)"
   ]
  },
  {
   "cell_type": "markdown",
   "metadata": {},
   "source": [
    "## 1.2. Fitting and transforming"
   ]
  },
  {
   "cell_type": "markdown",
   "metadata": {},
   "source": [
    "### 1.2.1. Training set"
   ]
  },
  {
   "cell_type": "code",
   "execution_count": 86,
   "metadata": {},
   "outputs": [],
   "source": [
    "model = lm.fit(tablica_train, y_train)"
   ]
  },
  {
   "cell_type": "code",
   "execution_count": 87,
   "metadata": {},
   "outputs": [],
   "source": [
    "y_train_predicted = model.predict(tablica_train)"
   ]
  },
  {
   "cell_type": "code",
   "execution_count": 88,
   "metadata": {},
   "outputs": [
    {
     "data": {
      "text/plain": [
       "0.20365577239118282"
      ]
     },
     "execution_count": 88,
     "metadata": {},
     "output_type": "execute_result"
    }
   ],
   "source": [
    "model.score(tablica_train,y_train)"
   ]
  },
  {
   "cell_type": "code",
   "execution_count": 89,
   "metadata": {},
   "outputs": [
    {
     "data": {
      "text/plain": [
       "91.38063914345105"
      ]
     },
     "execution_count": 89,
     "metadata": {},
     "output_type": "execute_result"
    }
   ],
   "source": [
    "mae_train = mean_absolute_error(y_train, y_train_predicted)\n",
    "mae_train"
   ]
  },
  {
   "cell_type": "code",
   "execution_count": 90,
   "metadata": {},
   "outputs": [
    {
     "data": {
      "text/plain": [
       "12699.77762146986"
      ]
     },
     "execution_count": 90,
     "metadata": {},
     "output_type": "execute_result"
    }
   ],
   "source": [
    "mse_train = mean_squared_error(y_train, y_train_predicted)\n",
    "mse_train"
   ]
  },
  {
   "cell_type": "code",
   "execution_count": 91,
   "metadata": {},
   "outputs": [
    {
     "data": {
      "text/plain": [
       "[112.77176013154175, 112.69329004634598]"
      ]
     },
     "execution_count": 91,
     "metadata": {},
     "output_type": "execute_result"
    }
   ],
   "source": [
    "rmse_train = np.sqrt(mean_squared_error(y_train, y_train_predicted))\n",
    "rmse_tr.append(rmse_train)\n",
    "rmse_tr"
   ]
  },
  {
   "cell_type": "markdown",
   "metadata": {},
   "source": [
    "### 1.2.2. Test set"
   ]
  },
  {
   "cell_type": "code",
   "execution_count": 92,
   "metadata": {},
   "outputs": [],
   "source": [
    "y_test_predicted = model.predict(tablica_test)"
   ]
  },
  {
   "cell_type": "code",
   "execution_count": 93,
   "metadata": {},
   "outputs": [
    {
     "data": {
      "text/plain": [
       "92.09667027017854"
      ]
     },
     "execution_count": 93,
     "metadata": {},
     "output_type": "execute_result"
    }
   ],
   "source": [
    "mae_test = mean_absolute_error(y_test, y_test_predicted)\n",
    "mae_test"
   ]
  },
  {
   "cell_type": "code",
   "execution_count": 94,
   "metadata": {},
   "outputs": [
    {
     "data": {
      "text/plain": [
       "12805.355575163378"
      ]
     },
     "execution_count": 94,
     "metadata": {},
     "output_type": "execute_result"
    }
   ],
   "source": [
    "mse_test = mean_squared_error(y_test, y_test_predicted)\n",
    "mse_test"
   ]
  },
  {
   "cell_type": "code",
   "execution_count": 95,
   "metadata": {},
   "outputs": [
    {
     "data": {
      "text/plain": [
       "Text(0, 0.5, 'predicted amount sold')"
      ]
     },
     "execution_count": 95,
     "metadata": {},
     "output_type": "execute_result"
    },
    {
     "data": {
      "image/png": "[encoded data removed]",
      "text/plain": [
       "<Figure size 432x288 with 1 Axes>"
      ]
     },
     "metadata": {
      "needs_background": "light"
     },
     "output_type": "display_data"
    }
   ],
   "source": [
    "plt.scatter(y_test, y_test_predicted)\n",
    "plt.title(\"tablica\")\n",
    "plt.xlabel(\"actual amount sold\")\n",
    "plt.ylabel(\"predicted amount sold\")"
   ]
  },
  {
   "cell_type": "markdown",
   "metadata": {},
   "source": [
    "## 1.3. Error metrics"
   ]
  },
  {
   "cell_type": "code",
   "execution_count": 96,
   "metadata": {},
   "outputs": [
    {
     "data": {
      "text/plain": [
       "0.10299406968439573"
      ]
     },
     "execution_count": 96,
     "metadata": {},
     "output_type": "execute_result"
    }
   ],
   "source": [
    "r2_score(y_test,y_test_predicted)"
   ]
  },
  {
   "cell_type": "code",
   "execution_count": 97,
   "metadata": {},
   "outputs": [],
   "source": [
    "r2.append(r2_score(y_test,y_test_predicted))"
   ]
  },
  {
   "cell_type": "code",
   "execution_count": 98,
   "metadata": {},
   "outputs": [
    {
     "data": {
      "text/plain": [
       "[113.61815699547041, 113.16075103658237]"
      ]
     },
     "execution_count": 98,
     "metadata": {},
     "output_type": "execute_result"
    }
   ],
   "source": [
    "rmse_test = np.sqrt(mean_squared_error(y_test, y_test_predicted))\n",
    "rmse_te.append(rmse_test)\n",
    "rmse_te"
   ]
  },
  {
   "cell_type": "code",
   "execution_count": null,
   "metadata": {},
   "outputs": [],
   "source": []
  },
  {
   "cell_type": "markdown",
   "metadata": {},
   "source": [
    "# 2. ITEM 39"
   ]
  },
  {
   "cell_type": "code",
   "execution_count": 38,
   "metadata": {},
   "outputs": [
    {
     "data": {
      "text/html": [
       "<div>\n",
       "<style scoped>\n",
       "    .dataframe tbody tr th:only-of-type {\n",
       "        vertical-align: middle;\n",
       "    }\n",
       "\n",
       "    .dataframe tbody tr th {\n",
       "        vertical-align: top;\n",
       "    }\n",
       "\n",
       "    .dataframe thead th {\n",
       "        text-align: right;\n",
       "    }\n",
       "</style>\n",
       "<table border=\"1\" class=\"dataframe\">\n",
       "  <thead>\n",
       "    <tr style=\"text-align: right;\">\n",
       "      <th></th>\n",
       "      <th>regular_price</th>\n",
       "      <th>discounted_price</th>\n",
       "      <th>number_of_stores</th>\n",
       "      <th>amount</th>\n",
       "    </tr>\n",
       "  </thead>\n",
       "  <tbody>\n",
       "    <tr>\n",
       "      <th>count</th>\n",
       "      <td>869.000000</td>\n",
       "      <td>869.000000</td>\n",
       "      <td>869.000000</td>\n",
       "      <td>869.000000</td>\n",
       "    </tr>\n",
       "    <tr>\n",
       "      <th>mean</th>\n",
       "      <td>0.099999</td>\n",
       "      <td>0.099999</td>\n",
       "      <td>458.894131</td>\n",
       "      <td>3445.628308</td>\n",
       "    </tr>\n",
       "    <tr>\n",
       "      <th>std</th>\n",
       "      <td>0.000034</td>\n",
       "      <td>0.000034</td>\n",
       "      <td>6.215435</td>\n",
       "      <td>1812.797700</td>\n",
       "    </tr>\n",
       "    <tr>\n",
       "      <th>min</th>\n",
       "      <td>0.099000</td>\n",
       "      <td>0.099000</td>\n",
       "      <td>423.000000</td>\n",
       "      <td>43.000000</td>\n",
       "    </tr>\n",
       "    <tr>\n",
       "      <th>25%</th>\n",
       "      <td>0.100000</td>\n",
       "      <td>0.100000</td>\n",
       "      <td>457.000000</td>\n",
       "      <td>2053.000000</td>\n",
       "    </tr>\n",
       "    <tr>\n",
       "      <th>50%</th>\n",
       "      <td>0.100000</td>\n",
       "      <td>0.100000</td>\n",
       "      <td>461.000000</td>\n",
       "      <td>3091.000000</td>\n",
       "    </tr>\n",
       "    <tr>\n",
       "      <th>75%</th>\n",
       "      <td>0.100000</td>\n",
       "      <td>0.100000</td>\n",
       "      <td>463.000000</td>\n",
       "      <td>4389.000000</td>\n",
       "    </tr>\n",
       "    <tr>\n",
       "      <th>max</th>\n",
       "      <td>0.100000</td>\n",
       "      <td>0.100000</td>\n",
       "      <td>467.000000</td>\n",
       "      <td>10120.000000</td>\n",
       "    </tr>\n",
       "  </tbody>\n",
       "</table>\n",
       "</div>"
      ],
      "text/plain": [
       "       regular_price  discounted_price  number_of_stores        amount\n",
       "count     869.000000        869.000000        869.000000    869.000000\n",
       "mean        0.099999          0.099999        458.894131   3445.628308\n",
       "std         0.000034          0.000034          6.215435   1812.797700\n",
       "min         0.099000          0.099000        423.000000     43.000000\n",
       "25%         0.100000          0.100000        457.000000   2053.000000\n",
       "50%         0.100000          0.100000        461.000000   3091.000000\n",
       "75%         0.100000          0.100000        463.000000   4389.000000\n",
       "max         0.100000          0.100000        467.000000  10120.000000"
      ]
     },
     "execution_count": 38,
     "metadata": {},
     "output_type": "execute_result"
    }
   ],
   "source": [
    "X_39.describe()"
   ]
  },
  {
   "cell_type": "markdown",
   "metadata": {},
   "source": [
    "## 2.1. Data preprocessing"
   ]
  },
  {
   "cell_type": "markdown",
   "metadata": {},
   "source": [
    "### 2.1.1. Removing outliers"
   ]
  },
  {
   "cell_type": "code",
   "execution_count": 39,
   "metadata": {},
   "outputs": [],
   "source": [
    "X_39 = removing_outliers(X_39)"
   ]
  },
  {
   "cell_type": "markdown",
   "metadata": {},
   "source": [
    "### 2.1.2. Separating data into training and test set"
   ]
  },
  {
   "cell_type": "code",
   "execution_count": 40,
   "metadata": {},
   "outputs": [],
   "source": [
    "X_39_train, X_39_test =  X_train_test_separation(X_39)\n",
    "y_39_train, y_39_test =  y_train_test_separation(X_39)"
   ]
  },
  {
   "cell_type": "code",
   "execution_count": 41,
   "metadata": {},
   "outputs": [
    {
     "name": "stdout",
     "output_type": "stream",
     "text": [
      "(643, 3) (643,)\n",
      "(138, 3) (138,)\n"
     ]
    }
   ],
   "source": [
    "print (X_39_train.shape, y_39_train.shape)\n",
    "print (X_39_test.shape, y_39_test.shape)"
   ]
  },
  {
   "cell_type": "markdown",
   "metadata": {},
   "source": [
    "### 2.1.3. Pipeline"
   ]
  },
  {
   "cell_type": "code",
   "execution_count": 42,
   "metadata": {},
   "outputs": [],
   "source": [
    "X_39_train = pipeline.fit_transform(X_39_train)\n",
    "X_39_test = pipeline.transform(X_39_test)"
   ]
  },
  {
   "cell_type": "code",
   "execution_count": 43,
   "metadata": {},
   "outputs": [
    {
     "name": "stdout",
     "output_type": "stream",
     "text": [
      "(643, 10) (643,)\n",
      "(138, 10) (138,)\n"
     ]
    }
   ],
   "source": [
    "print (X_39_train.shape, y_39_train.shape)\n",
    "print (X_39_test.shape, y_39_test.shape)"
   ]
  },
  {
   "cell_type": "markdown",
   "metadata": {},
   "source": [
    "## 2.2. Fitting and transforming"
   ]
  },
  {
   "cell_type": "markdown",
   "metadata": {},
   "source": [
    "### 2.2.1. Training set"
   ]
  },
  {
   "cell_type": "code",
   "execution_count": 44,
   "metadata": {},
   "outputs": [],
   "source": [
    "model_39 = lm.fit(X_39_train, y_39_train)"
   ]
  },
  {
   "cell_type": "code",
   "execution_count": 45,
   "metadata": {},
   "outputs": [],
   "source": [
    "y_39_train_predicted = model_39.predict(X_39_train)"
   ]
  },
  {
   "cell_type": "code",
   "execution_count": 46,
   "metadata": {},
   "outputs": [
    {
     "data": {
      "text/plain": [
       "0.249356618942476"
      ]
     },
     "execution_count": 46,
     "metadata": {},
     "output_type": "execute_result"
    }
   ],
   "source": [
    "model_39.score(X_39_train, y_39_train)"
   ]
  },
  {
   "cell_type": "code",
   "execution_count": 47,
   "metadata": {},
   "outputs": [
    {
     "data": {
      "text/plain": [
       "962.5253621728317"
      ]
     },
     "execution_count": 47,
     "metadata": {},
     "output_type": "execute_result"
    }
   ],
   "source": [
    "mae_39_train = mean_absolute_error(y_39_train, y_39_train_predicted)\n",
    "mae_39_train"
   ]
  },
  {
   "cell_type": "code",
   "execution_count": 48,
   "metadata": {},
   "outputs": [
    {
     "data": {
      "text/plain": [
       "1460334.9457869066"
      ]
     },
     "execution_count": 48,
     "metadata": {},
     "output_type": "execute_result"
    }
   ],
   "source": [
    "mse_39_train = mean_squared_error(y_39_train, y_39_train_predicted)\n",
    "mse_39_train"
   ]
  },
  {
   "cell_type": "code",
   "execution_count": 49,
   "metadata": {},
   "outputs": [
    {
     "data": {
      "text/plain": [
       "1208.443190963856"
      ]
     },
     "execution_count": 49,
     "metadata": {},
     "output_type": "execute_result"
    }
   ],
   "source": [
    "rmse_39_train = np.sqrt(mean_squared_error(y_39_train, y_39_train_predicted))\n",
    "rmse_train.append(rmse_39_train)\n",
    "rmse_39_train"
   ]
  },
  {
   "cell_type": "markdown",
   "metadata": {},
   "source": [
    "### 2.2.2. Test set"
   ]
  },
  {
   "cell_type": "code",
   "execution_count": 50,
   "metadata": {},
   "outputs": [],
   "source": [
    "y_39_test_predicted = model_39.predict(X_39_test)"
   ]
  },
  {
   "cell_type": "code",
   "execution_count": 51,
   "metadata": {},
   "outputs": [
    {
     "data": {
      "text/plain": [
       "835.7810819147086"
      ]
     },
     "execution_count": 51,
     "metadata": {},
     "output_type": "execute_result"
    }
   ],
   "source": [
    "mae_39_test = mean_absolute_error(y_39_test, y_39_test_predicted)\n",
    "mae_39_test"
   ]
  },
  {
   "cell_type": "code",
   "execution_count": 52,
   "metadata": {},
   "outputs": [
    {
     "data": {
      "text/plain": [
       "1053298.9231401011"
      ]
     },
     "execution_count": 52,
     "metadata": {},
     "output_type": "execute_result"
    }
   ],
   "source": [
    "mse_39_test = mean_squared_error(y_39_test, y_39_test_predicted)\n",
    "mse_39_test"
   ]
  },
  {
   "cell_type": "code",
   "execution_count": 53,
   "metadata": {},
   "outputs": [
    {
     "data": {
      "text/plain": [
       "Text(0, 0.5, 'predicted amount sold')"
      ]
     },
     "execution_count": 53,
     "metadata": {},
     "output_type": "execute_result"
    },
    {
     "data": {
      "image/png": "[encoded data removed]",
      "text/plain": [
       "<Figure size 432x288 with 1 Axes>"
      ]
     },
     "metadata": {
      "needs_background": "light"
     },
     "output_type": "display_data"
    }
   ],
   "source": [
    "plt.scatter(y_39_test, y_39_test_predicted)\n",
    "plt.title(\"ITEM 39\")\n",
    "plt.xlabel(\"actual amount sold\")\n",
    "plt.ylabel(\"predicted amount sold\")"
   ]
  },
  {
   "cell_type": "markdown",
   "metadata": {},
   "source": [
    "## 2.3. Error metrics"
   ]
  },
  {
   "cell_type": "code",
   "execution_count": 54,
   "metadata": {},
   "outputs": [
    {
     "data": {
      "text/plain": [
       "0.44506806718154923"
      ]
     },
     "execution_count": 54,
     "metadata": {},
     "output_type": "execute_result"
    }
   ],
   "source": [
    "r2_score(y_39_test,y_39_test_predicted)"
   ]
  },
  {
   "cell_type": "code",
   "execution_count": 55,
   "metadata": {},
   "outputs": [],
   "source": [
    "r2.append(r2_score(y_39_test,y_39_test_predicted))"
   ]
  },
  {
   "cell_type": "code",
   "execution_count": 56,
   "metadata": {},
   "outputs": [
    {
     "data": {
      "text/plain": [
       "1026.3035238856492"
      ]
     },
     "execution_count": 56,
     "metadata": {},
     "output_type": "execute_result"
    }
   ],
   "source": [
    "rmse_39_test = np.sqrt(mean_squared_error(y_39_test, y_39_test_predicted))\n",
    "rmse_test.append(rmse_39_test)\n",
    "rmse_39_test"
   ]
  },
  {
   "cell_type": "code",
   "execution_count": null,
   "metadata": {},
   "outputs": [],
   "source": []
  },
  {
   "cell_type": "markdown",
   "metadata": {},
   "source": [
    "# 3. ITEM 40"
   ]
  },
  {
   "cell_type": "code",
   "execution_count": 57,
   "metadata": {},
   "outputs": [
    {
     "data": {
      "text/html": [
       "<div>\n",
       "<style scoped>\n",
       "    .dataframe tbody tr th:only-of-type {\n",
       "        vertical-align: middle;\n",
       "    }\n",
       "\n",
       "    .dataframe tbody tr th {\n",
       "        vertical-align: top;\n",
       "    }\n",
       "\n",
       "    .dataframe thead th {\n",
       "        text-align: right;\n",
       "    }\n",
       "</style>\n",
       "<table border=\"1\" class=\"dataframe\">\n",
       "  <thead>\n",
       "    <tr style=\"text-align: right;\">\n",
       "      <th></th>\n",
       "      <th>regular_price</th>\n",
       "      <th>discounted_price</th>\n",
       "      <th>number_of_stores</th>\n",
       "      <th>amount</th>\n",
       "    </tr>\n",
       "  </thead>\n",
       "  <tbody>\n",
       "    <tr>\n",
       "      <th>count</th>\n",
       "      <td>869.000000</td>\n",
       "      <td>869.000000</td>\n",
       "      <td>869.000000</td>\n",
       "      <td>869.000000</td>\n",
       "    </tr>\n",
       "    <tr>\n",
       "      <th>mean</th>\n",
       "      <td>0.763195</td>\n",
       "      <td>0.684793</td>\n",
       "      <td>315.353280</td>\n",
       "      <td>156.615650</td>\n",
       "    </tr>\n",
       "    <tr>\n",
       "      <th>std</th>\n",
       "      <td>0.036849</td>\n",
       "      <td>0.120316</td>\n",
       "      <td>58.894878</td>\n",
       "      <td>115.959738</td>\n",
       "    </tr>\n",
       "    <tr>\n",
       "      <th>min</th>\n",
       "      <td>0.539000</td>\n",
       "      <td>0.249000</td>\n",
       "      <td>212.000000</td>\n",
       "      <td>4.000000</td>\n",
       "    </tr>\n",
       "    <tr>\n",
       "      <th>25%</th>\n",
       "      <td>0.769000</td>\n",
       "      <td>0.570000</td>\n",
       "      <td>268.000000</td>\n",
       "      <td>82.000000</td>\n",
       "    </tr>\n",
       "    <tr>\n",
       "      <th>50%</th>\n",
       "      <td>0.769000</td>\n",
       "      <td>0.769000</td>\n",
       "      <td>304.000000</td>\n",
       "      <td>128.000000</td>\n",
       "    </tr>\n",
       "    <tr>\n",
       "      <th>75%</th>\n",
       "      <td>0.770000</td>\n",
       "      <td>0.769000</td>\n",
       "      <td>333.000000</td>\n",
       "      <td>190.000000</td>\n",
       "    </tr>\n",
       "    <tr>\n",
       "      <th>max</th>\n",
       "      <td>0.771000</td>\n",
       "      <td>0.782000</td>\n",
       "      <td>450.000000</td>\n",
       "      <td>866.000000</td>\n",
       "    </tr>\n",
       "  </tbody>\n",
       "</table>\n",
       "</div>"
      ],
      "text/plain": [
       "       regular_price  discounted_price  number_of_stores      amount\n",
       "count     869.000000        869.000000        869.000000  869.000000\n",
       "mean        0.763195          0.684793        315.353280  156.615650\n",
       "std         0.036849          0.120316         58.894878  115.959738\n",
       "min         0.539000          0.249000        212.000000    4.000000\n",
       "25%         0.769000          0.570000        268.000000   82.000000\n",
       "50%         0.769000          0.769000        304.000000  128.000000\n",
       "75%         0.770000          0.769000        333.000000  190.000000\n",
       "max         0.771000          0.782000        450.000000  866.000000"
      ]
     },
     "execution_count": 57,
     "metadata": {},
     "output_type": "execute_result"
    }
   ],
   "source": [
    "X_40.describe()"
   ]
  },
  {
   "cell_type": "markdown",
   "metadata": {},
   "source": [
    "## 3.1. Data preprocessing"
   ]
  },
  {
   "cell_type": "markdown",
   "metadata": {},
   "source": [
    "### 3.1.1. Removing outliers"
   ]
  },
  {
   "cell_type": "code",
   "execution_count": 58,
   "metadata": {},
   "outputs": [],
   "source": [
    "X_40 = removing_outliers(X_40)"
   ]
  },
  {
   "cell_type": "markdown",
   "metadata": {},
   "source": [
    "### 3.1.2. Separating data into training and test set"
   ]
  },
  {
   "cell_type": "code",
   "execution_count": 59,
   "metadata": {},
   "outputs": [],
   "source": [
    "X_40_train, X_40_test =  X_train_test_separation(X_40)\n",
    "y_40_train, y_40_test =  y_train_test_separation(X_40)"
   ]
  },
  {
   "cell_type": "markdown",
   "metadata": {},
   "source": [
    "### 3.1.3. Pipeline"
   ]
  },
  {
   "cell_type": "code",
   "execution_count": 60,
   "metadata": {},
   "outputs": [],
   "source": [
    "X_40_train = pipeline.fit_transform(X_40_train)\n",
    "X_40_test = pipeline.transform(X_40_test)"
   ]
  },
  {
   "cell_type": "code",
   "execution_count": 61,
   "metadata": {},
   "outputs": [
    {
     "name": "stdout",
     "output_type": "stream",
     "text": [
      "(644, 10) (644,)\n",
      "(136, 10) (136,)\n"
     ]
    }
   ],
   "source": [
    "print (X_40_train.shape, y_40_train.shape)\n",
    "print (X_40_test.shape, y_40_test.shape)"
   ]
  },
  {
   "cell_type": "markdown",
   "metadata": {},
   "source": [
    "## 3.2. Fitting and transforming"
   ]
  },
  {
   "cell_type": "markdown",
   "metadata": {},
   "source": [
    "### 3.2.1. Training set"
   ]
  },
  {
   "cell_type": "code",
   "execution_count": 62,
   "metadata": {},
   "outputs": [],
   "source": [
    "model_40 = lm.fit(X_40_train, y_40_train)"
   ]
  },
  {
   "cell_type": "code",
   "execution_count": 63,
   "metadata": {},
   "outputs": [],
   "source": [
    "y_40_train_predicted = model_40.predict(X_40_train)"
   ]
  },
  {
   "cell_type": "code",
   "execution_count": 64,
   "metadata": {},
   "outputs": [
    {
     "data": {
      "text/plain": [
       "0.4225868525901731"
      ]
     },
     "execution_count": 64,
     "metadata": {},
     "output_type": "execute_result"
    }
   ],
   "source": [
    "model_40.score(X_40_train, y_40_train)"
   ]
  },
  {
   "cell_type": "code",
   "execution_count": 65,
   "metadata": {},
   "outputs": [
    {
     "data": {
      "text/plain": [
       "41.425561232220375"
      ]
     },
     "execution_count": 65,
     "metadata": {},
     "output_type": "execute_result"
    }
   ],
   "source": [
    "mae_40_train = mean_absolute_error(y_40_train, y_40_train_predicted)\n",
    "mae_40_train"
   ]
  },
  {
   "cell_type": "code",
   "execution_count": 66,
   "metadata": {},
   "outputs": [
    {
     "data": {
      "text/plain": [
       "3101.960979543542"
      ]
     },
     "execution_count": 66,
     "metadata": {},
     "output_type": "execute_result"
    }
   ],
   "source": [
    "mse_40_train = mean_squared_error(y_40_train, y_40_train_predicted)\n",
    "mse_40_train"
   ]
  },
  {
   "cell_type": "code",
   "execution_count": 67,
   "metadata": {},
   "outputs": [
    {
     "data": {
      "text/plain": [
       "55.69525096041441"
      ]
     },
     "execution_count": 67,
     "metadata": {},
     "output_type": "execute_result"
    }
   ],
   "source": [
    "rmse_40_train = np.sqrt(mean_squared_error(y_40_train, y_40_train_predicted))\n",
    "rmse_train.append(rmse_40_train)\n",
    "rmse_40_train"
   ]
  },
  {
   "cell_type": "markdown",
   "metadata": {},
   "source": [
    "### 3.2.2. Test set"
   ]
  },
  {
   "cell_type": "code",
   "execution_count": 68,
   "metadata": {},
   "outputs": [],
   "source": [
    "y_40_test_predicted = model_40.predict(X_40_test)"
   ]
  },
  {
   "cell_type": "code",
   "execution_count": 69,
   "metadata": {},
   "outputs": [
    {
     "data": {
      "text/plain": [
       "40.866519280297794"
      ]
     },
     "execution_count": 69,
     "metadata": {},
     "output_type": "execute_result"
    }
   ],
   "source": [
    "mae_40_test = mean_absolute_error(y_40_test, y_40_test_predicted)\n",
    "mae_40_test"
   ]
  },
  {
   "cell_type": "code",
   "execution_count": 70,
   "metadata": {},
   "outputs": [
    {
     "data": {
      "text/plain": [
       "2943.234272835755"
      ]
     },
     "execution_count": 70,
     "metadata": {},
     "output_type": "execute_result"
    }
   ],
   "source": [
    "mse_40_test = mean_squared_error(y_40_test, y_40_test_predicted)\n",
    "mse_40_test"
   ]
  },
  {
   "cell_type": "code",
   "execution_count": 71,
   "metadata": {},
   "outputs": [
    {
     "data": {
      "text/plain": [
       "Text(0, 0.5, 'predicted amount sold')"
      ]
     },
     "execution_count": 71,
     "metadata": {},
     "output_type": "execute_result"
    },
    {
     "data": {
      "image/png": "[encoded data removed]",
      "text/plain": [
       "<Figure size 432x288 with 1 Axes>"
      ]
     },
     "metadata": {
      "needs_background": "light"
     },
     "output_type": "display_data"
    }
   ],
   "source": [
    "plt.scatter(y_40_test, y_40_test_predicted)\n",
    "plt.title(\"ITEM 38\")\n",
    "plt.xlabel(\"actual amount sold\")\n",
    "plt.ylabel(\"predicted amount sold\")"
   ]
  },
  {
   "cell_type": "markdown",
   "metadata": {},
   "source": [
    "## 3.3. Error metrics"
   ]
  },
  {
   "cell_type": "code",
   "execution_count": 72,
   "metadata": {},
   "outputs": [
    {
     "data": {
      "text/plain": [
       "0.3594811397084795"
      ]
     },
     "execution_count": 72,
     "metadata": {},
     "output_type": "execute_result"
    }
   ],
   "source": [
    "r2_score(y_40_test,y_40_test_predicted)"
   ]
  },
  {
   "cell_type": "code",
   "execution_count": 73,
   "metadata": {},
   "outputs": [],
   "source": [
    "r2.append(r2_score(y_40_test,y_40_test_predicted))"
   ]
  },
  {
   "cell_type": "code",
   "execution_count": 74,
   "metadata": {},
   "outputs": [
    {
     "data": {
      "text/plain": [
       "54.2515831366768"
      ]
     },
     "execution_count": 74,
     "metadata": {},
     "output_type": "execute_result"
    }
   ],
   "source": [
    "rmse_40_test = np.sqrt(mean_squared_error(y_40_test, y_40_test_predicted))\n",
    "rmse_test.append(rmse_40_test)\n",
    "rmse_40_test"
   ]
  },
  {
   "cell_type": "code",
   "execution_count": null,
   "metadata": {},
   "outputs": [],
   "source": []
  },
  {
   "cell_type": "markdown",
   "metadata": {},
   "source": [
    "# 4. ITEM 41"
   ]
  },
  {
   "cell_type": "code",
   "execution_count": 75,
   "metadata": {},
   "outputs": [
    {
     "data": {
      "text/html": [
       "<div>\n",
       "<style scoped>\n",
       "    .dataframe tbody tr th:only-of-type {\n",
       "        vertical-align: middle;\n",
       "    }\n",
       "\n",
       "    .dataframe tbody tr th {\n",
       "        vertical-align: top;\n",
       "    }\n",
       "\n",
       "    .dataframe thead th {\n",
       "        text-align: right;\n",
       "    }\n",
       "</style>\n",
       "<table border=\"1\" class=\"dataframe\">\n",
       "  <thead>\n",
       "    <tr style=\"text-align: right;\">\n",
       "      <th></th>\n",
       "      <th>regular_price</th>\n",
       "      <th>discounted_price</th>\n",
       "      <th>number_of_stores</th>\n",
       "      <th>amount</th>\n",
       "    </tr>\n",
       "  </thead>\n",
       "  <tbody>\n",
       "    <tr>\n",
       "      <th>count</th>\n",
       "      <td>867.000000</td>\n",
       "      <td>867.000000</td>\n",
       "      <td>867.000000</td>\n",
       "      <td>867.000000</td>\n",
       "    </tr>\n",
       "    <tr>\n",
       "      <th>mean</th>\n",
       "      <td>1.631242</td>\n",
       "      <td>1.619437</td>\n",
       "      <td>124.832757</td>\n",
       "      <td>29.512111</td>\n",
       "    </tr>\n",
       "    <tr>\n",
       "      <th>std</th>\n",
       "      <td>0.000605</td>\n",
       "      <td>0.064786</td>\n",
       "      <td>29.843796</td>\n",
       "      <td>15.891616</td>\n",
       "    </tr>\n",
       "    <tr>\n",
       "      <th>min</th>\n",
       "      <td>1.630000</td>\n",
       "      <td>1.078000</td>\n",
       "      <td>92.000000</td>\n",
       "      <td>1.000000</td>\n",
       "    </tr>\n",
       "    <tr>\n",
       "      <th>25%</th>\n",
       "      <td>1.631000</td>\n",
       "      <td>1.631000</td>\n",
       "      <td>99.000000</td>\n",
       "      <td>18.000000</td>\n",
       "    </tr>\n",
       "    <tr>\n",
       "      <th>50%</th>\n",
       "      <td>1.631000</td>\n",
       "      <td>1.631000</td>\n",
       "      <td>115.000000</td>\n",
       "      <td>27.000000</td>\n",
       "    </tr>\n",
       "    <tr>\n",
       "      <th>75%</th>\n",
       "      <td>1.632000</td>\n",
       "      <td>1.632000</td>\n",
       "      <td>152.000000</td>\n",
       "      <td>39.000000</td>\n",
       "    </tr>\n",
       "    <tr>\n",
       "      <th>max</th>\n",
       "      <td>1.632000</td>\n",
       "      <td>1.705000</td>\n",
       "      <td>185.000000</td>\n",
       "      <td>99.000000</td>\n",
       "    </tr>\n",
       "  </tbody>\n",
       "</table>\n",
       "</div>"
      ],
      "text/plain": [
       "       regular_price  discounted_price  number_of_stores      amount\n",
       "count     867.000000        867.000000        867.000000  867.000000\n",
       "mean        1.631242          1.619437        124.832757   29.512111\n",
       "std         0.000605          0.064786         29.843796   15.891616\n",
       "min         1.630000          1.078000         92.000000    1.000000\n",
       "25%         1.631000          1.631000         99.000000   18.000000\n",
       "50%         1.631000          1.631000        115.000000   27.000000\n",
       "75%         1.632000          1.632000        152.000000   39.000000\n",
       "max         1.632000          1.705000        185.000000   99.000000"
      ]
     },
     "execution_count": 75,
     "metadata": {},
     "output_type": "execute_result"
    }
   ],
   "source": [
    "X_41.describe()"
   ]
  },
  {
   "cell_type": "markdown",
   "metadata": {},
   "source": [
    "## 4.1. Data preprocessing"
   ]
  },
  {
   "cell_type": "markdown",
   "metadata": {},
   "source": [
    "### 4.1.1. Removing outliers"
   ]
  },
  {
   "cell_type": "code",
   "execution_count": 76,
   "metadata": {},
   "outputs": [],
   "source": [
    "X_41 = removing_outliers(X_41)"
   ]
  },
  {
   "cell_type": "markdown",
   "metadata": {},
   "source": [
    "### 4.1.2. Separating data into training and test set"
   ]
  },
  {
   "cell_type": "code",
   "execution_count": 77,
   "metadata": {},
   "outputs": [],
   "source": [
    "X_41_train, X_41_test =  X_train_test_separation(X_41)\n",
    "y_41_train, y_41_test =  y_train_test_separation(X_41)"
   ]
  },
  {
   "cell_type": "markdown",
   "metadata": {},
   "source": [
    "### 4.1.3. Pipeline"
   ]
  },
  {
   "cell_type": "code",
   "execution_count": 78,
   "metadata": {},
   "outputs": [],
   "source": [
    "X_41_train = pipeline.fit_transform(X_41_train)\n",
    "X_41_test = pipeline.transform(X_41_test)"
   ]
  },
  {
   "cell_type": "code",
   "execution_count": 79,
   "metadata": {},
   "outputs": [
    {
     "name": "stdout",
     "output_type": "stream",
     "text": [
      "(645, 10) (645,)\n",
      "(128, 10) (128,)\n"
     ]
    }
   ],
   "source": [
    "print (X_41_train.shape, y_41_train.shape)\n",
    "print (X_41_test.shape, y_41_test.shape)"
   ]
  },
  {
   "cell_type": "markdown",
   "metadata": {},
   "source": [
    "## 4.2. Fitting and transforming"
   ]
  },
  {
   "cell_type": "markdown",
   "metadata": {},
   "source": [
    "### 4.2.1. Training set"
   ]
  },
  {
   "cell_type": "code",
   "execution_count": 80,
   "metadata": {},
   "outputs": [],
   "source": [
    "model_41 = lm.fit(X_41_train, y_41_train)"
   ]
  },
  {
   "cell_type": "code",
   "execution_count": 81,
   "metadata": {},
   "outputs": [],
   "source": [
    "y_41_train_predicted = model_41.predict(X_41_train)"
   ]
  },
  {
   "cell_type": "code",
   "execution_count": 82,
   "metadata": {},
   "outputs": [
    {
     "data": {
      "text/plain": [
       "0.4795487790452177"
      ]
     },
     "execution_count": 82,
     "metadata": {},
     "output_type": "execute_result"
    }
   ],
   "source": [
    "model_41.score(X_41_train, y_41_train)"
   ]
  },
  {
   "cell_type": "code",
   "execution_count": 83,
   "metadata": {},
   "outputs": [
    {
     "data": {
      "text/plain": [
       "6.924228821690725"
      ]
     },
     "execution_count": 83,
     "metadata": {},
     "output_type": "execute_result"
    }
   ],
   "source": [
    "mae_41_train = mean_absolute_error(y_41_train, y_41_train_predicted)\n",
    "mae_41_train"
   ]
  },
  {
   "cell_type": "code",
   "execution_count": 84,
   "metadata": {},
   "outputs": [
    {
     "data": {
      "text/plain": [
       "77.30401190921812"
      ]
     },
     "execution_count": 84,
     "metadata": {},
     "output_type": "execute_result"
    }
   ],
   "source": [
    "mse_41_train = mean_squared_error(y_41_train, y_41_train_predicted)\n",
    "mse_41_train"
   ]
  },
  {
   "cell_type": "code",
   "execution_count": 85,
   "metadata": {},
   "outputs": [
    {
     "data": {
      "text/plain": [
       "8.79227000888952"
      ]
     },
     "execution_count": 85,
     "metadata": {},
     "output_type": "execute_result"
    }
   ],
   "source": [
    "rmse_41_train = np.sqrt(mean_squared_error(y_41_train, y_41_train_predicted))\n",
    "rmse_train.append(rmse_41_train)\n",
    "rmse_41_train"
   ]
  },
  {
   "cell_type": "markdown",
   "metadata": {},
   "source": [
    "### 4.2.1. Training set"
   ]
  },
  {
   "cell_type": "code",
   "execution_count": 86,
   "metadata": {},
   "outputs": [],
   "source": [
    "y_41_test_predicted = model_41.predict(X_41_test)"
   ]
  },
  {
   "cell_type": "code",
   "execution_count": 87,
   "metadata": {},
   "outputs": [
    {
     "data": {
      "text/plain": [
       "8.959824408152604"
      ]
     },
     "execution_count": 87,
     "metadata": {},
     "output_type": "execute_result"
    }
   ],
   "source": [
    "mae_41_test = mean_absolute_error(y_41_test, y_41_test_predicted)\n",
    "mae_41_test"
   ]
  },
  {
   "cell_type": "code",
   "execution_count": 88,
   "metadata": {},
   "outputs": [
    {
     "data": {
      "text/plain": [
       "113.12938355259311"
      ]
     },
     "execution_count": 88,
     "metadata": {},
     "output_type": "execute_result"
    }
   ],
   "source": [
    "mse_41_test = mean_squared_error(y_41_test, y_41_test_predicted)\n",
    "mse_41_test"
   ]
  },
  {
   "cell_type": "code",
   "execution_count": 89,
   "metadata": {},
   "outputs": [
    {
     "data": {
      "text/plain": [
       "Text(0, 0.5, 'predicted amount sold')"
      ]
     },
     "execution_count": 89,
     "metadata": {},
     "output_type": "execute_result"
    },
    {
     "data": {
      "image/png": "[encoded data removed]",
      "text/plain": [
       "<Figure size 432x288 with 1 Axes>"
      ]
     },
     "metadata": {
      "needs_background": "light"
     },
     "output_type": "display_data"
    }
   ],
   "source": [
    "plt.scatter(y_41_test, y_41_test_predicted)\n",
    "plt.title(\"ITEM 41\")\n",
    "plt.xlabel(\"actual amount sold\")\n",
    "plt.ylabel(\"predicted amount sold\")"
   ]
  },
  {
   "cell_type": "markdown",
   "metadata": {},
   "source": [
    "## 4.3. Error metrics"
   ]
  },
  {
   "cell_type": "code",
   "execution_count": 90,
   "metadata": {},
   "outputs": [
    {
     "data": {
      "text/plain": [
       "0.15859610141011515"
      ]
     },
     "execution_count": 90,
     "metadata": {},
     "output_type": "execute_result"
    }
   ],
   "source": [
    "r2_score(y_41_test,y_41_test_predicted)"
   ]
  },
  {
   "cell_type": "code",
   "execution_count": 91,
   "metadata": {},
   "outputs": [],
   "source": [
    "r2.append(r2_score(y_41_test,y_41_test_predicted))"
   ]
  },
  {
   "cell_type": "code",
   "execution_count": 92,
   "metadata": {},
   "outputs": [
    {
     "data": {
      "text/plain": [
       "10.636229762119335"
      ]
     },
     "execution_count": 92,
     "metadata": {},
     "output_type": "execute_result"
    }
   ],
   "source": [
    "rmse_41_test = np.sqrt(mean_squared_error(y_41_test, y_41_test_predicted))\n",
    "rmse_test.append(rmse_41_test)\n",
    "rmse_41_test"
   ]
  },
  {
   "cell_type": "code",
   "execution_count": null,
   "metadata": {},
   "outputs": [],
   "source": []
  },
  {
   "cell_type": "markdown",
   "metadata": {},
   "source": [
    "# 5. ITEM 57"
   ]
  },
  {
   "cell_type": "code",
   "execution_count": 93,
   "metadata": {},
   "outputs": [
    {
     "data": {
      "text/html": [
       "<div>\n",
       "<style scoped>\n",
       "    .dataframe tbody tr th:only-of-type {\n",
       "        vertical-align: middle;\n",
       "    }\n",
       "\n",
       "    .dataframe tbody tr th {\n",
       "        vertical-align: top;\n",
       "    }\n",
       "\n",
       "    .dataframe thead th {\n",
       "        text-align: right;\n",
       "    }\n",
       "</style>\n",
       "<table border=\"1\" class=\"dataframe\">\n",
       "  <thead>\n",
       "    <tr style=\"text-align: right;\">\n",
       "      <th></th>\n",
       "      <th>regular_price</th>\n",
       "      <th>discounted_price</th>\n",
       "      <th>number_of_stores</th>\n",
       "      <th>amount</th>\n",
       "    </tr>\n",
       "  </thead>\n",
       "  <tbody>\n",
       "    <tr>\n",
       "      <th>count</th>\n",
       "      <td>801.000000</td>\n",
       "      <td>801.000000</td>\n",
       "      <td>801.000000</td>\n",
       "      <td>801.000000</td>\n",
       "    </tr>\n",
       "    <tr>\n",
       "      <th>mean</th>\n",
       "      <td>0.080722</td>\n",
       "      <td>0.080722</td>\n",
       "      <td>87.906367</td>\n",
       "      <td>60.675406</td>\n",
       "    </tr>\n",
       "    <tr>\n",
       "      <th>std</th>\n",
       "      <td>0.002036</td>\n",
       "      <td>0.002036</td>\n",
       "      <td>8.902105</td>\n",
       "      <td>44.194819</td>\n",
       "    </tr>\n",
       "    <tr>\n",
       "      <th>min</th>\n",
       "      <td>0.079000</td>\n",
       "      <td>0.079000</td>\n",
       "      <td>70.000000</td>\n",
       "      <td>1.000000</td>\n",
       "    </tr>\n",
       "    <tr>\n",
       "      <th>25%</th>\n",
       "      <td>0.080000</td>\n",
       "      <td>0.080000</td>\n",
       "      <td>81.000000</td>\n",
       "      <td>32.000000</td>\n",
       "    </tr>\n",
       "    <tr>\n",
       "      <th>50%</th>\n",
       "      <td>0.080000</td>\n",
       "      <td>0.080000</td>\n",
       "      <td>88.000000</td>\n",
       "      <td>52.000000</td>\n",
       "    </tr>\n",
       "    <tr>\n",
       "      <th>75%</th>\n",
       "      <td>0.081000</td>\n",
       "      <td>0.081000</td>\n",
       "      <td>94.000000</td>\n",
       "      <td>75.000000</td>\n",
       "    </tr>\n",
       "    <tr>\n",
       "      <th>max</th>\n",
       "      <td>0.122000</td>\n",
       "      <td>0.122000</td>\n",
       "      <td>107.000000</td>\n",
       "      <td>372.000000</td>\n",
       "    </tr>\n",
       "  </tbody>\n",
       "</table>\n",
       "</div>"
      ],
      "text/plain": [
       "       regular_price  discounted_price  number_of_stores      amount\n",
       "count     801.000000        801.000000        801.000000  801.000000\n",
       "mean        0.080722          0.080722         87.906367   60.675406\n",
       "std         0.002036          0.002036          8.902105   44.194819\n",
       "min         0.079000          0.079000         70.000000    1.000000\n",
       "25%         0.080000          0.080000         81.000000   32.000000\n",
       "50%         0.080000          0.080000         88.000000   52.000000\n",
       "75%         0.081000          0.081000         94.000000   75.000000\n",
       "max         0.122000          0.122000        107.000000  372.000000"
      ]
     },
     "execution_count": 93,
     "metadata": {},
     "output_type": "execute_result"
    }
   ],
   "source": [
    "X_57.describe()"
   ]
  },
  {
   "cell_type": "markdown",
   "metadata": {},
   "source": [
    "## 5.1. Data preprocessing"
   ]
  },
  {
   "cell_type": "markdown",
   "metadata": {},
   "source": [
    "### 5.1.1. Removing outliers"
   ]
  },
  {
   "cell_type": "code",
   "execution_count": 94,
   "metadata": {},
   "outputs": [],
   "source": [
    "X_57 = removing_outliers(X_57)"
   ]
  },
  {
   "cell_type": "markdown",
   "metadata": {},
   "source": [
    "### 5.1.2. Separating data into training and test set"
   ]
  },
  {
   "cell_type": "code",
   "execution_count": 95,
   "metadata": {},
   "outputs": [],
   "source": [
    "X_57_train, X_57_test =  X_train_test_separation(X_57)\n",
    "y_57_train, y_57_test =  y_train_test_separation(X_57)"
   ]
  },
  {
   "cell_type": "markdown",
   "metadata": {},
   "source": [
    "### 5.1.3. Pipeline"
   ]
  },
  {
   "cell_type": "code",
   "execution_count": 96,
   "metadata": {},
   "outputs": [],
   "source": [
    "X_57_train = pipeline.fit_transform(X_57_train)\n",
    "X_57_test = pipeline.transform(X_57_test)"
   ]
  },
  {
   "cell_type": "code",
   "execution_count": 97,
   "metadata": {},
   "outputs": [
    {
     "name": "stdout",
     "output_type": "stream",
     "text": [
      "(617, 10) (617,)\n",
      "(97, 10) (97,)\n"
     ]
    }
   ],
   "source": [
    "print (X_57_train.shape, y_57_train.shape)\n",
    "print (X_57_test.shape, y_57_test.shape)"
   ]
  },
  {
   "cell_type": "markdown",
   "metadata": {},
   "source": [
    "## 5.2. Fitting and transforming"
   ]
  },
  {
   "cell_type": "markdown",
   "metadata": {},
   "source": [
    "### 5.2.1. Training set"
   ]
  },
  {
   "cell_type": "code",
   "execution_count": 98,
   "metadata": {},
   "outputs": [],
   "source": [
    "model_57 = lm.fit(X_57_train, y_57_train)"
   ]
  },
  {
   "cell_type": "code",
   "execution_count": 99,
   "metadata": {},
   "outputs": [],
   "source": [
    "y_57_train_predicted = model_57.predict(X_57_train)"
   ]
  },
  {
   "cell_type": "code",
   "execution_count": 100,
   "metadata": {},
   "outputs": [
    {
     "data": {
      "text/plain": [
       "0.34496441419862917"
      ]
     },
     "execution_count": 100,
     "metadata": {},
     "output_type": "execute_result"
    }
   ],
   "source": [
    "model_57.score(X_57_train, y_57_train)"
   ]
  },
  {
   "cell_type": "code",
   "execution_count": 101,
   "metadata": {},
   "outputs": [
    {
     "data": {
      "text/plain": [
       "17.193308379927526"
      ]
     },
     "execution_count": 101,
     "metadata": {},
     "output_type": "execute_result"
    }
   ],
   "source": [
    "mae_57_train = mean_absolute_error(y_57_train, y_57_train_predicted)\n",
    "mae_57_train"
   ]
  },
  {
   "cell_type": "code",
   "execution_count": 102,
   "metadata": {},
   "outputs": [
    {
     "data": {
      "text/plain": [
       "486.23376758228125"
      ]
     },
     "execution_count": 102,
     "metadata": {},
     "output_type": "execute_result"
    }
   ],
   "source": [
    "mse_57_train = mean_squared_error(y_57_train, y_57_train_predicted)\n",
    "mse_57_train"
   ]
  },
  {
   "cell_type": "code",
   "execution_count": 103,
   "metadata": {},
   "outputs": [
    {
     "data": {
      "text/plain": [
       "22.050709004072438"
      ]
     },
     "execution_count": 103,
     "metadata": {},
     "output_type": "execute_result"
    }
   ],
   "source": [
    "rmse_57_train = np.sqrt(mean_squared_error(y_57_train, y_57_train_predicted))\n",
    "rmse_train.append(rmse_57_train)\n",
    "rmse_57_train"
   ]
  },
  {
   "cell_type": "markdown",
   "metadata": {},
   "source": [
    "### 5.2.2. Training set"
   ]
  },
  {
   "cell_type": "code",
   "execution_count": 104,
   "metadata": {},
   "outputs": [],
   "source": [
    "y_57_test_predicted = model_57.predict(X_57_test)"
   ]
  },
  {
   "cell_type": "code",
   "execution_count": 105,
   "metadata": {},
   "outputs": [
    {
     "data": {
      "text/plain": [
       "19.684160945801878"
      ]
     },
     "execution_count": 105,
     "metadata": {},
     "output_type": "execute_result"
    }
   ],
   "source": [
    "mae_57_test = mean_absolute_error(y_57_test, y_57_test_predicted)\n",
    "mae_57_test"
   ]
  },
  {
   "cell_type": "code",
   "execution_count": 106,
   "metadata": {},
   "outputs": [
    {
     "data": {
      "text/plain": [
       "589.4800721357734"
      ]
     },
     "execution_count": 106,
     "metadata": {},
     "output_type": "execute_result"
    }
   ],
   "source": [
    "mse_57_test = mean_squared_error(y_57_test, y_57_test_predicted)\n",
    "mse_57_test"
   ]
  },
  {
   "cell_type": "code",
   "execution_count": 107,
   "metadata": {},
   "outputs": [
    {
     "data": {
      "text/plain": [
       "Text(0, 0.5, 'predicted amount sold')"
      ]
     },
     "execution_count": 107,
     "metadata": {},
     "output_type": "execute_result"
    },
    {
     "data": {
      "image/png": "[encoded data removed]",
      "text/plain": [
       "<Figure size 432x288 with 1 Axes>"
      ]
     },
     "metadata": {
      "needs_background": "light"
     },
     "output_type": "display_data"
    }
   ],
   "source": [
    "plt.scatter(y_57_test, y_57_test_predicted)\n",
    "plt.title(\"ITEM 57\")\n",
    "plt.xlabel(\"actual amount sold\")\n",
    "plt.ylabel(\"predicted amount sold\")"
   ]
  },
  {
   "cell_type": "markdown",
   "metadata": {},
   "source": [
    "## 5.3. Error metrics"
   ]
  },
  {
   "cell_type": "code",
   "execution_count": 108,
   "metadata": {},
   "outputs": [
    {
     "data": {
      "text/plain": [
       "0.29449318781533085"
      ]
     },
     "execution_count": 108,
     "metadata": {},
     "output_type": "execute_result"
    }
   ],
   "source": [
    "r2_score(y_57_test,y_57_test_predicted)"
   ]
  },
  {
   "cell_type": "code",
   "execution_count": 109,
   "metadata": {},
   "outputs": [],
   "source": [
    "r2.append(r2_score(y_57_test,y_57_test_predicted))"
   ]
  },
  {
   "cell_type": "code",
   "execution_count": 110,
   "metadata": {},
   "outputs": [
    {
     "data": {
      "text/plain": [
       "24.27921069836854"
      ]
     },
     "execution_count": 110,
     "metadata": {},
     "output_type": "execute_result"
    }
   ],
   "source": [
    "rmse_57_test = np.sqrt(mean_squared_error(y_57_test, y_57_test_predicted))\n",
    "rmse_test.append(rmse_57_test)\n",
    "rmse_57_test"
   ]
  },
  {
   "cell_type": "code",
   "execution_count": null,
   "metadata": {},
   "outputs": [],
   "source": []
  },
  {
   "cell_type": "markdown",
   "metadata": {},
   "source": [
    "# 6. CONCLUSION"
   ]
  },
  {
   "cell_type": "code",
   "execution_count": 111,
   "metadata": {},
   "outputs": [
    {
     "data": {
      "text/plain": [
       "[112.7821813408887,\n",
       " 1208.443190963856,\n",
       " 55.69525096041441,\n",
       " 8.79227000888952,\n",
       " 22.050709004072438]"
      ]
     },
     "execution_count": 111,
     "metadata": {},
     "output_type": "execute_result"
    }
   ],
   "source": [
    "rmse_train"
   ]
  },
  {
   "cell_type": "code",
   "execution_count": 112,
   "metadata": {},
   "outputs": [
    {
     "data": {
      "text/plain": [
       "[113.86943422344577,\n",
       " 1026.3035238856492,\n",
       " 54.2515831366768,\n",
       " 10.636229762119335,\n",
       " 24.27921069836854]"
      ]
     },
     "execution_count": 112,
     "metadata": {},
     "output_type": "execute_result"
    }
   ],
   "source": [
    "rmse_test"
   ]
  },
  {
   "cell_type": "code",
   "execution_count": 113,
   "metadata": {},
   "outputs": [
    {
     "data": {
      "text/plain": [
       "[0.09172366773778362,\n",
       " 0.44506806718154923,\n",
       " 0.3594811397084795,\n",
       " 0.15859610141011515,\n",
       " 0.29449318781533085]"
      ]
     },
     "execution_count": 113,
     "metadata": {},
     "output_type": "execute_result"
    }
   ],
   "source": [
    "r2"
   ]
  },
  {
   "cell_type": "code",
   "execution_count": 114,
   "metadata": {},
   "outputs": [
    {
     "name": "stdout",
     "output_type": "stream",
     "text": [
      "38 :  112.7821813408887\n",
      "39 :  1208.443190963856\n",
      "40 :  55.69525096041441\n",
      "41 :  8.79227000888952\n",
      "57 :  22.050709004072438\n"
     ]
    }
   ],
   "source": [
    "for i in range(0,len(list_of_items)):\n",
    "    print (list_of_items[i],\": \", rmse_train[i])"
   ]
  },
  {
   "cell_type": "code",
   "execution_count": null,
   "metadata": {},
   "outputs": [],
   "source": []
  },
  {
   "cell_type": "code",
   "execution_count": null,
   "metadata": {},
   "outputs": [],
   "source": []
  },
  {
   "cell_type": "code",
   "execution_count": null,
   "metadata": {},
   "outputs": [],
   "source": []
  }
 ],
 "metadata": {
  "kernelspec": {
   "display_name": "Python 3",
   "language": "python",
   "name": "python3"
  },
  "language_info": {
   "codemirror_mode": {
    "name": "ipython",
    "version": 3
   },
   "file_extension": ".py",
   "mimetype": "text/x-python",
   "name": "python",
   "nbconvert_exporter": "python",
   "pygments_lexer": "ipython3",
   "version": "3.7.3"
  }
 },
 "nbformat": 4,
 "nbformat_minor": 4
}
