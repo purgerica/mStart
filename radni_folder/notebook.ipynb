{
 "cells": [
  {
   "cell_type": "markdown",
   "metadata": {},
   "source": [
    "**<hr>**"
   ]
  },
  {
   "cell_type": "markdown",
   "metadata": {},
   "source": [
    "# <center>**PROMO TOOL**<br>prototype</center>"
   ]
  },
  {
   "cell_type": "markdown",
   "metadata": {},
   "source": [
    "**<hr>**"
   ]
  },
  {
   "cell_type": "code",
   "execution_count": 1,
   "metadata": {},
   "outputs": [],
   "source": [
    "import warnings\n",
    "warnings.simplefilter(action='ignore', category=FutureWarning)\n",
    "\n",
    "import numpy as np\n",
    "import pandas as pd\n",
    "import pyarrow.parquet as pq\n",
    "import seaborn as sns\n",
    "import matplotlib.pyplot as plt\n",
    "\n",
    "import sys\n",
    "\n",
    "from sklearn import datasets, linear_model\n",
    "from sklearn.model_selection import train_test_split\n",
    "from sklearn.preprocessing import StandardScaler\n",
    "\n",
    "from sklearn.metrics import mean_absolute_error, mean_squared_error, r2_score\n",
    "from sklearn.compose import ColumnTransformer\n",
    "import statsmodels.api as sm\n",
    "\n",
    "import datetime\n",
    "from dateutil.parser import *\n",
    "\n",
    "from sklearn.pipeline import Pipeline\n",
    "from transformers import dayName, dummy_days, DFStandardScaler, ZeroFillTransformer, DFFeatureUnion\n",
    "\n",
    "import pickle"
   ]
  },
  {
   "cell_type": "markdown",
   "metadata": {},
   "source": [
    "<hr>"
   ]
  },
  {
   "cell_type": "markdown",
   "metadata": {},
   "source": [
    "# 0. **PREPROCESSING**"
   ]
  },
  {
   "cell_type": "markdown",
   "metadata": {},
   "source": [
    "## 0.1. Auxiliary functions and lists"
   ]
  },
  {
   "cell_type": "markdown",
   "metadata": {},
   "source": [
    "### 0.1.1. One Hot Encoding"
   ]
  },
  {
   "cell_type": "markdown",
   "metadata": {},
   "source": [
    "The function _**ohe**_ takes dataframe and encodes column (actually index) _'date'_ into 7 columns _Day names_ with binary input."
   ]
  },
  {
   "cell_type": "code",
   "execution_count": 2,
   "metadata": {},
   "outputs": [],
   "source": [
    "def ohe(self):\n",
    "    self['day_of_week'] = self.index.get_level_values('date').day_name()\n",
    "    encoded_columns = pd.get_dummies(self['day_of_week'])\n",
    "    self = self.join(encoded_columns)\n",
    "    self = self.drop('day_of_week',axis=1)\n",
    "    return self"
   ]
  },
  {
   "cell_type": "code",
   "execution_count": null,
   "metadata": {},
   "outputs": [],
   "source": []
  },
  {
   "cell_type": "markdown",
   "metadata": {},
   "source": [
    "### 0.1.2. Scaling"
   ]
  },
  {
   "cell_type": "markdown",
   "metadata": {},
   "source": [
    "Before calling the following function we have to provide separate dataframes for train and test data _and_ state the name of the column we want to scale. The function differs test from training data and after the scaler is fitted to train data, it transformes both training and test data. <br> <br> **Later:** improve function so it could \n",
    "* take only one dataframe as an argument \n",
    "* separate data to test and train data\n",
    "* store that information \n",
    "* finally scale columns like it's described"
   ]
  },
  {
   "cell_type": "code",
   "execution_count": 3,
   "metadata": {},
   "outputs": [],
   "source": [
    "def scaling_columns_seperately(self_train,self_test,col):\n",
    "    aux_df = self_train[col]\n",
    "    std_scaler.fit(aux_df.values.reshape(-1,1))\n",
    "    aux_df = std_scaler.transform(self_train[col].values.reshape(-1,1))\n",
    "    self_train[col] = aux_df\n",
    "    \n",
    "    aux_df = self_test[col]\n",
    "    aux_df = std_scaler.transform(self_test[col].values.reshape(-1,1))\n",
    "    self_test[col] = aux_df"
   ]
  },
  {
   "cell_type": "markdown",
   "metadata": {},
   "source": [
    "<br>Scaling through each column for an _item_ in a for loop. <br> **Note:** self_train and self_test dataframes have same columns.<br> <br>**Later:** improve the loop (make function) so it could iterate over items (28, ..., 57) --> data is taken from df  **X**."
   ]
  },
  {
   "cell_type": "markdown",
   "metadata": {},
   "source": [
    "### 0.1.3. Handling outliers"
   ]
  },
  {
   "cell_type": "markdown",
   "metadata": {},
   "source": [
    "In this notebook we are dealing with outliers by conducting cross validation:\n",
    "* remove outliers that are over 95 percentile\n",
    "* remove outliers that are over 975 percentile\n",
    "* remove outliers that are over 99 percentile"
   ]
  },
  {
   "cell_type": "code",
   "execution_count": 4,
   "metadata": {},
   "outputs": [],
   "source": [
    "def removing_outliers(self):\n",
    "    upper_lim1 = self['amount'].quantile(.95)\n",
    "    lower_lim1 = self['amount'].quantile(.05)\n",
    "    self=self[(self['amount'] < upper_lim1) & (self['amount'] > lower_lim1)]\n",
    "    \n",
    "    upper_lim2 = self['amount'].quantile(.975)\n",
    "    lower_lim2 = self['amount'].quantile(.025)\n",
    "    self=self[(self['amount'] < upper_lim2) & (self['amount'] > lower_lim2)]\n",
    "    \n",
    "    upper_lim3 = self['amount'].quantile(.99)\n",
    "    lower_lim3 = self['amount'].quantile(.01)\n",
    "    self=self[(self['amount'] < upper_lim3) & (self['amount'] > lower_lim3)]    \n",
    "    \n",
    "    return self"
   ]
  },
  {
   "cell_type": "code",
   "execution_count": null,
   "metadata": {},
   "outputs": [],
   "source": []
  },
  {
   "cell_type": "markdown",
   "metadata": {},
   "source": [
    "### 0.1.4. Separating training and test data"
   ]
  },
  {
   "cell_type": "code",
   "execution_count": 5,
   "metadata": {},
   "outputs": [],
   "source": [
    "def test_train_separation (self):\n",
    "    \n",
    "    aux = self.loc[self.index.get_level_values('date') <= '2018-01-01']\n",
    "    train_X = aux.drop('amount',axis=1)\n",
    "    train_y = aux['amount']\n",
    "    \n",
    "    aux = self.loc[self.index.get_level_values('date') > '2018-01-01']\n",
    "    test_X = aux.drop('amount',axis=1)\n",
    "    test_y = aux['amount']\n",
    "    \n",
    "    return train_X, test_X, train_y, test_y"
   ]
  },
  {
   "cell_type": "code",
   "execution_count": null,
   "metadata": {},
   "outputs": [],
   "source": []
  },
  {
   "cell_type": "markdown",
   "metadata": {},
   "source": [
    "### 0.1.5. Function and list initialization"
   ]
  },
  {
   "cell_type": "code",
   "execution_count": 6,
   "metadata": {},
   "outputs": [],
   "source": [
    "std_scaler = StandardScaler()\n",
    "lm = linear_model.LinearRegression()"
   ]
  },
  {
   "cell_type": "code",
   "execution_count": 7,
   "metadata": {},
   "outputs": [],
   "source": [
    "list_of_items = [38,39,40,41,57] "
   ]
  },
  {
   "cell_type": "code",
   "execution_count": 8,
   "metadata": {},
   "outputs": [],
   "source": [
    "rmse_train = []\n",
    "rmse_test = []\n",
    "r2 = []"
   ]
  },
  {
   "cell_type": "code",
   "execution_count": 9,
   "metadata": {},
   "outputs": [],
   "source": [
    "categorical_features = ['day_of_week']\n",
    "numerical_features = ['regular_price', 'discounted_price','number_of_stores']"
   ]
  },
  {
   "cell_type": "code",
   "execution_count": null,
   "metadata": {},
   "outputs": [],
   "source": []
  },
  {
   "cell_type": "markdown",
   "metadata": {},
   "source": [
    "## 0.2. Pipeline"
   ]
  },
  {
   "cell_type": "markdown",
   "metadata": {},
   "source": [
    "Process:\n",
    "   * separate dependent array _\"amount\"_ and _the rest of dataframe_ from the initial dataframe\n",
    "   * separate data into train and test set\n",
    "   * fit model on train set\n",
    "   * transform both train and test set"
   ]
  },
  {
   "cell_type": "markdown",
   "metadata": {},
   "source": [
    "Defining pipeline with following transformers: DFFeatureUnion, DFStandardScaler, dayName, dummy_days:"
   ]
  },
  {
   "cell_type": "code",
   "execution_count": 10,
   "metadata": {},
   "outputs": [],
   "source": [
    "#pipeline = Pipeline([ ('features', DFFeatureUnion([       \n",
    " #                                                     ('categoricals', Pipeline([ ('dani',dayName()), ('dummyD', dummy_days())]))\n",
    " #                                                 ])), \n",
    "  #                    ('scaler', DFStandardScaler()) \n",
    "   #                ])"
   ]
  },
  {
   "cell_type": "markdown",
   "metadata": {},
   "source": [
    "Saving pipeline to pipeline_picikle:"
   ]
  },
  {
   "cell_type": "code",
   "execution_count": 11,
   "metadata": {},
   "outputs": [],
   "source": [
    "#pipeline_pickle_path = 'pipeline_pickle.pkl'\n",
    "#pipeline_pickle = open (pipeline_pickle_path,'wb')\n",
    "#pickle.dump(pipeline, pipeline_pickle)\n",
    "#pipeline_pickle.close()"
   ]
  },
  {
   "cell_type": "markdown",
   "metadata": {},
   "source": [
    "Loading pipeline from pipeline_pickle:"
   ]
  },
  {
   "cell_type": "code",
   "execution_count": 12,
   "metadata": {},
   "outputs": [],
   "source": [
    "pipeline_pickle_path = 'pipeline_pickle.pkl'\n",
    "pipeline_unpickle = open(pipeline_pickle_path, 'rb')\n",
    "  \n",
    "pipeline_from_pickle = pickle.load(pipeline_unpickle)"
   ]
  },
  {
   "cell_type": "code",
   "execution_count": 13,
   "metadata": {},
   "outputs": [
    {
     "data": {
      "text/plain": [
       "Pipeline(memory=None,\n",
       "         steps=[('features',\n",
       "                 <transformers.DFFeatureUnion object at 0x000001F86A5E40B8>),\n",
       "                ('scaler',\n",
       "                 <transformers.DFStandardScaler object at 0x000001F86A5E4320>)],\n",
       "         verbose=False)"
      ]
     },
     "execution_count": 13,
     "metadata": {},
     "output_type": "execute_result"
    }
   ],
   "source": [
    "pipeline_from_pickle"
   ]
  },
  {
   "cell_type": "markdown",
   "metadata": {},
   "source": [
    "## 0.3. Data loading"
   ]
  },
  {
   "cell_type": "code",
   "execution_count": 200,
   "metadata": {},
   "outputs": [],
   "source": [
    "X = pd.read_parquet(\"C:/Users/vvrhovec/Veronika/kodovi/radni_folder/parquet/X_prices_stores_amount.parquet\")"
   ]
  },
  {
   "cell_type": "code",
   "execution_count": 201,
   "metadata": {},
   "outputs": [],
   "source": [
    "X_38 = X.loc[38]\n",
    "X_39 = X.loc[39]\n",
    "X_40 = X.loc[40]\n",
    "X_41 = X.loc[41]\n",
    "X_57 = X.loc[57]"
   ]
  },
  {
   "cell_type": "markdown",
   "metadata": {},
   "source": [
    "**<hr>**"
   ]
  },
  {
   "cell_type": "markdown",
   "metadata": {},
   "source": [
    "# <center>**ITEMS**</center>"
   ]
  },
  {
   "cell_type": "markdown",
   "metadata": {},
   "source": [
    "**<hr>**"
   ]
  },
  {
   "cell_type": "markdown",
   "metadata": {},
   "source": [
    "# 1. ITEM 38"
   ]
  },
  {
   "cell_type": "code",
   "execution_count": 16,
   "metadata": {},
   "outputs": [
    {
     "data": {
      "text/html": [
       "<div>\n",
       "<style scoped>\n",
       "    .dataframe tbody tr th:only-of-type {\n",
       "        vertical-align: middle;\n",
       "    }\n",
       "\n",
       "    .dataframe tbody tr th {\n",
       "        vertical-align: top;\n",
       "    }\n",
       "\n",
       "    .dataframe thead th {\n",
       "        text-align: right;\n",
       "    }\n",
       "</style>\n",
       "<table border=\"1\" class=\"dataframe\">\n",
       "  <thead>\n",
       "    <tr style=\"text-align: right;\">\n",
       "      <th></th>\n",
       "      <th>regular_price</th>\n",
       "      <th>discounted_price</th>\n",
       "      <th>number_of_stores</th>\n",
       "      <th>amount</th>\n",
       "    </tr>\n",
       "    <tr>\n",
       "      <th>date</th>\n",
       "      <th></th>\n",
       "      <th></th>\n",
       "      <th></th>\n",
       "      <th></th>\n",
       "    </tr>\n",
       "  </thead>\n",
       "  <tbody>\n",
       "    <tr>\n",
       "      <th>2016-01-02</th>\n",
       "      <td>0.1</td>\n",
       "      <td>0.1</td>\n",
       "      <td>439</td>\n",
       "      <td>769.0</td>\n",
       "    </tr>\n",
       "    <tr>\n",
       "      <th>2016-01-03</th>\n",
       "      <td>0.1</td>\n",
       "      <td>0.1</td>\n",
       "      <td>436</td>\n",
       "      <td>100.0</td>\n",
       "    </tr>\n",
       "    <tr>\n",
       "      <th>2016-01-04</th>\n",
       "      <td>0.1</td>\n",
       "      <td>0.1</td>\n",
       "      <td>441</td>\n",
       "      <td>305.0</td>\n",
       "    </tr>\n",
       "    <tr>\n",
       "      <th>2016-01-05</th>\n",
       "      <td>0.1</td>\n",
       "      <td>0.1</td>\n",
       "      <td>441</td>\n",
       "      <td>79.0</td>\n",
       "    </tr>\n",
       "    <tr>\n",
       "      <th>2016-01-06</th>\n",
       "      <td>0.1</td>\n",
       "      <td>0.1</td>\n",
       "      <td>444</td>\n",
       "      <td>344.0</td>\n",
       "    </tr>\n",
       "  </tbody>\n",
       "</table>\n",
       "</div>"
      ],
      "text/plain": [
       "            regular_price  discounted_price  number_of_stores  amount\n",
       "date                                                                 \n",
       "2016-01-02            0.1               0.1               439   769.0\n",
       "2016-01-03            0.1               0.1               436   100.0\n",
       "2016-01-04            0.1               0.1               441   305.0\n",
       "2016-01-05            0.1               0.1               441    79.0\n",
       "2016-01-06            0.1               0.1               444   344.0"
      ]
     },
     "execution_count": 16,
     "metadata": {},
     "output_type": "execute_result"
    }
   ],
   "source": [
    "X_38.head()"
   ]
  },
  {
   "cell_type": "markdown",
   "metadata": {},
   "source": [
    "## 1.1. Data preprocessing"
   ]
  },
  {
   "cell_type": "markdown",
   "metadata": {},
   "source": [
    "### 1.1.1. Removing outliers"
   ]
  },
  {
   "cell_type": "code",
   "execution_count": 17,
   "metadata": {},
   "outputs": [],
   "source": [
    "X_38 = removing_outliers(X_38)"
   ]
  },
  {
   "cell_type": "markdown",
   "metadata": {},
   "source": [
    "### 1.1.2. Separating data into training and test set"
   ]
  },
  {
   "cell_type": "code",
   "execution_count": 202,
   "metadata": {},
   "outputs": [],
   "source": [
    "X_38_train, X_38_test, y_38_train, y_38_test =  test_train_separation(X_38)"
   ]
  },
  {
   "cell_type": "code",
   "execution_count": 19,
   "metadata": {},
   "outputs": [],
   "source": [
    "#X_38_train.to_parquet('X_38_train.parquet')\n",
    "#X_38_test.to_parquet('X_38_test.parquet')"
   ]
  },
  {
   "cell_type": "markdown",
   "metadata": {},
   "source": [
    "### 1.1.3. Pipeline"
   ]
  },
  {
   "cell_type": "code",
   "execution_count": 203,
   "metadata": {},
   "outputs": [],
   "source": [
    "X_38_train = pipeline_from_pickle.fit_transform(X_38_train)\n",
    "X_38_test = pipeline_from_pickle.transform(X_38_test)"
   ]
  },
  {
   "cell_type": "code",
   "execution_count": 21,
   "metadata": {},
   "outputs": [
    {
     "name": "stdout",
     "output_type": "stream",
     "text": [
      "(570, 10) (570,)\n",
      "(109, 10) (109,)\n"
     ]
    }
   ],
   "source": [
    "print (X_38_train.shape, y_38_train.shape)\n",
    "print (X_38_test.shape, y_38_test.shape)"
   ]
  },
  {
   "cell_type": "markdown",
   "metadata": {},
   "source": [
    "## 1.2. Fitting and transforming"
   ]
  },
  {
   "cell_type": "markdown",
   "metadata": {},
   "source": [
    "### 1.2.1. Training set"
   ]
  },
  {
   "cell_type": "code",
   "execution_count": 22,
   "metadata": {},
   "outputs": [],
   "source": [
    "model_38 = lm.fit(X_38_train, y_38_train)"
   ]
  },
  {
   "cell_type": "code",
   "execution_count": 23,
   "metadata": {},
   "outputs": [],
   "source": [
    "y_38_train_predicted = model_38.predict(X_38_train)"
   ]
  },
  {
   "cell_type": "code",
   "execution_count": 24,
   "metadata": {},
   "outputs": [
    {
     "data": {
      "text/plain": [
       "0.16219308231894247"
      ]
     },
     "execution_count": 24,
     "metadata": {},
     "output_type": "execute_result"
    }
   ],
   "source": [
    "model_38.score(X_38_train,y_38_train)"
   ]
  },
  {
   "cell_type": "code",
   "execution_count": 25,
   "metadata": {},
   "outputs": [
    {
     "data": {
      "text/plain": [
       "83.72655487973722"
      ]
     },
     "execution_count": 25,
     "metadata": {},
     "output_type": "execute_result"
    }
   ],
   "source": [
    "mae_38_train = mean_absolute_error(y_38_train, y_38_train_predicted)\n",
    "mae_38_train"
   ]
  },
  {
   "cell_type": "code",
   "execution_count": 26,
   "metadata": {},
   "outputs": [
    {
     "data": {
      "text/plain": [
       "10476.359990503172"
      ]
     },
     "execution_count": 26,
     "metadata": {},
     "output_type": "execute_result"
    }
   ],
   "source": [
    "mse_38_train = mean_squared_error(y_38_train, y_38_train_predicted)\n",
    "mse_38_train"
   ]
  },
  {
   "cell_type": "code",
   "execution_count": 27,
   "metadata": {},
   "outputs": [
    {
     "data": {
      "text/plain": [
       "102.35409122503688"
      ]
     },
     "execution_count": 27,
     "metadata": {},
     "output_type": "execute_result"
    }
   ],
   "source": [
    "rmse_38_train = np.sqrt(mean_squared_error(y_38_train, y_38_train_predicted))\n",
    "rmse_train.append(rmse_38_train)\n",
    "rmse_38_train"
   ]
  },
  {
   "cell_type": "markdown",
   "metadata": {},
   "source": [
    "### 1.2.2. Test set"
   ]
  },
  {
   "cell_type": "code",
   "execution_count": 28,
   "metadata": {},
   "outputs": [],
   "source": [
    "y_38_test_predicted = model_38.predict(X_38_test)"
   ]
  },
  {
   "cell_type": "code",
   "execution_count": 29,
   "metadata": {},
   "outputs": [
    {
     "data": {
      "text/plain": [
       "85.5111689078675"
      ]
     },
     "execution_count": 29,
     "metadata": {},
     "output_type": "execute_result"
    }
   ],
   "source": [
    "mae_38_test = mean_absolute_error(y_38_test, y_38_test_predicted)\n",
    "mae_38_test"
   ]
  },
  {
   "cell_type": "code",
   "execution_count": 30,
   "metadata": {},
   "outputs": [
    {
     "data": {
      "text/plain": [
       "10632.707392944762"
      ]
     },
     "execution_count": 30,
     "metadata": {},
     "output_type": "execute_result"
    }
   ],
   "source": [
    "mse_38_test = mean_squared_error(y_38_test, y_38_test_predicted)\n",
    "mse_38_test"
   ]
  },
  {
   "cell_type": "code",
   "execution_count": 31,
   "metadata": {},
   "outputs": [
    {
     "data": {
      "text/plain": [
       "Text(0, 0.5, 'predicted amount sold')"
      ]
     },
     "execution_count": 31,
     "metadata": {},
     "output_type": "execute_result"
    },
    {
     "data": {
      "image/png": "[encoded data removed]",
      "text/plain": [
       "<Figure size 432x288 with 1 Axes>"
      ]
     },
     "metadata": {
      "needs_background": "light"
     },
     "output_type": "display_data"
    }
   ],
   "source": [
    "plt.scatter(y_38_test, y_38_test_predicted)\n",
    "plt.title(\"ITEM 38\")\n",
    "plt.xlabel(\"actual amount sold\")\n",
    "plt.ylabel(\"predicted amount sold\")"
   ]
  },
  {
   "cell_type": "markdown",
   "metadata": {},
   "source": [
    "## 1.3. Error metrics"
   ]
  },
  {
   "cell_type": "code",
   "execution_count": 32,
   "metadata": {},
   "outputs": [
    {
     "data": {
      "text/plain": [
       "0.14843820292262166"
      ]
     },
     "execution_count": 32,
     "metadata": {},
     "output_type": "execute_result"
    }
   ],
   "source": [
    "r2_score(y_38_test,y_38_test_predicted)"
   ]
  },
  {
   "cell_type": "code",
   "execution_count": 33,
   "metadata": {},
   "outputs": [],
   "source": [
    "r2.append(r2_score(y_38_test,y_38_test_predicted))"
   ]
  },
  {
   "cell_type": "code",
   "execution_count": 34,
   "metadata": {},
   "outputs": [
    {
     "data": {
      "text/plain": [
       "103.11502021017482"
      ]
     },
     "execution_count": 34,
     "metadata": {},
     "output_type": "execute_result"
    }
   ],
   "source": [
    "rmse_38_test = np.sqrt(mean_squared_error(y_38_test, y_38_test_predicted))\n",
    "rmse_test.append(rmse_38_test)\n",
    "rmse_38_test"
   ]
  },
  {
   "cell_type": "markdown",
   "metadata": {},
   "source": [
    "## Feature Selection\n",
    "### 1. Univarate Selection"
   ]
  },
  {
   "cell_type": "code",
   "execution_count": 35,
   "metadata": {},
   "outputs": [],
   "source": [
    "from sklearn.feature_selection import SelectKBest\n",
    "from sklearn.feature_selection import chi2"
   ]
  },
  {
   "cell_type": "code",
   "execution_count": 36,
   "metadata": {},
   "outputs": [],
   "source": [
    "bestFeatures = SelectKBest(score_func=chi2, k=5)"
   ]
  },
  {
   "cell_type": "code",
   "execution_count": 37,
   "metadata": {},
   "outputs": [],
   "source": [
    "fit = bestFeatures.fit(X_38_train.abs(),y_38_train.abs())\n",
    "dfscores = pd.DataFrame(fit.scores_)\n",
    "dfcolumns = pd.DataFrame(X_38_train.abs().columns)"
   ]
  },
  {
   "cell_type": "code",
   "execution_count": 38,
   "metadata": {},
   "outputs": [],
   "source": [
    "featureScores = pd.concat([dfcolumns,dfscores],axis=1)\n",
    "featureScores.columns = ['Specs','Score']"
   ]
  },
  {
   "cell_type": "code",
   "execution_count": 39,
   "metadata": {},
   "outputs": [
    {
     "data": {
      "text/html": [
       "<div>\n",
       "<style scoped>\n",
       "    .dataframe tbody tr th:only-of-type {\n",
       "        vertical-align: middle;\n",
       "    }\n",
       "\n",
       "    .dataframe tbody tr th {\n",
       "        vertical-align: top;\n",
       "    }\n",
       "\n",
       "    .dataframe thead th {\n",
       "        text-align: right;\n",
       "    }\n",
       "</style>\n",
       "<table border=\"1\" class=\"dataframe\">\n",
       "  <thead>\n",
       "    <tr style=\"text-align: right;\">\n",
       "      <th></th>\n",
       "      <th>Specs</th>\n",
       "      <th>Score</th>\n",
       "    </tr>\n",
       "  </thead>\n",
       "  <tbody>\n",
       "    <tr>\n",
       "      <th>0</th>\n",
       "      <td>regular_price</td>\n",
       "      <td>728.552364</td>\n",
       "    </tr>\n",
       "    <tr>\n",
       "      <th>1</th>\n",
       "      <td>discounted_price</td>\n",
       "      <td>728.552364</td>\n",
       "    </tr>\n",
       "    <tr>\n",
       "      <th>2</th>\n",
       "      <td>number_of_stores</td>\n",
       "      <td>56.805112</td>\n",
       "    </tr>\n",
       "    <tr>\n",
       "      <th>3</th>\n",
       "      <td>Friday</td>\n",
       "      <td>193.031270</td>\n",
       "    </tr>\n",
       "    <tr>\n",
       "      <th>4</th>\n",
       "      <td>Monday</td>\n",
       "      <td>209.393899</td>\n",
       "    </tr>\n",
       "    <tr>\n",
       "      <th>5</th>\n",
       "      <td>Saturday</td>\n",
       "      <td>235.703308</td>\n",
       "    </tr>\n",
       "    <tr>\n",
       "      <th>6</th>\n",
       "      <td>Sunday</td>\n",
       "      <td>209.980749</td>\n",
       "    </tr>\n",
       "    <tr>\n",
       "      <th>7</th>\n",
       "      <td>Thursday</td>\n",
       "      <td>238.585722</td>\n",
       "    </tr>\n",
       "    <tr>\n",
       "      <th>8</th>\n",
       "      <td>Tuesday</td>\n",
       "      <td>245.505917</td>\n",
       "    </tr>\n",
       "    <tr>\n",
       "      <th>9</th>\n",
       "      <td>Wednesday</td>\n",
       "      <td>210.478103</td>\n",
       "    </tr>\n",
       "  </tbody>\n",
       "</table>\n",
       "</div>"
      ],
      "text/plain": [
       "              Specs       Score\n",
       "0     regular_price  728.552364\n",
       "1  discounted_price  728.552364\n",
       "2  number_of_stores   56.805112\n",
       "3            Friday  193.031270\n",
       "4            Monday  209.393899\n",
       "5          Saturday  235.703308\n",
       "6            Sunday  209.980749\n",
       "7          Thursday  238.585722\n",
       "8           Tuesday  245.505917\n",
       "9         Wednesday  210.478103"
      ]
     },
     "execution_count": 39,
     "metadata": {},
     "output_type": "execute_result"
    }
   ],
   "source": [
    "featureScores"
   ]
  },
  {
   "cell_type": "markdown",
   "metadata": {},
   "source": [
    "**Note:** In order to use SelectKBest, which uses chi2 stat test, it is necessary for data values to be non-negative which is not the case in our data set. In the example above, feature selection is carried out on the absolute values of df data."
   ]
  },
  {
   "cell_type": "code",
   "execution_count": null,
   "metadata": {},
   "outputs": [],
   "source": []
  },
  {
   "cell_type": "markdown",
   "metadata": {},
   "source": [
    "### 2. Feature Importance"
   ]
  },
  {
   "cell_type": "markdown",
   "metadata": {},
   "source": [
    "Feature Importance gives a score for each feature of data. The higher the score, more important (relevant) the feature, towards the output variable, is."
   ]
  },
  {
   "cell_type": "code",
   "execution_count": 40,
   "metadata": {},
   "outputs": [],
   "source": [
    "from sklearn.ensemble import ExtraTreesClassifier\n",
    "import matplotlib.pyplot as plt"
   ]
  },
  {
   "cell_type": "code",
   "execution_count": 41,
   "metadata": {},
   "outputs": [
    {
     "name": "stdout",
     "output_type": "stream",
     "text": [
      "[0.00333911 0.00503404 0.92665426 0.01031353 0.01055531 0.00802052\n",
      " 0.00506211 0.00811602 0.01070898 0.01219612]\n"
     ]
    },
    {
     "data": {
      "image/png": "[encoded data removed]",
      "text/plain": [
       "<Figure size 432x288 with 1 Axes>"
      ]
     },
     "metadata": {
      "needs_background": "light"
     },
     "output_type": "display_data"
    },
    {
     "data": {
      "image/png": "[encoded data removed]",
      "text/plain": [
       "<Figure size 432x288 with 1 Axes>"
      ]
     },
     "metadata": {
      "needs_background": "light"
     },
     "output_type": "display_data"
    }
   ],
   "source": [
    "model = ExtraTreesClassifier()\n",
    "model.fit(X_38_train,y_38_train)\n",
    "print(model.feature_importances_) \n",
    "feat_importances = pd.Series(model.feature_importances_, index=X_38_train.columns)\n",
    "feat_importances.nlargest(10).plot(kind='barh')\n",
    "plt.show()\n",
    "feat_importances.nsmallest(9).plot(kind='barh')\n",
    "plt.show()"
   ]
  },
  {
   "cell_type": "markdown",
   "metadata": {},
   "source": [
    "**Note:** Here we can see that prices seem to be the least important features for the model. However, notice that most important feature is _number_of_stores_, just like in the **Univariate Selection.**"
   ]
  },
  {
   "cell_type": "code",
   "execution_count": null,
   "metadata": {},
   "outputs": [],
   "source": []
  },
  {
   "cell_type": "markdown",
   "metadata": {},
   "source": [
    "### 3. Correlation Matrix with Heatmap"
   ]
  },
  {
   "cell_type": "markdown",
   "metadata": {},
   "source": [
    "---> Correlation states how the features are related to each other or the target variable"
   ]
  },
  {
   "cell_type": "code",
   "execution_count": 42,
   "metadata": {},
   "outputs": [
    {
     "data": {
      "image/png": "[encoded data removed]",
      "text/plain": [
       "<Figure size 1440x1440 with 2 Axes>"
      ]
     },
     "metadata": {
      "needs_background": "light"
     },
     "output_type": "display_data"
    }
   ],
   "source": [
    "corrmat = X_38_train.corr()\n",
    "top_corr_features = corrmat.index\n",
    "plt.figure(figsize=(20,20))\n",
    " \n",
    "g = sns.heatmap(X_38_train[top_corr_features].corr(), annot=True, cmap=\"RdYlGn\")"
   ]
  },
  {
   "cell_type": "markdown",
   "metadata": {},
   "source": [
    "**Note:** Here we see that features regarding prices have highest correlation coefficient, and that _number_of_stores_ is the only other feature correlated with other features with coefficient arround 0.1 "
   ]
  },
  {
   "cell_type": "code",
   "execution_count": null,
   "metadata": {},
   "outputs": [],
   "source": []
  },
  {
   "cell_type": "markdown",
   "metadata": {},
   "source": [
    "### F_regression\n",
    "---> f_regression computes the correlation of every feature of X with y"
   ]
  },
  {
   "cell_type": "code",
   "execution_count": 43,
   "metadata": {},
   "outputs": [],
   "source": [
    "#from sklearn.feature_selection import f_regression"
   ]
  },
  {
   "cell_type": "code",
   "execution_count": null,
   "metadata": {},
   "outputs": [],
   "source": [
    "#pd.concat([f_regression(X_38_train, y_38_train, center = True)[0],f_regression(X_38_train, y_38_train, center = True)[1]],axis=0)"
   ]
  },
  {
   "cell_type": "code",
   "execution_count": null,
   "metadata": {},
   "outputs": [],
   "source": []
  },
  {
   "cell_type": "markdown",
   "metadata": {},
   "source": [
    "# 2. ITEM 39"
   ]
  },
  {
   "cell_type": "code",
   "execution_count": 45,
   "metadata": {},
   "outputs": [
    {
     "data": {
      "text/html": [
       "<div>\n",
       "<style scoped>\n",
       "    .dataframe tbody tr th:only-of-type {\n",
       "        vertical-align: middle;\n",
       "    }\n",
       "\n",
       "    .dataframe tbody tr th {\n",
       "        vertical-align: top;\n",
       "    }\n",
       "\n",
       "    .dataframe thead th {\n",
       "        text-align: right;\n",
       "    }\n",
       "</style>\n",
       "<table border=\"1\" class=\"dataframe\">\n",
       "  <thead>\n",
       "    <tr style=\"text-align: right;\">\n",
       "      <th></th>\n",
       "      <th>regular_price</th>\n",
       "      <th>discounted_price</th>\n",
       "      <th>number_of_stores</th>\n",
       "      <th>amount</th>\n",
       "    </tr>\n",
       "  </thead>\n",
       "  <tbody>\n",
       "    <tr>\n",
       "      <th>count</th>\n",
       "      <td>869.000000</td>\n",
       "      <td>869.000000</td>\n",
       "      <td>869.000000</td>\n",
       "      <td>869.000000</td>\n",
       "    </tr>\n",
       "    <tr>\n",
       "      <th>mean</th>\n",
       "      <td>0.099999</td>\n",
       "      <td>0.099999</td>\n",
       "      <td>458.894131</td>\n",
       "      <td>3445.628308</td>\n",
       "    </tr>\n",
       "    <tr>\n",
       "      <th>std</th>\n",
       "      <td>0.000034</td>\n",
       "      <td>0.000034</td>\n",
       "      <td>6.215435</td>\n",
       "      <td>1812.797700</td>\n",
       "    </tr>\n",
       "    <tr>\n",
       "      <th>min</th>\n",
       "      <td>0.099000</td>\n",
       "      <td>0.099000</td>\n",
       "      <td>423.000000</td>\n",
       "      <td>43.000000</td>\n",
       "    </tr>\n",
       "    <tr>\n",
       "      <th>25%</th>\n",
       "      <td>0.100000</td>\n",
       "      <td>0.100000</td>\n",
       "      <td>457.000000</td>\n",
       "      <td>2053.000000</td>\n",
       "    </tr>\n",
       "    <tr>\n",
       "      <th>50%</th>\n",
       "      <td>0.100000</td>\n",
       "      <td>0.100000</td>\n",
       "      <td>461.000000</td>\n",
       "      <td>3091.000000</td>\n",
       "    </tr>\n",
       "    <tr>\n",
       "      <th>75%</th>\n",
       "      <td>0.100000</td>\n",
       "      <td>0.100000</td>\n",
       "      <td>463.000000</td>\n",
       "      <td>4389.000000</td>\n",
       "    </tr>\n",
       "    <tr>\n",
       "      <th>max</th>\n",
       "      <td>0.100000</td>\n",
       "      <td>0.100000</td>\n",
       "      <td>467.000000</td>\n",
       "      <td>10120.000000</td>\n",
       "    </tr>\n",
       "  </tbody>\n",
       "</table>\n",
       "</div>"
      ],
      "text/plain": [
       "       regular_price  discounted_price  number_of_stores        amount\n",
       "count     869.000000        869.000000        869.000000    869.000000\n",
       "mean        0.099999          0.099999        458.894131   3445.628308\n",
       "std         0.000034          0.000034          6.215435   1812.797700\n",
       "min         0.099000          0.099000        423.000000     43.000000\n",
       "25%         0.100000          0.100000        457.000000   2053.000000\n",
       "50%         0.100000          0.100000        461.000000   3091.000000\n",
       "75%         0.100000          0.100000        463.000000   4389.000000\n",
       "max         0.100000          0.100000        467.000000  10120.000000"
      ]
     },
     "execution_count": 45,
     "metadata": {},
     "output_type": "execute_result"
    }
   ],
   "source": [
    "X_39.describe()"
   ]
  },
  {
   "cell_type": "markdown",
   "metadata": {},
   "source": [
    "## 2.1. Data preprocessing"
   ]
  },
  {
   "cell_type": "markdown",
   "metadata": {},
   "source": [
    "### 2.1.1. Removing outliers"
   ]
  },
  {
   "cell_type": "code",
   "execution_count": 46,
   "metadata": {},
   "outputs": [],
   "source": [
    "X_39 = removing_outliers(X_39)"
   ]
  },
  {
   "cell_type": "markdown",
   "metadata": {},
   "source": [
    "### 2.1.2. Separating data into training and test set"
   ]
  },
  {
   "cell_type": "code",
   "execution_count": 47,
   "metadata": {},
   "outputs": [],
   "source": [
    "X_39_train, X_39_test, y_39_train, y_39_test =  test_train_separation(X_39)"
   ]
  },
  {
   "cell_type": "code",
   "execution_count": 48,
   "metadata": {},
   "outputs": [],
   "source": [
    "#X_39_train.to_parquet('X_39_train.parquet')\n",
    "#X_39_test.to_parquet('X_39_test.parquet')"
   ]
  },
  {
   "cell_type": "code",
   "execution_count": 49,
   "metadata": {},
   "outputs": [
    {
     "name": "stdout",
     "output_type": "stream",
     "text": [
      "(594, 3) (594,)\n",
      "(131, 3) (131,)\n"
     ]
    }
   ],
   "source": [
    "print (X_39_train.shape, y_39_train.shape)\n",
    "print (X_39_test.shape, y_39_test.shape)"
   ]
  },
  {
   "cell_type": "markdown",
   "metadata": {},
   "source": [
    "### 2.1.3. Pipeline"
   ]
  },
  {
   "cell_type": "code",
   "execution_count": 50,
   "metadata": {},
   "outputs": [],
   "source": [
    "X_39_train = pipeline_from_pickle.fit_transform(X_39_train)\n",
    "X_39_test = pipeline_from_pickle.transform(X_39_test)"
   ]
  },
  {
   "cell_type": "code",
   "execution_count": 51,
   "metadata": {},
   "outputs": [
    {
     "name": "stdout",
     "output_type": "stream",
     "text": [
      "(594, 10) (594,)\n",
      "(131, 10) (131,)\n"
     ]
    }
   ],
   "source": [
    "print (X_39_train.shape, y_39_train.shape)\n",
    "print (X_39_test.shape, y_39_test.shape)"
   ]
  },
  {
   "cell_type": "markdown",
   "metadata": {},
   "source": [
    "## 2.2. Fitting and transforming"
   ]
  },
  {
   "cell_type": "markdown",
   "metadata": {},
   "source": [
    "### 2.2.1. Training set"
   ]
  },
  {
   "cell_type": "code",
   "execution_count": 52,
   "metadata": {},
   "outputs": [],
   "source": [
    "model_39 = lm.fit(X_39_train, y_39_train)"
   ]
  },
  {
   "cell_type": "code",
   "execution_count": 53,
   "metadata": {},
   "outputs": [],
   "source": [
    "y_39_train_predicted = model_39.predict(X_39_train)"
   ]
  },
  {
   "cell_type": "code",
   "execution_count": 54,
   "metadata": {},
   "outputs": [
    {
     "data": {
      "text/plain": [
       "0.22787592381251298"
      ]
     },
     "execution_count": 54,
     "metadata": {},
     "output_type": "execute_result"
    }
   ],
   "source": [
    "model_39.score(X_39_train, y_39_train)"
   ]
  },
  {
   "cell_type": "code",
   "execution_count": 55,
   "metadata": {},
   "outputs": [
    {
     "data": {
      "text/plain": [
       "864.1293276165169"
      ]
     },
     "execution_count": 55,
     "metadata": {},
     "output_type": "execute_result"
    }
   ],
   "source": [
    "mae_39_train = mean_absolute_error(y_39_train, y_39_train_predicted)\n",
    "mae_39_train"
   ]
  },
  {
   "cell_type": "code",
   "execution_count": 56,
   "metadata": {},
   "outputs": [
    {
     "data": {
      "text/plain": [
       "1142736.9707002789"
      ]
     },
     "execution_count": 56,
     "metadata": {},
     "output_type": "execute_result"
    }
   ],
   "source": [
    "mse_39_train = mean_squared_error(y_39_train, y_39_train_predicted)\n",
    "mse_39_train"
   ]
  },
  {
   "cell_type": "code",
   "execution_count": 57,
   "metadata": {},
   "outputs": [
    {
     "data": {
      "text/plain": [
       "1068.9887607923101"
      ]
     },
     "execution_count": 57,
     "metadata": {},
     "output_type": "execute_result"
    }
   ],
   "source": [
    "rmse_39_train = np.sqrt(mean_squared_error(y_39_train, y_39_train_predicted))\n",
    "rmse_train.append(rmse_39_train)\n",
    "rmse_39_train"
   ]
  },
  {
   "cell_type": "markdown",
   "metadata": {},
   "source": [
    "### 2.2.2. Test set"
   ]
  },
  {
   "cell_type": "code",
   "execution_count": 58,
   "metadata": {},
   "outputs": [],
   "source": [
    "y_39_test_predicted = model_39.predict(X_39_test)"
   ]
  },
  {
   "cell_type": "code",
   "execution_count": 59,
   "metadata": {},
   "outputs": [
    {
     "data": {
      "text/plain": [
       "793.8358620908333"
      ]
     },
     "execution_count": 59,
     "metadata": {},
     "output_type": "execute_result"
    }
   ],
   "source": [
    "mae_39_test = mean_absolute_error(y_39_test, y_39_test_predicted)\n",
    "mae_39_test"
   ]
  },
  {
   "cell_type": "code",
   "execution_count": 60,
   "metadata": {},
   "outputs": [
    {
     "data": {
      "text/plain": [
       "939127.3664128917"
      ]
     },
     "execution_count": 60,
     "metadata": {},
     "output_type": "execute_result"
    }
   ],
   "source": [
    "mse_39_test = mean_squared_error(y_39_test, y_39_test_predicted)\n",
    "mse_39_test"
   ]
  },
  {
   "cell_type": "code",
   "execution_count": 61,
   "metadata": {},
   "outputs": [
    {
     "data": {
      "text/plain": [
       "Text(0, 0.5, 'predicted amount sold')"
      ]
     },
     "execution_count": 61,
     "metadata": {},
     "output_type": "execute_result"
    },
    {
     "data": {
      "image/png": "[encoded data removed]",
      "text/plain": [
       "<Figure size 432x288 with 1 Axes>"
      ]
     },
     "metadata": {
      "needs_background": "light"
     },
     "output_type": "display_data"
    }
   ],
   "source": [
    "plt.scatter(y_39_test, y_39_test_predicted)\n",
    "plt.title(\"ITEM 39\")\n",
    "plt.xlabel(\"actual amount sold\")\n",
    "plt.ylabel(\"predicted amount sold\")"
   ]
  },
  {
   "cell_type": "markdown",
   "metadata": {},
   "source": [
    "## 2.3. Error metrics"
   ]
  },
  {
   "cell_type": "code",
   "execution_count": 62,
   "metadata": {},
   "outputs": [
    {
     "data": {
      "text/plain": [
       "0.376881315209588"
      ]
     },
     "execution_count": 62,
     "metadata": {},
     "output_type": "execute_result"
    }
   ],
   "source": [
    "r2_score(y_39_test,y_39_test_predicted)"
   ]
  },
  {
   "cell_type": "code",
   "execution_count": 63,
   "metadata": {},
   "outputs": [],
   "source": [
    "r2.append(r2_score(y_39_test,y_39_test_predicted))"
   ]
  },
  {
   "cell_type": "code",
   "execution_count": 64,
   "metadata": {},
   "outputs": [
    {
     "data": {
      "text/plain": [
       "969.0858405801272"
      ]
     },
     "execution_count": 64,
     "metadata": {},
     "output_type": "execute_result"
    }
   ],
   "source": [
    "rmse_39_test = np.sqrt(mean_squared_error(y_39_test, y_39_test_predicted))\n",
    "rmse_test.append(rmse_39_test)\n",
    "rmse_39_test"
   ]
  },
  {
   "cell_type": "code",
   "execution_count": null,
   "metadata": {},
   "outputs": [],
   "source": []
  },
  {
   "cell_type": "markdown",
   "metadata": {},
   "source": [
    "# 3. ITEM 40"
   ]
  },
  {
   "cell_type": "code",
   "execution_count": 65,
   "metadata": {},
   "outputs": [
    {
     "data": {
      "text/html": [
       "<div>\n",
       "<style scoped>\n",
       "    .dataframe tbody tr th:only-of-type {\n",
       "        vertical-align: middle;\n",
       "    }\n",
       "\n",
       "    .dataframe tbody tr th {\n",
       "        vertical-align: top;\n",
       "    }\n",
       "\n",
       "    .dataframe thead th {\n",
       "        text-align: right;\n",
       "    }\n",
       "</style>\n",
       "<table border=\"1\" class=\"dataframe\">\n",
       "  <thead>\n",
       "    <tr style=\"text-align: right;\">\n",
       "      <th></th>\n",
       "      <th>regular_price</th>\n",
       "      <th>discounted_price</th>\n",
       "      <th>number_of_stores</th>\n",
       "      <th>amount</th>\n",
       "    </tr>\n",
       "  </thead>\n",
       "  <tbody>\n",
       "    <tr>\n",
       "      <th>count</th>\n",
       "      <td>869.000000</td>\n",
       "      <td>869.000000</td>\n",
       "      <td>869.000000</td>\n",
       "      <td>869.000000</td>\n",
       "    </tr>\n",
       "    <tr>\n",
       "      <th>mean</th>\n",
       "      <td>0.763195</td>\n",
       "      <td>0.684793</td>\n",
       "      <td>315.353280</td>\n",
       "      <td>156.615650</td>\n",
       "    </tr>\n",
       "    <tr>\n",
       "      <th>std</th>\n",
       "      <td>0.036849</td>\n",
       "      <td>0.120316</td>\n",
       "      <td>58.894878</td>\n",
       "      <td>115.959738</td>\n",
       "    </tr>\n",
       "    <tr>\n",
       "      <th>min</th>\n",
       "      <td>0.539000</td>\n",
       "      <td>0.249000</td>\n",
       "      <td>212.000000</td>\n",
       "      <td>4.000000</td>\n",
       "    </tr>\n",
       "    <tr>\n",
       "      <th>25%</th>\n",
       "      <td>0.769000</td>\n",
       "      <td>0.570000</td>\n",
       "      <td>268.000000</td>\n",
       "      <td>82.000000</td>\n",
       "    </tr>\n",
       "    <tr>\n",
       "      <th>50%</th>\n",
       "      <td>0.769000</td>\n",
       "      <td>0.769000</td>\n",
       "      <td>304.000000</td>\n",
       "      <td>128.000000</td>\n",
       "    </tr>\n",
       "    <tr>\n",
       "      <th>75%</th>\n",
       "      <td>0.770000</td>\n",
       "      <td>0.769000</td>\n",
       "      <td>333.000000</td>\n",
       "      <td>190.000000</td>\n",
       "    </tr>\n",
       "    <tr>\n",
       "      <th>max</th>\n",
       "      <td>0.771000</td>\n",
       "      <td>0.782000</td>\n",
       "      <td>450.000000</td>\n",
       "      <td>866.000000</td>\n",
       "    </tr>\n",
       "  </tbody>\n",
       "</table>\n",
       "</div>"
      ],
      "text/plain": [
       "       regular_price  discounted_price  number_of_stores      amount\n",
       "count     869.000000        869.000000        869.000000  869.000000\n",
       "mean        0.763195          0.684793        315.353280  156.615650\n",
       "std         0.036849          0.120316         58.894878  115.959738\n",
       "min         0.539000          0.249000        212.000000    4.000000\n",
       "25%         0.769000          0.570000        268.000000   82.000000\n",
       "50%         0.769000          0.769000        304.000000  128.000000\n",
       "75%         0.770000          0.769000        333.000000  190.000000\n",
       "max         0.771000          0.782000        450.000000  866.000000"
      ]
     },
     "execution_count": 65,
     "metadata": {},
     "output_type": "execute_result"
    }
   ],
   "source": [
    "X_40.describe()"
   ]
  },
  {
   "cell_type": "markdown",
   "metadata": {},
   "source": [
    "## 3.1. Data preprocessing"
   ]
  },
  {
   "cell_type": "markdown",
   "metadata": {},
   "source": [
    "### 3.1.1. Removing outliers"
   ]
  },
  {
   "cell_type": "code",
   "execution_count": 66,
   "metadata": {},
   "outputs": [],
   "source": [
    "X_40 = removing_outliers(X_40)"
   ]
  },
  {
   "cell_type": "markdown",
   "metadata": {},
   "source": [
    "### 3.1.2. Separating data into training and test set"
   ]
  },
  {
   "cell_type": "code",
   "execution_count": 67,
   "metadata": {},
   "outputs": [],
   "source": [
    "X_40_train, X_40_test, y_40_train, y_40_test =  test_train_separation(X_40)"
   ]
  },
  {
   "cell_type": "code",
   "execution_count": 68,
   "metadata": {},
   "outputs": [],
   "source": [
    "#X_40_train.to_parquet('X_40_train.parquet')\n",
    "#X_40_test.to_parquet('X_40_test.parquet')"
   ]
  },
  {
   "cell_type": "markdown",
   "metadata": {},
   "source": [
    "### 3.1.3. Pipeline"
   ]
  },
  {
   "cell_type": "code",
   "execution_count": 69,
   "metadata": {},
   "outputs": [],
   "source": [
    "X_40_train = pipeline_from_pickle.fit_transform(X_40_train)\n",
    "X_40_test = pipeline_from_pickle.transform(X_40_test)"
   ]
  },
  {
   "cell_type": "code",
   "execution_count": 70,
   "metadata": {},
   "outputs": [
    {
     "name": "stdout",
     "output_type": "stream",
     "text": [
      "(599, 10) (599,)\n",
      "(123, 10) (123,)\n"
     ]
    }
   ],
   "source": [
    "print (X_40_train.shape, y_40_train.shape)\n",
    "print (X_40_test.shape, y_40_test.shape)"
   ]
  },
  {
   "cell_type": "markdown",
   "metadata": {},
   "source": [
    "## 3.2. Fitting and transforming"
   ]
  },
  {
   "cell_type": "markdown",
   "metadata": {},
   "source": [
    "### 3.2.1. Training set"
   ]
  },
  {
   "cell_type": "code",
   "execution_count": 71,
   "metadata": {},
   "outputs": [],
   "source": [
    "model_40 = lm.fit(X_40_train, y_40_train)"
   ]
  },
  {
   "cell_type": "code",
   "execution_count": 72,
   "metadata": {},
   "outputs": [],
   "source": [
    "y_40_train_predicted = model_40.predict(X_40_train)"
   ]
  },
  {
   "cell_type": "code",
   "execution_count": 73,
   "metadata": {},
   "outputs": [
    {
     "data": {
      "text/plain": [
       "0.43460796591549145"
      ]
     },
     "execution_count": 73,
     "metadata": {},
     "output_type": "execute_result"
    }
   ],
   "source": [
    "model_40.score(X_40_train, y_40_train)"
   ]
  },
  {
   "cell_type": "code",
   "execution_count": 74,
   "metadata": {},
   "outputs": [
    {
     "data": {
      "text/plain": [
       "36.25981860584926"
      ]
     },
     "execution_count": 74,
     "metadata": {},
     "output_type": "execute_result"
    }
   ],
   "source": [
    "mae_40_train = mean_absolute_error(y_40_train, y_40_train_predicted)\n",
    "mae_40_train"
   ]
  },
  {
   "cell_type": "code",
   "execution_count": 75,
   "metadata": {},
   "outputs": [
    {
     "data": {
      "text/plain": [
       "2200.576587072038"
      ]
     },
     "execution_count": 75,
     "metadata": {},
     "output_type": "execute_result"
    }
   ],
   "source": [
    "mse_40_train = mean_squared_error(y_40_train, y_40_train_predicted)\n",
    "mse_40_train"
   ]
  },
  {
   "cell_type": "code",
   "execution_count": 76,
   "metadata": {},
   "outputs": [
    {
     "data": {
      "text/plain": [
       "46.91030363440465"
      ]
     },
     "execution_count": 76,
     "metadata": {},
     "output_type": "execute_result"
    }
   ],
   "source": [
    "rmse_40_train = np.sqrt(mean_squared_error(y_40_train, y_40_train_predicted))\n",
    "rmse_train.append(rmse_40_train)\n",
    "rmse_40_train"
   ]
  },
  {
   "cell_type": "markdown",
   "metadata": {},
   "source": [
    "### 3.2.2. Test set"
   ]
  },
  {
   "cell_type": "code",
   "execution_count": 77,
   "metadata": {},
   "outputs": [],
   "source": [
    "y_40_test_predicted = model_40.predict(X_40_test)"
   ]
  },
  {
   "cell_type": "code",
   "execution_count": 78,
   "metadata": {},
   "outputs": [
    {
     "data": {
      "text/plain": [
       "33.48871118812728"
      ]
     },
     "execution_count": 78,
     "metadata": {},
     "output_type": "execute_result"
    }
   ],
   "source": [
    "mae_40_test = mean_absolute_error(y_40_test, y_40_test_predicted)\n",
    "mae_40_test"
   ]
  },
  {
   "cell_type": "code",
   "execution_count": 79,
   "metadata": {},
   "outputs": [
    {
     "data": {
      "text/plain": [
       "1642.8959880524571"
      ]
     },
     "execution_count": 79,
     "metadata": {},
     "output_type": "execute_result"
    }
   ],
   "source": [
    "mse_40_test = mean_squared_error(y_40_test, y_40_test_predicted)\n",
    "mse_40_test"
   ]
  },
  {
   "cell_type": "code",
   "execution_count": 80,
   "metadata": {},
   "outputs": [
    {
     "data": {
      "text/plain": [
       "Text(0, 0.5, 'predicted amount sold')"
      ]
     },
     "execution_count": 80,
     "metadata": {},
     "output_type": "execute_result"
    },
    {
     "data": {
      "image/png": "[encoded data removed]",
      "text/plain": [
       "<Figure size 432x288 with 1 Axes>"
      ]
     },
     "metadata": {
      "needs_background": "light"
     },
     "output_type": "display_data"
    }
   ],
   "source": [
    "plt.scatter(y_40_test, y_40_test_predicted)\n",
    "plt.title(\"ITEM 38\")\n",
    "plt.xlabel(\"actual amount sold\")\n",
    "plt.ylabel(\"predicted amount sold\")"
   ]
  },
  {
   "cell_type": "markdown",
   "metadata": {},
   "source": [
    "## 3.3. Error metrics"
   ]
  },
  {
   "cell_type": "code",
   "execution_count": 81,
   "metadata": {},
   "outputs": [
    {
     "data": {
      "text/plain": [
       "0.2708777548556929"
      ]
     },
     "execution_count": 81,
     "metadata": {},
     "output_type": "execute_result"
    }
   ],
   "source": [
    "r2_score(y_40_test,y_40_test_predicted)"
   ]
  },
  {
   "cell_type": "code",
   "execution_count": 82,
   "metadata": {},
   "outputs": [],
   "source": [
    "r2.append(r2_score(y_40_test,y_40_test_predicted))"
   ]
  },
  {
   "cell_type": "code",
   "execution_count": 83,
   "metadata": {},
   "outputs": [
    {
     "data": {
      "text/plain": [
       "40.53265335568913"
      ]
     },
     "execution_count": 83,
     "metadata": {},
     "output_type": "execute_result"
    }
   ],
   "source": [
    "rmse_40_test = np.sqrt(mean_squared_error(y_40_test, y_40_test_predicted))\n",
    "rmse_test.append(rmse_40_test)\n",
    "rmse_40_test"
   ]
  },
  {
   "cell_type": "code",
   "execution_count": null,
   "metadata": {},
   "outputs": [],
   "source": []
  },
  {
   "cell_type": "markdown",
   "metadata": {},
   "source": [
    "# 4. ITEM 41"
   ]
  },
  {
   "cell_type": "code",
   "execution_count": 84,
   "metadata": {},
   "outputs": [
    {
     "data": {
      "text/html": [
       "<div>\n",
       "<style scoped>\n",
       "    .dataframe tbody tr th:only-of-type {\n",
       "        vertical-align: middle;\n",
       "    }\n",
       "\n",
       "    .dataframe tbody tr th {\n",
       "        vertical-align: top;\n",
       "    }\n",
       "\n",
       "    .dataframe thead th {\n",
       "        text-align: right;\n",
       "    }\n",
       "</style>\n",
       "<table border=\"1\" class=\"dataframe\">\n",
       "  <thead>\n",
       "    <tr style=\"text-align: right;\">\n",
       "      <th></th>\n",
       "      <th>regular_price</th>\n",
       "      <th>discounted_price</th>\n",
       "      <th>number_of_stores</th>\n",
       "      <th>amount</th>\n",
       "    </tr>\n",
       "  </thead>\n",
       "  <tbody>\n",
       "    <tr>\n",
       "      <th>count</th>\n",
       "      <td>867.000000</td>\n",
       "      <td>867.000000</td>\n",
       "      <td>867.000000</td>\n",
       "      <td>867.000000</td>\n",
       "    </tr>\n",
       "    <tr>\n",
       "      <th>mean</th>\n",
       "      <td>1.631242</td>\n",
       "      <td>1.619437</td>\n",
       "      <td>124.832757</td>\n",
       "      <td>29.512111</td>\n",
       "    </tr>\n",
       "    <tr>\n",
       "      <th>std</th>\n",
       "      <td>0.000605</td>\n",
       "      <td>0.064786</td>\n",
       "      <td>29.843796</td>\n",
       "      <td>15.891616</td>\n",
       "    </tr>\n",
       "    <tr>\n",
       "      <th>min</th>\n",
       "      <td>1.630000</td>\n",
       "      <td>1.078000</td>\n",
       "      <td>92.000000</td>\n",
       "      <td>1.000000</td>\n",
       "    </tr>\n",
       "    <tr>\n",
       "      <th>25%</th>\n",
       "      <td>1.631000</td>\n",
       "      <td>1.631000</td>\n",
       "      <td>99.000000</td>\n",
       "      <td>18.000000</td>\n",
       "    </tr>\n",
       "    <tr>\n",
       "      <th>50%</th>\n",
       "      <td>1.631000</td>\n",
       "      <td>1.631000</td>\n",
       "      <td>115.000000</td>\n",
       "      <td>27.000000</td>\n",
       "    </tr>\n",
       "    <tr>\n",
       "      <th>75%</th>\n",
       "      <td>1.632000</td>\n",
       "      <td>1.632000</td>\n",
       "      <td>152.000000</td>\n",
       "      <td>39.000000</td>\n",
       "    </tr>\n",
       "    <tr>\n",
       "      <th>max</th>\n",
       "      <td>1.632000</td>\n",
       "      <td>1.705000</td>\n",
       "      <td>185.000000</td>\n",
       "      <td>99.000000</td>\n",
       "    </tr>\n",
       "  </tbody>\n",
       "</table>\n",
       "</div>"
      ],
      "text/plain": [
       "       regular_price  discounted_price  number_of_stores      amount\n",
       "count     867.000000        867.000000        867.000000  867.000000\n",
       "mean        1.631242          1.619437        124.832757   29.512111\n",
       "std         0.000605          0.064786         29.843796   15.891616\n",
       "min         1.630000          1.078000         92.000000    1.000000\n",
       "25%         1.631000          1.631000         99.000000   18.000000\n",
       "50%         1.631000          1.631000        115.000000   27.000000\n",
       "75%         1.632000          1.632000        152.000000   39.000000\n",
       "max         1.632000          1.705000        185.000000   99.000000"
      ]
     },
     "execution_count": 84,
     "metadata": {},
     "output_type": "execute_result"
    }
   ],
   "source": [
    "X_41.describe()"
   ]
  },
  {
   "cell_type": "markdown",
   "metadata": {},
   "source": [
    "## 4.1. Data preprocessing"
   ]
  },
  {
   "cell_type": "markdown",
   "metadata": {},
   "source": [
    "### 4.1.1. Removing outliers"
   ]
  },
  {
   "cell_type": "code",
   "execution_count": 85,
   "metadata": {},
   "outputs": [],
   "source": [
    "X_41 = removing_outliers(X_41)"
   ]
  },
  {
   "cell_type": "markdown",
   "metadata": {},
   "source": [
    "### 4.1.2. Separating data into training and test set"
   ]
  },
  {
   "cell_type": "code",
   "execution_count": 86,
   "metadata": {},
   "outputs": [],
   "source": [
    "X_41_train, X_41_test, y_41_train, y_41_test =  test_train_separation(X_41)"
   ]
  },
  {
   "cell_type": "code",
   "execution_count": 87,
   "metadata": {},
   "outputs": [],
   "source": [
    "#X_41_train.to_parquet('X_41_train.parquet')\n",
    "#X_41_test.to_parquet('X_41_test.parquet')"
   ]
  },
  {
   "cell_type": "markdown",
   "metadata": {},
   "source": [
    "### 4.1.3. Pipeline"
   ]
  },
  {
   "cell_type": "code",
   "execution_count": 88,
   "metadata": {},
   "outputs": [],
   "source": [
    "X_41_train = pipeline_from_pickle.fit_transform(X_41_train)\n",
    "X_41_test = pipeline_from_pickle.transform(X_41_test)"
   ]
  },
  {
   "cell_type": "code",
   "execution_count": 89,
   "metadata": {},
   "outputs": [
    {
     "name": "stdout",
     "output_type": "stream",
     "text": [
      "(593, 10) (593,)\n",
      "(116, 10) (116,)\n"
     ]
    }
   ],
   "source": [
    "print (X_41_train.shape, y_41_train.shape)\n",
    "print (X_41_test.shape, y_41_test.shape)"
   ]
  },
  {
   "cell_type": "markdown",
   "metadata": {},
   "source": [
    "## 4.2. Fitting and transforming"
   ]
  },
  {
   "cell_type": "markdown",
   "metadata": {},
   "source": [
    "### 4.2.1. Training set"
   ]
  },
  {
   "cell_type": "code",
   "execution_count": 90,
   "metadata": {},
   "outputs": [],
   "source": [
    "model_41 = lm.fit(X_41_train, y_41_train)"
   ]
  },
  {
   "cell_type": "code",
   "execution_count": 91,
   "metadata": {},
   "outputs": [],
   "source": [
    "y_41_train_predicted = model_41.predict(X_41_train)"
   ]
  },
  {
   "cell_type": "code",
   "execution_count": 92,
   "metadata": {},
   "outputs": [
    {
     "data": {
      "text/plain": [
       "0.4248143182202341"
      ]
     },
     "execution_count": 92,
     "metadata": {},
     "output_type": "execute_result"
    }
   ],
   "source": [
    "model_41.score(X_41_train, y_41_train)"
   ]
  },
  {
   "cell_type": "code",
   "execution_count": 93,
   "metadata": {},
   "outputs": [
    {
     "data": {
      "text/plain": [
       "6.405639661137197"
      ]
     },
     "execution_count": 93,
     "metadata": {},
     "output_type": "execute_result"
    }
   ],
   "source": [
    "mae_41_train = mean_absolute_error(y_41_train, y_41_train_predicted)\n",
    "mae_41_train"
   ]
  },
  {
   "cell_type": "code",
   "execution_count": 94,
   "metadata": {},
   "outputs": [
    {
     "data": {
      "text/plain": [
       "65.31110094420134"
      ]
     },
     "execution_count": 94,
     "metadata": {},
     "output_type": "execute_result"
    }
   ],
   "source": [
    "mse_41_train = mean_squared_error(y_41_train, y_41_train_predicted)\n",
    "mse_41_train"
   ]
  },
  {
   "cell_type": "code",
   "execution_count": 95,
   "metadata": {},
   "outputs": [
    {
     "data": {
      "text/plain": [
       "8.081528379223904"
      ]
     },
     "execution_count": 95,
     "metadata": {},
     "output_type": "execute_result"
    }
   ],
   "source": [
    "rmse_41_train = np.sqrt(mean_squared_error(y_41_train, y_41_train_predicted))\n",
    "rmse_train.append(rmse_41_train)\n",
    "rmse_41_train"
   ]
  },
  {
   "cell_type": "markdown",
   "metadata": {},
   "source": [
    "### 4.2.1. Training set"
   ]
  },
  {
   "cell_type": "code",
   "execution_count": 96,
   "metadata": {},
   "outputs": [],
   "source": [
    "y_41_test_predicted = model_41.predict(X_41_test)"
   ]
  },
  {
   "cell_type": "code",
   "execution_count": 97,
   "metadata": {},
   "outputs": [
    {
     "data": {
      "text/plain": [
       "8.176464216332539"
      ]
     },
     "execution_count": 97,
     "metadata": {},
     "output_type": "execute_result"
    }
   ],
   "source": [
    "mae_41_test = mean_absolute_error(y_41_test, y_41_test_predicted)\n",
    "mae_41_test"
   ]
  },
  {
   "cell_type": "code",
   "execution_count": 98,
   "metadata": {},
   "outputs": [
    {
     "data": {
      "text/plain": [
       "94.42541681745367"
      ]
     },
     "execution_count": 98,
     "metadata": {},
     "output_type": "execute_result"
    }
   ],
   "source": [
    "mse_41_test = mean_squared_error(y_41_test, y_41_test_predicted)\n",
    "mse_41_test"
   ]
  },
  {
   "cell_type": "code",
   "execution_count": 99,
   "metadata": {},
   "outputs": [
    {
     "data": {
      "text/plain": [
       "Text(0, 0.5, 'predicted amount sold')"
      ]
     },
     "execution_count": 99,
     "metadata": {},
     "output_type": "execute_result"
    },
    {
     "data": {
      "image/png": "[encoded data removed]",
      "text/plain": [
       "<Figure size 432x288 with 1 Axes>"
      ]
     },
     "metadata": {
      "needs_background": "light"
     },
     "output_type": "display_data"
    }
   ],
   "source": [
    "plt.scatter(y_41_test, y_41_test_predicted)\n",
    "plt.title(\"ITEM 41\")\n",
    "plt.xlabel(\"actual amount sold\")\n",
    "plt.ylabel(\"predicted amount sold\")"
   ]
  },
  {
   "cell_type": "markdown",
   "metadata": {},
   "source": [
    "## 4.3. Error metrics"
   ]
  },
  {
   "cell_type": "code",
   "execution_count": 100,
   "metadata": {},
   "outputs": [
    {
     "data": {
      "text/plain": [
       "0.18721407586135785"
      ]
     },
     "execution_count": 100,
     "metadata": {},
     "output_type": "execute_result"
    }
   ],
   "source": [
    "r2_score(y_41_test,y_41_test_predicted)"
   ]
  },
  {
   "cell_type": "code",
   "execution_count": 101,
   "metadata": {},
   "outputs": [],
   "source": [
    "r2.append(r2_score(y_41_test,y_41_test_predicted))"
   ]
  },
  {
   "cell_type": "code",
   "execution_count": 102,
   "metadata": {},
   "outputs": [
    {
     "data": {
      "text/plain": [
       "9.717274145430583"
      ]
     },
     "execution_count": 102,
     "metadata": {},
     "output_type": "execute_result"
    }
   ],
   "source": [
    "rmse_41_test = np.sqrt(mean_squared_error(y_41_test, y_41_test_predicted))\n",
    "rmse_test.append(rmse_41_test)\n",
    "rmse_41_test"
   ]
  },
  {
   "cell_type": "code",
   "execution_count": null,
   "metadata": {},
   "outputs": [],
   "source": []
  },
  {
   "cell_type": "markdown",
   "metadata": {},
   "source": [
    "# 5. ITEM 57"
   ]
  },
  {
   "cell_type": "code",
   "execution_count": 103,
   "metadata": {},
   "outputs": [
    {
     "data": {
      "text/html": [
       "<div>\n",
       "<style scoped>\n",
       "    .dataframe tbody tr th:only-of-type {\n",
       "        vertical-align: middle;\n",
       "    }\n",
       "\n",
       "    .dataframe tbody tr th {\n",
       "        vertical-align: top;\n",
       "    }\n",
       "\n",
       "    .dataframe thead th {\n",
       "        text-align: right;\n",
       "    }\n",
       "</style>\n",
       "<table border=\"1\" class=\"dataframe\">\n",
       "  <thead>\n",
       "    <tr style=\"text-align: right;\">\n",
       "      <th></th>\n",
       "      <th>regular_price</th>\n",
       "      <th>discounted_price</th>\n",
       "      <th>number_of_stores</th>\n",
       "      <th>amount</th>\n",
       "    </tr>\n",
       "  </thead>\n",
       "  <tbody>\n",
       "    <tr>\n",
       "      <th>count</th>\n",
       "      <td>801.000000</td>\n",
       "      <td>801.000000</td>\n",
       "      <td>801.000000</td>\n",
       "      <td>801.000000</td>\n",
       "    </tr>\n",
       "    <tr>\n",
       "      <th>mean</th>\n",
       "      <td>0.080722</td>\n",
       "      <td>0.080722</td>\n",
       "      <td>87.906367</td>\n",
       "      <td>60.675406</td>\n",
       "    </tr>\n",
       "    <tr>\n",
       "      <th>std</th>\n",
       "      <td>0.002036</td>\n",
       "      <td>0.002036</td>\n",
       "      <td>8.902105</td>\n",
       "      <td>44.194819</td>\n",
       "    </tr>\n",
       "    <tr>\n",
       "      <th>min</th>\n",
       "      <td>0.079000</td>\n",
       "      <td>0.079000</td>\n",
       "      <td>70.000000</td>\n",
       "      <td>1.000000</td>\n",
       "    </tr>\n",
       "    <tr>\n",
       "      <th>25%</th>\n",
       "      <td>0.080000</td>\n",
       "      <td>0.080000</td>\n",
       "      <td>81.000000</td>\n",
       "      <td>32.000000</td>\n",
       "    </tr>\n",
       "    <tr>\n",
       "      <th>50%</th>\n",
       "      <td>0.080000</td>\n",
       "      <td>0.080000</td>\n",
       "      <td>88.000000</td>\n",
       "      <td>52.000000</td>\n",
       "    </tr>\n",
       "    <tr>\n",
       "      <th>75%</th>\n",
       "      <td>0.081000</td>\n",
       "      <td>0.081000</td>\n",
       "      <td>94.000000</td>\n",
       "      <td>75.000000</td>\n",
       "    </tr>\n",
       "    <tr>\n",
       "      <th>max</th>\n",
       "      <td>0.122000</td>\n",
       "      <td>0.122000</td>\n",
       "      <td>107.000000</td>\n",
       "      <td>372.000000</td>\n",
       "    </tr>\n",
       "  </tbody>\n",
       "</table>\n",
       "</div>"
      ],
      "text/plain": [
       "       regular_price  discounted_price  number_of_stores      amount\n",
       "count     801.000000        801.000000        801.000000  801.000000\n",
       "mean        0.080722          0.080722         87.906367   60.675406\n",
       "std         0.002036          0.002036          8.902105   44.194819\n",
       "min         0.079000          0.079000         70.000000    1.000000\n",
       "25%         0.080000          0.080000         81.000000   32.000000\n",
       "50%         0.080000          0.080000         88.000000   52.000000\n",
       "75%         0.081000          0.081000         94.000000   75.000000\n",
       "max         0.122000          0.122000        107.000000  372.000000"
      ]
     },
     "execution_count": 103,
     "metadata": {},
     "output_type": "execute_result"
    }
   ],
   "source": [
    "X_57.describe()"
   ]
  },
  {
   "cell_type": "markdown",
   "metadata": {},
   "source": [
    "## 5.1. Data preprocessing"
   ]
  },
  {
   "cell_type": "markdown",
   "metadata": {},
   "source": [
    "### 5.1.1. Removing outliers"
   ]
  },
  {
   "cell_type": "code",
   "execution_count": 187,
   "metadata": {},
   "outputs": [],
   "source": [
    "X_57 = removing_outliers(X_57)"
   ]
  },
  {
   "cell_type": "markdown",
   "metadata": {},
   "source": [
    "### 5.1.2. Separating data into training and test set"
   ]
  },
  {
   "cell_type": "code",
   "execution_count": 188,
   "metadata": {},
   "outputs": [],
   "source": [
    "X_57_train, X_57_test, y_57_train, y_57_test =  test_train_separation(X_57)"
   ]
  },
  {
   "cell_type": "code",
   "execution_count": 106,
   "metadata": {},
   "outputs": [],
   "source": [
    "#X_57_train.to_parquet('X_57_train.parquet')\n",
    "#X_57_test.to_parquet('X_57_test.parquet')"
   ]
  },
  {
   "cell_type": "markdown",
   "metadata": {},
   "source": [
    "### 5.1.3. Pipeline"
   ]
  },
  {
   "cell_type": "code",
   "execution_count": 189,
   "metadata": {},
   "outputs": [],
   "source": [
    "X_57_train = pipeline_from_pickle.fit_transform(X_57_train)\n",
    "X_57_test = pipeline_from_pickle.transform(X_57_test)"
   ]
  },
  {
   "cell_type": "code",
   "execution_count": 108,
   "metadata": {},
   "outputs": [
    {
     "name": "stdout",
     "output_type": "stream",
     "text": [
      "(567, 10) (567,)\n",
      "(89, 10) (89,)\n"
     ]
    }
   ],
   "source": [
    "print (X_57_train.shape, y_57_train.shape)\n",
    "print (X_57_test.shape, y_57_test.shape)"
   ]
  },
  {
   "cell_type": "markdown",
   "metadata": {},
   "source": [
    "## 5.2. Fitting and transforming"
   ]
  },
  {
   "cell_type": "markdown",
   "metadata": {},
   "source": [
    "### 5.2.1. Training set"
   ]
  },
  {
   "cell_type": "code",
   "execution_count": 109,
   "metadata": {},
   "outputs": [],
   "source": [
    "model_57 = lm.fit(X_57_train, y_57_train)"
   ]
  },
  {
   "cell_type": "code",
   "execution_count": 110,
   "metadata": {},
   "outputs": [],
   "source": [
    "y_57_train_predicted = model_57.predict(X_57_train)"
   ]
  },
  {
   "cell_type": "code",
   "execution_count": 111,
   "metadata": {},
   "outputs": [
    {
     "data": {
      "text/plain": [
       "0.30126234265602037"
      ]
     },
     "execution_count": 111,
     "metadata": {},
     "output_type": "execute_result"
    }
   ],
   "source": [
    "model_57.score(X_57_train, y_57_train)"
   ]
  },
  {
   "cell_type": "code",
   "execution_count": 112,
   "metadata": {},
   "outputs": [
    {
     "data": {
      "text/plain": [
       "15.242815095882987"
      ]
     },
     "execution_count": 112,
     "metadata": {},
     "output_type": "execute_result"
    }
   ],
   "source": [
    "mae_57_train = mean_absolute_error(y_57_train, y_57_train_predicted)\n",
    "mae_57_train"
   ]
  },
  {
   "cell_type": "code",
   "execution_count": 113,
   "metadata": {},
   "outputs": [
    {
     "data": {
      "text/plain": [
       "372.17281998116476"
      ]
     },
     "execution_count": 113,
     "metadata": {},
     "output_type": "execute_result"
    }
   ],
   "source": [
    "mse_57_train = mean_squared_error(y_57_train, y_57_train_predicted)\n",
    "mse_57_train"
   ]
  },
  {
   "cell_type": "code",
   "execution_count": 114,
   "metadata": {},
   "outputs": [
    {
     "data": {
      "text/plain": [
       "19.29178115107998"
      ]
     },
     "execution_count": 114,
     "metadata": {},
     "output_type": "execute_result"
    }
   ],
   "source": [
    "rmse_57_train = np.sqrt(mean_squared_error(y_57_train, y_57_train_predicted))\n",
    "rmse_train.append(rmse_57_train)\n",
    "rmse_57_train"
   ]
  },
  {
   "cell_type": "markdown",
   "metadata": {},
   "source": [
    "### 5.2.2. Test set"
   ]
  },
  {
   "cell_type": "code",
   "execution_count": 115,
   "metadata": {},
   "outputs": [],
   "source": [
    "y_57_test_predicted = model_57.predict(X_57_test)"
   ]
  },
  {
   "cell_type": "code",
   "execution_count": 116,
   "metadata": {},
   "outputs": [
    {
     "data": {
      "text/plain": [
       "17.05650436433873"
      ]
     },
     "execution_count": 116,
     "metadata": {},
     "output_type": "execute_result"
    }
   ],
   "source": [
    "mae_57_test = mean_absolute_error(y_57_test, y_57_test_predicted)\n",
    "mae_57_test"
   ]
  },
  {
   "cell_type": "code",
   "execution_count": 117,
   "metadata": {},
   "outputs": [
    {
     "data": {
      "text/plain": [
       "407.7996867064727"
      ]
     },
     "execution_count": 117,
     "metadata": {},
     "output_type": "execute_result"
    }
   ],
   "source": [
    "mse_57_test = mean_squared_error(y_57_test, y_57_test_predicted)\n",
    "mse_57_test"
   ]
  },
  {
   "cell_type": "code",
   "execution_count": 118,
   "metadata": {},
   "outputs": [
    {
     "data": {
      "text/plain": [
       "Text(0, 0.5, 'predicted amount sold')"
      ]
     },
     "execution_count": 118,
     "metadata": {},
     "output_type": "execute_result"
    },
    {
     "data": {
      "image/png": "[encoded data removed]",
      "text/plain": [
       "<Figure size 432x288 with 1 Axes>"
      ]
     },
     "metadata": {
      "needs_background": "light"
     },
     "output_type": "display_data"
    }
   ],
   "source": [
    "plt.scatter(y_57_test, y_57_test_predicted)\n",
    "plt.title(\"ITEM 57\")\n",
    "plt.xlabel(\"actual amount sold\")\n",
    "plt.ylabel(\"predicted amount sold\")"
   ]
  },
  {
   "cell_type": "markdown",
   "metadata": {},
   "source": [
    "## 5.3. Error metrics"
   ]
  },
  {
   "cell_type": "code",
   "execution_count": 119,
   "metadata": {},
   "outputs": [
    {
     "data": {
      "text/plain": [
       "0.21551156985004483"
      ]
     },
     "execution_count": 119,
     "metadata": {},
     "output_type": "execute_result"
    }
   ],
   "source": [
    "r2_score(y_57_test,y_57_test_predicted)"
   ]
  },
  {
   "cell_type": "code",
   "execution_count": 120,
   "metadata": {},
   "outputs": [],
   "source": [
    "r2.append(r2_score(y_57_test,y_57_test_predicted))"
   ]
  },
  {
   "cell_type": "code",
   "execution_count": 121,
   "metadata": {},
   "outputs": [
    {
     "data": {
      "text/plain": [
       "20.1940507750791"
      ]
     },
     "execution_count": 121,
     "metadata": {},
     "output_type": "execute_result"
    }
   ],
   "source": [
    "rmse_57_test = np.sqrt(mean_squared_error(y_57_test, y_57_test_predicted))\n",
    "rmse_test.append(rmse_57_test)\n",
    "rmse_57_test"
   ]
  },
  {
   "cell_type": "code",
   "execution_count": null,
   "metadata": {},
   "outputs": [],
   "source": []
  },
  {
   "cell_type": "markdown",
   "metadata": {},
   "source": [
    "# 6. CONCLUSION"
   ]
  },
  {
   "cell_type": "code",
   "execution_count": null,
   "metadata": {},
   "outputs": [],
   "source": [
    "rmse_train"
   ]
  },
  {
   "cell_type": "code",
   "execution_count": null,
   "metadata": {},
   "outputs": [],
   "source": [
    "rmse_test"
   ]
  },
  {
   "cell_type": "code",
   "execution_count": null,
   "metadata": {},
   "outputs": [],
   "source": [
    "r2"
   ]
  },
  {
   "cell_type": "code",
   "execution_count": null,
   "metadata": {},
   "outputs": [],
   "source": [
    "print (\"Item\",\"\\t: \", \"rmse_train\",\"\\t \\t\", \"rmse_test\",\"\\t\\t\", \"r2\")\n",
    "for i in range(0,len(list_of_items)):\n",
    "    print (\" \",list_of_items[i],\"\\t: \", rmse_train[i],\"\\t\", rmse_test[i],\"\\t\", r2[i])"
   ]
  },
  {
   "cell_type": "code",
   "execution_count": null,
   "metadata": {},
   "outputs": [],
   "source": []
  },
  {
   "cell_type": "markdown",
   "metadata": {},
   "source": [
    "## 7. Provjera predikcije za zadnji dan"
   ]
  },
  {
   "cell_type": "code",
   "execution_count": 212,
   "metadata": {},
   "outputs": [],
   "source": [
    "provjera_38 = X.loc[38]\n",
    "provjera_39 = X.loc[39]\n",
    "provjera_40 = X.loc[40]\n",
    "provjera_41 = X.loc[41]\n",
    "provjera_57 = X.loc[57]"
   ]
  },
  {
   "cell_type": "markdown",
   "metadata": {},
   "source": [
    "### 7.1. Data preprocessing"
   ]
  },
  {
   "cell_type": "markdown",
   "metadata": {},
   "source": [
    "### 7.1.2. Separating data into training and test set"
   ]
  },
  {
   "cell_type": "code",
   "execution_count": 213,
   "metadata": {},
   "outputs": [],
   "source": [
    "def tt_separation (self):\n",
    "    aux = self[:-1]\n",
    "    train_X = aux.drop('amount',axis=1)\n",
    "    train_y = aux['amount']\n",
    "    \n",
    "    return train_X, train_y"
   ]
  },
  {
   "cell_type": "code",
   "execution_count": 214,
   "metadata": {},
   "outputs": [],
   "source": [
    "X_41_train, y_41_train =  tt_separation(X_41)"
   ]
  },
  {
   "cell_type": "code",
   "execution_count": 216,
   "metadata": {},
   "outputs": [
    {
     "name": "stderr",
     "output_type": "stream",
     "text": [
      "C:\\Users\\vvrhovec\\Veronika\\kodovi\\radni_folder\\transformers.py:39: SettingWithCopyWarning: \n",
      "A value is trying to be set on a copy of a slice from a DataFrame.\n",
      "Try using .loc[row_indexer,col_indexer] = value instead\n",
      "\n",
      "See the caveats in the documentation: http://pandas.pydata.org/pandas-docs/stable/indexing.html#indexing-view-versus-copy\n",
      "  X['day_of_week'] = X.index.get_level_values('date').day_name()\n"
     ]
    }
   ],
   "source": [
    "X_41_train = pipeline.fit_transform(provjera_38[:-1])"
   ]
  },
  {
   "cell_type": "code",
   "execution_count": 217,
   "metadata": {},
   "outputs": [
    {
     "name": "stderr",
     "output_type": "stream",
     "text": [
      "C:\\Users\\vvrhovec\\Veronika\\kodovi\\radni_folder\\transformers.py:39: SettingWithCopyWarning: \n",
      "A value is trying to be set on a copy of a slice from a DataFrame.\n",
      "Try using .loc[row_indexer,col_indexer] = value instead\n",
      "\n",
      "See the caveats in the documentation: http://pandas.pydata.org/pandas-docs/stable/indexing.html#indexing-view-versus-copy\n",
      "  X['day_of_week'] = X.index.get_level_values('date').day_name()\n"
     ]
    },
    {
     "ename": "ValueError",
     "evalue": "operands could not be broadcast together with shapes (1,5) (11,) (1,5) ",
     "output_type": "error",
     "traceback": [
      "\u001b[1;31m---------------------------------------------------------------------------\u001b[0m",
      "\u001b[1;31mValueError\u001b[0m                                Traceback (most recent call last)",
      "\u001b[1;32m<ipython-input-217-54faf77ad616>\u001b[0m in \u001b[0;36m<module>\u001b[1;34m\u001b[0m\n\u001b[1;32m----> 1\u001b[1;33m \u001b[0mX_41_test\u001b[0m \u001b[1;33m=\u001b[0m \u001b[0mpipeline\u001b[0m\u001b[1;33m.\u001b[0m\u001b[0mtransform\u001b[0m\u001b[1;33m(\u001b[0m\u001b[0mprovjera_38\u001b[0m\u001b[1;33m[\u001b[0m\u001b[0mprovjera_38\u001b[0m\u001b[1;33m.\u001b[0m\u001b[0mshape\u001b[0m\u001b[1;33m[\u001b[0m\u001b[1;36m0\u001b[0m\u001b[1;33m]\u001b[0m\u001b[1;33m-\u001b[0m\u001b[1;36m1\u001b[0m\u001b[1;33m:\u001b[0m\u001b[1;33m]\u001b[0m\u001b[1;33m)\u001b[0m\u001b[1;33m\u001b[0m\u001b[1;33m\u001b[0m\u001b[0m\n\u001b[0m",
      "\u001b[1;32m~\\AppData\\Local\\Continuum\\miniconda3\\envs\\okolina\\lib\\site-packages\\sklearn\\pipeline.py\u001b[0m in \u001b[0;36m_transform\u001b[1;34m(self, X)\u001b[0m\n\u001b[0;32m    538\u001b[0m         \u001b[0mXt\u001b[0m \u001b[1;33m=\u001b[0m \u001b[0mX\u001b[0m\u001b[1;33m\u001b[0m\u001b[1;33m\u001b[0m\u001b[0m\n\u001b[0;32m    539\u001b[0m         \u001b[1;32mfor\u001b[0m \u001b[0m_\u001b[0m\u001b[1;33m,\u001b[0m \u001b[0m_\u001b[0m\u001b[1;33m,\u001b[0m \u001b[0mtransform\u001b[0m \u001b[1;32min\u001b[0m \u001b[0mself\u001b[0m\u001b[1;33m.\u001b[0m\u001b[0m_iter\u001b[0m\u001b[1;33m(\u001b[0m\u001b[1;33m)\u001b[0m\u001b[1;33m:\u001b[0m\u001b[1;33m\u001b[0m\u001b[1;33m\u001b[0m\u001b[0m\n\u001b[1;32m--> 540\u001b[1;33m             \u001b[0mXt\u001b[0m \u001b[1;33m=\u001b[0m \u001b[0mtransform\u001b[0m\u001b[1;33m.\u001b[0m\u001b[0mtransform\u001b[0m\u001b[1;33m(\u001b[0m\u001b[0mXt\u001b[0m\u001b[1;33m)\u001b[0m\u001b[1;33m\u001b[0m\u001b[1;33m\u001b[0m\u001b[0m\n\u001b[0m\u001b[0;32m    541\u001b[0m         \u001b[1;32mreturn\u001b[0m \u001b[0mXt\u001b[0m\u001b[1;33m\u001b[0m\u001b[1;33m\u001b[0m\u001b[0m\n\u001b[0;32m    542\u001b[0m \u001b[1;33m\u001b[0m\u001b[0m\n",
      "\u001b[1;32m~\\Veronika\\kodovi\\radni_folder\\transformers.py\u001b[0m in \u001b[0;36mtransform\u001b[1;34m(self, X)\u001b[0m\n\u001b[0;32m    139\u001b[0m     \u001b[1;32mdef\u001b[0m \u001b[0mtransform\u001b[0m\u001b[1;33m(\u001b[0m\u001b[0mself\u001b[0m\u001b[1;33m,\u001b[0m \u001b[0mX\u001b[0m\u001b[1;33m)\u001b[0m\u001b[1;33m:\u001b[0m\u001b[1;33m\u001b[0m\u001b[1;33m\u001b[0m\u001b[0m\n\u001b[0;32m    140\u001b[0m         \u001b[1;31m# assumes X is a DataFrame\u001b[0m\u001b[1;33m\u001b[0m\u001b[1;33m\u001b[0m\u001b[1;33m\u001b[0m\u001b[0m\n\u001b[1;32m--> 141\u001b[1;33m         \u001b[0mXss\u001b[0m \u001b[1;33m=\u001b[0m \u001b[0mself\u001b[0m\u001b[1;33m.\u001b[0m\u001b[0mss\u001b[0m\u001b[1;33m.\u001b[0m\u001b[0mtransform\u001b[0m\u001b[1;33m(\u001b[0m\u001b[0mX\u001b[0m\u001b[1;33m)\u001b[0m\u001b[1;33m\u001b[0m\u001b[1;33m\u001b[0m\u001b[0m\n\u001b[0m\u001b[0;32m    142\u001b[0m         \u001b[0mXscaled\u001b[0m \u001b[1;33m=\u001b[0m \u001b[0mpd\u001b[0m\u001b[1;33m.\u001b[0m\u001b[0mDataFrame\u001b[0m\u001b[1;33m(\u001b[0m\u001b[0mXss\u001b[0m\u001b[1;33m,\u001b[0m \u001b[0mindex\u001b[0m\u001b[1;33m=\u001b[0m\u001b[0mX\u001b[0m\u001b[1;33m.\u001b[0m\u001b[0mindex\u001b[0m\u001b[1;33m,\u001b[0m \u001b[0mcolumns\u001b[0m\u001b[1;33m=\u001b[0m\u001b[0mX\u001b[0m\u001b[1;33m.\u001b[0m\u001b[0mcolumns\u001b[0m\u001b[1;33m)\u001b[0m\u001b[1;33m\u001b[0m\u001b[1;33m\u001b[0m\u001b[0m\n\u001b[0;32m    143\u001b[0m         \u001b[1;32mreturn\u001b[0m \u001b[0mXscaled\u001b[0m\u001b[1;33m\u001b[0m\u001b[1;33m\u001b[0m\u001b[0m\n",
      "\u001b[1;32m~\\AppData\\Local\\Continuum\\miniconda3\\envs\\okolina\\lib\\site-packages\\sklearn\\preprocessing\\data.py\u001b[0m in \u001b[0;36mtransform\u001b[1;34m(self, X, copy)\u001b[0m\n\u001b[0;32m    767\u001b[0m         \u001b[1;32melse\u001b[0m\u001b[1;33m:\u001b[0m\u001b[1;33m\u001b[0m\u001b[1;33m\u001b[0m\u001b[0m\n\u001b[0;32m    768\u001b[0m             \u001b[1;32mif\u001b[0m \u001b[0mself\u001b[0m\u001b[1;33m.\u001b[0m\u001b[0mwith_mean\u001b[0m\u001b[1;33m:\u001b[0m\u001b[1;33m\u001b[0m\u001b[1;33m\u001b[0m\u001b[0m\n\u001b[1;32m--> 769\u001b[1;33m                 \u001b[0mX\u001b[0m \u001b[1;33m-=\u001b[0m \u001b[0mself\u001b[0m\u001b[1;33m.\u001b[0m\u001b[0mmean_\u001b[0m\u001b[1;33m\u001b[0m\u001b[1;33m\u001b[0m\u001b[0m\n\u001b[0m\u001b[0;32m    770\u001b[0m             \u001b[1;32mif\u001b[0m \u001b[0mself\u001b[0m\u001b[1;33m.\u001b[0m\u001b[0mwith_std\u001b[0m\u001b[1;33m:\u001b[0m\u001b[1;33m\u001b[0m\u001b[1;33m\u001b[0m\u001b[0m\n\u001b[0;32m    771\u001b[0m                 \u001b[0mX\u001b[0m \u001b[1;33m/=\u001b[0m \u001b[0mself\u001b[0m\u001b[1;33m.\u001b[0m\u001b[0mscale_\u001b[0m\u001b[1;33m\u001b[0m\u001b[1;33m\u001b[0m\u001b[0m\n",
      "\u001b[1;31mValueError\u001b[0m: operands could not be broadcast together with shapes (1,5) (11,) (1,5) "
     ]
    }
   ],
   "source": [
    "X_41_test = pipeline.transform(provjera_38[provjera_38.shape[0]-1:])"
   ]
  },
  {
   "cell_type": "code",
   "execution_count": 209,
   "metadata": {},
   "outputs": [
    {
     "data": {
      "text/plain": [
       "date\n",
       "2018-05-31    47.0\n",
       "Name: amount, dtype: float64"
      ]
     },
     "execution_count": 209,
     "metadata": {},
     "output_type": "execute_result"
    }
   ],
   "source": [
    "y_41_test"
   ]
  },
  {
   "cell_type": "code",
   "execution_count": 194,
   "metadata": {},
   "outputs": [
    {
     "ename": "ValueError",
     "evalue": "operands could not be broadcast together with shapes (1,4) (10,) (1,4) ",
     "output_type": "error",
     "traceback": [
      "\u001b[1;31m---------------------------------------------------------------------------\u001b[0m",
      "\u001b[1;31mValueError\u001b[0m                                Traceback (most recent call last)",
      "\u001b[1;32m<ipython-input-194-b5d5a021c56d>\u001b[0m in \u001b[0;36m<module>\u001b[1;34m\u001b[0m\n\u001b[0;32m      1\u001b[0m \u001b[0mX_38_train\u001b[0m\u001b[1;33m,\u001b[0m \u001b[0mX_38_test\u001b[0m\u001b[1;33m,\u001b[0m \u001b[0my_38_train\u001b[0m\u001b[1;33m,\u001b[0m \u001b[0my_38_test\u001b[0m \u001b[1;33m=\u001b[0m  \u001b[0mtt_separation\u001b[0m\u001b[1;33m(\u001b[0m\u001b[0mprovjera_38\u001b[0m\u001b[1;33m)\u001b[0m\u001b[1;33m\u001b[0m\u001b[1;33m\u001b[0m\u001b[0m\n\u001b[0;32m      2\u001b[0m \u001b[0mX_38_train\u001b[0m \u001b[1;33m=\u001b[0m \u001b[0mpipeline\u001b[0m\u001b[1;33m.\u001b[0m\u001b[0mfit_transform\u001b[0m\u001b[1;33m(\u001b[0m\u001b[0mX_38_train\u001b[0m\u001b[1;33m)\u001b[0m\u001b[1;33m\u001b[0m\u001b[1;33m\u001b[0m\u001b[0m\n\u001b[1;32m----> 3\u001b[1;33m \u001b[0mX_38_test\u001b[0m \u001b[1;33m=\u001b[0m \u001b[0mpipeline\u001b[0m\u001b[1;33m.\u001b[0m\u001b[0mtransform\u001b[0m\u001b[1;33m(\u001b[0m\u001b[0mX_38_test\u001b[0m\u001b[1;33m)\u001b[0m\u001b[1;33m\u001b[0m\u001b[1;33m\u001b[0m\u001b[0m\n\u001b[0m",
      "\u001b[1;32m~\\AppData\\Local\\Continuum\\miniconda3\\envs\\okolina\\lib\\site-packages\\sklearn\\pipeline.py\u001b[0m in \u001b[0;36m_transform\u001b[1;34m(self, X)\u001b[0m\n\u001b[0;32m    538\u001b[0m         \u001b[0mXt\u001b[0m \u001b[1;33m=\u001b[0m \u001b[0mX\u001b[0m\u001b[1;33m\u001b[0m\u001b[1;33m\u001b[0m\u001b[0m\n\u001b[0;32m    539\u001b[0m         \u001b[1;32mfor\u001b[0m \u001b[0m_\u001b[0m\u001b[1;33m,\u001b[0m \u001b[0m_\u001b[0m\u001b[1;33m,\u001b[0m \u001b[0mtransform\u001b[0m \u001b[1;32min\u001b[0m \u001b[0mself\u001b[0m\u001b[1;33m.\u001b[0m\u001b[0m_iter\u001b[0m\u001b[1;33m(\u001b[0m\u001b[1;33m)\u001b[0m\u001b[1;33m:\u001b[0m\u001b[1;33m\u001b[0m\u001b[1;33m\u001b[0m\u001b[0m\n\u001b[1;32m--> 540\u001b[1;33m             \u001b[0mXt\u001b[0m \u001b[1;33m=\u001b[0m \u001b[0mtransform\u001b[0m\u001b[1;33m.\u001b[0m\u001b[0mtransform\u001b[0m\u001b[1;33m(\u001b[0m\u001b[0mXt\u001b[0m\u001b[1;33m)\u001b[0m\u001b[1;33m\u001b[0m\u001b[1;33m\u001b[0m\u001b[0m\n\u001b[0m\u001b[0;32m    541\u001b[0m         \u001b[1;32mreturn\u001b[0m \u001b[0mXt\u001b[0m\u001b[1;33m\u001b[0m\u001b[1;33m\u001b[0m\u001b[0m\n\u001b[0;32m    542\u001b[0m \u001b[1;33m\u001b[0m\u001b[0m\n",
      "\u001b[1;32m~\\Veronika\\kodovi\\radni_folder\\transformers.py\u001b[0m in \u001b[0;36mtransform\u001b[1;34m(self, X)\u001b[0m\n\u001b[0;32m    139\u001b[0m     \u001b[1;32mdef\u001b[0m \u001b[0mtransform\u001b[0m\u001b[1;33m(\u001b[0m\u001b[0mself\u001b[0m\u001b[1;33m,\u001b[0m \u001b[0mX\u001b[0m\u001b[1;33m)\u001b[0m\u001b[1;33m:\u001b[0m\u001b[1;33m\u001b[0m\u001b[1;33m\u001b[0m\u001b[0m\n\u001b[0;32m    140\u001b[0m         \u001b[1;31m# assumes X is a DataFrame\u001b[0m\u001b[1;33m\u001b[0m\u001b[1;33m\u001b[0m\u001b[1;33m\u001b[0m\u001b[0m\n\u001b[1;32m--> 141\u001b[1;33m         \u001b[0mXss\u001b[0m \u001b[1;33m=\u001b[0m \u001b[0mself\u001b[0m\u001b[1;33m.\u001b[0m\u001b[0mss\u001b[0m\u001b[1;33m.\u001b[0m\u001b[0mtransform\u001b[0m\u001b[1;33m(\u001b[0m\u001b[0mX\u001b[0m\u001b[1;33m)\u001b[0m\u001b[1;33m\u001b[0m\u001b[1;33m\u001b[0m\u001b[0m\n\u001b[0m\u001b[0;32m    142\u001b[0m         \u001b[0mXscaled\u001b[0m \u001b[1;33m=\u001b[0m \u001b[0mpd\u001b[0m\u001b[1;33m.\u001b[0m\u001b[0mDataFrame\u001b[0m\u001b[1;33m(\u001b[0m\u001b[0mXss\u001b[0m\u001b[1;33m,\u001b[0m \u001b[0mindex\u001b[0m\u001b[1;33m=\u001b[0m\u001b[0mX\u001b[0m\u001b[1;33m.\u001b[0m\u001b[0mindex\u001b[0m\u001b[1;33m,\u001b[0m \u001b[0mcolumns\u001b[0m\u001b[1;33m=\u001b[0m\u001b[0mX\u001b[0m\u001b[1;33m.\u001b[0m\u001b[0mcolumns\u001b[0m\u001b[1;33m)\u001b[0m\u001b[1;33m\u001b[0m\u001b[1;33m\u001b[0m\u001b[0m\n\u001b[0;32m    143\u001b[0m         \u001b[1;32mreturn\u001b[0m \u001b[0mXscaled\u001b[0m\u001b[1;33m\u001b[0m\u001b[1;33m\u001b[0m\u001b[0m\n",
      "\u001b[1;32m~\\AppData\\Local\\Continuum\\miniconda3\\envs\\okolina\\lib\\site-packages\\sklearn\\preprocessing\\data.py\u001b[0m in \u001b[0;36mtransform\u001b[1;34m(self, X, copy)\u001b[0m\n\u001b[0;32m    767\u001b[0m         \u001b[1;32melse\u001b[0m\u001b[1;33m:\u001b[0m\u001b[1;33m\u001b[0m\u001b[1;33m\u001b[0m\u001b[0m\n\u001b[0;32m    768\u001b[0m             \u001b[1;32mif\u001b[0m \u001b[0mself\u001b[0m\u001b[1;33m.\u001b[0m\u001b[0mwith_mean\u001b[0m\u001b[1;33m:\u001b[0m\u001b[1;33m\u001b[0m\u001b[1;33m\u001b[0m\u001b[0m\n\u001b[1;32m--> 769\u001b[1;33m                 \u001b[0mX\u001b[0m \u001b[1;33m-=\u001b[0m \u001b[0mself\u001b[0m\u001b[1;33m.\u001b[0m\u001b[0mmean_\u001b[0m\u001b[1;33m\u001b[0m\u001b[1;33m\u001b[0m\u001b[0m\n\u001b[0m\u001b[0;32m    770\u001b[0m             \u001b[1;32mif\u001b[0m \u001b[0mself\u001b[0m\u001b[1;33m.\u001b[0m\u001b[0mwith_std\u001b[0m\u001b[1;33m:\u001b[0m\u001b[1;33m\u001b[0m\u001b[1;33m\u001b[0m\u001b[0m\n\u001b[0;32m    771\u001b[0m                 \u001b[0mX\u001b[0m \u001b[1;33m/=\u001b[0m \u001b[0mself\u001b[0m\u001b[1;33m.\u001b[0m\u001b[0mscale_\u001b[0m\u001b[1;33m\u001b[0m\u001b[1;33m\u001b[0m\u001b[0m\n",
      "\u001b[1;31mValueError\u001b[0m: operands could not be broadcast together with shapes (1,4) (10,) (1,4) "
     ]
    }
   ],
   "source": [
    "X_38_train, X_38_test, y_38_train, y_38_test =  tt_separation(provjera_38)\n",
    "X_38_train = pipeline.fit_transform(X_38_train)\n",
    "X_38_test = pipeline.transform(X_38_test)"
   ]
  },
  {
   "cell_type": "markdown",
   "metadata": {},
   "source": [
    "### 7.1.3. Pipeline"
   ]
  },
  {
   "cell_type": "code",
   "execution_count": 184,
   "metadata": {},
   "outputs": [],
   "source": [
    "pipeline = Pipeline(\n",
    "    [   ('features', DFFeatureUnion([    ('categoricals', Pipeline([ ('dani',dayName()), ('dummyD', dummy_days())]))    ])), \n",
    "        ('scaler', DFStandardScaler()) \n",
    "    ])"
   ]
  },
  {
   "cell_type": "code",
   "execution_count": 185,
   "metadata": {},
   "outputs": [
    {
     "ename": "ValueError",
     "evalue": "operands could not be broadcast together with shapes (1,4) (10,) (1,4) ",
     "output_type": "error",
     "traceback": [
      "\u001b[1;31m---------------------------------------------------------------------------\u001b[0m",
      "\u001b[1;31mValueError\u001b[0m                                Traceback (most recent call last)",
      "\u001b[1;32m<ipython-input-185-e75c92211b46>\u001b[0m in \u001b[0;36m<module>\u001b[1;34m\u001b[0m\n\u001b[0;32m      1\u001b[0m \u001b[0mX_38_train\u001b[0m \u001b[1;33m=\u001b[0m \u001b[0mpipeline\u001b[0m\u001b[1;33m.\u001b[0m\u001b[0mfit_transform\u001b[0m\u001b[1;33m(\u001b[0m\u001b[0mX_38_train\u001b[0m\u001b[1;33m)\u001b[0m\u001b[1;33m\u001b[0m\u001b[1;33m\u001b[0m\u001b[0m\n\u001b[1;32m----> 2\u001b[1;33m \u001b[0mX_38_test\u001b[0m \u001b[1;33m=\u001b[0m \u001b[0mpipeline\u001b[0m\u001b[1;33m.\u001b[0m\u001b[0mtransform\u001b[0m\u001b[1;33m(\u001b[0m\u001b[0mX_38_test\u001b[0m\u001b[1;33m)\u001b[0m\u001b[1;33m\u001b[0m\u001b[1;33m\u001b[0m\u001b[0m\n\u001b[0m",
      "\u001b[1;32m~\\AppData\\Local\\Continuum\\miniconda3\\envs\\okolina\\lib\\site-packages\\sklearn\\pipeline.py\u001b[0m in \u001b[0;36m_transform\u001b[1;34m(self, X)\u001b[0m\n\u001b[0;32m    538\u001b[0m         \u001b[0mXt\u001b[0m \u001b[1;33m=\u001b[0m \u001b[0mX\u001b[0m\u001b[1;33m\u001b[0m\u001b[1;33m\u001b[0m\u001b[0m\n\u001b[0;32m    539\u001b[0m         \u001b[1;32mfor\u001b[0m \u001b[0m_\u001b[0m\u001b[1;33m,\u001b[0m \u001b[0m_\u001b[0m\u001b[1;33m,\u001b[0m \u001b[0mtransform\u001b[0m \u001b[1;32min\u001b[0m \u001b[0mself\u001b[0m\u001b[1;33m.\u001b[0m\u001b[0m_iter\u001b[0m\u001b[1;33m(\u001b[0m\u001b[1;33m)\u001b[0m\u001b[1;33m:\u001b[0m\u001b[1;33m\u001b[0m\u001b[1;33m\u001b[0m\u001b[0m\n\u001b[1;32m--> 540\u001b[1;33m             \u001b[0mXt\u001b[0m \u001b[1;33m=\u001b[0m \u001b[0mtransform\u001b[0m\u001b[1;33m.\u001b[0m\u001b[0mtransform\u001b[0m\u001b[1;33m(\u001b[0m\u001b[0mXt\u001b[0m\u001b[1;33m)\u001b[0m\u001b[1;33m\u001b[0m\u001b[1;33m\u001b[0m\u001b[0m\n\u001b[0m\u001b[0;32m    541\u001b[0m         \u001b[1;32mreturn\u001b[0m \u001b[0mXt\u001b[0m\u001b[1;33m\u001b[0m\u001b[1;33m\u001b[0m\u001b[0m\n\u001b[0;32m    542\u001b[0m \u001b[1;33m\u001b[0m\u001b[0m\n",
      "\u001b[1;32m~\\Veronika\\kodovi\\radni_folder\\transformers.py\u001b[0m in \u001b[0;36mtransform\u001b[1;34m(self, X)\u001b[0m\n\u001b[0;32m    139\u001b[0m     \u001b[1;32mdef\u001b[0m \u001b[0mtransform\u001b[0m\u001b[1;33m(\u001b[0m\u001b[0mself\u001b[0m\u001b[1;33m,\u001b[0m \u001b[0mX\u001b[0m\u001b[1;33m)\u001b[0m\u001b[1;33m:\u001b[0m\u001b[1;33m\u001b[0m\u001b[1;33m\u001b[0m\u001b[0m\n\u001b[0;32m    140\u001b[0m         \u001b[1;31m# assumes X is a DataFrame\u001b[0m\u001b[1;33m\u001b[0m\u001b[1;33m\u001b[0m\u001b[1;33m\u001b[0m\u001b[0m\n\u001b[1;32m--> 141\u001b[1;33m         \u001b[0mXss\u001b[0m \u001b[1;33m=\u001b[0m \u001b[0mself\u001b[0m\u001b[1;33m.\u001b[0m\u001b[0mss\u001b[0m\u001b[1;33m.\u001b[0m\u001b[0mtransform\u001b[0m\u001b[1;33m(\u001b[0m\u001b[0mX\u001b[0m\u001b[1;33m)\u001b[0m\u001b[1;33m\u001b[0m\u001b[1;33m\u001b[0m\u001b[0m\n\u001b[0m\u001b[0;32m    142\u001b[0m         \u001b[0mXscaled\u001b[0m \u001b[1;33m=\u001b[0m \u001b[0mpd\u001b[0m\u001b[1;33m.\u001b[0m\u001b[0mDataFrame\u001b[0m\u001b[1;33m(\u001b[0m\u001b[0mXss\u001b[0m\u001b[1;33m,\u001b[0m \u001b[0mindex\u001b[0m\u001b[1;33m=\u001b[0m\u001b[0mX\u001b[0m\u001b[1;33m.\u001b[0m\u001b[0mindex\u001b[0m\u001b[1;33m,\u001b[0m \u001b[0mcolumns\u001b[0m\u001b[1;33m=\u001b[0m\u001b[0mX\u001b[0m\u001b[1;33m.\u001b[0m\u001b[0mcolumns\u001b[0m\u001b[1;33m)\u001b[0m\u001b[1;33m\u001b[0m\u001b[1;33m\u001b[0m\u001b[0m\n\u001b[0;32m    143\u001b[0m         \u001b[1;32mreturn\u001b[0m \u001b[0mXscaled\u001b[0m\u001b[1;33m\u001b[0m\u001b[1;33m\u001b[0m\u001b[0m\n",
      "\u001b[1;32m~\\AppData\\Local\\Continuum\\miniconda3\\envs\\okolina\\lib\\site-packages\\sklearn\\preprocessing\\data.py\u001b[0m in \u001b[0;36mtransform\u001b[1;34m(self, X, copy)\u001b[0m\n\u001b[0;32m    767\u001b[0m         \u001b[1;32melse\u001b[0m\u001b[1;33m:\u001b[0m\u001b[1;33m\u001b[0m\u001b[1;33m\u001b[0m\u001b[0m\n\u001b[0;32m    768\u001b[0m             \u001b[1;32mif\u001b[0m \u001b[0mself\u001b[0m\u001b[1;33m.\u001b[0m\u001b[0mwith_mean\u001b[0m\u001b[1;33m:\u001b[0m\u001b[1;33m\u001b[0m\u001b[1;33m\u001b[0m\u001b[0m\n\u001b[1;32m--> 769\u001b[1;33m                 \u001b[0mX\u001b[0m \u001b[1;33m-=\u001b[0m \u001b[0mself\u001b[0m\u001b[1;33m.\u001b[0m\u001b[0mmean_\u001b[0m\u001b[1;33m\u001b[0m\u001b[1;33m\u001b[0m\u001b[0m\n\u001b[0m\u001b[0;32m    770\u001b[0m             \u001b[1;32mif\u001b[0m \u001b[0mself\u001b[0m\u001b[1;33m.\u001b[0m\u001b[0mwith_std\u001b[0m\u001b[1;33m:\u001b[0m\u001b[1;33m\u001b[0m\u001b[1;33m\u001b[0m\u001b[0m\n\u001b[0;32m    771\u001b[0m                 \u001b[0mX\u001b[0m \u001b[1;33m/=\u001b[0m \u001b[0mself\u001b[0m\u001b[1;33m.\u001b[0m\u001b[0mscale_\u001b[0m\u001b[1;33m\u001b[0m\u001b[1;33m\u001b[0m\u001b[0m\n",
      "\u001b[1;31mValueError\u001b[0m: operands could not be broadcast together with shapes (1,4) (10,) (1,4) "
     ]
    }
   ],
   "source": []
  },
  {
   "cell_type": "markdown",
   "metadata": {},
   "source": [
    "## 3.2. Fitting and transforming"
   ]
  },
  {
   "cell_type": "markdown",
   "metadata": {},
   "source": [
    "### 7.2.1. Training set"
   ]
  },
  {
   "cell_type": "code",
   "execution_count": 146,
   "metadata": {},
   "outputs": [],
   "source": [
    "model_38 = lm.fit(X_38_train, y_38_train)\n",
    "model_39 = lm.fit(X_39_train, y_39_train)\n",
    "model_40 = lm.fit(X_40_train, y_40_train)\n",
    "model_41 = lm.fit(X_41_train, y_41_train)\n",
    "model_57 = lm.fit(X_57_train, y_57_train)"
   ]
  },
  {
   "cell_type": "code",
   "execution_count": 147,
   "metadata": {},
   "outputs": [],
   "source": [
    "y_38_train_predicted = model_38.predict(X_38_train)\n",
    "y_39_train_predicted = model_39.predict(X_39_train)\n",
    "y_40_train_predicted = model_40.predict(X_40_train)\n",
    "y_41_train_predicted = model_41.predict(X_41_train)\n",
    "y_57_train_predicted = model_57.predict(X_57_train)"
   ]
  },
  {
   "cell_type": "code",
   "execution_count": 162,
   "metadata": {},
   "outputs": [
    {
     "data": {
      "text/plain": [
       "array([ 1.63964346e+14,  3.02855570e+13, -3.28530154e+13,  3.48346811e+13,\n",
       "       -6.37691288e+13, -4.78135574e+13, -9.44413325e+13,  1.63964346e+14,\n",
       "        3.02855570e+13, -3.28530154e+13, -6.37691288e+13, -4.78135574e+13,\n",
       "       -9.44413325e+13,  1.63964346e+14,  3.02855570e+13, -3.28530154e+13,\n",
       "        3.48346811e+13, -4.78135574e+13, -9.44413325e+13,  1.63964346e+14,\n",
       "        3.02855570e+13, -3.28530154e+13,  3.48346811e+13, -6.37691288e+13,\n",
       "       -4.78135574e+13, -9.44413325e+13,  1.63964346e+14,  3.02855570e+13,\n",
       "       -3.28530154e+13,  3.48346811e+13, -6.37691288e+13, -4.78135574e+13,\n",
       "       -9.44413325e+13,  1.63964346e+14,  3.02855570e+13, -3.28530154e+13,\n",
       "        3.48346811e+13, -6.37691288e+13, -4.78135574e+13, -9.44413325e+13,\n",
       "        1.63964346e+14,  3.02855570e+13,  3.48346811e+13, -6.37691288e+13,\n",
       "       -9.44413325e+13,  1.63964346e+14,  3.02855570e+13, -3.28530154e+13,\n",
       "        3.48346811e+13, -6.37691288e+13, -4.78135574e+13, -9.44413325e+13,\n",
       "        1.63964346e+14,  3.02855570e+13, -3.28530154e+13,  3.48346811e+13,\n",
       "       -6.37691288e+13, -9.44413325e+13,  1.63964346e+14,  3.02855570e+13,\n",
       "       -3.28530154e+13,  3.48346811e+13, -6.37691288e+13, -4.78135574e+13,\n",
       "       -9.44413325e+13,  1.63964346e+14,  3.02855570e+13, -3.28530154e+13,\n",
       "        3.48346811e+13, -6.37691288e+13, -4.78135574e+13, -9.44413325e+13,\n",
       "        1.63964346e+14,  3.02855570e+13, -3.28530154e+13,  3.48346811e+13,\n",
       "       -6.37691288e+13, -4.78135574e+13, -9.44413325e+13,  1.63964346e+14,\n",
       "       -3.28530154e+13,  3.48346811e+13, -6.37691288e+13, -4.78135574e+13,\n",
       "        1.63964346e+14,  3.02855570e+13, -3.28530154e+13,  3.48346811e+13,\n",
       "       -6.37691288e+13, -4.78135574e+13, -9.44413325e+13,  1.63964346e+14,\n",
       "        3.02855570e+13, -3.28530154e+13, -6.37691288e+13, -4.78135574e+13,\n",
       "       -9.44413325e+13,  1.63964346e+14,  3.02855570e+13, -3.28530154e+13,\n",
       "        3.48346811e+13, -4.78135574e+13, -9.44413325e+13,  1.63964346e+14,\n",
       "        3.02855570e+13, -3.28530154e+13,  3.48346811e+13, -6.37691288e+13,\n",
       "       -9.44413325e+13,  1.63964346e+14,  3.02855570e+13, -3.28530154e+13,\n",
       "        3.48346811e+13, -6.37691288e+13, -4.78135574e+13, -9.44413325e+13,\n",
       "        1.63964346e+14,  3.02855570e+13, -3.28530154e+13,  3.48346811e+13,\n",
       "       -6.37691288e+13, -4.78135574e+13, -9.44413325e+13,  1.63964346e+14,\n",
       "        3.02855570e+13, -3.28530154e+13,  3.48346811e+13, -6.37691288e+13,\n",
       "       -4.78135574e+13, -9.44413325e+13,  1.63964346e+14,  3.02855570e+13,\n",
       "       -3.28530154e+13,  3.48346811e+13, -6.37691288e+13, -4.78135574e+13,\n",
       "       -9.44413325e+13,  1.63964346e+14,  3.02855570e+13, -3.28530154e+13,\n",
       "       -6.37691288e+13, -4.78135574e+13, -9.44413325e+13,  1.63964346e+14,\n",
       "        3.02855570e+13, -3.28530154e+13,  3.48346811e+13, -6.37691288e+13,\n",
       "       -4.78135574e+13, -9.44413325e+13,  1.63964346e+14,  3.02855570e+13,\n",
       "       -3.28530154e+13,  3.48346811e+13, -6.37691288e+13, -4.78135574e+13,\n",
       "       -9.44413325e+13,  1.63964346e+14,  3.02855570e+13, -3.28530154e+13,\n",
       "        3.48346811e+13, -6.37691288e+13, -4.78135574e+13, -9.44413325e+13,\n",
       "        1.63964346e+14,  3.02855570e+13, -3.28530154e+13,  3.48346811e+13,\n",
       "       -6.37691288e+13, -4.78135574e+13, -9.44413325e+13,  1.63964346e+14,\n",
       "        3.02855570e+13, -3.28530154e+13,  3.48346811e+13, -6.37691288e+13,\n",
       "       -4.78135574e+13, -9.44413325e+13,  1.63964346e+14,  3.02855570e+13,\n",
       "       -3.28530154e+13,  3.48346811e+13, -6.37691288e+13, -4.78135574e+13,\n",
       "       -9.44413325e+13,  1.63964346e+14,  3.02855570e+13, -3.28530154e+13,\n",
       "        3.48346811e+13, -6.37691288e+13, -4.78135574e+13, -9.44413325e+13,\n",
       "        1.63964346e+14,  3.02855570e+13, -3.28530154e+13,  3.48346811e+13,\n",
       "       -6.37691288e+13, -4.78135574e+13, -9.44413325e+13,  1.63964346e+14,\n",
       "        3.02855570e+13, -3.28530154e+13,  3.48346811e+13, -6.37691288e+13,\n",
       "       -4.78135574e+13, -9.44413325e+13,  1.63964346e+14,  3.02855570e+13,\n",
       "       -3.28530154e+13,  3.48346811e+13, -6.37691288e+13, -4.78135574e+13,\n",
       "       -9.44413325e+13,  1.63964346e+14,  3.02855570e+13, -3.28530154e+13,\n",
       "        3.48346811e+13, -6.37691288e+13, -4.78135574e+13, -9.44413325e+13,\n",
       "        1.63964346e+14,  3.02855570e+13, -3.28530154e+13,  3.48346811e+13,\n",
       "       -6.37691288e+13, -4.78135574e+13, -9.44413325e+13,  1.63964346e+14,\n",
       "        3.02855570e+13, -3.28530154e+13, -4.78135574e+13, -9.44413325e+13,\n",
       "        1.63964346e+14,  3.02855570e+13, -3.28530154e+13,  3.48346811e+13,\n",
       "       -6.37691288e+13, -4.78135574e+13, -9.44413325e+13,  1.63964346e+14,\n",
       "        3.02855570e+13, -3.28530154e+13,  3.48346811e+13, -6.37691288e+13,\n",
       "       -4.78135574e+13, -9.44413325e+13,  1.63964346e+14,  3.02855570e+13,\n",
       "       -3.28530154e+13,  3.48346811e+13, -4.78135574e+13, -9.44413325e+13,\n",
       "        1.63964346e+14,  3.02855570e+13, -3.28530154e+13,  3.48346811e+13,\n",
       "       -6.37691288e+13, -4.78135574e+13, -9.44413325e+13,  1.63964346e+14,\n",
       "        3.02855570e+13, -3.28530154e+13,  3.48346811e+13, -6.37691288e+13,\n",
       "       -4.78135574e+13, -9.44413325e+13,  1.63964346e+14,  3.02855570e+13,\n",
       "       -3.28530154e+13,  3.48346811e+13, -6.37691288e+13, -4.78135574e+13,\n",
       "       -9.44413325e+13,  1.63964346e+14,  3.02855570e+13, -3.28530154e+13,\n",
       "        3.48346811e+13, -6.37691288e+13, -4.78135574e+13, -9.44413325e+13,\n",
       "        1.63964346e+14,  3.02855570e+13, -3.28530154e+13,  3.48346811e+13,\n",
       "       -6.37691288e+13, -4.78135574e+13, -9.44413325e+13,  1.63964346e+14,\n",
       "        3.02855570e+13, -3.28530154e+13,  3.48346811e+13, -6.37691288e+13,\n",
       "       -4.78135574e+13, -9.44413325e+13,  1.63964346e+14,  3.02855570e+13,\n",
       "       -3.28530154e+13,  3.48346811e+13, -6.37691288e+13, -4.78135574e+13,\n",
       "       -9.44413325e+13,  1.63964346e+14,  3.02855570e+13, -3.28530154e+13,\n",
       "        3.48346811e+13, -6.37691288e+13, -4.78135574e+13, -9.44413325e+13,\n",
       "        1.63964346e+14,  3.02855570e+13, -3.28530154e+13,  3.48346811e+13,\n",
       "       -6.37691288e+13, -4.78135574e+13, -9.44413325e+13,  1.63964346e+14,\n",
       "        3.02855570e+13, -3.28530154e+13,  3.48346811e+13, -6.37691288e+13,\n",
       "       -4.78135574e+13, -9.44413325e+13,  1.63964346e+14,  3.02855570e+13,\n",
       "       -3.28530154e+13,  3.48346811e+13, -6.37691288e+13, -4.78135574e+13,\n",
       "       -9.44413325e+13,  1.63964346e+14,  3.02855570e+13, -6.37691288e+13,\n",
       "       -4.78135574e+13, -9.44413325e+13,  1.63964346e+14,  3.02855570e+13,\n",
       "       -3.28530154e+13,  3.48346811e+13, -6.37691288e+13, -4.78135574e+13,\n",
       "       -9.44413325e+13,  1.63964346e+14, -3.28530154e+13,  3.48346811e+13,\n",
       "       -6.37691288e+13, -4.78135574e+13, -9.44413325e+13,  1.63964346e+14,\n",
       "       -3.28530154e+13,  3.48346811e+13, -6.37691288e+13, -4.78135574e+13,\n",
       "       -9.44413325e+13,  1.63964346e+14,  3.02855570e+13,  3.48346811e+13,\n",
       "       -6.37691288e+13, -4.78135574e+13, -9.44413325e+13,  1.63964346e+14,\n",
       "        3.02855570e+13, -3.28530154e+13,  3.48346811e+13, -4.78135574e+13,\n",
       "       -9.44413325e+13,  1.63964346e+14,  3.02855570e+13, -3.28530154e+13,\n",
       "       -6.37691288e+13, -4.78135574e+13, -9.44413325e+13,  1.63964346e+14,\n",
       "       -3.28530154e+13,  3.48346811e+13, -6.37691288e+13, -4.78135574e+13,\n",
       "       -9.44413325e+13,  1.63964346e+14,  3.02855570e+13, -3.28530154e+13,\n",
       "        3.48346811e+13, -6.37691288e+13, -4.78135574e+13, -9.44413325e+13,\n",
       "        1.63964346e+14,  3.02855570e+13, -3.28530154e+13,  3.48346811e+13,\n",
       "       -6.37691288e+13, -4.78135574e+13, -9.44413325e+13,  1.63964346e+14,\n",
       "        3.02855570e+13, -3.28530154e+13, -6.37691288e+13, -4.78135574e+13,\n",
       "        1.63964346e+14,  3.02855570e+13, -3.28530154e+13,  3.48346811e+13,\n",
       "       -6.37691288e+13, -4.78135574e+13, -9.44413325e+13,  1.63964346e+14,\n",
       "        3.02855570e+13, -3.28530154e+13,  3.48346811e+13, -6.37691288e+13,\n",
       "       -4.78135574e+13, -9.44413325e+13,  1.63964346e+14, -3.28530154e+13,\n",
       "        3.48346811e+13, -6.37691288e+13, -4.78135574e+13, -9.44413325e+13,\n",
       "        1.63964346e+14,  3.02855570e+13,  3.48346811e+13, -6.37691288e+13,\n",
       "       -4.78135574e+13, -9.44413325e+13,  1.63964346e+14,  3.02855570e+13,\n",
       "       -3.28530154e+13,  3.48346811e+13, -6.37691288e+13, -4.78135574e+13,\n",
       "       -9.44413325e+13,  1.63964346e+14,  3.02855570e+13, -3.28530154e+13,\n",
       "        3.48346811e+13, -6.37691288e+13, -4.78135574e+13, -9.44413325e+13,\n",
       "        1.63964346e+14,  3.02855570e+13, -3.28530154e+13,  3.48346811e+13,\n",
       "       -6.37691288e+13, -4.78135574e+13, -9.44413325e+13,  1.63964346e+14,\n",
       "       -3.28530154e+13,  3.48346811e+13, -6.37691288e+13, -4.78135574e+13,\n",
       "       -9.44413325e+13,  1.63964346e+14,  3.02855570e+13, -3.28530154e+13,\n",
       "        3.48346811e+13, -6.37691288e+13, -4.78135574e+13, -9.44413325e+13,\n",
       "        1.63964346e+14,  3.02855570e+13, -3.28530154e+13,  3.48346811e+13,\n",
       "       -6.37691288e+13, -9.44413325e+13,  1.63964346e+14,  3.02855570e+13,\n",
       "       -3.28530154e+13,  3.48346811e+13, -6.37691288e+13, -4.78135574e+13,\n",
       "       -9.44413325e+13,  1.63964346e+14,  3.02855570e+13, -3.28530154e+13,\n",
       "        3.48346811e+13, -6.37691288e+13, -4.78135574e+13, -9.44413325e+13,\n",
       "        1.63964346e+14,  3.02855570e+13, -3.28530154e+13, -6.37691288e+13,\n",
       "       -4.78135574e+13, -9.44413325e+13,  1.63964346e+14,  3.02855570e+13,\n",
       "        3.48346811e+13, -6.37691288e+13, -4.78135574e+13,  1.63964346e+14,\n",
       "        3.02855570e+13, -3.28530154e+13,  3.48346811e+13, -6.37691288e+13,\n",
       "       -4.78135574e+13, -9.44413325e+13,  1.63964346e+14,  3.02855570e+13,\n",
       "       -3.28530154e+13,  3.48346811e+13, -6.37691288e+13, -4.78135574e+13,\n",
       "       -9.44413325e+13,  1.63964346e+14,  3.02855570e+13, -3.28530154e+13,\n",
       "        3.48346811e+13, -6.37691288e+13, -4.78135574e+13, -9.44413325e+13,\n",
       "        1.63964346e+14,  3.02855570e+13, -3.28530154e+13,  3.48346811e+13,\n",
       "       -4.78135574e+13, -9.44413325e+13,  1.63964346e+14,  3.02855570e+13,\n",
       "       -3.28530154e+13,  3.48346811e+13, -6.37691288e+13, -4.78135574e+13,\n",
       "       -9.44413325e+13,  1.63964346e+14,  3.02855570e+13, -3.28530154e+13,\n",
       "        3.48346811e+13, -6.37691288e+13, -4.78135574e+13, -9.44413325e+13,\n",
       "        1.63964346e+14,  3.02855570e+13, -3.28530154e+13,  3.48346811e+13,\n",
       "       -6.37691288e+13, -4.78135574e+13, -9.44413325e+13,  1.63964346e+14,\n",
       "        3.02855570e+13, -3.28530154e+13,  3.48346811e+13, -6.37691288e+13,\n",
       "       -4.78135574e+13, -9.44413325e+13,  1.63964346e+14,  3.02855570e+13,\n",
       "       -3.28530154e+13,  3.48346811e+13, -6.37691288e+13, -4.78135574e+13,\n",
       "       -9.44413325e+13,  1.63964346e+14,  3.02855570e+13, -3.28530154e+13,\n",
       "        3.48346811e+13, -6.37691288e+13, -4.78135574e+13, -9.44413325e+13,\n",
       "        1.63964346e+14,  3.02855570e+13, -3.28530154e+13,  3.48346811e+13,\n",
       "       -6.37691288e+13, -4.78135574e+13, -9.44413325e+13,  1.63964346e+14,\n",
       "        3.02855570e+13, -3.28530154e+13,  3.48346811e+13, -6.37691288e+13,\n",
       "       -4.78135574e+13, -9.44413325e+13,  1.63964346e+14,  3.02855570e+13,\n",
       "       -3.28530154e+13,  3.48346811e+13, -6.37691288e+13, -4.78135574e+13,\n",
       "       -9.44413325e+13,  1.63964346e+14,  3.02855570e+13, -3.28530154e+13,\n",
       "        3.48346811e+13, -6.37691288e+13, -4.78135574e+13,  1.63964346e+14,\n",
       "        3.02855570e+13, -3.28530154e+13,  3.48346811e+13, -4.78135574e+13,\n",
       "       -9.44413325e+13,  1.63964346e+14,  3.02855570e+13, -3.28530154e+13,\n",
       "        3.48346811e+13, -6.37691288e+13, -4.78135574e+13, -9.44413325e+13,\n",
       "        1.63964346e+14,  3.02855570e+13, -3.28530154e+13,  3.48346811e+13,\n",
       "       -4.78135574e+13, -9.44413325e+13,  1.63964346e+14,  3.02855570e+13,\n",
       "       -3.28530154e+13,  3.48346811e+13, -6.37691288e+13, -4.78135574e+13,\n",
       "       -9.44413325e+13,  1.63964346e+14,  3.02855570e+13, -3.28530154e+13,\n",
       "        3.48346811e+13, -6.37691288e+13, -4.78135574e+13, -9.44413325e+13,\n",
       "        1.63964346e+14,  3.02855570e+13, -3.28530154e+13, -6.37691288e+13,\n",
       "       -4.78135574e+13, -9.44413325e+13,  1.63964346e+14,  3.02855570e+13,\n",
       "       -3.28530154e+13,  3.48346811e+13, -6.37691288e+13, -4.78135574e+13,\n",
       "       -9.44413325e+13,  1.63964346e+14,  3.02855570e+13, -3.28530154e+13,\n",
       "        3.48346811e+13, -4.78135574e+13, -9.44413325e+13,  1.63964346e+14,\n",
       "        3.02855570e+13, -3.28530154e+13, -6.37691288e+13, -4.78135574e+13,\n",
       "        1.63964346e+14, -3.28530154e+13,  3.48346811e+13, -6.37691288e+13,\n",
       "       -4.78135574e+13, -9.44413325e+13,  1.63964346e+14,  3.02855570e+13,\n",
       "       -3.28530154e+13, -6.37691288e+13, -4.78135574e+13,  1.63964346e+14,\n",
       "        3.02855570e+13, -3.28530154e+13,  3.48346811e+13, -4.78135574e+13,\n",
       "       -9.44413325e+13,  1.63964346e+14,  3.02855570e+13, -3.28530154e+13,\n",
       "        3.48346811e+13, -6.37691288e+13, -4.78135574e+13, -9.44413325e+13,\n",
       "        3.02855570e+13, -3.28530154e+13,  3.48346811e+13, -6.37691288e+13,\n",
       "       -4.78135574e+13, -9.44413325e+13,  1.63964346e+14,  3.02855570e+13,\n",
       "       -3.28530154e+13,  3.48346811e+13, -6.37691288e+13, -4.78135574e+13,\n",
       "       -9.44413325e+13,  1.63964346e+14,  3.02855570e+13,  3.48346811e+13,\n",
       "       -6.37691288e+13, -4.78135574e+13, -9.44413325e+13,  1.63964346e+14,\n",
       "        3.02855570e+13,  3.48346811e+13, -6.37691288e+13, -4.78135574e+13,\n",
       "        1.63964346e+14,  3.02855570e+13, -3.28530154e+13,  3.48346811e+13,\n",
       "       -6.37691288e+13, -4.78135574e+13, -9.44413325e+13,  1.63964346e+14,\n",
       "        3.02855570e+13, -3.28530154e+13,  3.48346811e+13, -6.37691288e+13,\n",
       "       -4.78135574e+13, -9.44413325e+13,  1.63964346e+14,  3.02855570e+13,\n",
       "       -3.28530154e+13,  3.48346811e+13, -6.37691288e+13, -4.78135574e+13,\n",
       "       -9.44413325e+13,  1.63964346e+14,  3.02855570e+13, -3.28530154e+13,\n",
       "        3.48346811e+13, -6.37691288e+13, -4.78135574e+13, -9.44413325e+13,\n",
       "        1.63964346e+14,  3.02855570e+13,  3.48346811e+13, -6.37691288e+13,\n",
       "       -9.44413325e+13,  1.63964346e+14,  3.02855570e+13,  3.48346811e+13,\n",
       "       -6.37691288e+13, -4.78135574e+13, -9.44413325e+13,  1.63964346e+14,\n",
       "        3.02855570e+13, -3.28530154e+13,  3.48346811e+13, -6.37691288e+13,\n",
       "       -4.78135574e+13, -9.44413325e+13,  1.63964346e+14,  3.02855570e+13,\n",
       "       -3.28530154e+13,  3.48346811e+13, -6.37691288e+13, -4.78135574e+13,\n",
       "       -9.44413325e+13,  1.63964346e+14,  3.02855570e+13, -3.28530154e+13,\n",
       "       -6.37691288e+13, -4.78135574e+13, -9.44413325e+13,  1.63964346e+14,\n",
       "        3.02855570e+13, -6.37691288e+13, -4.78135574e+13, -9.44413325e+13,\n",
       "        1.63964346e+14,  3.02855570e+13, -3.28530154e+13, -6.37691288e+13,\n",
       "       -4.78135574e+13,  1.63964346e+14,  3.02855570e+13,  3.48346811e+13,\n",
       "       -6.37691288e+13, -4.78135574e+13, -9.44413325e+13,  1.63964346e+14,\n",
       "        3.48346811e+13, -6.37691288e+13, -4.78135574e+13, -9.44413325e+13,\n",
       "        1.63964346e+14,  3.02855570e+13, -3.28530154e+13, -6.37691288e+13,\n",
       "       -4.78135574e+13, -9.44413325e+13,  1.63964346e+14,  3.02855570e+13,\n",
       "       -3.28530154e+13,  3.48346811e+13, -6.37691288e+13, -4.78135574e+13,\n",
       "       -9.44413325e+13,  1.63964346e+14,  3.02855570e+13,  3.48346811e+13,\n",
       "       -6.37691288e+13, -4.78135574e+13, -9.44413325e+13,  1.63964346e+14,\n",
       "        3.02855570e+13, -3.28530154e+13, -6.37691288e+13, -9.44413325e+13,\n",
       "        3.02855570e+13, -3.28530154e+13,  3.48346811e+13, -6.37691288e+13,\n",
       "       -9.44413325e+13,  1.63964346e+14,  3.02855570e+13, -3.28530154e+13,\n",
       "        3.48346811e+13, -6.37691288e+13, -4.78135574e+13,  1.63964346e+14,\n",
       "       -3.28530154e+13,  3.48346811e+13, -6.37691288e+13, -4.78135574e+13,\n",
       "       -9.44413325e+13,  1.63964346e+14,  3.02855570e+13, -3.28530154e+13,\n",
       "        3.48346811e+13, -6.37691288e+13])"
      ]
     },
     "execution_count": 162,
     "metadata": {},
     "output_type": "execute_result"
    }
   ],
   "source": [
    "y_38_train_predicted"
   ]
  },
  {
   "cell_type": "code",
   "execution_count": 148,
   "metadata": {},
   "outputs": [
    {
     "data": {
      "text/plain": [
       "0.19952149037493294"
      ]
     },
     "execution_count": 148,
     "metadata": {},
     "output_type": "execute_result"
    }
   ],
   "source": [
    "model_38.score(X_38_train, y_38_train)\n",
    "model_39.score(X_39_train, y_39_train)\n",
    "model_40.score(X_40_train, y_40_train)\n",
    "model_41.score(X_41_train, y_41_train)\n",
    "model_57.score(X_57_train, y_57_train)"
   ]
  },
  {
   "cell_type": "code",
   "execution_count": 149,
   "metadata": {},
   "outputs": [
    {
     "data": {
      "text/plain": [
       "81993834327849.94"
      ]
     },
     "execution_count": 149,
     "metadata": {},
     "output_type": "execute_result"
    }
   ],
   "source": [
    "np.sqrt(mean_squared_error(y_38_train, y_38_train_predicted))"
   ]
  },
  {
   "cell_type": "code",
   "execution_count": null,
   "metadata": {},
   "outputs": [],
   "source": []
  },
  {
   "cell_type": "code",
   "execution_count": 150,
   "metadata": {},
   "outputs": [
    {
     "data": {
      "text/html": [
       "<div>\n",
       "<style scoped>\n",
       "    .dataframe tbody tr th:only-of-type {\n",
       "        vertical-align: middle;\n",
       "    }\n",
       "\n",
       "    .dataframe tbody tr th {\n",
       "        vertical-align: top;\n",
       "    }\n",
       "\n",
       "    .dataframe thead th {\n",
       "        text-align: right;\n",
       "    }\n",
       "</style>\n",
       "<table border=\"1\" class=\"dataframe\">\n",
       "  <thead>\n",
       "    <tr style=\"text-align: right;\">\n",
       "      <th></th>\n",
       "      <th>regular_price</th>\n",
       "      <th>discounted_price</th>\n",
       "      <th>number_of_stores</th>\n",
       "      <th>amount</th>\n",
       "    </tr>\n",
       "    <tr>\n",
       "      <th>date</th>\n",
       "      <th></th>\n",
       "      <th></th>\n",
       "      <th></th>\n",
       "      <th></th>\n",
       "    </tr>\n",
       "  </thead>\n",
       "  <tbody>\n",
       "    <tr>\n",
       "      <th>2016-01-02</th>\n",
       "      <td>0.100</td>\n",
       "      <td>0.100</td>\n",
       "      <td>439</td>\n",
       "      <td>769.0</td>\n",
       "    </tr>\n",
       "    <tr>\n",
       "      <th>2016-01-03</th>\n",
       "      <td>0.100</td>\n",
       "      <td>0.100</td>\n",
       "      <td>436</td>\n",
       "      <td>100.0</td>\n",
       "    </tr>\n",
       "    <tr>\n",
       "      <th>2016-01-04</th>\n",
       "      <td>0.100</td>\n",
       "      <td>0.100</td>\n",
       "      <td>441</td>\n",
       "      <td>305.0</td>\n",
       "    </tr>\n",
       "    <tr>\n",
       "      <th>2016-01-05</th>\n",
       "      <td>0.100</td>\n",
       "      <td>0.100</td>\n",
       "      <td>441</td>\n",
       "      <td>79.0</td>\n",
       "    </tr>\n",
       "    <tr>\n",
       "      <th>2016-01-06</th>\n",
       "      <td>0.100</td>\n",
       "      <td>0.100</td>\n",
       "      <td>444</td>\n",
       "      <td>344.0</td>\n",
       "    </tr>\n",
       "    <tr>\n",
       "      <th>2016-01-07</th>\n",
       "      <td>0.100</td>\n",
       "      <td>0.100</td>\n",
       "      <td>441</td>\n",
       "      <td>97.0</td>\n",
       "    </tr>\n",
       "    <tr>\n",
       "      <th>2016-01-08</th>\n",
       "      <td>0.100</td>\n",
       "      <td>0.100</td>\n",
       "      <td>442</td>\n",
       "      <td>311.0</td>\n",
       "    </tr>\n",
       "    <tr>\n",
       "      <th>2016-01-09</th>\n",
       "      <td>0.100</td>\n",
       "      <td>0.100</td>\n",
       "      <td>443</td>\n",
       "      <td>541.0</td>\n",
       "    </tr>\n",
       "    <tr>\n",
       "      <th>2016-01-10</th>\n",
       "      <td>0.100</td>\n",
       "      <td>0.100</td>\n",
       "      <td>441</td>\n",
       "      <td>94.0</td>\n",
       "    </tr>\n",
       "    <tr>\n",
       "      <th>2016-01-11</th>\n",
       "      <td>0.100</td>\n",
       "      <td>0.100</td>\n",
       "      <td>444</td>\n",
       "      <td>233.0</td>\n",
       "    </tr>\n",
       "    <tr>\n",
       "      <th>2016-01-13</th>\n",
       "      <td>0.100</td>\n",
       "      <td>0.100</td>\n",
       "      <td>441</td>\n",
       "      <td>347.0</td>\n",
       "    </tr>\n",
       "    <tr>\n",
       "      <th>2016-01-14</th>\n",
       "      <td>0.100</td>\n",
       "      <td>0.100</td>\n",
       "      <td>440</td>\n",
       "      <td>292.0</td>\n",
       "    </tr>\n",
       "    <tr>\n",
       "      <th>2016-01-15</th>\n",
       "      <td>0.100</td>\n",
       "      <td>0.100</td>\n",
       "      <td>441</td>\n",
       "      <td>275.0</td>\n",
       "    </tr>\n",
       "    <tr>\n",
       "      <th>2016-01-16</th>\n",
       "      <td>0.100</td>\n",
       "      <td>0.100</td>\n",
       "      <td>441</td>\n",
       "      <td>422.0</td>\n",
       "    </tr>\n",
       "    <tr>\n",
       "      <th>2016-01-17</th>\n",
       "      <td>0.100</td>\n",
       "      <td>0.100</td>\n",
       "      <td>438</td>\n",
       "      <td>133.0</td>\n",
       "    </tr>\n",
       "    <tr>\n",
       "      <th>2016-01-18</th>\n",
       "      <td>0.100</td>\n",
       "      <td>0.100</td>\n",
       "      <td>437</td>\n",
       "      <td>116.0</td>\n",
       "    </tr>\n",
       "    <tr>\n",
       "      <th>2016-01-19</th>\n",
       "      <td>0.100</td>\n",
       "      <td>0.100</td>\n",
       "      <td>433</td>\n",
       "      <td>294.0</td>\n",
       "    </tr>\n",
       "    <tr>\n",
       "      <th>2016-01-21</th>\n",
       "      <td>0.100</td>\n",
       "      <td>0.100</td>\n",
       "      <td>439</td>\n",
       "      <td>337.0</td>\n",
       "    </tr>\n",
       "    <tr>\n",
       "      <th>2016-01-22</th>\n",
       "      <td>0.100</td>\n",
       "      <td>0.100</td>\n",
       "      <td>437</td>\n",
       "      <td>141.0</td>\n",
       "    </tr>\n",
       "    <tr>\n",
       "      <th>2016-01-23</th>\n",
       "      <td>0.100</td>\n",
       "      <td>0.100</td>\n",
       "      <td>436</td>\n",
       "      <td>264.0</td>\n",
       "    </tr>\n",
       "    <tr>\n",
       "      <th>2016-01-24</th>\n",
       "      <td>0.100</td>\n",
       "      <td>0.100</td>\n",
       "      <td>434</td>\n",
       "      <td>200.0</td>\n",
       "    </tr>\n",
       "    <tr>\n",
       "      <th>2016-01-25</th>\n",
       "      <td>0.100</td>\n",
       "      <td>0.100</td>\n",
       "      <td>435</td>\n",
       "      <td>206.0</td>\n",
       "    </tr>\n",
       "    <tr>\n",
       "      <th>2016-01-26</th>\n",
       "      <td>0.100</td>\n",
       "      <td>0.100</td>\n",
       "      <td>436</td>\n",
       "      <td>276.0</td>\n",
       "    </tr>\n",
       "    <tr>\n",
       "      <th>2016-01-27</th>\n",
       "      <td>0.100</td>\n",
       "      <td>0.100</td>\n",
       "      <td>437</td>\n",
       "      <td>529.0</td>\n",
       "    </tr>\n",
       "    <tr>\n",
       "      <th>2016-01-28</th>\n",
       "      <td>0.099</td>\n",
       "      <td>0.099</td>\n",
       "      <td>436</td>\n",
       "      <td>30.0</td>\n",
       "    </tr>\n",
       "    <tr>\n",
       "      <th>2016-01-29</th>\n",
       "      <td>0.100</td>\n",
       "      <td>0.100</td>\n",
       "      <td>438</td>\n",
       "      <td>273.0</td>\n",
       "    </tr>\n",
       "    <tr>\n",
       "      <th>2016-01-30</th>\n",
       "      <td>0.100</td>\n",
       "      <td>0.100</td>\n",
       "      <td>436</td>\n",
       "      <td>329.0</td>\n",
       "    </tr>\n",
       "    <tr>\n",
       "      <th>2016-01-31</th>\n",
       "      <td>0.100</td>\n",
       "      <td>0.100</td>\n",
       "      <td>434</td>\n",
       "      <td>394.0</td>\n",
       "    </tr>\n",
       "    <tr>\n",
       "      <th>2016-02-01</th>\n",
       "      <td>0.100</td>\n",
       "      <td>0.100</td>\n",
       "      <td>436</td>\n",
       "      <td>279.0</td>\n",
       "    </tr>\n",
       "    <tr>\n",
       "      <th>2016-02-02</th>\n",
       "      <td>0.100</td>\n",
       "      <td>0.100</td>\n",
       "      <td>434</td>\n",
       "      <td>163.0</td>\n",
       "    </tr>\n",
       "    <tr>\n",
       "      <th>...</th>\n",
       "      <td>...</td>\n",
       "      <td>...</td>\n",
       "      <td>...</td>\n",
       "      <td>...</td>\n",
       "    </tr>\n",
       "    <tr>\n",
       "      <th>2018-04-26</th>\n",
       "      <td>0.100</td>\n",
       "      <td>0.100</td>\n",
       "      <td>382</td>\n",
       "      <td>478.0</td>\n",
       "    </tr>\n",
       "    <tr>\n",
       "      <th>2018-04-27</th>\n",
       "      <td>0.100</td>\n",
       "      <td>0.100</td>\n",
       "      <td>383</td>\n",
       "      <td>256.0</td>\n",
       "    </tr>\n",
       "    <tr>\n",
       "      <th>2018-04-28</th>\n",
       "      <td>0.100</td>\n",
       "      <td>0.100</td>\n",
       "      <td>384</td>\n",
       "      <td>751.0</td>\n",
       "    </tr>\n",
       "    <tr>\n",
       "      <th>2018-04-29</th>\n",
       "      <td>0.100</td>\n",
       "      <td>0.100</td>\n",
       "      <td>382</td>\n",
       "      <td>216.0</td>\n",
       "    </tr>\n",
       "    <tr>\n",
       "      <th>2018-04-30</th>\n",
       "      <td>0.100</td>\n",
       "      <td>0.100</td>\n",
       "      <td>384</td>\n",
       "      <td>186.0</td>\n",
       "    </tr>\n",
       "    <tr>\n",
       "      <th>2018-05-02</th>\n",
       "      <td>0.100</td>\n",
       "      <td>0.100</td>\n",
       "      <td>384</td>\n",
       "      <td>312.0</td>\n",
       "    </tr>\n",
       "    <tr>\n",
       "      <th>2018-05-04</th>\n",
       "      <td>0.100</td>\n",
       "      <td>0.100</td>\n",
       "      <td>384</td>\n",
       "      <td>186.0</td>\n",
       "    </tr>\n",
       "    <tr>\n",
       "      <th>2018-05-06</th>\n",
       "      <td>0.100</td>\n",
       "      <td>0.100</td>\n",
       "      <td>384</td>\n",
       "      <td>322.0</td>\n",
       "    </tr>\n",
       "    <tr>\n",
       "      <th>2018-05-07</th>\n",
       "      <td>0.098</td>\n",
       "      <td>0.098</td>\n",
       "      <td>382</td>\n",
       "      <td>16.0</td>\n",
       "    </tr>\n",
       "    <tr>\n",
       "      <th>2018-05-08</th>\n",
       "      <td>0.100</td>\n",
       "      <td>0.100</td>\n",
       "      <td>385</td>\n",
       "      <td>221.0</td>\n",
       "    </tr>\n",
       "    <tr>\n",
       "      <th>2018-05-09</th>\n",
       "      <td>0.100</td>\n",
       "      <td>0.100</td>\n",
       "      <td>382</td>\n",
       "      <td>608.0</td>\n",
       "    </tr>\n",
       "    <tr>\n",
       "      <th>2018-05-11</th>\n",
       "      <td>0.100</td>\n",
       "      <td>0.100</td>\n",
       "      <td>383</td>\n",
       "      <td>385.0</td>\n",
       "    </tr>\n",
       "    <tr>\n",
       "      <th>2018-05-12</th>\n",
       "      <td>0.100</td>\n",
       "      <td>0.100</td>\n",
       "      <td>380</td>\n",
       "      <td>412.0</td>\n",
       "    </tr>\n",
       "    <tr>\n",
       "      <th>2018-05-13</th>\n",
       "      <td>0.100</td>\n",
       "      <td>0.100</td>\n",
       "      <td>377</td>\n",
       "      <td>219.0</td>\n",
       "    </tr>\n",
       "    <tr>\n",
       "      <th>2018-05-14</th>\n",
       "      <td>0.100</td>\n",
       "      <td>0.100</td>\n",
       "      <td>380</td>\n",
       "      <td>42.0</td>\n",
       "    </tr>\n",
       "    <tr>\n",
       "      <th>2018-05-15</th>\n",
       "      <td>0.100</td>\n",
       "      <td>0.100</td>\n",
       "      <td>378</td>\n",
       "      <td>165.0</td>\n",
       "    </tr>\n",
       "    <tr>\n",
       "      <th>2018-05-16</th>\n",
       "      <td>0.100</td>\n",
       "      <td>0.100</td>\n",
       "      <td>378</td>\n",
       "      <td>243.0</td>\n",
       "    </tr>\n",
       "    <tr>\n",
       "      <th>2018-05-17</th>\n",
       "      <td>0.100</td>\n",
       "      <td>0.100</td>\n",
       "      <td>376</td>\n",
       "      <td>451.0</td>\n",
       "    </tr>\n",
       "    <tr>\n",
       "      <th>2018-05-19</th>\n",
       "      <td>0.100</td>\n",
       "      <td>0.100</td>\n",
       "      <td>379</td>\n",
       "      <td>617.0</td>\n",
       "    </tr>\n",
       "    <tr>\n",
       "      <th>2018-05-21</th>\n",
       "      <td>0.098</td>\n",
       "      <td>0.098</td>\n",
       "      <td>379</td>\n",
       "      <td>25.0</td>\n",
       "    </tr>\n",
       "    <tr>\n",
       "      <th>2018-05-22</th>\n",
       "      <td>0.100</td>\n",
       "      <td>0.100</td>\n",
       "      <td>376</td>\n",
       "      <td>219.0</td>\n",
       "    </tr>\n",
       "    <tr>\n",
       "      <th>2018-05-23</th>\n",
       "      <td>0.100</td>\n",
       "      <td>0.100</td>\n",
       "      <td>378</td>\n",
       "      <td>474.0</td>\n",
       "    </tr>\n",
       "    <tr>\n",
       "      <th>2018-05-24</th>\n",
       "      <td>0.100</td>\n",
       "      <td>0.100</td>\n",
       "      <td>382</td>\n",
       "      <td>782.0</td>\n",
       "    </tr>\n",
       "    <tr>\n",
       "      <th>2018-05-25</th>\n",
       "      <td>0.100</td>\n",
       "      <td>0.100</td>\n",
       "      <td>376</td>\n",
       "      <td>325.0</td>\n",
       "    </tr>\n",
       "    <tr>\n",
       "      <th>2018-05-26</th>\n",
       "      <td>0.100</td>\n",
       "      <td>0.100</td>\n",
       "      <td>382</td>\n",
       "      <td>419.0</td>\n",
       "    </tr>\n",
       "    <tr>\n",
       "      <th>2018-05-27</th>\n",
       "      <td>0.100</td>\n",
       "      <td>0.100</td>\n",
       "      <td>378</td>\n",
       "      <td>199.0</td>\n",
       "    </tr>\n",
       "    <tr>\n",
       "      <th>2018-05-28</th>\n",
       "      <td>0.099</td>\n",
       "      <td>0.099</td>\n",
       "      <td>377</td>\n",
       "      <td>132.0</td>\n",
       "    </tr>\n",
       "    <tr>\n",
       "      <th>2018-05-29</th>\n",
       "      <td>0.100</td>\n",
       "      <td>0.100</td>\n",
       "      <td>377</td>\n",
       "      <td>71.0</td>\n",
       "    </tr>\n",
       "    <tr>\n",
       "      <th>2018-05-30</th>\n",
       "      <td>0.100</td>\n",
       "      <td>0.100</td>\n",
       "      <td>377</td>\n",
       "      <td>154.0</td>\n",
       "    </tr>\n",
       "    <tr>\n",
       "      <th>2018-05-31</th>\n",
       "      <td>0.100</td>\n",
       "      <td>0.100</td>\n",
       "      <td>378</td>\n",
       "      <td>146.0</td>\n",
       "    </tr>\n",
       "  </tbody>\n",
       "</table>\n",
       "<p>815 rows × 4 columns</p>\n",
       "</div>"
      ],
      "text/plain": [
       "            regular_price  discounted_price  number_of_stores  amount\n",
       "date                                                                 \n",
       "2016-01-02          0.100             0.100               439   769.0\n",
       "2016-01-03          0.100             0.100               436   100.0\n",
       "2016-01-04          0.100             0.100               441   305.0\n",
       "2016-01-05          0.100             0.100               441    79.0\n",
       "2016-01-06          0.100             0.100               444   344.0\n",
       "2016-01-07          0.100             0.100               441    97.0\n",
       "2016-01-08          0.100             0.100               442   311.0\n",
       "2016-01-09          0.100             0.100               443   541.0\n",
       "2016-01-10          0.100             0.100               441    94.0\n",
       "2016-01-11          0.100             0.100               444   233.0\n",
       "2016-01-13          0.100             0.100               441   347.0\n",
       "2016-01-14          0.100             0.100               440   292.0\n",
       "2016-01-15          0.100             0.100               441   275.0\n",
       "2016-01-16          0.100             0.100               441   422.0\n",
       "2016-01-17          0.100             0.100               438   133.0\n",
       "2016-01-18          0.100             0.100               437   116.0\n",
       "2016-01-19          0.100             0.100               433   294.0\n",
       "2016-01-21          0.100             0.100               439   337.0\n",
       "2016-01-22          0.100             0.100               437   141.0\n",
       "2016-01-23          0.100             0.100               436   264.0\n",
       "2016-01-24          0.100             0.100               434   200.0\n",
       "2016-01-25          0.100             0.100               435   206.0\n",
       "2016-01-26          0.100             0.100               436   276.0\n",
       "2016-01-27          0.100             0.100               437   529.0\n",
       "2016-01-28          0.099             0.099               436    30.0\n",
       "2016-01-29          0.100             0.100               438   273.0\n",
       "2016-01-30          0.100             0.100               436   329.0\n",
       "2016-01-31          0.100             0.100               434   394.0\n",
       "2016-02-01          0.100             0.100               436   279.0\n",
       "2016-02-02          0.100             0.100               434   163.0\n",
       "...                   ...               ...               ...     ...\n",
       "2018-04-26          0.100             0.100               382   478.0\n",
       "2018-04-27          0.100             0.100               383   256.0\n",
       "2018-04-28          0.100             0.100               384   751.0\n",
       "2018-04-29          0.100             0.100               382   216.0\n",
       "2018-04-30          0.100             0.100               384   186.0\n",
       "2018-05-02          0.100             0.100               384   312.0\n",
       "2018-05-04          0.100             0.100               384   186.0\n",
       "2018-05-06          0.100             0.100               384   322.0\n",
       "2018-05-07          0.098             0.098               382    16.0\n",
       "2018-05-08          0.100             0.100               385   221.0\n",
       "2018-05-09          0.100             0.100               382   608.0\n",
       "2018-05-11          0.100             0.100               383   385.0\n",
       "2018-05-12          0.100             0.100               380   412.0\n",
       "2018-05-13          0.100             0.100               377   219.0\n",
       "2018-05-14          0.100             0.100               380    42.0\n",
       "2018-05-15          0.100             0.100               378   165.0\n",
       "2018-05-16          0.100             0.100               378   243.0\n",
       "2018-05-17          0.100             0.100               376   451.0\n",
       "2018-05-19          0.100             0.100               379   617.0\n",
       "2018-05-21          0.098             0.098               379    25.0\n",
       "2018-05-22          0.100             0.100               376   219.0\n",
       "2018-05-23          0.100             0.100               378   474.0\n",
       "2018-05-24          0.100             0.100               382   782.0\n",
       "2018-05-25          0.100             0.100               376   325.0\n",
       "2018-05-26          0.100             0.100               382   419.0\n",
       "2018-05-27          0.100             0.100               378   199.0\n",
       "2018-05-28          0.099             0.099               377   132.0\n",
       "2018-05-29          0.100             0.100               377    71.0\n",
       "2018-05-30          0.100             0.100               377   154.0\n",
       "2018-05-31          0.100             0.100               378   146.0\n",
       "\n",
       "[815 rows x 4 columns]"
      ]
     },
     "execution_count": 150,
     "metadata": {},
     "output_type": "execute_result"
    }
   ],
   "source": [
    "provjera_38"
   ]
  },
  {
   "cell_type": "code",
   "execution_count": 155,
   "metadata": {},
   "outputs": [
    {
     "data": {
      "text/html": [
       "<div>\n",
       "<style scoped>\n",
       "    .dataframe tbody tr th:only-of-type {\n",
       "        vertical-align: middle;\n",
       "    }\n",
       "\n",
       "    .dataframe tbody tr th {\n",
       "        vertical-align: top;\n",
       "    }\n",
       "\n",
       "    .dataframe thead th {\n",
       "        text-align: right;\n",
       "    }\n",
       "</style>\n",
       "<table border=\"1\" class=\"dataframe\">\n",
       "  <thead>\n",
       "    <tr style=\"text-align: right;\">\n",
       "      <th></th>\n",
       "      <th>regular_price</th>\n",
       "      <th>discounted_price</th>\n",
       "      <th>number_of_stores</th>\n",
       "    </tr>\n",
       "    <tr>\n",
       "      <th>date</th>\n",
       "      <th></th>\n",
       "      <th></th>\n",
       "      <th></th>\n",
       "    </tr>\n",
       "  </thead>\n",
       "  <tbody>\n",
       "    <tr>\n",
       "      <th>2018-05-31</th>\n",
       "      <td>0.1</td>\n",
       "      <td>0.1</td>\n",
       "      <td>378</td>\n",
       "    </tr>\n",
       "  </tbody>\n",
       "</table>\n",
       "</div>"
      ],
      "text/plain": [
       "            regular_price  discounted_price  number_of_stores\n",
       "date                                                         \n",
       "2018-05-31            0.1               0.1               378"
      ]
     },
     "execution_count": 155,
     "metadata": {},
     "output_type": "execute_result"
    }
   ],
   "source": [
    "X_38_test"
   ]
  },
  {
   "cell_type": "code",
   "execution_count": null,
   "metadata": {},
   "outputs": [],
   "source": []
  },
  {
   "cell_type": "code",
   "execution_count": null,
   "metadata": {},
   "outputs": [],
   "source": []
  }
 ],
 "metadata": {
  "kernelspec": {
   "display_name": "Python 3",
   "language": "python",
   "name": "python3"
  },
  "language_info": {
   "codemirror_mode": {
    "name": "ipython",
    "version": 3
   },
   "file_extension": ".py",
   "mimetype": "text/x-python",
   "name": "python",
   "nbconvert_exporter": "python",
   "pygments_lexer": "ipython3",
   "version": "3.7.3"
  }
 },
 "nbformat": 4,
 "nbformat_minor": 4
}
