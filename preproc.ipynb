{
 "cells": [
  {
   "cell_type": "code",
   "execution_count": 1,
   "metadata": {},
   "outputs": [],
   "source": [
    "import numpy as np\n",
    "import pandas as pd\n",
    "import pyarrow.parquet as pq\n",
    "import seaborn as sns\n",
    "import matplotlib.pyplot as plt\n",
    "\n",
    "import sys\n",
    "\n",
    "from sklearn import datasets, linear_model\n",
    "from sklearn.model_selection import train_test_split\n",
    "from sklearn.preprocessing import StandardScaler\n",
    "\n",
    "from sklearn import datasets, linear_model\n",
    "from sklearn.model_selection import train_test_split\n",
    "from sklearn.preprocessing import StandardScaler\n",
    "\n",
    "import sklearn as sk\n",
    "from sklearn.metrics import mean_absolute_error, mean_squared_error, r2_score, mean_squared_error\n",
    "import statsmodels.api as sm"
   ]
  },
  {
   "cell_type": "code",
   "execution_count": 2,
   "metadata": {},
   "outputs": [
    {
     "name": "stdout",
     "output_type": "stream",
     "text": [
      "                redna_cena  akcijska_cena  n_trgovin     kol\n",
      "art datum                                                   \n",
      "38  2017-01-16       0.099          0.099        425    58.0\n",
      "    2018-04-08       0.100          0.100        380   403.0\n",
      "39  2016-11-28       0.100          0.100        462  2504.0\n",
      "40  2017-01-14       0.769          0.769        321   137.0\n",
      "41  2016-01-08       1.631          1.586        176    36.0\n",
      "38  2018-01-17       0.099          0.099        397    18.0\n",
      "39  2017-01-19       0.100          0.100        458  3883.0\n",
      "    2018-01-19       0.100          0.100        449  4024.0\n",
      "40  2018-04-15       0.769          0.769        258    33.0\n",
      "39  2017-05-11       0.100          0.100        462  5080.0\n",
      "40  2017-04-19       0.768          0.768        294    44.0\n",
      "41  2016-07-16       1.631          1.631        157    38.0\n",
      "40  2017-07-15       0.769          0.769        233    90.0\n",
      "38  2017-07-27       0.100          0.100        417   572.0\n",
      "39  2017-05-09       0.100          0.100        464  3647.0\n",
      "40  2016-12-23       0.540          0.540        323   665.0\n",
      "    2017-06-16       0.770          0.431        263   172.0\n",
      "39  2018-02-25       0.100          0.100        423  1783.0\n",
      "57  2016-08-28       0.080          0.080         94    23.0\n",
      "    2017-02-08       0.080          0.080         87    13.0\n",
      "38  2017-12-24       0.100          0.100        399   353.0\n",
      "39  2017-09-10       0.100          0.100        440  2348.0\n",
      "40  2017-11-30       0.769          0.769        301   198.0\n",
      "41  2017-04-06       1.631          1.631        113    40.0\n",
      "57  2017-07-21       0.080          0.080         81    59.0\n",
      "38  2016-03-15       0.100          0.100        443   220.0\n",
      "40  2016-08-31       0.770          0.513        326   449.0\n",
      "39  2016-10-27       0.100          0.100        461  3432.0\n",
      "    2017-05-23       0.100          0.100        462  3766.0\n",
      "38  2017-02-17       0.100          0.100        422   262.0\n",
      "...                    ...            ...        ...     ...\n",
      "39  2016-08-16       0.100          0.100        464  2813.0\n",
      "41  2017-07-03       1.631          1.631        100    26.0\n",
      "57  2016-07-04       0.081          0.081         88    50.0\n",
      "39  2017-09-04       0.100          0.100        456  3305.0\n",
      "    2017-11-11       0.100          0.100        455  4164.0\n",
      "40  2016-11-22       0.769          0.769        323   106.0\n",
      "    2018-04-29       0.769          0.769        258    35.0\n",
      "41  2016-07-06       1.631          1.631        161    34.0\n",
      "39  2016-03-22       0.100          0.100        463  1353.0\n",
      "41  2017-07-08       1.631          1.631        101    28.0\n",
      "38  2017-08-14       0.100          0.100        417   261.0\n",
      "39  2017-12-24       0.100          0.100        454  6047.0\n",
      "    2018-05-25       0.100          0.100        464  4664.0\n",
      "41  2017-07-21       1.631          1.631        101    41.0\n",
      "38  2017-08-21       0.100          0.100        420   381.0\n",
      "40  2016-02-19       0.770          0.491        440   648.0\n",
      "38  2017-03-25       0.100          0.100        410   270.0\n",
      "40  2016-12-26       0.540          0.540        319   131.0\n",
      "    2017-01-26       0.769          0.769        321   127.0\n",
      "41  2017-11-07       1.632          1.632         98    21.0\n",
      "39  2016-05-26       0.100          0.100        464  4413.0\n",
      "    2016-09-29       0.100          0.100        463  3686.0\n",
      "40  2016-04-23       0.769          0.613        408   175.0\n",
      "    2017-04-27       0.770          0.462        288    62.0\n",
      "41  2016-06-29       1.631          1.631        163    30.0\n",
      "40  2016-01-09       0.769          0.702        444   187.0\n",
      "    2017-06-11       0.770          0.394        263    59.0\n",
      "41  2016-02-07       1.632          1.632        173     8.0\n",
      "    2017-01-15       1.631          1.631        119    26.0\n",
      "    2017-04-20       1.631          1.631        108    62.0\n",
      "\n",
      "[4221 rows x 4 columns]\n"
     ]
    },
    {
     "name": "stderr",
     "output_type": "stream",
     "text": [
      "C:\\Users\\vvrhovec\\AppData\\Local\\Continuum\\miniconda3\\envs\\okolina\\lib\\site-packages\\pyarrow\\pandas_compat.py:708: FutureWarning: .labels was deprecated in version 0.24.0. Use .codes instead.\n",
      "  labels = getattr(columns, 'labels', None) or [\n",
      "C:\\Users\\vvrhovec\\AppData\\Local\\Continuum\\miniconda3\\envs\\okolina\\lib\\site-packages\\pyarrow\\pandas_compat.py:735: FutureWarning: the 'labels' keyword is deprecated, use 'codes' instead\n",
      "  return pd.MultiIndex(levels=new_levels, labels=labels, names=columns.names)\n",
      "C:\\Users\\vvrhovec\\AppData\\Local\\Continuum\\miniconda3\\envs\\okolina\\lib\\site-packages\\pyarrow\\pandas_compat.py:752: FutureWarning: .labels was deprecated in version 0.24.0. Use .codes instead.\n",
      "  labels, = index.labels\n"
     ]
    }
   ],
   "source": [
    "podaci_s = pd.read_parquet(\"C:/Users/vvrhovec/Veronika/kodovi/dataParquet_s.parquet\")\n",
    "print(podaci_s)"
   ]
  },
  {
   "cell_type": "code",
   "execution_count": 3,
   "metadata": {},
   "outputs": [],
   "source": [
    "import datetime\n",
    "\n",
    "podaci_s['day_of_week'] = podaci_s.index.get_level_values('datum').day_name()"
   ]
  },
  {
   "cell_type": "code",
   "execution_count": 4,
   "metadata": {},
   "outputs": [],
   "source": [
    "n = podaci_s.shape[0]\n",
    "nule = [0]*n"
   ]
  },
  {
   "cell_type": "code",
   "execution_count": 5,
   "metadata": {},
   "outputs": [],
   "source": [
    "podaci_s['Monday'] = nule\n",
    "podaci_s['Tuesday'] = nule\n",
    "podaci_s['Wednesday'] = nule\n",
    "podaci_s['Thursday'] = nule\n",
    "podaci_s['Friday'] = nule\n",
    "podaci_s['Saturday'] = nule\n",
    "podaci_s['Sunday'] = nule"
   ]
  },
  {
   "cell_type": "code",
   "execution_count": 6,
   "metadata": {},
   "outputs": [],
   "source": [
    "for art, new_df in podaci_s.groupby(level=0):\n",
    "    for index, row in new_df.iterrows():\n",
    "        dan=row['day_of_week']\n",
    "        podaci_s.loc[(row.name[0],row.name[1].date()),dan] = 1"
   ]
  },
  {
   "cell_type": "code",
   "execution_count": 7,
   "metadata": {},
   "outputs": [],
   "source": [
    "podaci_s['Vikend'] = np.where(podaci_s['day_of_week'] == \"Saturday\",1,np.where(podaci_s['day_of_week'] == \"Sunday\",1,0))"
   ]
  },
  {
   "cell_type": "code",
   "execution_count": 8,
   "metadata": {},
   "outputs": [],
   "source": [
    "podaci_sredjeni = podaci_s.rename(columns={\"Vikend\": \"Weekend\"})"
   ]
  },
  {
   "cell_type": "code",
   "execution_count": 9,
   "metadata": {},
   "outputs": [],
   "source": [
    "podaci_sredjeni=podaci_sredjeni.drop('day_of_week',axis=1)"
   ]
  },
  {
   "cell_type": "code",
   "execution_count": 10,
   "metadata": {},
   "outputs": [],
   "source": [
    "podaci_sredjeni.sort_index(inplace=True)"
   ]
  },
  {
   "cell_type": "code",
   "execution_count": 11,
   "metadata": {},
   "outputs": [
    {
     "name": "stderr",
     "output_type": "stream",
     "text": [
      "C:\\Users\\vvrhovec\\AppData\\Local\\Continuum\\miniconda3\\envs\\okolina\\lib\\site-packages\\pyarrow\\pandas_compat.py:114: FutureWarning: A future version of pandas will default to `skipna=True`. To silence this warning, pass `skipna=True|False` explicitly.\n",
      "  result = infer_dtype(pandas_collection)\n"
     ]
    }
   ],
   "source": [
    "dataParquet_sredjeni = podaci_sredjeni.to_parquet('dataParquet_sredjeni.parquet')"
   ]
  },
  {
   "cell_type": "code",
   "execution_count": 12,
   "metadata": {},
   "outputs": [],
   "source": [
    "X = pd.read_parquet(\"C:/Users/vvrhovec/Veronika/kodovi/dataParquet_sredjeni.parquet\")"
   ]
  },
  {
   "cell_type": "markdown",
   "metadata": {},
   "source": [
    "## Odvajanje podataka u testni i trening set"
   ]
  },
  {
   "cell_type": "code",
   "execution_count": 13,
   "metadata": {},
   "outputs": [],
   "source": [
    "X_tr = X.loc[podaci_s.index.get_level_values('datum') <= '2018-01-01']\n",
    "X_train = X_tr.drop('kol',axis=1)\n",
    "\n",
    "X_te = X.loc[podaci_s.index.get_level_values('datum') > '2018-01-01']\n",
    "X_test = X_te.drop('kol',axis=1)\n",
    "\n",
    "y_train = X_tr['kol']\n",
    "y_test = X_te['kol']"
   ]
  },
  {
   "cell_type": "code",
   "execution_count": 14,
   "metadata": {},
   "outputs": [
    {
     "name": "stdout",
     "output_type": "stream",
     "text": [
      "(3535, 11) (3535,)\n",
      "(686, 11) (686,)\n"
     ]
    }
   ],
   "source": [
    "print (X_train.shape, y_train.shape)\n",
    "print (X_test.shape, y_test.shape)"
   ]
  },
  {
   "cell_type": "markdown",
   "metadata": {},
   "source": [
    "### Preprocesiranje **TRAINING** podataka"
   ]
  },
  {
   "cell_type": "code",
   "execution_count": 15,
   "metadata": {},
   "outputs": [],
   "source": [
    "std_scaler = StandardScaler()"
   ]
  },
  {
   "cell_type": "code",
   "execution_count": 16,
   "metadata": {},
   "outputs": [
    {
     "data": {
      "text/plain": [
       "StandardScaler(copy=True, with_mean=True, with_std=True)"
      ]
     },
     "execution_count": 16,
     "metadata": {},
     "output_type": "execute_result"
    }
   ],
   "source": [
    "std_scaler.fit(X_train)"
   ]
  },
  {
   "cell_type": "code",
   "execution_count": 17,
   "metadata": {},
   "outputs": [],
   "source": [
    "X_train_scaled = std_scaler.transform(X_train)"
   ]
  },
  {
   "cell_type": "markdown",
   "metadata": {},
   "source": [
    "### Fittamo model na podacima trening seta"
   ]
  },
  {
   "cell_type": "code",
   "execution_count": 18,
   "metadata": {},
   "outputs": [],
   "source": [
    "lm = linear_model.LinearRegression()\n",
    "model = lm.fit(X_train_scaled, y_train)"
   ]
  },
  {
   "cell_type": "code",
   "execution_count": 19,
   "metadata": {},
   "outputs": [],
   "source": [
    "y_train_predicted = model.predict(X_train_scaled)"
   ]
  },
  {
   "cell_type": "code",
   "execution_count": 20,
   "metadata": {},
   "outputs": [
    {
     "data": {
      "text/plain": [
       "0.3331065590091854"
      ]
     },
     "execution_count": 20,
     "metadata": {},
     "output_type": "execute_result"
    }
   ],
   "source": [
    "model.score(X_train_scaled, y_train)"
   ]
  },
  {
   "cell_type": "code",
   "execution_count": 21,
   "metadata": {},
   "outputs": [
    {
     "data": {
      "text/plain": [
       "865.3936867085807"
      ]
     },
     "execution_count": 21,
     "metadata": {},
     "output_type": "execute_result"
    }
   ],
   "source": [
    "mae = mean_absolute_error(y_train, y_train_predicted)\n",
    "mae"
   ]
  },
  {
   "cell_type": "code",
   "execution_count": 22,
   "metadata": {},
   "outputs": [
    {
     "data": {
      "text/plain": [
       "1669183.2829687512"
      ]
     },
     "execution_count": 22,
     "metadata": {},
     "output_type": "execute_result"
    }
   ],
   "source": [
    "mse = mean_squared_error(y_train, y_train_predicted)\n",
    "mse"
   ]
  },
  {
   "cell_type": "markdown",
   "metadata": {},
   "source": [
    "### TEST "
   ]
  },
  {
   "cell_type": "code",
   "execution_count": 23,
   "metadata": {},
   "outputs": [],
   "source": [
    "X_test_scaled = std_scaler.transform(X_test)\n",
    "y_test_predicted = model.predict(X_test_scaled)"
   ]
  },
  {
   "cell_type": "code",
   "execution_count": 24,
   "metadata": {},
   "outputs": [
    {
     "data": {
      "text/plain": [
       "861.6972112647825"
      ]
     },
     "execution_count": 24,
     "metadata": {},
     "output_type": "execute_result"
    }
   ],
   "source": [
    "mae = mean_absolute_error(y_test, y_test_predicted)\n",
    "mae"
   ]
  },
  {
   "cell_type": "code",
   "execution_count": 25,
   "metadata": {},
   "outputs": [
    {
     "data": {
      "text/plain": [
       "1655605.0164098388"
      ]
     },
     "execution_count": 25,
     "metadata": {},
     "output_type": "execute_result"
    }
   ],
   "source": [
    "mse = mean_squared_error(y_test, y_test_predicted)\n",
    "mse"
   ]
  },
  {
   "cell_type": "code",
   "execution_count": 26,
   "metadata": {},
   "outputs": [
    {
     "data": {
      "text/plain": [
       "1286.7031578456"
      ]
     },
     "execution_count": 26,
     "metadata": {},
     "output_type": "execute_result"
    }
   ],
   "source": [
    "rmse = np.sqrt(mean_squared_error(y_test, y_test_predicted))\n",
    "rmse"
   ]
  },
  {
   "cell_type": "code",
   "execution_count": 27,
   "metadata": {},
   "outputs": [
    {
     "name": "stdout",
     "output_type": "stream",
     "text": [
      "[-1.81381302e+03  1.66247287e+03  7.93647644e+02 -6.84191523e+15\n",
      " -6.95428716e+15 -7.05192802e+15 -7.10255103e+15 -7.05192802e+15\n",
      "  6.38232374e+14  6.28169962e+14 -9.81163331e+15]\n"
     ]
    }
   ],
   "source": [
    "koeficijenti = model.coef_\n",
    "print(koeficijenti)"
   ]
  },
  {
   "cell_type": "code",
   "execution_count": 28,
   "metadata": {},
   "outputs": [
    {
     "name": "stdout",
     "output_type": "stream",
     "text": [
      "809.2602474157434\n"
     ]
    }
   ],
   "source": [
    "odsjecak = model.intercept_\n",
    "print(odsjecak)"
   ]
  },
  {
   "cell_type": "code",
   "execution_count": 29,
   "metadata": {},
   "outputs": [
    {
     "name": "stdout",
     "output_type": "stream",
     "text": [
      "<bound method BaseEstimator.get_params of LinearRegression(copy_X=True, fit_intercept=True, n_jobs=None, normalize=False)>\n"
     ]
    }
   ],
   "source": [
    "paramtetri_nagiba = model.get_params\n",
    "print(paramtetri_nagiba)"
   ]
  },
  {
   "cell_type": "code",
   "execution_count": 30,
   "metadata": {},
   "outputs": [
    {
     "data": {
      "text/plain": [
       "array([1535.26024742, 2050.26024742, 2117.26024742, 1561.26024742,\n",
       "       2040.26024742])"
      ]
     },
     "execution_count": 30,
     "metadata": {},
     "output_type": "execute_result"
    }
   ],
   "source": [
    "y_test_predicted[0:5]"
   ]
  },
  {
   "cell_type": "code",
   "execution_count": 31,
   "metadata": {},
   "outputs": [
    {
     "data": {
      "text/plain": [
       "art  datum     \n",
       "38   2016-01-03    100.0\n",
       "     2016-01-07     97.0\n",
       "     2016-01-09    541.0\n",
       "     2016-01-10     94.0\n",
       "     2016-01-21    337.0\n",
       "     2016-02-09    186.0\n",
       "     2016-02-19    232.0\n",
       "     2016-02-20    397.0\n",
       "     2016-02-23     53.0\n",
       "     2016-02-28    137.0\n",
       "Name: kol, dtype: float64"
      ]
     },
     "execution_count": 31,
     "metadata": {},
     "output_type": "execute_result"
    }
   ],
   "source": [
    "y_test[:10]"
   ]
  },
  {
   "cell_type": "code",
   "execution_count": 32,
   "metadata": {},
   "outputs": [
    {
     "data": {
      "text/plain": [
       "array([1535.26024742, 2050.26024742, 2117.26024742, 1561.26024742,\n",
       "       2040.26024742, 1476.26024742, 1922.26024742, 2113.26024742,\n",
       "       1518.26024742, 1535.26024742])"
      ]
     },
     "execution_count": 32,
     "metadata": {},
     "output_type": "execute_result"
    }
   ],
   "source": [
    "y_test_predicted[:10]"
   ]
  },
  {
   "cell_type": "code",
   "execution_count": 33,
   "metadata": {},
   "outputs": [
    {
     "data": {
      "text/plain": [
       "Text(0, 0.5, 'predviđene kolicina')"
      ]
     },
     "execution_count": 33,
     "metadata": {},
     "output_type": "execute_result"
    },
    {
     "data": {
      "image/png": "[encoded data removed]",
      "text/plain": [
       "<Figure size 432x288 with 1 Axes>"
      ]
     },
     "metadata": {
      "needs_background": "light"
     },
     "output_type": "display_data"
    }
   ],
   "source": [
    "plt.scatter(y_test, y_test_predicted)\n",
    "plt.xlabel(\"stvarne kolicina\")\n",
    "plt.ylabel(\"predviđene kolicina\")"
   ]
  },
  {
   "cell_type": "code",
   "execution_count": 34,
   "metadata": {},
   "outputs": [
    {
     "data": {
      "text/plain": [
       "0.3221461112221097"
      ]
     },
     "execution_count": 34,
     "metadata": {},
     "output_type": "execute_result"
    }
   ],
   "source": [
    "r2_score(y_test,y_test_predicted)"
   ]
  },
  {
   "cell_type": "code",
   "execution_count": 35,
   "metadata": {},
   "outputs": [
    {
     "name": "stdout",
     "output_type": "stream",
     "text": [
      "1286.7031578456\n"
     ]
    }
   ],
   "source": [
    "rmse = np.sqrt(mean_squared_error(y_test,y_test_predicted))\n",
    "print(rmse)"
   ]
  }
 ],
 "metadata": {
  "kernelspec": {
   "display_name": "Python 3",
   "language": "python",
   "name": "python3"
  },
  "language_info": {
   "codemirror_mode": {
    "name": "ipython",
    "version": 3
   },
   "file_extension": ".py",
   "mimetype": "text/x-python",
   "name": "python",
   "nbconvert_exporter": "python",
   "pygments_lexer": "ipython3",
   "version": "3.7.3"
  }
 },
 "nbformat": 4,
 "nbformat_minor": 4
}
