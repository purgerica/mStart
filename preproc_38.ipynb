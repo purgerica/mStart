{
 "cells": [
  {
   "cell_type": "code",
   "execution_count": 22,
   "metadata": {},
   "outputs": [],
   "source": [
    "import numpy as np\n",
    "import pandas as pd\n",
    "import pyarrow.parquet as pq\n",
    "import seaborn as sns\n",
    "import matplotlib.pyplot as plt\n",
    "\n",
    "import sys\n",
    "\n",
    "from sklearn import datasets, linear_model\n",
    "from sklearn.model_selection import train_test_split\n",
    "from sklearn.preprocessing import StandardScaler\n",
    "\n",
    "import sklearn as sk\n",
    "from sklearn.metrics import mean_absolute_error, mean_squared_error, r2_score, mean_squared_error\n",
    "import statsmodels.api as sm"
   ]
  },
  {
   "cell_type": "code",
   "execution_count": 2,
   "metadata": {},
   "outputs": [
    {
     "name": "stderr",
     "output_type": "stream",
     "text": [
      "C:\\Users\\vvrhovec\\AppData\\Local\\Continuum\\miniconda3\\envs\\okolina\\lib\\site-packages\\pyarrow\\pandas_compat.py:708: FutureWarning: .labels was deprecated in version 0.24.0. Use .codes instead.\n",
      "  labels = getattr(columns, 'labels', None) or [\n",
      "C:\\Users\\vvrhovec\\AppData\\Local\\Continuum\\miniconda3\\envs\\okolina\\lib\\site-packages\\pyarrow\\pandas_compat.py:735: FutureWarning: the 'labels' keyword is deprecated, use 'codes' instead\n",
      "  return pd.MultiIndex(levels=new_levels, labels=labels, names=columns.names)\n",
      "C:\\Users\\vvrhovec\\AppData\\Local\\Continuum\\miniconda3\\envs\\okolina\\lib\\site-packages\\pyarrow\\pandas_compat.py:752: FutureWarning: .labels was deprecated in version 0.24.0. Use .codes instead.\n",
      "  labels, = index.labels\n"
     ]
    }
   ],
   "source": [
    "podaci_38 = pd.read_parquet(\"C:/Users/vvrhovec/Veronika/kodovi/podaci_art38.parquet\")"
   ]
  },
  {
   "cell_type": "code",
   "execution_count": 3,
   "metadata": {},
   "outputs": [],
   "source": [
    "std_scaler = StandardScaler()"
   ]
  },
  {
   "cell_type": "markdown",
   "metadata": {},
   "source": [
    "## **artikl 38**"
   ]
  },
  {
   "cell_type": "markdown",
   "metadata": {},
   "source": [
    "### Odvajanje podataka u testni i trening set"
   ]
  },
  {
   "cell_type": "code",
   "execution_count": 4,
   "metadata": {},
   "outputs": [],
   "source": [
    "X_train_38 = podaci_38.loc[podaci_38.index.get_level_values('datum') <= '2018-01-01']\n",
    "X_train_ostalo_38 = X_train_38.drop('kol',axis=1)\n",
    "\n",
    "X_test_38 = podaci_38.loc[podaci_38.index.get_level_values('datum') > '2018-01-01']\n",
    "X_test_ostalo_38 = X_test_38.drop('kol',axis=1)\n",
    "\n",
    "y_train_38 = X_train_38['kol']\n",
    "y_test_38 = X_test_38['kol']"
   ]
  },
  {
   "cell_type": "code",
   "execution_count": 5,
   "metadata": {},
   "outputs": [
    {
     "name": "stdout",
     "output_type": "stream",
     "text": [
      "(685, 11) (685,)\n",
      "(130, 11) (130,)\n"
     ]
    }
   ],
   "source": [
    "print (X_train_ostalo_38.shape, y_train_38.shape)\n",
    "print (X_test_ostalo_38.shape, y_test_38.shape)"
   ]
  },
  {
   "cell_type": "markdown",
   "metadata": {},
   "source": [
    "### Preprocesiranje **TRAINING** podataka"
   ]
  },
  {
   "cell_type": "code",
   "execution_count": 6,
   "metadata": {},
   "outputs": [
    {
     "data": {
      "text/plain": [
       "StandardScaler(copy=True, with_mean=True, with_std=True)"
      ]
     },
     "execution_count": 6,
     "metadata": {},
     "output_type": "execute_result"
    }
   ],
   "source": [
    "std_scaler.fit(X_train_ostalo_38)"
   ]
  },
  {
   "cell_type": "code",
   "execution_count": 7,
   "metadata": {},
   "outputs": [],
   "source": [
    "X_train_ostalo_38_scaled = std_scaler.transform(X_train_ostalo_38)"
   ]
  },
  {
   "cell_type": "markdown",
   "metadata": {},
   "source": [
    "### Fittamo model na podacima trening seta"
   ]
  },
  {
   "cell_type": "code",
   "execution_count": 8,
   "metadata": {},
   "outputs": [],
   "source": [
    "lm = linear_model.LinearRegression()\n",
    "model_38 = lm.fit(X_train_ostalo_38_scaled, y_train_38)"
   ]
  },
  {
   "cell_type": "code",
   "execution_count": 9,
   "metadata": {},
   "outputs": [],
   "source": [
    "predictions_38 = model_38.predict(X_train_ostalo_38_scaled)"
   ]
  },
  {
   "cell_type": "code",
   "execution_count": 10,
   "metadata": {},
   "outputs": [
    {
     "name": "stdout",
     "output_type": "stream",
     "text": [
      "[[ 0.16833315  0.16833315  0.69406834 ...  2.36358593 -0.40859588\n",
      "   1.54631469]\n",
      " [ 0.16833315  0.16833315  0.52084628 ... -0.42308595  2.44740596\n",
      "   1.54631469]\n",
      " [ 0.16833315  0.16833315  0.80954972 ... -0.42308595 -0.40859588\n",
      "  -0.6466989 ]\n",
      " ...\n",
      " [ 0.16833315  0.16833315 -1.3268557  ... -0.42308595 -0.40859588\n",
      "  -0.6466989 ]\n",
      " [ 0.16833315  0.16833315 -1.67329982 ...  2.36358593 -0.40859588\n",
      "   1.54631469]\n",
      " [ 0.16833315  0.16833315 -1.55781845 ... -0.42308595  2.44740596\n",
      "   1.54631469]]\n"
     ]
    }
   ],
   "source": [
    "print(X_train_ostalo_38_scaled)"
   ]
  },
  {
   "cell_type": "code",
   "execution_count": 11,
   "metadata": {},
   "outputs": [
    {
     "data": {
      "text/plain": [
       "0.20583037626498668"
      ]
     },
     "execution_count": 11,
     "metadata": {},
     "output_type": "execute_result"
    }
   ],
   "source": [
    "model_38.score(X_train_ostalo_38_scaled, y_train_38)"
   ]
  },
  {
   "cell_type": "code",
   "execution_count": 12,
   "metadata": {},
   "outputs": [
    {
     "data": {
      "text/plain": [
       "109.35294962969508"
      ]
     },
     "execution_count": 12,
     "metadata": {},
     "output_type": "execute_result"
    }
   ],
   "source": [
    "mae_38 = mean_absolute_error(y_train_38, predictions_38)  # mjera greške\n",
    "mae_38"
   ]
  },
  {
   "cell_type": "code",
   "execution_count": 13,
   "metadata": {},
   "outputs": [
    {
     "data": {
      "text/plain": [
       "19230.38231892297"
      ]
     },
     "execution_count": 13,
     "metadata": {},
     "output_type": "execute_result"
    }
   ],
   "source": [
    "mse_38 = mean_squared_error(y_train_38, predictions_38)  # mjera greške\n",
    "mse_38"
   ]
  },
  {
   "cell_type": "code",
   "execution_count": 46,
   "metadata": {},
   "outputs": [
    {
     "data": {
      "text/plain": [
       "138.67365401878962"
      ]
     },
     "execution_count": 46,
     "metadata": {},
     "output_type": "execute_result"
    }
   ],
   "source": [
    "rmse_38 = np.sqrt(mean_squared_error(y_train_38, predictions_38))  # mjera greške\n",
    "rmse_38 # odlično! RADI TOČNO"
   ]
  },
  {
   "cell_type": "markdown",
   "metadata": {},
   "source": [
    "### TEST "
   ]
  },
  {
   "cell_type": "code",
   "execution_count": 31,
   "metadata": {},
   "outputs": [],
   "source": [
    "X_test_ostalo_38_scaled = std_scaler.transform(X_test_ostalo_38)\n",
    "y_pred_38 = model_38.predict(X_test_ostalo_38_scaled)"
   ]
  },
  {
   "cell_type": "code",
   "execution_count": 15,
   "metadata": {},
   "outputs": [
    {
     "data": {
      "text/plain": [
       "127.53858763063204"
      ]
     },
     "execution_count": 15,
     "metadata": {},
     "output_type": "execute_result"
    }
   ],
   "source": [
    "mae_38 = mean_absolute_error(y_test_38, y_pred_38)\n",
    "mae_38"
   ]
  },
  {
   "cell_type": "code",
   "execution_count": 16,
   "metadata": {},
   "outputs": [
    {
     "data": {
      "text/plain": [
       "19230.38231892297"
      ]
     },
     "execution_count": 16,
     "metadata": {},
     "output_type": "execute_result"
    }
   ],
   "source": [
    "mse_38 = mean_squared_error(y_train_38, predictions_38)\n",
    "mse_38"
   ]
  },
  {
   "cell_type": "code",
   "execution_count": 17,
   "metadata": {},
   "outputs": [
    {
     "name": "stdout",
     "output_type": "stream",
     "text": [
      "nagib je:  [-2.34697698e+14  2.34697698e+14  2.70214844e+01 -4.65115861e+13\n",
      " -4.55020946e+13 -4.57074222e+13 -4.69036882e+13 -4.65115861e+13\n",
      "  7.73879891e+15  7.55093818e+15 -9.89429828e+15]\n",
      "odsječak je:  253.60655742920835\n",
      "<bound method BaseEstimator.get_params of LinearRegression(copy_X=True, fit_intercept=True, n_jobs=None, normalize=False)>\n"
     ]
    }
   ],
   "source": [
    "koeficijenti_38 = model_38.coef_\n",
    "print(\"nagib je: \",koeficijenti_38)\n",
    "\n",
    "odsjecak_38 = model_38.intercept_\n",
    "print(\"odsječak je: \",odsjecak_38)\n",
    "\n",
    "paramtetri_38 = model_38.get_params\n",
    "print(paramtetri_38)"
   ]
  },
  {
   "cell_type": "code",
   "execution_count": 29,
   "metadata": {},
   "outputs": [
    {
     "data": {
      "text/plain": [
       "array([401.60655743, 245.60655743, 228.60655743, 207.60655743,\n",
       "       282.60655743])"
      ]
     },
     "execution_count": 29,
     "metadata": {},
     "output_type": "execute_result"
    }
   ],
   "source": [
    "predictions_38[0:5] # prvih pet predviđenih vrijednosti"
   ]
  },
  {
   "cell_type": "code",
   "execution_count": 33,
   "metadata": {},
   "outputs": [
    {
     "data": {
      "text/plain": [
       "art  datum     \n",
       "38   2018-01-02    307.0\n",
       "     2018-01-03    118.0\n",
       "     2018-01-04    223.0\n",
       "     2018-01-06    429.0\n",
       "     2018-01-07     80.0\n",
       "     2018-01-08    134.0\n",
       "     2018-01-09     67.0\n",
       "     2018-01-10    260.0\n",
       "     2018-01-11    311.0\n",
       "     2018-01-12    273.0\n",
       "     2018-01-13    200.0\n",
       "     2018-01-14    137.0\n",
       "     2018-01-15    307.0\n",
       "     2018-01-16      9.0\n",
       "     2018-01-17     18.0\n",
       "     2018-01-18    118.0\n",
       "     2018-01-19    132.0\n",
       "     2018-01-20    248.0\n",
       "     2018-01-21     67.0\n",
       "     2018-01-22    135.0\n",
       "     2018-01-23      7.0\n",
       "     2018-01-24     88.0\n",
       "     2018-01-25    339.0\n",
       "     2018-01-26    138.0\n",
       "     2018-01-27    429.0\n",
       "     2018-01-28    189.0\n",
       "     2018-01-29     84.0\n",
       "     2018-01-30    147.0\n",
       "     2018-01-31    368.0\n",
       "     2018-02-01    409.0\n",
       "                   ...  \n",
       "     2018-04-26    478.0\n",
       "     2018-04-27    256.0\n",
       "     2018-04-28    751.0\n",
       "     2018-04-29    216.0\n",
       "     2018-04-30    186.0\n",
       "     2018-05-02    312.0\n",
       "     2018-05-04    186.0\n",
       "     2018-05-06    322.0\n",
       "     2018-05-07     16.0\n",
       "     2018-05-08    221.0\n",
       "     2018-05-09    608.0\n",
       "     2018-05-11    385.0\n",
       "     2018-05-12    412.0\n",
       "     2018-05-13    219.0\n",
       "     2018-05-14     42.0\n",
       "     2018-05-15    165.0\n",
       "     2018-05-16    243.0\n",
       "     2018-05-17    451.0\n",
       "     2018-05-19    617.0\n",
       "     2018-05-21     25.0\n",
       "     2018-05-22    219.0\n",
       "     2018-05-23    474.0\n",
       "     2018-05-24    782.0\n",
       "     2018-05-25    325.0\n",
       "     2018-05-26    419.0\n",
       "     2018-05-27    199.0\n",
       "     2018-05-28    132.0\n",
       "     2018-05-29     71.0\n",
       "     2018-05-30    154.0\n",
       "     2018-05-31    146.0\n",
       "Name: kol, Length: 130, dtype: float64"
      ]
     },
     "execution_count": 33,
     "metadata": {},
     "output_type": "execute_result"
    }
   ],
   "source": [
    "y_test_38"
   ]
  },
  {
   "cell_type": "code",
   "execution_count": 34,
   "metadata": {},
   "outputs": [
    {
     "data": {
      "text/plain": [
       "array([  137.60655743,   210.60655743,   232.60655743,   333.60655743,\n",
       "         189.60655743,   165.60655743,   140.60655743,   209.60655743,\n",
       "         229.60655743,   212.60655743,   337.60655743,   181.60655743,\n",
       "         159.60655743,   254.60655743,   172.60655743,   194.60655743,\n",
       "         216.60655743,   341.60655743,   179.60655743,   165.60655743,\n",
       "          70.60655743,   210.60655743,   240.60655743,   209.60655743,\n",
       "         333.60655743,   179.60655743,   156.60655743,   140.60655743,\n",
       "         214.60655743,   228.60655743,   203.60655743,   325.60655743,\n",
       "         177.60655743,   136.60655743,   202.60655743,   204.60655743,\n",
       "         325.60655743,   169.60655743,   128.60655743,   204.60655743,\n",
       "         228.60655743,   209.60655743,   333.60655743,   169.60655743,\n",
       "         145.60655743,   129.60655743,   203.60655743,   220.60655743,\n",
       "         192.60655743,   325.60655743,   157.60655743,   142.60655743,\n",
       "         116.60655743,   188.60655743,   215.60655743,   150.60655743,\n",
       "         305.60655743,   149.60655743,   131.60655743,   145.60655743,\n",
       "         206.60655743,   176.60655743,   301.60655743,   141.60655743,\n",
       "         180.60655743,   206.60655743,   190.60655743,   305.60655743,\n",
       "         149.60655743,   134.60655743,   190.60655743,   223.60655743,\n",
       "         309.60655743,   157.60655743,   116.60655743,   189.60655743,\n",
       "         216.60655743,   202.60655743,   325.60655743,   120.60655743,\n",
       "         192.60655743,   220.60655743,   200.60655743,   309.60655743,\n",
       "         159.60655743,   136.60655743,   190.60655743,   212.60655743,\n",
       "         192.60655743,   313.60655743,   159.60655743,   132.60655743,\n",
       "         115.60655743,   192.60655743,   216.60655743, -1733.39344257,\n",
       "         321.60655743,   167.60655743,   115.60655743,   180.60655743,\n",
       "         208.60655743,   188.60655743,   313.60655743,   161.60655743,\n",
       "         138.60655743,   189.60655743,   189.60655743,   165.60655743,\n",
       "          60.60655743,   120.60655743,   186.60655743,   188.60655743,\n",
       "         309.60655743,   153.60655743,   132.60655743,   109.60655743,\n",
       "         180.60655743,   198.60655743,   305.60655743,    56.60655743,\n",
       "         106.60655743,   180.60655743,   208.60655743,   176.60655743,\n",
       "         309.60655743,   155.60655743,    90.60655743,   108.60655743,\n",
       "         178.60655743,   201.60655743])"
      ]
     },
     "execution_count": 34,
     "metadata": {},
     "output_type": "execute_result"
    }
   ],
   "source": [
    "y_pred_38"
   ]
  },
  {
   "cell_type": "code",
   "execution_count": 19,
   "metadata": {},
   "outputs": [
    {
     "data": {
      "text/plain": [
       "11"
      ]
     },
     "execution_count": 19,
     "metadata": {},
     "output_type": "execute_result"
    }
   ],
   "source": [
    "koeficijenti_38.size "
   ]
  },
  {
   "cell_type": "code",
   "execution_count": 42,
   "metadata": {},
   "outputs": [
    {
     "data": {
      "text/plain": [
       "art  datum     \n",
       "38   2018-01-02    307.0\n",
       "     2018-01-03    118.0\n",
       "     2018-01-04    223.0\n",
       "     2018-01-06    429.0\n",
       "     2018-01-07     80.0\n",
       "     2018-01-08    134.0\n",
       "     2018-01-09     67.0\n",
       "     2018-01-10    260.0\n",
       "     2018-01-11    311.0\n",
       "     2018-01-12    273.0\n",
       "     2018-01-13    200.0\n",
       "     2018-01-14    137.0\n",
       "     2018-01-15    307.0\n",
       "     2018-01-16      9.0\n",
       "     2018-01-17     18.0\n",
       "Name: kol, dtype: float64"
      ]
     },
     "execution_count": 42,
     "metadata": {},
     "output_type": "execute_result"
    }
   ],
   "source": [
    "y_test_38.head(15)"
   ]
  },
  {
   "cell_type": "code",
   "execution_count": 44,
   "metadata": {},
   "outputs": [
    {
     "data": {
      "text/plain": [
       "array([  189.60655743,   216.60655743,   202.60655743,   325.60655743,\n",
       "         120.60655743,   192.60655743,   220.60655743,   200.60655743,\n",
       "         309.60655743,   159.60655743,   136.60655743,   190.60655743,\n",
       "         212.60655743,   192.60655743,   313.60655743,   159.60655743,\n",
       "         132.60655743,   115.60655743,   192.60655743,   216.60655743,\n",
       "       -1733.39344257,   321.60655743,   167.60655743,   115.60655743,\n",
       "         180.60655743,   208.60655743,   188.60655743,   313.60655743,\n",
       "         161.60655743,   138.60655743,   189.60655743,   189.60655743,\n",
       "         165.60655743,    60.60655743,   120.60655743,   186.60655743,\n",
       "         188.60655743,   309.60655743,   153.60655743,   132.60655743,\n",
       "         109.60655743,   180.60655743,   198.60655743,   305.60655743,\n",
       "          56.60655743,   106.60655743,   180.60655743,   208.60655743,\n",
       "         176.60655743,   309.60655743,   155.60655743,    90.60655743,\n",
       "         108.60655743,   178.60655743,   201.60655743])"
      ]
     },
     "execution_count": 44,
     "metadata": {},
     "output_type": "execute_result"
    }
   ],
   "source": [
    "y_pred_38[75:]"
   ]
  },
  {
   "cell_type": "markdown",
   "metadata": {},
   "source": [
    "12 feature-a: <br> \n",
    "f((x1,...,x12)) = a1x1 +...+ a12x12 + b0"
   ]
  },
  {
   "cell_type": "code",
   "execution_count": 20,
   "metadata": {},
   "outputs": [
    {
     "data": {
      "text/plain": [
       "Text(0, 0.5, 'predviđene količine')"
      ]
     },
     "execution_count": 20,
     "metadata": {},
     "output_type": "execute_result"
    },
    {
     "data": {
      "image/png": "[encoded data removed]",
      "text/plain": [
       "<Figure size 432x288 with 1 Axes>"
      ]
     },
     "metadata": {
      "needs_background": "light"
     },
     "output_type": "display_data"
    }
   ],
   "source": [
    "plt.scatter(y_test_38, y_pred_38)\n",
    "plt.title(\"artikl 38\")\n",
    "plt.xlabel(\"stvarne količine\")\n",
    "plt.ylabel(\"predviđene količine\")"
   ]
  },
  {
   "cell_type": "code",
   "execution_count": 21,
   "metadata": {},
   "outputs": [
    {
     "data": {
      "text/plain": [
       "-0.43838387439806725"
      ]
     },
     "execution_count": 21,
     "metadata": {},
     "output_type": "execute_result"
    }
   ],
   "source": [
    "r2_score(y_pred_38,y_test_38)"
   ]
  },
  {
   "cell_type": "code",
   "execution_count": 28,
   "metadata": {},
   "outputs": [
    {
     "name": "stdout",
     "output_type": "stream",
     "text": [
      "216.23027356982115\n"
     ]
    }
   ],
   "source": [
    "rmse_38 = np.sqrt(mean_squared_error(y_pred_38,y_test_38))\n",
    "print(rmse_38)"
   ]
  },
  {
   "cell_type": "code",
   "execution_count": null,
   "metadata": {},
   "outputs": [],
   "source": []
  }
 ],
 "metadata": {
  "kernelspec": {
   "display_name": "Python 3",
   "language": "python",
   "name": "python3"
  },
  "language_info": {
   "codemirror_mode": {
    "name": "ipython",
    "version": 3
   },
   "file_extension": ".py",
   "mimetype": "text/x-python",
   "name": "python",
   "nbconvert_exporter": "python",
   "pygments_lexer": "ipython3",
   "version": "3.7.3"
  }
 },
 "nbformat": 4,
 "nbformat_minor": 4
}
